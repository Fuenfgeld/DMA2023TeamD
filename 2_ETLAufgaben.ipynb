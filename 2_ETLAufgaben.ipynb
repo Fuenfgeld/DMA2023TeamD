{
  "nbformat": 4,
  "nbformat_minor": 0,
  "metadata": {
    "colab": {
      "provenance": [],
      "include_colab_link": true
    },
    "kernelspec": {
      "name": "python3",
      "display_name": "Python 3"
    }
  },
  "cells": [
    {
      "cell_type": "markdown",
      "metadata": {
        "id": "view-in-github",
        "colab_type": "text"
      },
      "source": [
        "<a href=\"https://colab.research.google.com/github/Fuenfgeld/DMA2023TeamD/blob/Test_and_Trash/2_ETLAufgaben.ipynb\" target=\"_parent\"><img src=\"https://colab.research.google.com/assets/colab-badge.svg\" alt=\"Open In Colab\"/></a>"
      ]
    },
    {
      "cell_type": "code",
      "metadata": {
        "id": "V85fs39-T7X1"
      },
      "source": [
        "# import libraries\n",
        "import sqlite3\n",
        "from sqlite3 import Error"
      ],
      "execution_count": null,
      "outputs": []
    },
    {
      "cell_type": "code",
      "metadata": {
        "id": "y8GrfavcsPVs"
      },
      "source": [
        "# mount drive to access data\n",
        "from google.colab import drive\n",
        "drive.mount(\"/content/drive\")"
      ],
      "execution_count": null,
      "outputs": []
    },
    {
      "cell_type": "code",
      "metadata": {
        "id": "-eeM3RY7sgnB"
      },
      "source": [
        "material_path = \"/content/drive/... Path to File\""
      ],
      "execution_count": null,
      "outputs": []
    },
    {
      "cell_type": "code",
      "metadata": {
        "id": "7LTogCvJ1JIW"
      },
      "source": [
        "!ls \"/content/drive/... Path to File\""
      ],
      "execution_count": null,
      "outputs": []
    },
    {
      "cell_type": "markdown",
      "metadata": {
        "id": "FwjfjLH15-l6"
      },
      "source": [
        "# Python SQLite Guide\n"
      ]
    },
    {
      "cell_type": "code",
      "metadata": {
        "id": "kqCkOE5R57if"
      },
      "source": [
        "# SQLite connection\n",
        "def create_connection_memory():\n",
        "    \"\"\" create a database connection to a database that resides\n",
        "        in the memory\n",
        "    \"\"\"\n",
        "    conn = None;\n",
        "    try:\n",
        "        conn = sqlite3.connect(':memory:')\n",
        "        return conn\n",
        "        print(sqlite3.version)\n",
        "    except Error as e:\n",
        "        print(\"Error while connecting to sqlite\", e)\n",
        "    # finally:\n",
        "    #     if conn:\n",
        "    #         conn.close()"
      ],
      "execution_count": null,
      "outputs": []
    },
    {
      "cell_type": "code",
      "metadata": {
        "id": "tT6PSWQs7SpX"
      },
      "source": [
        "# create a temporary empty database in the memory.\n",
        "conn = create_connection_memory()\n",
        "cur = conn.cursor()\n",
        "print(\"Successfully Connected to SQLite\")\n"
      ],
      "execution_count": null,
      "outputs": []
    },
    {
      "cell_type": "code",
      "metadata": {
        "id": "XRM_0DF066tt"
      },
      "source": [
        "# Create SQLite table\n",
        "create_table_query = '''CREATE TABLE SqliteDb_developers (\n",
        "                                id INTEGER PRIMARY KEY,\n",
        "                                name TEXT NOT NULL,\n",
        "                                email text NOT NULL UNIQUE,\n",
        "                                joining_date datetime,\n",
        "                                salary REAL NOT NULL);'''\n",
        "\n",
        "cur.execute(create_table_query)\n",
        "conn.commit()\n",
        "print(\"SQLite table created\")"
      ],
      "execution_count": null,
      "outputs": []
    },
    {
      "cell_type": "code",
      "metadata": {
        "id": "n8MOSIKkA3Ql"
      },
      "source": [
        "# list of tables\n",
        "cur.execute(\"SELECT name FROM sqlite_master WHERE type='table';\")\n",
        "print(cur.fetchall())"
      ],
      "execution_count": null,
      "outputs": []
    },
    {
      "cell_type": "code",
      "metadata": {
        "id": "Z8GwwiDHB-wb"
      },
      "source": [
        "# insert into table\n",
        "cur.execute(\"INSERT INTO SqliteDb_developers (id,  name, email, salary) VALUES (1, 'name1', 'name1@gmail.com', 1000)\")\n"
      ],
      "execution_count": null,
      "outputs": []
    },
    {
      "cell_type": "code",
      "metadata": {
        "id": "LKSPQkLCH-aR"
      },
      "source": [
        "# insert into table-Larger example\n",
        "rows = [(2, 'name2', 'name2@gmail.com', '2006-02-28', 2000),\n",
        "        (3, 'name3', 'name3@gmail.com', '2006-03-05', 3000),\n",
        "        (4, 'name4', 'name4@gmail.com', '2006-04-06', 4000)]\n",
        "cur.executemany('insert into SqliteDb_developers values (?,?,?,?,?)', rows)\n",
        "conn.commit()\n"
      ],
      "execution_count": null,
      "outputs": []
    },
    {
      "cell_type": "code",
      "metadata": {
        "id": "MKYBuJewMLBO"
      },
      "source": [
        "select_query = \"SELECT * FROM SqliteDb_developers\"\n",
        "cur.execute(select_query)\n",
        "records = cur.fetchall()\n",
        "print(\"Total rows in table: \", len(records))\n",
        "for row in records:\n",
        "  print(row)"
      ],
      "execution_count": null,
      "outputs": []
    },
    {
      "cell_type": "code",
      "metadata": {
        "id": "TQJOSd70_7EP"
      },
      "source": [
        "# select with parameters\n",
        "select_query = \"\"\"select * from SqliteDb_developers where id = ?\"\"\"\n",
        "cur.execute(select_query, (1,))\n",
        "records = cur.fetchall()\n",
        "print(\"Printing ID \", id)\n",
        "for row in records:\n",
        "    print(\"Name = \", row[1])\n",
        "    print(\"Email  = \", row[2])\n",
        "    print(\"JoiningDate  = \", row[3])\n",
        "    print(\"Salary  = \", row[4])"
      ],
      "execution_count": null,
      "outputs": []
    },
    {
      "cell_type": "code",
      "metadata": {
        "id": "AI0bFlKytsm8"
      },
      "source": [
        "# update table\n",
        "cur.execute(\"UPDATE SqliteDb_developers SET Email=? WHERE id =?\", ('Uname2@gmail.com', 2))\n",
        "print(\"Number of rows updated: {}\".format(cur.rowcount))"
      ],
      "execution_count": null,
      "outputs": []
    },
    {
      "cell_type": "code",
      "metadata": {
        "id": "I3_Sk34xMaB0"
      },
      "source": [
        "# access to metadata (tables and columns) using PRAGMA\n",
        "cur.execute(\"PRAGMA table_info(SqliteDb_developers);\")\n",
        "data = cur.fetchall()\n",
        "# print(data)\n",
        "for d in data:\n",
        "  print(d[0], d[1], d[2])"
      ],
      "execution_count": null,
      "outputs": []
    },
    {
      "cell_type": "code",
      "metadata": {
        "id": "OaMTTGZsxCCD"
      },
      "source": [
        "# Excute whole SQL code in one step\n",
        "cur.executescript(\"\"\"\n",
        "        DROP TABLE IF EXISTS patient_table;\n",
        "        CREATE TABLE patient_table(patient_id INT, name TEXT, diagnose Text, birthdate datetime);\n",
        "        INSERT INTO patient_table VALUES(10, 'name1', 'Asthma', '2006-02-28');\n",
        "        INSERT INTO patient_table VALUES(20, 'name1', 'Asthma', '2007-02-28');\n",
        "        INSERT INTO patient_table VALUES(30, 'name1', 'Asthma', '2008-02-28');\n",
        "        INSERT INTO patient_table VALUES(40, 'name1', 'Asthma', '2009-02-28');\n",
        "        DELETE FROM patient_table WHERE patient_id > 30;\n",
        "     \"\"\")\n",
        "conn.commit()\n",
        "# cur.execute(\"DELETE FROM SqliteDb_developers WHERE id < 3\")\n",
        "cur.execute(\"SELECT COUNT(patient_id) FROM patient_table\")\n",
        "cur.fetchone()\n"
      ],
      "execution_count": null,
      "outputs": []
    },
    {
      "cell_type": "markdown",
      "metadata": {
        "id": "DsdHSo7H-G3m"
      },
      "source": [
        "There are more information in:\n",
        "\n",
        "http://zetcode.com/db/sqlitepythontutorial/\n",
        "\n",
        "https://pynative.com/python-sqlite/\n",
        "\n",
        "https://stackoverflow.com/questions/228912/sqlite-parameter-substitution-problem"
      ]
    },
    {
      "cell_type": "markdown",
      "metadata": {
        "id": "tO9FoACx4TWj"
      },
      "source": [
        "# Exercises"
      ]
    },
    {
      "cell_type": "markdown",
      "metadata": {
        "id": "eALn5eHirGda"
      },
      "source": [
        "### Connect to the database and see how many tables it contains\n",
        "\n",
        "\n"
      ]
    },
    {
      "cell_type": "code",
      "metadata": {
        "id": "ZvwtPAvE05hi"
      },
      "source": [
        "# Connect to source database\n",
        "def create_connection(db_file):\n",
        "  \"\"\" create a database connection to SQLite database\"\"\"\n",
        "  conn = None\n",
        "  try:\n",
        "    conn = sqlite3.connect(db_file)\n",
        "    return conn\n",
        "  except Error as error:\n",
        "    print(\"Error while connecting to sqlite\", error)\n",
        "  # finally:\n",
        "  #   if conn:\n",
        "  #     conn.close()"
      ],
      "execution_count": null,
      "outputs": []
    },
    {
      "cell_type": "code",
      "metadata": {
        "id": "zmw406e42yw5"
      },
      "source": [
        "src_db = f\"{material_path}/source_dbs/source_allergy_test.db\"\n",
        "src_conn = create_connection(src_db)\n",
        "src_cur = src_conn.cursor()\n",
        "print(\"Database connection is successfully\")"
      ],
      "execution_count": null,
      "outputs": []
    },
    {
      "cell_type": "markdown",
      "metadata": {
        "id": "5vK9_AKSrHhT"
      },
      "source": [
        "### Query the tables, join two tables\n",
        "\n"
      ]
    },
    {
      "cell_type": "code",
      "source": [
        "# noch nicht sinnvoll für uns, hier beispielhaft inner join asthma patienten tabelle -> inner join -> asthma medication tabelle\n",
        "# verbindung_astpat_astmed = \"SELECT * FROM medications INNER JOIN patients ON medications.PATIENT = patients.Id\"\n",
        "# ast_cur.execute(verbindung_astpat_astmed)\n",
        "# records = ast_cur.fetchall()\n",
        "# for row in records:\n",
        "#   print(row)"
      ],
      "metadata": {
        "id": "wWI2fHpUPiyF"
      },
      "execution_count": null,
      "outputs": []
    },
    {
      "cell_type": "code",
      "source": [
        "# Left Join\n",
        "# cov_cur.execute('''SELECT * FROM medications LEFT JOIN patients ON medications.PATIENT = patients.Id''')\n",
        "# records = cov_cur.fetchall()\n",
        "# for row in records:\n",
        "#   print(row)"
      ],
      "metadata": {
        "id": "jtyhpldzbMUh"
      },
      "execution_count": null,
      "outputs": []
    },
    {
      "cell_type": "markdown",
      "metadata": {
        "id": "ralFWHdBrIoh"
      },
      "source": [
        "### Copy a table from one database to another(create empty SQLite database)"
      ]
    },
    {
      "cell_type": "code",
      "metadata": {
        "id": "qWSiQGu4st9I"
      },
      "source": [
        "material_path = \"/content/drive/Shareddrives/Projektarbeit DMA Gruppe D\""
      ],
      "execution_count": null,
      "outputs": []
    },
    {
      "cell_type": "code",
      "source": [
        "# create a temporary empty rhc_database in the memory\n",
        "rhc_db = f\"{material_path}/source_dbs/rehealthco.db\"\n",
        "rhc_conn = create_connection(rhc_db)\n",
        "rhc_cur = rhc_conn.cursor()\n",
        "print(\"Database connection is successfully\")"
      ],
      "metadata": {
        "id": "Etsz1N7Qp7zz"
      },
      "execution_count": null,
      "outputs": []
    },
    {
      "cell_type": "code",
      "source": [
        "csv_path_ast = f\"{material_path}/csv_data/asthma\"\n",
        "csv_path_cov = f\"{material_path}/csv_data/covid19\"\n",
        "csv_path_met = f\"{material_path}/csv_data/metabolic_syndrome_disease\""
      ],
      "metadata": {
        "id": "WqtIdHkB6tUW"
      },
      "execution_count": null,
      "outputs": []
    },
    {
      "cell_type": "code",
      "source": [
        "import pandas as pd\n",
        "# load the data into a Pandas DataFrame\n",
        "astpat_df = pd.read_csv(f\"{csv_path_ast}/patients.csv\")\n",
        "astcon_df = pd.read_csv(f\"{csv_path_ast}/conditions.csv\")\n",
        "astmed_df = pd.read_csv(f\"{csv_path_ast}/medications.csv\")\n",
        "astpro_df = pd.read_csv(f\"{csv_path_ast}/procedures.csv\")\n",
        "astobs_df = pd.read_csv(f\"{csv_path_ast}/observations.csv\")\n",
        "\n",
        "covpat_df = pd.read_csv(f\"{csv_path_cov}/patients.csv\")\n",
        "covcon_df = pd.read_csv(f\"{csv_path_cov}/conditions.csv\")\n",
        "covmed_df = pd.read_csv(f\"{csv_path_cov}/medications.csv\")\n",
        "covpro_df = pd.read_csv(f\"{csv_path_cov}/procedures.csv\")\n",
        "covobs_df = pd.read_csv(f\"{csv_path_cov}/observations.csv\")\n",
        "\n",
        "metpat_df = pd.read_csv(f\"{csv_path_met}/patients.csv\")\n",
        "metcon_df = pd.read_csv(f\"{csv_path_met}/conditions.csv\")\n",
        "metmed_df = pd.read_csv(f\"{csv_path_met}/medications.csv\")\n",
        "metpro_df = pd.read_csv(f\"{csv_path_met}/procedures.csv\")\n",
        "metobs_df = pd.read_csv(f\"{csv_path_met}/observations.csv\")\n",
        "\n",
        "# write the data to a sqlite table\n",
        "astpat_df.to_sql(\"patients\", ast_conn, schema=None, if_exists='append', index=False, index_label=None, chunksize=None, dtype=None, method=None)\n",
        "astcon_df.to_sql(\"conditions\", ast_conn, schema=None, if_exists='append', index=False, index_label=None, chunksize=None, dtype=None, method=None)\n",
        "astmed_df.to_sql(\"medications\", ast_conn, schema=None, if_exists='append', index=False, index_label=None, chunksize=None, dtype=None, method=None)\n",
        "astpro_df.to_sql(\"procedures\", ast_conn, schema=None, if_exists='append', index=False, index_label=None, chunksize=None, dtype=None, method=None)\n",
        "astobs_df.to_sql(\"observations\", ast_conn, schema=None, if_exists='append', index=False, index_label=None, chunksize=None, dtype=None, method=None)\n",
        "\n",
        "covpat_df.to_sql(\"patients\", cov_conn, schema=None, if_exists='append', index=False, index_label=None, chunksize=None, dtype=None, method=None)\n",
        "covcon_df.to_sql(\"conditions\", cov_conn, schema=None, if_exists='append', index=False, index_label=None, chunksize=None, dtype=None, method=None)\n",
        "covmed_df.to_sql(\"medications\", cov_conn, schema=None, if_exists='append', index=False, index_label=None, chunksize=None, dtype=None, method=None)\n",
        "covpro_df.to_sql(\"procedures\", cov_conn, schema=None, if_exists='append', index=False, index_label=None, chunksize=None, dtype=None, method=None)\n",
        "covobs_df.to_sql(\"observations\", cov_conn, schema=None, if_exists='append', index=False, index_label=None, chunksize=None, dtype=None, method=None)\n",
        "\n",
        "metpat_df.to_sql(\"patients\", met_conn, schema=None, if_exists='append', index=False, index_label=None, chunksize=None, dtype=None, method=None)\n",
        "metcon_df.to_sql(\"conditions\", met_conn, schema=None, if_exists='append', index=False, index_label=None, chunksize=None, dtype=None, method=None)\n",
        "metmed_df.to_sql(\"medications\", met_conn, schema=None, if_exists='append', index=False, index_label=None, chunksize=None, dtype=None, method=None)\n",
        "metpro_df.to_sql(\"procedures\", met_conn, schema=None, if_exists='append', index=False, index_label=None, chunksize=None, dtype=None, method=None)\n",
        "metobs_df.to_sql(\"observations\", met_conn, schema=None, if_exists='append', index=False, index_label=None, chunksize=None, dtype=None, method=None)\n",
        "\n",
        "# Abschluss\n",
        "ast_conn.commit()\n",
        "cov_conn.commit()\n",
        "met_conn.commit()"
      ],
      "metadata": {
        "id": "2kGYEdsIAymZ"
      },
      "execution_count": null,
      "outputs": []
    },
    {
      "cell_type": "code",
      "source": [
        "# Get connections to the databases \n",
        "# von asthma nach rehealthco\n",
        "def copy_table(rhc_conn, ast_cur, rhc_cur, table_name):\n",
        "  ast_cur.execute(f'SELECT * FROM {table_name}')\n",
        "  output = ast_cur.fetchall()   # Returns the results as a list.\n",
        "  # Insert those contents into another table.\n",
        "  for row in output:\n",
        "      rowlen = len(row)\n",
        "      repstring = \"\"\n",
        "      for i in range(rowlen -1):\n",
        "        repstring += \"?,\"\n",
        "      repstring += \"?\"\n",
        "      rhc_cur.execute(f'INSERT INTO {table_name} VALUES ({repstring})', row)\n",
        "  # Cleanup\n",
        "  rhc_conn.commit()"
      ],
      "metadata": {
        "id": "8rZy6v1iRZFC"
      },
      "execution_count": null,
      "outputs": []
    },
    {
      "cell_type": "code",
      "source": [
        "# alle Tabellen vereinen in rehealthco\n",
        "copy_table(rhc_conn, ast_cur, rhc_cur, \"patients\") # 1035 patienten\n",
        "copy_table(rhc_conn, cov_cur, rhc_cur, \"patients\") # nun 2085 patienten\n",
        "copy_table(rhc_conn, met_cur, rhc_cur, \"patients\") # nun 3113 patienten\n",
        "\n",
        "copy_table(rhc_conn, ast_cur, rhc_cur, \"conditions\") # 260 conditions\n",
        "copy_table(rhc_conn, cov_cur, rhc_cur, \"conditions\") # 6635 conditions\n",
        "copy_table(rhc_conn, met_cur, rhc_cur, \"conditions\") # 7041 conditions\n",
        "\n",
        "copy_table(rhc_conn, ast_cur, rhc_cur, \"medications\") # 505 medications\n",
        "copy_table(rhc_conn, cov_cur, rhc_cur, \"medications\") # 1395 medications\n",
        "copy_table(rhc_conn, met_cur, rhc_cur, \"medications\") # 1715 medications\n",
        "\n",
        "copy_table(rhc_conn, ast_cur, rhc_cur, \"procedures\") # 1715 procedures\n",
        "copy_table(rhc_conn, cov_cur, rhc_cur, \"procedures\") # 1715 procedures\n",
        "copy_table(rhc_conn, met_cur, rhc_cur, \"procedures\") # 1715 procedures\n",
        "\n",
        "copy_table(rhc_conn, ast_cur, rhc_cur, \"observations\") # 31220 observations\n",
        "copy_table(rhc_conn, cov_cur, rhc_cur, \"observations\") # 151157 observations\n",
        "copy_table(rhc_conn, met_cur, rhc_cur, \"observations\") # 182271 observations"
      ],
      "metadata": {
        "id": "MRvMREOeW4tb"
      },
      "execution_count": null,
      "outputs": []
    },
    {
      "cell_type": "code",
      "source": [
        "# Tabelleninhalt rehealthco als pandas dataframe\n",
        "rhcpat_df = pd.read_sql('''SELECT * FROM patients''', rhc_conn)\n",
        "rhccon_df = pd.read_sql('''SELECT * FROM conditions''', rhc_conn)\n",
        "rhcmed_df = pd.read_sql('''SELECT * FROM medications''', rhc_conn)\n",
        "rhcpro_df = pd.read_sql('''SELECT * FROM procedures''', rhc_conn)\n",
        "rhcobs_df = pd.read_sql('''SELECT * FROM observations''', rhc_conn)\n",
        "\n",
        "# print(rhcpat_df)\n",
        "# print(rhccon_df)\n",
        "# print(rhcmed_df)\n",
        "# print(rhcpro_df)\n",
        "# print(rhcobs_df)"
      ],
      "metadata": {
        "id": "ymAEOC6qcNWI"
      },
      "execution_count": null,
      "outputs": []
    },
    {
      "cell_type": "markdown",
      "metadata": {
        "id": "wlt_8kIrsuU_"
      },
      "source": [
        "### Transform ETL Job: Joint two table and write them into a new table"
      ]
    },
    {
      "cell_type": "code",
      "metadata": {
        "id": "sPdoKbvJs8ev"
      },
      "source": [
        "# vgl. Query the tables, join two tables und Copy a table from one database to another"
      ],
      "execution_count": null,
      "outputs": []
    },
    {
      "cell_type": "markdown",
      "metadata": {
        "id": "K73yqt5Ys80e"
      },
      "source": [
        "### Write ETL jobs for all Tables\n",
        "\n",
        "\n"
      ]
    },
    {
      "cell_type": "code",
      "metadata": {
        "id": "LL8-O5XwtGBn"
      },
      "source": [
        "# vgl. Query the tables, join two tables und Copy a table from one database to another"
      ],
      "execution_count": null,
      "outputs": []
    },
    {
      "cell_type": "markdown",
      "metadata": {
        "id": "h-XI6Ar5tGfM"
      },
      "source": [
        "### Write a Program that schedules the ETL jobs and execute them in order\n"
      ]
    },
    {
      "cell_type": "code",
      "metadata": {
        "id": "whuBX5dVthbM"
      },
      "source": [
        "# vgl. Query the tables, join two tables und Copy a table from one database to another"
      ],
      "execution_count": null,
      "outputs": []
    },
    {
      "cell_type": "code",
      "metadata": {
        "id": "gJ_UjLM8p6HJ"
      },
      "source": [
        "# vgl. Query the tables, join two tables und Copy a table from one database to another"
      ],
      "execution_count": null,
      "outputs": []
    }
  ]
}