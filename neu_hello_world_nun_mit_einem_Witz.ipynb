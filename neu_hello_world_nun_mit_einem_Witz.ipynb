{
  "cells": [
    {
      "cell_type": "markdown",
      "metadata": {
        "colab_type": "text",
        "id": "view-in-github"
      },
      "source": [
        "<a href=\"https://colab.research.google.com/github/Fuenfgeld/DMA2023TeamD/blob/main/hello_world.ipynb\" target=\"_parent\"><img src=\"https://colab.research.google.com/assets/colab-badge.svg\" alt=\"Open In Colab\"/></a>"
      ]
    },
    {
      "cell_type": "code",
      "execution_count": null,
      "metadata": {
        "id": "KMRv1e9iCHPr"
      },
      "outputs": [],
      "source": [
        "print(\"hello world\")"
      ]
    },
    {
      "cell_type": "markdown",
      "metadata": {
        "id": "0-1f3-1BJ9WJ"
      },
      "source": [
        "Hier mal Sabines Weltansicht ;)\n"
      ]
    },
    {
      "cell_type": "code",
      "execution_count": null,
      "metadata": {
        "id": "F_xLsdgCKBod"
      },
      "outputs": [],
      "source": [
        "print(\"Hallo Berlin\")"
      ]
    },
    {
      "cell_type": "code",
      "execution_count": null,
      "metadata": {},
      "outputs": [],
      "source": [
        "#neu Versuch\n",
        "print(\"neu\")"
      ]
    },
    {
      "cell_type": "code",
      "execution_count": null,
      "metadata": {},
      "outputs": [],
      "source": [
        "#alles neu\n",
        "print(\"neu neu neu\")"
      ]
    },
    {
      "cell_type": "code",
      "execution_count": 1,
      "metadata": {},
      "outputs": [
        {
          "name": "stdout",
          "output_type": "stream",
          "text": [
            "Why did Adele cross the road? To say Hello from the other side.\n"
          ]
        }
      ],
      "source": [
        "#achtung ein Witz\n",
        "print(\"Why did Adele cross the road? To say Hello from the other side.\")"
      ]
    },
    {
      "cell_type": "code",
      "execution_count": 3,
      "metadata": {},
      "outputs": [
        {
          "name": "stdout",
          "output_type": "stream",
          "text": [
            "Informatiker1 : Na wie ist das Wetter bei euch?\n",
            "Informatiker2 : CAPS LOCK\n",
            "Informatiker1 : Hä?\n",
            "Informatiker2 : Shift ohne Ende\n"
          ]
        }
      ],
      "source": [
        "#Achtung nun ein Informatiker-Witz\n",
        "x1 = \"Informatiker1\"\n",
        "x2 = \"Informatiker2\"\n",
        "\n",
        "print(x1, \": Na wie ist das Wetter bei euch?\")\n",
        "print(x2, \": CAPS LOCK\")\n",
        "print(x1, \": Hä?\")\n",
        "print(x2, \": Shift ohne Ende\")\n"
      ]
    },
    {
      "cell_type": "code",
      "execution_count": null,
      "metadata": {},
      "outputs": [],
      "source": []
    }
  ],
  "metadata": {
    "colab": {
      "include_colab_link": true,
      "name": "Sab_ hello_world.ipynb",
      "provenance": []
    },
    "kernelspec": {
      "display_name": "Python 3",
      "language": "python",
      "name": "python3"
    },
    "language_info": {
      "codemirror_mode": {
        "name": "ipython",
        "version": 3
      },
      "file_extension": ".py",
      "mimetype": "text/x-python",
      "name": "python",
      "nbconvert_exporter": "python",
      "pygments_lexer": "ipython3",
      "version": "3.11.1"
    },
    "vscode": {
      "interpreter": {
        "hash": "5da8974b2d8e7be56af383198326f6e19e05dc63a8835a5c6aadf8ce2a603e4f"
      }
    }
  },
  "nbformat": 4,
  "nbformat_minor": 0
}
