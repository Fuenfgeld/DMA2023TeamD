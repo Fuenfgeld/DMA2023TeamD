{
  "cells": [
    {
      "cell_type": "markdown",
      "metadata": {
        "id": "view-in-github",
        "colab_type": "text"
      },
      "source": [
        "<a href=\"https://colab.research.google.com/github/Fuenfgeld/DMA2023TeamD/blob/main/neu_hello_world_nun_mit_einem_Witz.ipynb\" target=\"_parent\"><img src=\"https://colab.research.google.com/assets/colab-badge.svg\" alt=\"Open In Colab\"/></a>"
      ]
    },
    {
      "cell_type": "code",
      "execution_count": null,
      "metadata": {
        "id": "KMRv1e9iCHPr"
      },
      "outputs": [],
      "source": [
        "print(\"hello world\")"
      ]
    },
    {
      "cell_type": "markdown",
      "metadata": {
        "id": "0-1f3-1BJ9WJ"
      },
      "source": [
        "Hier mal Sabines Weltansicht ;)\n"
      ]
    },
    {
      "cell_type": "code",
      "execution_count": null,
      "metadata": {
        "id": "F_xLsdgCKBod"
      },
      "outputs": [],
      "source": [
        "print(\"Hallo Berlin\")"
      ]
    },
    {
      "cell_type": "code",
      "execution_count": null,
      "metadata": {
        "id": "sFeL1J-nmLCE"
      },
      "outputs": [],
      "source": [
        "#neu Versuch\n",
        "print(\"neu\")"
      ]
    },
    {
      "cell_type": "code",
      "execution_count": null,
      "metadata": {
        "id": "gjmQzL26mLCF"
      },
      "outputs": [],
      "source": [
        "#alles neu\n",
        "print(\"neu neu neu\")"
      ]
    },
    {
      "cell_type": "code",
      "execution_count": null,
      "metadata": {
        "id": "hOf7xvnqmLCG"
      },
      "outputs": [],
      "source": [
        "#achtung ein Witz\n",
        "print(\"Why did Adele cross the road? To say Hello from the other side.\")"
      ]
    },
    {
      "cell_type": "code",
      "execution_count": null,
      "metadata": {
        "id": "OvoihHJgmLCL"
      },
      "outputs": [],
      "source": [
        "#Achtung nun ein Informatiker-Witz\n",
        "x1 = \"Informatiker1\"\n",
        "x2 = \"Informatiker2\"\n",
        "\n",
        "print(x1, \": Na wie ist das Wetter bei euch?\")\n",
        "print(x2, \": CAPS LOCK\")\n",
        "print(x1, \": Hä?\")\n",
        "print(x2, \": Shift ohne Ende\")\n"
      ]
    },
    {
      "cell_type": "code",
      "execution_count": null,
      "metadata": {
        "id": "TacqBHPkmLCN"
      },
      "outputs": [],
      "source": [
        "print(\"neuer Test\")"
      ]
    },
    {
      "cell_type": "code",
      "source": [
        "# für github"
      ],
      "metadata": {
        "id": "L8gxl3HFmTpn"
      },
      "execution_count": null,
      "outputs": []
    }
  ],
  "metadata": {
    "colab": {
      "provenance": [],
      "include_colab_link": true
    },
    "kernelspec": {
      "display_name": "Python 3",
      "language": "python",
      "name": "python3"
    },
    "language_info": {
      "codemirror_mode": {
        "name": "ipython",
        "version": 3
      },
      "file_extension": ".py",
      "mimetype": "text/x-python",
      "name": "python",
      "nbconvert_exporter": "python",
      "pygments_lexer": "ipython3",
      "version": "3.11.1"
    },
    "vscode": {
      "interpreter": {
        "hash": "5da8974b2d8e7be56af383198326f6e19e05dc63a8835a5c6aadf8ce2a603e4f"
      }
    }
  },
  "nbformat": 4,
  "nbformat_minor": 0
}