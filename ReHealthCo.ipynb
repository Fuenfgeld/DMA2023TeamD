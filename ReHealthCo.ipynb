{
  "nbformat": 4,
  "nbformat_minor": 0,
  "metadata": {
    "colab": {
      "provenance": [],
      "toc_visible": true,
      "authorship_tag": "ABX9TyPffYWMASmNqS9JHtZ37LAH",
      "include_colab_link": true
    },
    "kernelspec": {
      "name": "python3",
      "display_name": "Python 3"
    },
    "language_info": {
      "name": "python"
    }
  },
  "cells": [
    {
      "cell_type": "markdown",
      "metadata": {
        "id": "view-in-github",
        "colab_type": "text"
      },
      "source": [
        "<a href=\"https://colab.research.google.com/github/Fuenfgeld/DMA2023TeamD/blob/Test_and_Trash/ReHealthCo.ipynb\" target=\"_parent\"><img src=\"https://colab.research.google.com/assets/colab-badge.svg\" alt=\"Open In Colab\"/></a>"
      ]
    },
    {
      "cell_type": "code",
      "source": [
        "# Löschen aller Variablen\n",
        "%reset -f"
      ],
      "metadata": {
        "id": "_Q776tIoSo-M"
      },
      "execution_count": null,
      "outputs": []
    },
    {
      "cell_type": "code",
      "execution_count": null,
      "metadata": {
        "id": "gyMHffSPm0KW"
      },
      "outputs": [],
      "source": [
        "# import libraries\n",
        "import sqlite3\n",
        "from sqlite3 import Error\n",
        "import csv\n",
        "import pandas as pd\n",
        "!pip install ydata_profiling\n",
        "# from functools import reduce - benötigt?"
      ]
    },
    {
      "cell_type": "code",
      "source": [
        "from ydata_profiling import ProfileReport"
      ],
      "metadata": {
        "id": "c-LPBrlLhZ-F"
      },
      "execution_count": null,
      "outputs": []
    },
    {
      "cell_type": "code",
      "source": [
        "# mount drive to access data\n",
        "# from google.colab import drive\n",
        "# drive.mount(\"/content/drive\")"
      ],
      "metadata": {
        "id": "IWLZwqzTnZ9c"
      },
      "execution_count": null,
      "outputs": []
    },
    {
      "cell_type": "markdown",
      "source": [
        "## import from one Google colab notebook to the other"
      ],
      "metadata": {
        "id": "-IBqeR-XwwTj"
      }
    },
    {
      "cell_type": "code",
      "source": [
        "# !pip install import_ipynb\n",
        "# !pip install ipynb\n",
        "\n",
        "# import import_ipynb\n",
        "# import ipynb"
      ],
      "metadata": {
        "id": "Wn3OBo3OwSjs"
      },
      "execution_count": null,
      "outputs": []
    },
    {
      "cell_type": "code",
      "source": [
        "# import ReHealthCo_Rohdatenbank"
      ],
      "metadata": {
        "id": "DKhMvrbltdXv"
      },
      "execution_count": null,
      "outputs": []
    },
    {
      "cell_type": "markdown",
      "source": [
        "# Github-Repositorium im Colab-Umgebung clonen"
      ],
      "metadata": {
        "id": "MSCRNyZhEQ0t"
      }
    },
    {
      "cell_type": "code",
      "source": [
        "!git clone https://github.com/Fuenfgeld/DMA2023TeamD"
      ],
      "metadata": {
        "id": "dmeCFp_e3Y0Z"
      },
      "execution_count": null,
      "outputs": []
    },
    {
      "cell_type": "code",
      "source": [
        "# %cd /content/DMA2023TeamD"
      ],
      "metadata": {
        "id": "ASPk3gDf3j7g"
      },
      "execution_count": null,
      "outputs": []
    },
    {
      "cell_type": "code",
      "source": [
        "# !ls"
      ],
      "metadata": {
        "id": "DmLGfokv31Ph"
      },
      "execution_count": null,
      "outputs": []
    },
    {
      "cell_type": "code",
      "source": [
        "# Connect to source database\n",
        "def create_connection(db_file):\n",
        "  \"\"\" create a database connection to SQLite database\"\"\"\n",
        "  conn = None\n",
        "  try:\n",
        "    conn = sqlite3.connect(db_file)\n",
        "    return conn\n",
        "  except Error as error:\n",
        "    print(\"Error while connecting to sqlite\", error)\n",
        "  # finally:\n",
        "  #   if conn:\n",
        "  #     conn.close()"
      ],
      "metadata": {
        "id": "9MYO17ENsje0"
      },
      "execution_count": null,
      "outputs": []
    },
    {
      "cell_type": "markdown",
      "source": [
        "# Erstellung der (leeren) Datenbanken (asthma, covid, metabolic, rehealthco)"
      ],
      "metadata": {
        "id": "Nw3CZgcWrb5z"
      }
    },
    {
      "cell_type": "code",
      "source": [
        "material_path = \"/content/DMA2023TeamD/\"\n",
        "# conn = create_connection() - verbindung zur Datenbank\n",
        "# cur = conn.cursor() - objekt auf datenbank, das die SQL-Anfragen ausführen kann"
      ],
      "metadata": {
        "id": "pNan0NZrnj-C"
      },
      "execution_count": null,
      "outputs": []
    },
    {
      "cell_type": "code",
      "source": [
        "# create a temporary empty ast_database in the memory\n",
        "ast_db = f\"{material_path}/source_dbs/asthma.db\"\n",
        "ast_conn = create_connection(ast_db)\n",
        "ast_cur = ast_conn.cursor()\n",
        "ast_conn.commit()\n",
        "print(\"Database connection is successfully\")"
      ],
      "metadata": {
        "id": "urXV_BSprDZD"
      },
      "execution_count": null,
      "outputs": []
    },
    {
      "cell_type": "code",
      "source": [
        "# create a temporary empty cov_database in the memory\n",
        "cov_db = f\"{material_path}/source_dbs/covid.db\"\n",
        "cov_conn = create_connection(cov_db)\n",
        "cov_cur = cov_conn.cursor()\n",
        "cov_conn.commit()\n",
        "print(\"Database connection is successfully\")"
      ],
      "metadata": {
        "id": "1NvKFXSGrDD6"
      },
      "execution_count": null,
      "outputs": []
    },
    {
      "cell_type": "code",
      "source": [
        "# create a temporary empty met_database in the memory\n",
        "met_db = f\"{material_path}/source_dbs/metabolic.db\"\n",
        "met_conn = create_connection(met_db)\n",
        "met_cur = met_conn.cursor()\n",
        "met_conn.commit()\n",
        "print(\"Database connection is successfully\")"
      ],
      "metadata": {
        "id": "yZgub4NhrCQ0"
      },
      "execution_count": null,
      "outputs": []
    },
    {
      "cell_type": "code",
      "source": [
        "# create a temporary empty rhc_database in the memory\n",
        "rhc_db = f\"{material_path}/source_dbs/rehealthco.db\"\n",
        "rhc_conn = create_connection(rhc_db)\n",
        "rhc_cur = rhc_conn.cursor()\n",
        "rhc_conn.commit()\n",
        "print(\"Database connection is successfully\")"
      ],
      "metadata": {
        "id": "Etsz1N7Qp7zz"
      },
      "execution_count": null,
      "outputs": []
    },
    {
      "cell_type": "markdown",
      "source": [
        "# Erstellung der Tabellen"
      ],
      "metadata": {
        "id": "-tnDflePyA2p"
      }
    },
    {
      "cell_type": "code",
      "source": [
        "path = f\"{material_path}/source_dbs/sql_create.txt\"\n",
        "myfile = \"\"\n",
        "with open(path, \"r\") as f:\n",
        "  myfile=f.read()\n",
        "#  print(myfile)"
      ],
      "metadata": {
        "id": "KdX6Fo5ox5I9"
      },
      "execution_count": null,
      "outputs": []
    },
    {
      "cell_type": "code",
      "source": [
        "ast_cur.executescript(myfile)\n",
        "ast_conn.commit()\n",
        "print(\"Successfully created tables in the database\")"
      ],
      "metadata": {
        "id": "ULt1gHkls7KQ"
      },
      "execution_count": null,
      "outputs": []
    },
    {
      "cell_type": "code",
      "source": [
        "# List of tables in ast_database\n",
        "ast_cur.execute(\"SELECT name FROM sqlite_master WHERE type='table';\")\n",
        "print(ast_cur.fetchall())"
      ],
      "metadata": {
        "id": "pmLkGbymy4p8"
      },
      "execution_count": null,
      "outputs": []
    },
    {
      "cell_type": "code",
      "source": [
        "cov_cur.executescript(myfile)\n",
        "cov_conn.commit()\n",
        "print(\"Successfully created tables in the database\")"
      ],
      "metadata": {
        "id": "tfh03IAV2x7w"
      },
      "execution_count": null,
      "outputs": []
    },
    {
      "cell_type": "code",
      "source": [
        "# List of tables in cov_database\n",
        "# cov_cur.execute(\"SELECT name FROM sqlite_master WHERE type='table';\")\n",
        "# print(cov_cur.fetchall())"
      ],
      "metadata": {
        "id": "tfbIMpMl323b"
      },
      "execution_count": null,
      "outputs": []
    },
    {
      "cell_type": "code",
      "source": [
        "met_cur.executescript(myfile)\n",
        "met_conn.commit()\n",
        "print(\"Successfully created tables in the database\")"
      ],
      "metadata": {
        "id": "yFytLIsq4C9Q"
      },
      "execution_count": null,
      "outputs": []
    },
    {
      "cell_type": "code",
      "source": [
        "# List of tables in met_database\n",
        "met_cur.execute(\"SELECT name FROM sqlite_master WHERE type='table';\")\n",
        "print(met_cur.fetchall())"
      ],
      "metadata": {
        "id": "N1G9QNZU4Jr6"
      },
      "execution_count": null,
      "outputs": []
    },
    {
      "cell_type": "code",
      "source": [
        "rhc_cur.executescript(myfile)\n",
        "rhc_conn.commit()\n",
        "print(\"Successfully created tables in the database\")"
      ],
      "metadata": {
        "id": "WYaqlUCl4JC6"
      },
      "execution_count": null,
      "outputs": []
    },
    {
      "cell_type": "code",
      "source": [
        "# List of tables in cov_database\n",
        "# rhc_cur.execute(\"SELECT name FROM sqlite_master WHERE type='table';\")\n",
        "# print(rhc_cur.fetchall())"
      ],
      "metadata": {
        "id": "ivgegXuX4LDD"
      },
      "execution_count": null,
      "outputs": []
    },
    {
      "cell_type": "markdown",
      "source": [
        "# Datenbanken befüllen mit csv-Dateien"
      ],
      "metadata": {
        "id": "ubTxtiXC5eqQ"
      }
    },
    {
      "cell_type": "code",
      "source": [
        "csv_path_ast = f\"{material_path}csv_data/asthma\"\n",
        "csv_path_cov = f\"{material_path}csv_data/covid19\"\n",
        "csv_path_met = f\"{material_path}csv_data/metabolic_syndrome_disease\""
      ],
      "metadata": {
        "id": "WqtIdHkB6tUW"
      },
      "execution_count": null,
      "outputs": []
    },
    {
      "cell_type": "code",
      "source": [
        "# load the data into a Pandas DataFrame\n",
        "\n",
        "astpat_df = pd.read_csv(f\"{csv_path_ast}/patients.csv\")\n",
        "astcon_df = pd.read_csv(f\"{csv_path_ast}/conditions.csv\")\n",
        "astmed_df = pd.read_csv(f\"{csv_path_ast}/medications.csv\")\n",
        "astenc_df = pd.read_csv(f\"{csv_path_ast}/encounters.csv\")\n",
        "\n",
        "covpat_df = pd.read_csv(f\"{csv_path_cov}/patients.csv\")\n",
        "covcon_df = pd.read_csv(f\"{csv_path_cov}/conditions.csv\")\n",
        "covmed_df = pd.read_csv(f\"{csv_path_cov}/medications.csv\")\n",
        "covenc_df = pd.read_csv(f\"{csv_path_cov}/encounters.csv\")\n",
        "\n",
        "metpat_df = pd.read_csv(f\"{csv_path_met}/patients.csv\")\n",
        "metcon_df = pd.read_csv(f\"{csv_path_met}/conditions.csv\")\n",
        "metmed_df = pd.read_csv(f\"{csv_path_met}/medications.csv\")\n",
        "metenc_df = pd.read_csv(f\"{csv_path_met}/encounters.csv\")\n",
        "\n",
        "# Abschluss\n",
        "ast_conn.commit()\n",
        "cov_conn.commit()\n",
        "met_conn.commit()"
      ],
      "metadata": {
        "id": "2kGYEdsIAymZ"
      },
      "execution_count": null,
      "outputs": []
    },
    {
      "cell_type": "code",
      "source": [
        "# Hinzufügen einer zusätzlichen Spalte mit dem Wert asthma/covid/metabolic; CAVE: späterer Copy-table Befehl ist kein df sondern ließt Ursprungstabelle, daher ggf. Tabellendatenbankart mit DEFAULT wert schon in txt-Datei einfügen\n",
        "astpat_df['datenbankart'] = 'asthma'\n",
        "astcon_df['datenbankart'] = 'asthma'\n",
        "astmed_df['datenbankart'] = 'asthma'\n",
        "astenc_df['datenbankart'] = 'asthma'\n",
        "\n",
        "covpat_df['datenbankart'] = 'covid'\n",
        "covcon_df['datenbankart'] = 'covid'\n",
        "covmed_df['datenbankart'] = 'covid'\n",
        "covenc_df['datenbankart'] = 'covid'\n",
        "\n",
        "metpat_df['datenbankart'] = 'metabolic'\n",
        "metcon_df['datenbankart'] = 'metabolic'\n",
        "metmed_df['datenbankart'] = 'metabolic'\n",
        "metenc_df['datenbankart'] = 'metabolic'\n",
        "\n",
        "# Abschluss\n",
        "ast_conn.commit()\n",
        "cov_conn.commit()\n",
        "met_conn.commit()"
      ],
      "metadata": {
        "id": "QEZ0FMok1zES"
      },
      "execution_count": null,
      "outputs": []
    },
    {
      "cell_type": "code",
      "source": [
        "# write the data to a sqlite table\n",
        "astpat_df.to_sql(\"patients\", ast_conn, schema=None, if_exists='append', index=False, index_label=None, chunksize=None, dtype=None, method=None)\n",
        "astcon_df.to_sql(\"conditions\", ast_conn, schema=None, if_exists='append', index=False, index_label=None, chunksize=None, dtype=None, method=None)\n",
        "astmed_df.to_sql(\"medications\", ast_conn, schema=None, if_exists='append', index=False, index_label=None, chunksize=None, dtype=None, method=None)\n",
        "astenc_df.to_sql(\"encounters\", ast_conn, schema=None, if_exists='append', index=False, index_label=None, chunksize=None, dtype=None, method=None)\n",
        "\n",
        "covpat_df.to_sql(\"patients\", cov_conn, schema=None, if_exists='append', index=False, index_label=None, chunksize=None, dtype=None, method=None)\n",
        "covcon_df.to_sql(\"conditions\", cov_conn, schema=None, if_exists='append', index=False, index_label=None, chunksize=None, dtype=None, method=None)\n",
        "covmed_df.to_sql(\"medications\", cov_conn, schema=None, if_exists='append', index=False, index_label=None, chunksize=None, dtype=None, method=None)\n",
        "covenc_df.to_sql(\"encounters\", cov_conn, schema=None, if_exists='append', index=False, index_label=None, chunksize=None, dtype=None, method=None)\n",
        "\n",
        "metpat_df.to_sql(\"patients\", met_conn, schema=None, if_exists='append', index=False, index_label=None, chunksize=None, dtype=None, method=None)\n",
        "metcon_df.to_sql(\"conditions\", met_conn, schema=None, if_exists='append', index=False, index_label=None, chunksize=None, dtype=None, method=None)\n",
        "metmed_df.to_sql(\"medications\", met_conn, schema=None, if_exists='append', index=False, index_label=None, chunksize=None, dtype=None, method=None)\n",
        "metenc_df.to_sql(\"encounters\", met_conn, schema=None, if_exists='append', index=False, index_label=None, chunksize=None, dtype=None, method=None)\n",
        "\n",
        "# Abschluss\n",
        "ast_conn.commit()\n",
        "cov_conn.commit()\n",
        "met_conn.commit()"
      ],
      "metadata": {
        "id": "rQPvO-xqGrgT"
      },
      "execution_count": null,
      "outputs": []
    },
    {
      "cell_type": "code",
      "source": [
        "# check dataframe asthma/covid19/metabolic\n",
        "# print(astpat_df)\n",
        "# print(astcon_df)\n",
        "# print(astmed_df)\n",
        "# print(astenc_df)\n",
        "\n",
        "# print(covpat_df)\n",
        "# print(covcon_df)\n",
        "# print(covmed_df)\n",
        "# print(covpro_df)\n",
        "\n",
        "# print(metpat_df)\n",
        "# print(metcon_df)\n",
        "# print(metmed_df)\n",
        "# print(metpro_df)"
      ],
      "metadata": {
        "id": "WBgNl0e1JO0M"
      },
      "execution_count": null,
      "outputs": []
    },
    {
      "cell_type": "code",
      "source": [
        "# Check data in patients\n",
        "\n",
        "# check data in a table astpat\n",
        "# ast_cur.execute(\"SELECT * FROM patients;\")\n",
        "# rows = ast_cur.fetchall()\n",
        "# for row in rows:\n",
        "#  print(row)\n",
        "\n",
        "# check data in a table covpat\n",
        "# cov_cur.execute(\"SELECT * FROM patients;\")\n",
        "# rows = cov_cur.fetchall()\n",
        "# for row in rows:\n",
        "#  print(row)\n",
        "\n",
        "# check data in a table metpat\n",
        "# met_cur.execute(\"SELECT * FROM patients;\")\n",
        "# rows = met_cur.fetchall()\n",
        "# for row in rows:\n",
        "#  print(row)"
      ],
      "metadata": {
        "id": "SmLwLVyCnIIm"
      },
      "execution_count": null,
      "outputs": []
    },
    {
      "cell_type": "code",
      "source": [
        "# Check data in conditions\n",
        "\n",
        "# check data in a table astcon\n",
        "# ast_cur.execute(\"SELECT * FROM conditions;\")\n",
        "# rows = ast_cur.fetchall()\n",
        "# for row in rows:\n",
        "#  print(row)\n",
        "\n",
        "# check data in a table covcon\n",
        "# cov_cur.execute(\"SELECT * FROM conditions;\")\n",
        "# rows = cov_cur.fetchall()\n",
        "# for row in rows:\n",
        "#  print(row)\n",
        "\n",
        "# check data in a table metcon\n",
        "# met_cur.execute(\"SELECT * FROM conditions;\")\n",
        "# rows = met_cur.fetchall()\n",
        "# for row in rows:\n",
        "#  print(row)"
      ],
      "metadata": {
        "id": "sOOe2xQVCdOl"
      },
      "execution_count": null,
      "outputs": []
    },
    {
      "cell_type": "code",
      "source": [
        "# Check data in medications\n",
        "\n",
        "# check data in a table astmed\n",
        "# ast_cur.execute(\"SELECT * FROM medications;\")\n",
        "# rows = ast_cur.fetchall()\n",
        "# for row in rows:\n",
        "#  print(row)\n",
        "\n",
        "# check data in a table covmed\n",
        "# cov_cur.execute(\"SELECT * FROM medications;\")\n",
        "# rows = cov_cur.fetchall()\n",
        "# for row in rows:\n",
        "#  print(row)\n",
        "\n",
        "# check data in a table metmed\n",
        "# met_cur.execute(\"SELECT * FROM medications;\")\n",
        "# rows = met_cur.fetchall()\n",
        "# for row in rows:\n",
        "#  print(row)"
      ],
      "metadata": {
        "id": "CZxtRuRgDcfb"
      },
      "execution_count": null,
      "outputs": []
    },
    {
      "cell_type": "code",
      "source": [
        "# Check data in encounters\n",
        "\n",
        "# check data in a table astpro\n",
        "# ast_cur.execute(\"SELECT * FROM encounters;\")\n",
        "# rows = ast_cur.fetchall()\n",
        "# for row in rows:\n",
        "#  print(row)\n",
        "\n",
        "# check data in a table covpro\n",
        "# cov_cur.execute(\"SELECT * FROM encounters;\")\n",
        "# rows = cov_cur.fetchall()\n",
        "# for row in rows:\n",
        "#  print(row)\n",
        "\n",
        "# check data in a table metpro\n",
        "# met_cur.execute(\"SELECT * FROM encounters;\")\n",
        "# rows = met_cur.fetchall()\n",
        "# for row in rows:\n",
        "#  print(row)"
      ],
      "metadata": {
        "id": "Y-BiIaXRDdjc"
      },
      "execution_count": null,
      "outputs": []
    },
    {
      "cell_type": "markdown",
      "source": [
        "# Copy a table from one database to another\n",
        "(empty Rehealthco SQLite database schon erstellt)"
      ],
      "metadata": {
        "id": "uWSL06FOrkVa"
      }
    },
    {
      "cell_type": "code",
      "source": [
        "# Get connections to the databases \n",
        "# von asthma nach rehealthco\n",
        "def copy_table(rhc_conn, ast_cur, rhc_cur, table_name):\n",
        "  ast_cur.execute(f'SELECT * FROM {table_name}')\n",
        "  output = ast_cur.fetchall()   # Returns the results as a list.\n",
        "  # Insert those contents into another table.\n",
        "  for row in output:\n",
        "      rowlen = len(row)\n",
        "      repstring = \"\"\n",
        "      for i in range(rowlen -1):\n",
        "        repstring += \"?,\"\n",
        "      repstring += \"?\"\n",
        "      rhc_cur.execute(f'INSERT INTO {table_name} VALUES ({repstring})', row)\n",
        "  # Cleanup\n",
        "  rhc_conn.commit()"
      ],
      "metadata": {
        "id": "8rZy6v1iRZFC"
      },
      "execution_count": null,
      "outputs": []
    },
    {
      "cell_type": "code",
      "source": [
        "# alle Tabellen vereinen in rehealthco\n",
        "copy_table(rhc_conn, ast_cur, rhc_cur, \"patients\") # 1035 patienten\n",
        "copy_table(rhc_conn, cov_cur, rhc_cur, \"patients\") # nun 2085 patienten\n",
        "copy_table(rhc_conn, met_cur, rhc_cur, \"patients\") # nun 3113 patienten\n",
        "\n",
        "copy_table(rhc_conn, ast_cur, rhc_cur, \"conditions\") # 260 conditions\n",
        "copy_table(rhc_conn, cov_cur, rhc_cur, \"conditions\") # 6895 conditions\n",
        "copy_table(rhc_conn, met_cur, rhc_cur, \"conditions\") # 13733 conditions\n",
        "\n",
        "copy_table(rhc_conn, ast_cur, rhc_cur, \"medications\") # 1515 medications\n",
        "copy_table(rhc_conn, cov_cur, rhc_cur, \"medications\") # 2910 medications\n",
        "copy_table(rhc_conn, met_cur, rhc_cur, \"medications\") # 4625 medications\n",
        "\n",
        "copy_table(rhc_conn, ast_cur, rhc_cur, \"encounters\") # 8522 encounters\n",
        "copy_table(rhc_conn, cov_cur, rhc_cur, \"encounters\") # 35368 encounters\n",
        "copy_table(rhc_conn, met_cur, rhc_cur, \"encounters\") # 63081 encounters\n"
      ],
      "metadata": {
        "id": "MRvMREOeW4tb"
      },
      "execution_count": null,
      "outputs": []
    },
    {
      "cell_type": "code",
      "source": [
        "# Tabelleninhalt rehealthco als pandas dataframe\n",
        "rhcpat_df = pd.read_sql('''SELECT * FROM patients''', rhc_conn)\n",
        "rhccon_df = pd.read_sql('''SELECT * FROM conditions''', rhc_conn)\n",
        "rhcmed_df = pd.read_sql('''SELECT * FROM medications''', rhc_conn)\n",
        "rhcenc_df = pd.read_sql('''SELECT * FROM encounters''', rhc_conn)\n",
        "\n",
        "# print(rhcpat_df)\n",
        "# print(rhccon_df)\n",
        "# print(rhcmed_df)\n",
        "# print(rhcenc_df)"
      ],
      "metadata": {
        "id": "ymAEOC6qcNWI"
      },
      "execution_count": null,
      "outputs": []
    },
    {
      "cell_type": "code",
      "source": [
        "# Kompelette Tabelle abfragen\n",
        "\n",
        "# rhc_cur.execute(\"SELECT * FROM patients;\")\n",
        "# rows = rhc_cur.fetchall()\n",
        "# for row in rows:\n",
        "#  print(row)\n",
        "\n",
        "# rhc_cur.execute(\"SELECT * FROM conditions;\")\n",
        "# rows = rhc_cur.fetchall()\n",
        "# for row in rows:\n",
        "#  print(row)\n",
        "\n",
        "# rhc_cur.execute(\"SELECT * FROM medications;\")\n",
        "# rows = rhc_cur.fetchall()\n",
        "# for row in rows:\n",
        "#  print(row)\n",
        "\n",
        "# rhc_cur.execute(\"SELECT * FROM encounters;\")\n",
        "# rows = rhc_cur.fetchall()\n",
        "# for row in rows:\n",
        "#  print(row)"
      ],
      "metadata": {
        "id": "4y9sOoUFSc91"
      },
      "execution_count": null,
      "outputs": []
    },
    {
      "cell_type": "code",
      "source": [
        "# 1-Zeiltenanfrage\n",
        "# rhc_cur.execute(\"SELECT * FROM conditions\")\n",
        "# out = rhc_cur.fetchall()\n",
        "# print(out)"
      ],
      "metadata": {
        "id": "fUwcVJyHUyEh"
      },
      "execution_count": null,
      "outputs": []
    },
    {
      "cell_type": "markdown",
      "source": [
        "# Indexe Rehealthco"
      ],
      "metadata": {
        "id": "M-qSBBLbrTr0"
      }
    },
    {
      "cell_type": "code",
      "source": [
        "#funktion \"f\" bestimmmte Datenbank -> sql-anfrage\n",
        "def f(cursor, sql_query):\n",
        "  cursor.execute(sql_query)\n",
        "  cursor.fetchall()\n",
        "  print(cursor.fetchall())"
      ],
      "metadata": {
        "id": "5Yu3UV15daEh"
      },
      "execution_count": null,
      "outputs": []
    },
    {
      "cell_type": "code",
      "source": [
        "f(rhc_cur, \"CREATE INDEX idx_contacts_name ON patients (FIRST, LAST)\")\n",
        "# statt multicolumn Index\n",
        "# rhc_cur.execute(\"CREATE INDEX idx_contacts_name ON patients (FIRST, LAST)\")\n",
        "# rhc_cur.fetchall()"
      ],
      "metadata": {
        "id": "33YOGFCrVePe"
      },
      "execution_count": null,
      "outputs": []
    },
    {
      "cell_type": "code",
      "source": [
        "# multicolumn Index\n",
        "# rhc_cur.execute(\"CREATE INDEX idx_contacts_name ON patients (FIRST, LAST)\")\n",
        "# rhc_cur.fetchall()"
      ],
      "metadata": {
        "id": "3SooFC1vmKQt"
      },
      "execution_count": null,
      "outputs": []
    },
    {
      "cell_type": "code",
      "source": [
        "# show list indexes created for a table\n",
        "rhc_cur.execute(\"PRAGMA index_list(patients)\")\n",
        "print(rhc_cur.fetchall())"
      ],
      "metadata": {
        "id": "9BeyM6M4m2lE"
      },
      "execution_count": null,
      "outputs": []
    },
    {
      "cell_type": "code",
      "source": [
        "rhc_cur.execute(\"CREATE INDEX idx_patname_conditions ON conditions (PATIENT)\")\n",
        "rhc_cur.execute(\"PRAGMA index_list(conditions)\")\n",
        "print(rhc_cur.fetchall())"
      ],
      "metadata": {
        "id": "3XOHAqvYrRKW"
      },
      "execution_count": null,
      "outputs": []
    },
    {
      "cell_type": "code",
      "source": [
        "rhc_cur.execute(\"CREATE INDEX idx_patname_medications ON medications (PATIENT)\")\n",
        "rhc_cur.execute(\"PRAGMA index_list(medications)\")\n",
        "print(rhc_cur.fetchall())"
      ],
      "metadata": {
        "id": "QG3889elsgOT"
      },
      "execution_count": null,
      "outputs": []
    },
    {
      "cell_type": "code",
      "source": [
        "rhc_cur.execute(\"CREATE INDEX idx_patname_encounters ON encounters (PATIENT)\")\n",
        "rhc_cur.execute(\"PRAGMA index_list(encounters)\")\n",
        "print(rhc_cur.fetchall())"
      ],
      "metadata": {
        "id": "0nj5QdVwswsL"
      },
      "execution_count": null,
      "outputs": []
    },
    {
      "cell_type": "code",
      "source": [
        "# get all indexes from a database \n",
        "rhc_cur.execute(\"select type, name, tbl_name, sql FROM sqlite_master WHERE type='index'\")\n",
        "print(rhc_cur.fetchall())"
      ],
      "metadata": {
        "id": "EmawqQ0KoM5C"
      },
      "execution_count": null,
      "outputs": []
    },
    {
      "cell_type": "code",
      "source": [
        "# # Drop index\n",
        "# # cur.execute(\"DROP INDEX idx_contacts_name\")\n",
        "# cur.execute(\"PRAGMA index_list(patients)\")\n",
        "# print(cur.fetchall())"
      ],
      "metadata": {
        "id": "GvLxJBPqnH5V"
      },
      "execution_count": null,
      "outputs": []
    },
    {
      "cell_type": "markdown",
      "source": [
        "# Query the tables, join two tables - alle Tabellen in rhc_vereinall_df vereinen"
      ],
      "metadata": {
        "id": "qsYsgZbprgwb"
      }
    },
    {
      "cell_type": "code",
      "source": [
        "# verbindung_astpat_astmed = \"SELECT * FROM medications INNER JOIN patients ON medications.PATIENT = patients.Id\"\n",
        "# ast_cur.execute(verbindung_astpat_astmed)\n",
        "# records = ast_cur.fetchall()\n",
        "# for row in records:\n",
        "#   print(row)"
      ],
      "metadata": {
        "id": "wWI2fHpUPiyF"
      },
      "execution_count": null,
      "outputs": []
    },
    {
      "cell_type": "code",
      "source": [
        "# Left Join\n",
        "# cov_cur.execute('''SELECT * FROM medications LEFT JOIN patients ON medications.PATIENT = patients.Id''')\n",
        "# records = cov_cur.fetchall()\n",
        "# for row in records:\n",
        "#   print(row)"
      ],
      "metadata": {
        "id": "jtyhpldzbMUh"
      },
      "execution_count": null,
      "outputs": []
    },
    {
      "cell_type": "code",
      "source": [
        "# alternativ über pandas:\n",
        "# print(rhcpat_df)\n",
        "# print(rhccon_df)\n",
        "# print(rhcmed_df)\n",
        "# print(rhcenc_df)\n",
        "\n",
        "# Beispiel:\n",
        "# df = pd.DataFrame.merge(df, df_procedures, left_on=\"Id\", right_on=\"PATIENT\", how=\"inner\")\n",
        "# df.drop(\"PATIENT\", axis=1, inplace=True)\n",
        "# df.shape"
      ],
      "metadata": {
        "id": "mwR9-nguS0Bl"
      },
      "execution_count": null,
      "outputs": []
    },
    {
      "cell_type": "code",
      "source": [
        "# show all columns\n",
        "pd.set_option('max_columns', None)\n",
        "# show all rows\n",
        "# pd.set_option('display.max_rows', None)\n",
        "# show ten rows\n",
        "# pd.set_option('display.max_rows', 10)"
      ],
      "metadata": {
        "id": "Sv1KPyPdjcFM"
      },
      "execution_count": null,
      "outputs": []
    },
    {
      "cell_type": "code",
      "source": [
        "rhc_verein1_df = pd.DataFrame.merge(rhcpat_df, rhccon_df, left_on=[\"Id\", \"datenbankart\"], right_on=[\"PATIENT\", \"datenbankart\"], how=\"inner\")\n",
        "rhc_verein1_df.drop(\"PATIENT\", axis=1, inplace=True)\n",
        "rhc_verein1_df.rename(columns={\"DESCRIPTION\": \"desc_con\", \"CODE\": \"code_con\", \"START\": \"start_con\", \"STOP\": \"stop_con\"}, inplace=True)\n",
        "# rhc_verein1_df.shape\n",
        "# rhc_verein1_df.head()\n",
        "print(rhc_verein1_df)"
      ],
      "metadata": {
        "id": "BHizlh3bhnhn"
      },
      "execution_count": null,
      "outputs": []
    },
    {
      "cell_type": "code",
      "source": [
        "#@title Default title text { display-mode: \"both\" }\n",
        "rhc_verein2_df = pd.DataFrame.merge(rhc_verein1_df, rhcmed_df, left_on=[\"Id\", \"datenbankart\", \"ENCOUNTER\"], right_on=[\"PATIENT\", \"datenbankart\", \"ENCOUNTER\"], how=\"inner\")\n",
        "rhc_verein2_df.drop(\"PATIENT\", axis=1, inplace=True)\n",
        "rhc_verein2_df.rename(columns={\"DESCRIPTION\": \"desc_med\", \"CODE\": \"code_med\", \"START\": \"start_med\", \"STOP\": \"stop_med\", \"REASONDESCRIPTION\": \"reasondesc_med\", \"REASONCODE\": \"reasoncode_med\"}, inplace=True)\n",
        "rhc_verein2_df.shape\n",
        "# rhc_verein2_df.head()\n",
        "# print(rhc_verein2_df)"
      ],
      "metadata": {
        "id": "3UDH4y7_TxcT"
      },
      "execution_count": null,
      "outputs": []
    },
    {
      "cell_type": "code",
      "source": [
        "rhcenc_df.rename(columns={\"Id\": \"id_enc\"}, inplace=True)\n",
        "# print(rhcenc_df)"
      ],
      "metadata": {
        "id": "td9QBPmhnEVo"
      },
      "execution_count": null,
      "outputs": []
    },
    {
      "cell_type": "code",
      "source": [
        "rhc_vereinall_df = pd.DataFrame.merge(rhc_verein2_df, rhcenc_df, left_on=[\"Id\", \"datenbankart\", \"PAYER\", \"PAYER_COVERAGE\"], right_on=[\"PATIENT\", \"datenbankart\", \"PAYER\", \"PAYER_COVERAGE\"], how=\"inner\")\n",
        "rhc_vereinall_df.drop(\"PATIENT\", axis=1, inplace=True)\n",
        "rhc_vereinall_df.rename(columns={\"DESCRIPTION\": \"desc_enc\", \"CODE\": \"code_enc\", \"START\": \"start_enc\", \"STOP\": \"stop_enc\", \"REASONDESCRIPTION\": \"reasondesc_enc\", \"REASONCODE\": \"reasoncode_enc\"}, inplace=True)\n",
        "rhc_vereinall_df.shape\n",
        "# rhc_vereinall_df.head()"
      ],
      "metadata": {
        "id": "wNBjFqO6UEdY"
      },
      "execution_count": null,
      "outputs": []
    },
    {
      "cell_type": "code",
      "source": [
        "  # Cleanup\n",
        "  rhc_conn.commit()"
      ],
      "metadata": {
        "id": "vPRZ7t6UvG4I"
      },
      "execution_count": null,
      "outputs": []
    },
    {
      "cell_type": "code",
      "source": [
        "rhc_vereinall_df_to_csv = pd.DataFrame(rhc_vereinall_df)\n",
        "rhc_vereinall_df.to_csv(index=False)\n",
        "print(rhc_vereinall_df.columns.tolist())"
      ],
      "metadata": {
        "id": "rohL_bXtmvD7"
      },
      "execution_count": null,
      "outputs": []
    },
    {
      "cell_type": "code",
      "source": [
        "# pandas to csv\n",
        "# df = pd.DataFrame({'name': ['Raphael', 'Donatello'],\n",
        "#                    'mask': ['red', 'purple'],\n",
        "#                    'weapon': ['sai', 'bo staff']})\n",
        "# df.to_csv(index=False)"
      ],
      "metadata": {
        "id": "5YkyvguNmtbA"
      },
      "execution_count": null,
      "outputs": []
    },
    {
      "cell_type": "code",
      "source": [
        "from pathlib import Path  \n",
        "filepath = Path('/content/drive/Shareddrives/Projektarbeit DMA Gruppe D/out.csv') # gdrive-sharefolder\n",
        "# filepath = Path(f\"{material_path}/source_dbs/out.csv\") # github-Folder\n",
        "filepath.parent.mkdir(parents=True, exist_ok=True)  \n",
        "rhc_vereinall_df.to_csv(filepath)  "
      ],
      "metadata": {
        "id": "e_vMbCtZnwMd"
      },
      "execution_count": null,
      "outputs": []
    },
    {
      "cell_type": "code",
      "source": [
        "# To write a csv file to a new folder or nested folder you will first need to create it using Pathlib \n",
        "# from pathlib import Path  \n",
        "# filepath = Path('folder/subfolder/out.csv')  \n",
        "# filepath.parent.mkdir(parents=True, exist_ok=True)  \n",
        "# df.to_csv(filepath)  "
      ],
      "metadata": {
        "id": "guJ-CXX0neE9"
      },
      "execution_count": null,
      "outputs": []
    },
    {
      "cell_type": "code",
      "source": [
        "# rename / Umbennen variables\n",
        "# df_procedures.rename(columns={\"CODE\":\"CODE_PROCEDURE\", \"DESCRIPTION\":\"PROCEDURE_DESCRIPTION\"}, inplace=True)\n",
        "# df_procedures = df_procedures[[\"PATIENT\", \"CODE_PROCEDURE\", \"PROCEDURE_DESCRIPTION\"]]"
      ],
      "metadata": {
        "id": "xM4F3x4qhvXb"
      },
      "execution_count": null,
      "outputs": []
    },
    {
      "cell_type": "code",
      "source": [
        "# columns returns the name of all of your columns in the dataset.\n",
        "# rhcpat_df.columns"
      ],
      "metadata": {
        "id": "3aDDWy5Hh7wd"
      },
      "execution_count": null,
      "outputs": []
    },
    {
      "cell_type": "code",
      "source": [
        "# Removing Duplicate Rows\n",
        "# print(\"Number of Duplicated Rows\", df.duplicated(df.columns).sum())"
      ],
      "metadata": {
        "id": "Bk98Y9vTiZnM"
      },
      "execution_count": null,
      "outputs": []
    },
    {
      "cell_type": "code",
      "source": [
        "# dropping duplicate values if exists and keep first one\n",
        "# rhcpat_df.drop_duplicates(keep=\"first\",inplace=True) \n",
        "# print(\"Size of dataset after removinf duplicated rows\", rhcpat_df.shape)"
      ],
      "metadata": {
        "id": "qVCSCG4Ciiu4"
      },
      "execution_count": null,
      "outputs": []
    },
    {
      "cell_type": "markdown",
      "source": [
        "# Prediction (Supervised Learning)"
      ],
      "metadata": {
        "id": "_GlALkqoSpzi"
      }
    },
    {
      "cell_type": "code",
      "source": [
        "# install the newest version,  \n",
        "# uncomment this line in first runtime, it needs to restart runtime\n",
        "!pip3 install https://github.com/pandas-profiling/pandas-profiling/archive/master.zip"
      ],
      "metadata": {
        "id": "c20leUBPSuTY"
      },
      "execution_count": null,
      "outputs": []
    },
    {
      "cell_type": "markdown",
      "source": [
        "# Exploratory Data Analysis (EDA)\n"
      ],
      "metadata": {
        "id": "Gw7QOSh4RViZ"
      }
    },
    {
      "cell_type": "code",
      "source": [
        "rhc_vereinall_df.shape"
      ],
      "metadata": {
        "id": "jbAYymaCoPkz"
      },
      "execution_count": null,
      "outputs": []
    },
    {
      "cell_type": "code",
      "source": [
        "rhc_vereinall_df"
      ],
      "metadata": {
        "id": "GfQ0ZOOQxCup"
      },
      "execution_count": null,
      "outputs": []
    },
    {
      "cell_type": "code",
      "source": [
        "# ydata-profiling(rhc_vereinall_df)\n",
        "ProfileReport(rhc_vereinall_df)"
      ],
      "metadata": {
        "id": "c0wcWZAbVtU3"
      },
      "execution_count": null,
      "outputs": []
    },
    {
      "cell_type": "code",
      "source": [
        "ProfileReport(rhcpat_df) # deathdate: 3000 fehlende Todesdaten, bei insg. 3113 Patienten -> 113 Tote"
      ],
      "metadata": {
        "id": "INRF6p3jnwdG"
      },
      "execution_count": null,
      "outputs": []
    },
    {
      "cell_type": "code",
      "source": [
        "# ProfileReport(rhccon_df) # 43 unterschiedliche Descriptions\n",
        "# ProfileReport(rhcmed_df)\n",
        "ProfileReport(rhcenc_df)"
      ],
      "metadata": {
        "id": "fX1My869Rg_r"
      },
      "execution_count": null,
      "outputs": []
    },
    {
      "cell_type": "code",
      "source": [
        "#Übersicht der Condition-Kohorte also insgesamt 43 verschiedene conditions\n",
        "rhccon_df.nunique(axis=0)"
      ],
      "metadata": {
        "id": "hkmDgRrJ5JnS"
      },
      "execution_count": null,
      "outputs": []
    },
    {
      "cell_type": "code",
      "source": [
        "# rhccon_df.columns\n",
        "# number of patients in procedure table\n",
        "rhccon_df.groupby([\"DESCRIPTION\"]).size()\n",
        "# rhccon_df.groupby([\"PATIENT\", \"DESCRIPTION\"]).size() # sortiert nach 2 Spalten"
      ],
      "metadata": {
        "id": "cz-MCpdIjtV2"
      },
      "execution_count": null,
      "outputs": []
    },
    {
      "cell_type": "code",
      "source": [
        "# Löschen bestimmter Spaltenwerte - alles von bis zu History of cardiac arrest (situation) gelöscht \n",
        "# df.drop(df[df['Fee'] >= 24000].index, inplace = True)\n",
        "dropquatschdescription_df = rhccon_df.drop(rhccon_df[ (rhccon_df['DESCRIPTION'] == \"Wheezing (finding)\") |\n",
        "                                                     (rhccon_df['DESCRIPTION'] == \"Vomiting symptom (finding)\") |\n",
        "                                                     (rhccon_df['DESCRIPTION'] == \"Suspected COVID-19\") |\n",
        "                                                     (rhccon_df['DESCRIPTION'] == \"Sputum finding (finding)\") |\n",
        "                                                     (rhccon_df['DESCRIPTION'] == \"Sore throat symptom (finding)\") |\n",
        "                                                     (rhccon_df['DESCRIPTION'] == \"Respiratory distress (finding)\") |\n",
        "                                                     (rhccon_df['DESCRIPTION'] == \"Passive conjunctival congestion (finding)\") |\n",
        "                                                     (rhccon_df['DESCRIPTION'] == \"Nausea (finding)\") |\n",
        "                                                     (rhccon_df['DESCRIPTION'] == \"Nasal congestion (finding)\") |\n",
        "                                                     (rhccon_df['DESCRIPTION'] == \"Muscle pain (finding)\") |\n",
        "                                                     (rhccon_df['DESCRIPTION'] == \"Loss of taste (finding)\") |\n",
        "                                                     (rhccon_df['DESCRIPTION'] == \"Joint pain (finding)\") |\n",
        "                                                     (rhccon_df['DESCRIPTION'] == \"History of myocardial infarction (situation)\") |\n",
        "                                                     (rhccon_df['DESCRIPTION'] == \"History of cardiac arrest (situation)\") |\n",
        "                                                     (rhccon_df['DESCRIPTION'] == \"Hemoptysis (finding)\") |\n",
        "                                                     (rhccon_df['DESCRIPTION'] == \"Headache (finding)\") |\n",
        "                                                     (rhccon_df['DESCRIPTION'] == \"Fever (finding)\") |\n",
        "                                                     (rhccon_df['DESCRIPTION'] == \"Fatigue (finding)\") |\n",
        "                                                     (rhccon_df['DESCRIPTION'] == \"Dyspnea (finding)\") |\n",
        "                                                     (rhccon_df['DESCRIPTION'] == \"Diarrhea symptom (finding)\") |\n",
        "                                                     (rhccon_df['DESCRIPTION'] == \"Cough (finding)\") |\n",
        "                                                     (rhccon_df['DESCRIPTION'] == \"Chill (finding)\")\n",
        "                                                     ].index)"
      ],
      "metadata": {
        "id": "qxlj70nJ5bIo"
      },
      "execution_count": null,
      "outputs": []
    },
    {
      "cell_type": "code",
      "source": [
        "# oder #Zunächst Selektion bestimmter Spaltenwerte\n",
        "# auswahl_nur_pos_cov_df = rhccon_df.loc[(rhccon_df[\"CODE\"] == \"94531-1\") & (rhccon_df[\"VALUE\"] == \"Detected (qualifier value)\")] \n",
        "# auswahl_nur_pos_cov_description_df.head(3)"
      ],
      "metadata": {
        "id": "AbAARyJ3YqxY"
      },
      "execution_count": null,
      "outputs": []
    },
    {
      "cell_type": "code",
      "source": [
        "# Zusammenfügen von 2 Dataframes in einen Dataframe\n",
        "# pos_plus_neg_cov_df = pd.concat([allerg_postest_df, wirklich_nur_neg_cov_df])\n",
        "# pos_plus_neg_cov_df.head(3)"
      ],
      "metadata": {
        "id": "HeUrVk6FZPkE"
      },
      "execution_count": null,
      "outputs": []
    },
    {
      "cell_type": "code",
      "source": [
        "dropquatschdescription_df.nunique(axis=0)"
      ],
      "metadata": {
        "id": "6EW_2KJk6YJJ"
      },
      "execution_count": null,
      "outputs": []
    },
    {
      "cell_type": "code",
      "source": [
        "dropquatschdescription_df.groupby([\"PATIENT\", \"DESCRIPTION\"]).size()"
      ],
      "metadata": {
        "id": "x62IVVYL6Kk8"
      },
      "execution_count": null,
      "outputs": []
    },
    {
      "cell_type": "code",
      "source": [
        "# # convert categorical variable to numerical by replacing - könnte wichtig für die Erstellung von Histogrammen sein! Beispiel\n",
        "# df.GENDER.replace(['M', 'F'], [0, 1], inplace=True)\n",
        "# df.RACE.replace([\"white\", \"black\", \"asian\"], [1, 2, 3], inplace=True)"
      ],
      "metadata": {
        "id": "FXNB8eibG-_k"
      },
      "execution_count": null,
      "outputs": []
    },
    {
      "cell_type": "code",
      "source": [
        "dropquatschdescription_df.groupby([\"PATIENT\"]).size()"
      ],
      "metadata": {
        "id": "Wx8rmcz4ByT3"
      },
      "execution_count": null,
      "outputs": []
    },
    {
      "cell_type": "code",
      "source": [
        "# Anzeige fehlender Werte, z.B. fehlender Todestag, hier 3000\n",
        "# rhcpat_df.isnull().sum() # alle fehlenden Werte\n",
        "# rhcpat_df.DEATHDATE.isnull().sum() # eine bestimmte Spalte"
      ],
      "metadata": {
        "id": "Gxnl-Sa0WN8e"
      },
      "execution_count": null,
      "outputs": []
    },
    {
      "cell_type": "code",
      "source": [
        "# rhcpat_df.BIRTHDATE.shape # Anzeige wieviel Zeilen eine Spalte besitzt\n",
        "# rhcpatbirth_df = rhcpat_df[[\"Id\", \"BIRTHDATE\"]]\n",
        "# rhcpatbirth_df.shape # Anzeige aller Zeilen zweier Spalten"
      ],
      "metadata": {
        "id": "LzSSWitUgWmM"
      },
      "execution_count": null,
      "outputs": []
    },
    {
      "cell_type": "code",
      "source": [
        "# calculate age \n",
        "# fill nall values with todays date\n",
        "rhcpat_df[\"DEATHDATE\"] = rhcpat_df.DEATHDATE.fillna(pd.to_datetime(\"today\"))\n",
        "# convert to datetime\n",
        "rhcpat_df[\"DEATHDATE\"] = pd.to_datetime(rhcpat_df[\"DEATHDATE\"])\n",
        "rhcpat_df[\"BIRTHDATE\"] = pd.to_datetime(rhcpat_df[\"BIRTHDATE\"])\n",
        "rhcpat_df[\"AGE\"] = rhcpat_df.DEATHDATE.dt.year - rhcpat_df.BIRTHDATE.dt.year\n",
        "# select variables\n",
        "rhcpatage_df = rhcpat_df[[\"Id\", \"AGE\", \"GENDER\", \"HEALTHCARE_EXPENSES\"]]\n",
        "rhcpatage_df.head()\n",
        "ProfileReport(rhcpatage_df)"
      ],
      "metadata": {
        "id": "-cOnWDYuaAZl"
      },
      "execution_count": null,
      "outputs": []
    },
    {
      "cell_type": "code",
      "source": [
        "rhcpatage_df"
      ],
      "metadata": {
        "id": "YXERcxhHxWDh"
      },
      "execution_count": null,
      "outputs": []
    },
    {
      "cell_type": "code",
      "source": [
        "# Histogramm\n",
        "# rhcpat_df[\"AGE\"].plot(kind='hist', bins=20, figsize=(12,6), facecolor='grey',edgecolor='black')"
      ],
      "metadata": {
        "id": "Wz3q0_jYbfhk"
      },
      "execution_count": null,
      "outputs": []
    },
    {
      "cell_type": "markdown",
      "source": [
        "# Boxplot and Remove Outlier \n",
        "(müsste das Extremwerte rausnehmen sein)"
      ],
      "metadata": {
        "id": "jBDzsKCVo9P0"
      }
    },
    {
      "cell_type": "code",
      "source": [
        "import seaborn as sns"
      ],
      "metadata": {
        "id": "6ebmBe9toa4R"
      },
      "execution_count": null,
      "outputs": []
    },
    {
      "cell_type": "code",
      "source": [
        "sns.boxplot(x=rhcpat_df[\"AGE\"])"
      ],
      "metadata": {
        "id": "eDtoB57ZoR_s"
      },
      "execution_count": null,
      "outputs": []
    },
    {
      "cell_type": "code",
      "source": [
        "rhcpatageunterhunter_df = rhcpat_df[rhcpat_df[\"AGE\"]<100]\n",
        "# rhcpat_df.shape\n",
        "sns.boxplot(x=rhcpatageunterhunter_df[\"AGE\"])"
      ],
      "metadata": {
        "id": "EcC_4EzypB09"
      },
      "execution_count": null,
      "outputs": []
    },
    {
      "cell_type": "code",
      "source": [
        "# distribution of GENDER attribute\n",
        "sns.countplot(x=\"variable\", hue= \"value\", data=pd.melt(rhcpat_df[[\"GENDER\"]]))"
      ],
      "metadata": {
        "id": "kJQ0i0IPpbCw"
      },
      "execution_count": null,
      "outputs": []
    },
    {
      "cell_type": "code",
      "source": [
        "# distribution of DESCRIPTION attribute\n",
        "# sns.countplot(x=\"variable\", hue= \"value\", data=pd.melt(rhccon_df[[\"DESCRIPTION\"]]))\n",
        "sns.countplot(x=\"variable\", hue= \"value\", data=pd.melt(dropquatschdescription_df[[\"DESCRIPTION\"]]))"
      ],
      "metadata": {
        "id": "kLvTftaDp_Wr"
      },
      "execution_count": null,
      "outputs": []
    },
    {
      "cell_type": "code",
      "source": [
        "dropquatschdescription_df.groupby([\"PATIENT\", \"DESCRIPTION\"]).size()"
      ],
      "metadata": {
        "id": "xUsCEkV7NjML"
      },
      "execution_count": null,
      "outputs": []
    },
    {
      "cell_type": "code",
      "source": [
        "dropquatschdescription_df.groupby([\"DESCRIPTION\"]).size()"
      ],
      "metadata": {
        "id": "Bo0uWOC7NR48"
      },
      "execution_count": null,
      "outputs": []
    },
    {
      "cell_type": "code",
      "source": [
        "sns.countplot(x=\"variable\", hue= \"value\", data=pd.melt(dropquatschdescription_df[[\"PATIENT\"]]))"
      ],
      "metadata": {
        "id": "MRFYNPSuHW0o"
      },
      "execution_count": null,
      "outputs": []
    },
    {
      "cell_type": "code",
      "source": [
        "# # convert categorical variable to numerical by replacing - könnte wichtig für die Erstellung von Histogrammen sein! Beispiel\n",
        "# df.GENDER.replace(['M', 'F'], [0, 1], inplace=True)\n",
        "# df.RACE.replace([\"white\", \"black\", \"asian\"], [1, 2, 3], inplace=True)"
      ],
      "metadata": {
        "id": "-XwhtBeUqLmP"
      },
      "execution_count": null,
      "outputs": []
    },
    {
      "cell_type": "code",
      "source": [
        "# HEALTHCARE_EXPENSES uncovered\n",
        "rhcpat_df[\"Verhaeltnis0\"] = rhcpat_df[\"HEALTHCARE_EXPENSES\"]-rhcpat_df[\"HEALTHCARE_COVERAGE\"]\n",
        "# print(rhcpat_df[\"Verhaeltnis0\"])"
      ],
      "metadata": {
        "id": "JSm77-zOusoy"
      },
      "execution_count": null,
      "outputs": []
    },
    {
      "cell_type": "code",
      "source": [
        "# Histogramm Verhätnis1\n",
        "rhcpat_df[\"Verhaeltnis0\"].plot(kind='hist', bins=20, figsize=(12,6), facecolor='grey',edgecolor='black')"
      ],
      "metadata": {
        "id": "es-ojLDQu8MR"
      },
      "execution_count": null,
      "outputs": []
    },
    {
      "cell_type": "code",
      "source": [
        "# Verhältnis HEALTHCARE_EXPENSES im Verhältnis mit HEALTHCARE_COVERAGE\n",
        "rhcpat_df[\"Verhaeltnis1\"] = rhcpat_df[\"HEALTHCARE_COVERAGE\"]/rhcpat_df[\"HEALTHCARE_EXPENSES\"]\n",
        "# print(rhcpat_df[\"Verhaeltnis1\"])"
      ],
      "metadata": {
        "id": "pd0xiS79oJKa"
      },
      "execution_count": null,
      "outputs": []
    },
    {
      "cell_type": "code",
      "source": [
        "# Histogramm Verhätnis1\n",
        "rhcpat_df[\"Verhaeltnis1\"].plot(kind='hist', bins=20, figsize=(12,6), facecolor='grey',edgecolor='black')"
      ],
      "metadata": {
        "id": "FQt3yGmSqNqE"
      },
      "execution_count": null,
      "outputs": []
    },
    {
      "cell_type": "code",
      "source": [
        "ProfileReport(rhcpat_df)"
      ],
      "metadata": {
        "id": "DebxKxh0rNGB"
      },
      "execution_count": null,
      "outputs": []
    },
    {
      "cell_type": "markdown",
      "source": [
        "# Multivariate Analysis: Analyzing Relationships Between Variables"
      ],
      "metadata": {
        "id": "ncZdcqY7qwot"
      }
    },
    {
      "cell_type": "code",
      "source": [
        "import matplotlib.pyplot as plt"
      ],
      "metadata": {
        "id": "0J_LTw8BrJnQ"
      },
      "execution_count": null,
      "outputs": []
    },
    {
      "cell_type": "code",
      "source": [
        "# Generating the correlating matrix\n",
        "corr = rhcpat_df.corr()\n",
        "plt.figure(figsize=(7, 5))\n",
        "# Generating the correlation heat-map\n",
        "sns.heatmap(corr, annot=True)"
      ],
      "metadata": {
        "id": "GDUTS3q4qyYg"
      },
      "execution_count": null,
      "outputs": []
    },
    {
      "cell_type": "code",
      "source": [
        "import numpy as np"
      ],
      "metadata": {
        "id": "kYQXqfgGt0ti"
      },
      "execution_count": null,
      "outputs": []
    },
    {
      "cell_type": "code",
      "source": [
        "# funktioniert noch nicht - benötigt?\n",
        "# # select feature with correlation less than a threshold\n",
        "# columns = np.full((corr.shape[0],), True, dtype=bool)\n",
        "# for i in range(corr.shape[0]):\n",
        "#     for j in range(i+1, corr.shape[0]):\n",
        "#         if corr.iloc[i,j] >= 0.7:\n",
        "#             if columns[j]:\n",
        "#                 columns[j] = False\n",
        "\n",
        "# selected_columns = numdf.columns[columns]\n",
        "# selected_columns"
      ],
      "metadata": {
        "id": "xx4LLqLnrD40"
      },
      "execution_count": null,
      "outputs": []
    },
    {
      "cell_type": "markdown",
      "source": [
        "# Scatterplot"
      ],
      "metadata": {
        "id": "ySs39bjWvXly"
      }
    },
    {
      "cell_type": "code",
      "source": [
        "rhcpat_df.plot(kind='scatter', y='HEALTHCARE_EXPENSES', x='BIRTHDATE')"
      ],
      "metadata": {
        "id": "kzQZ0H-mtwB-"
      },
      "execution_count": null,
      "outputs": []
    },
    {
      "cell_type": "code",
      "source": [
        "# sklearn aus beastcancer notebook\n",
        "from sklearn.model_selection import train_test_split\n",
        "from sklearn import tree\n",
        "import sklearn.metrics\n",
        "import graphviz\n",
        "\n",
        "!pip install dtreeviz\n",
        "from dtreeviz import * "
      ],
      "metadata": {
        "id": "-QLj8r6sviB0"
      },
      "execution_count": null,
      "outputs": []
    },
    {
      "cell_type": "code",
      "source": [
        "# Generating the correlating matrix\n",
        "corr = rhcpat_df.corr()\n",
        "plt.figure(figsize=(30, 15))\n",
        "# Generating the correlation heat-map\n",
        "sns.heatmap(corr, annot=True)"
      ],
      "metadata": {
        "id": "Pd13FsNfzIXj"
      },
      "execution_count": null,
      "outputs": []
    },
    {
      "cell_type": "code",
      "source": [
        "# meansDF = cancerDF[['mean radius',\n",
        "#  'mean texture',\n",
        "#  'mean perimeter',\n",
        "#  'mean area',\n",
        "#  'mean smoothness',\n",
        "#  'mean compactness',\n",
        "#  'mean concavity',\n",
        "#  'mean concave points',\n",
        "#  'mean symmetry',\n",
        "#  'mean fractal dimension',\n",
        "#  'target']]"
      ],
      "metadata": {
        "id": "SuZYrKmVzXhP"
      },
      "execution_count": null,
      "outputs": []
    },
    {
      "cell_type": "code",
      "source": [
        "# sns.set_theme(style=\"ticks\")\n",
        "\n",
        "# sns.pairplot(meansDF, hue=\"target\")"
      ],
      "metadata": {
        "id": "SvpW15VvzevX"
      },
      "execution_count": null,
      "outputs": []
    },
    {
      "cell_type": "code",
      "source": [
        "# X = cancerDF[['mean radius',\n",
        "#  'mean texture',\n",
        "#  'mean perimeter',\n",
        "#  'mean area',\n",
        "#  'mean smoothness',\n",
        "#  'mean compactness',\n",
        "#  'mean concavity',\n",
        "#  'mean concave points',\n",
        "#  'mean symmetry',\n",
        "#  'mean fractal dimension',\n",
        "#  'radius error',\n",
        "# 'texture error',\n",
        "#  'perimeter error',\n",
        "#  'area error',\n",
        "#  'smoothness error',\n",
        "#  'compactness error',\n",
        "#  'concavity error',\n",
        "#  'concave points error',\n",
        "#  'symmetry error',\n",
        "#  'fractal dimension error',\n",
        "#  'worst radius',\n",
        "#  'worst texture',\n",
        "#  'worst perimeter',\n",
        "#  'worst area',\n",
        "#  'worst smoothness',\n",
        "#  'worst compactness',\n",
        "#  'worst concavity',\n",
        "#  'worst concave points',\n",
        "#  'worst symmetry',\n",
        "#  'worst fractal dimension']]\n",
        "# \n",
        "# Y = cancerDF[['target']]"
      ],
      "metadata": {
        "id": "rYLvNqIEzlO6"
      },
      "execution_count": null,
      "outputs": []
    },
    {
      "cell_type": "code",
      "source": [
        "# X_train, X_test, Y_train, Y_test = train_test_split(X, Y, test_size = 0.25, random_state = 0) # Random state auf 0 setzen wegen der Reproduzierbarkeit!"
      ],
      "metadata": {
        "id": "y-Wuctodzz7n"
      },
      "execution_count": null,
      "outputs": []
    },
    {
      "cell_type": "code",
      "source": [
        "# weiter mit Decision Tree"
      ],
      "metadata": {
        "id": "4VPihlIrz5wr"
      },
      "execution_count": null,
      "outputs": []
    },
    {
      "cell_type": "markdown",
      "source": [
        "# Prediction"
      ],
      "metadata": {
        "id": "lBRgR_SqKK00"
      }
    },
    {
      "cell_type": "code",
      "source": [
        "# import python packages for ML models\n",
        "from sklearn.model_selection import train_test_split \n",
        "from sklearn.metrics import accuracy_score\n",
        "\n",
        "from sklearn.model_selection import  GridSearchCV\n",
        "from sklearn.ensemble import RandomForestClassifier\n",
        "from xgboost import XGBClassifier"
      ],
      "metadata": {
        "id": "Lj_dBBkvGIqs"
      },
      "execution_count": null,
      "outputs": []
    },
    {
      "cell_type": "code",
      "source": [
        "# rhcpatage_df age + lifetimecost (healthcare_expenses)\n",
        "rhcpatage_df.head()"
      ],
      "metadata": {
        "id": "isL3Q-3dI1M_"
      },
      "execution_count": null,
      "outputs": []
    },
    {
      "cell_type": "code",
      "source": [
        "dfpred = rhcpatage_df.pivot_table(values=\"HEALTHCARE_EXPENSES\", index=None, columns=[\"AGE\", \"GENDER\"], aggfunc='mean', fill_value=None, margins=False, dropna=True, margins_name='All', observed=False, sort=True)\n",
        "dfpred.head(20)\n",
        "# dfpred.shape"
      ],
      "metadata": {
        "id": "V8wZ2e9eKKXz"
      },
      "execution_count": null,
      "outputs": []
    },
    {
      "cell_type": "code",
      "source": [
        "dfpred = rhcpatage_df"
      ],
      "metadata": {
        "id": "wvPM9TXqxfy0"
      },
      "execution_count": null,
      "outputs": []
    },
    {
      "cell_type": "code",
      "source": [
        "rhcpatage_df[[\"AGE\", \"GENDER\", \"HEALTHCARE_EXPENSES\"]].groupby([\"AGE\", \"GENDER\"]).mean().reset_index()"
      ],
      "metadata": {
        "id": "A6dTWztVuq2W"
      },
      "execution_count": null,
      "outputs": []
    },
    {
      "cell_type": "code",
      "source": [
        "dfpred = rhcpatage_df[[\"AGE\", \"GENDER\", \"HEALTHCARE_EXPENSES\"]].groupby([\"AGE\", \"GENDER\"]).mean().reset_index()"
      ],
      "metadata": {
        "id": "_OZt4jyrvdH_"
      },
      "execution_count": null,
      "outputs": []
    },
    {
      "cell_type": "code",
      "source": [
        "type(dfpred)"
      ],
      "metadata": {
        "id": "mDYQC7z_W_wn"
      },
      "execution_count": null,
      "outputs": []
    },
    {
      "cell_type": "code",
      "source": [
        "# dfpred.groupby([\"Id\"]).size()"
      ],
      "metadata": {
        "id": "a1TFVEFxNCNC"
      },
      "execution_count": null,
      "outputs": []
    },
    {
      "cell_type": "code",
      "source": [
        "# Mischen der Daten\n",
        "\n",
        "dfpred= dfpred.sample(frac=1)"
      ],
      "metadata": {
        "id": "r-xuHFg6OTAn"
      },
      "execution_count": null,
      "outputs": []
    },
    {
      "cell_type": "code",
      "source": [
        "# Splitten der Daten in train und test Dataframes\n",
        "train_ratio = 0.70\n",
        "validation_ratio = 0.15\n",
        "test_ratio = 0.15"
      ],
      "metadata": {
        "id": "8U6CW08COg2Q"
      },
      "execution_count": null,
      "outputs": []
    },
    {
      "cell_type": "code",
      "source": [
        "dfpred"
      ],
      "metadata": {
        "id": "iDv6muNQwIAh"
      },
      "execution_count": null,
      "outputs": []
    },
    {
      "cell_type": "code",
      "source": [
        "# Ausgabe der Shapes von train und test Dataframes\n",
        "dfpred_train, dfpred_test = train_test_split(dfpred, test_size=test_ratio, random_state=0)\n",
        "dfpred_train.shape, dfpred_test.shape"
      ],
      "metadata": {
        "id": "Ie5CtBATD7kW"
      },
      "execution_count": null,
      "outputs": []
    },
    {
      "cell_type": "code",
      "source": [
        "print(dfpred_train)"
      ],
      "metadata": {
        "id": "bRnpnF4OUBww"
      },
      "execution_count": null,
      "outputs": []
    },
    {
      "cell_type": "code",
      "source": [
        "# Bestimmen der Features und des Zielwertes\n",
        "X = dfpred_train[\"AGE\"] # ggf. [[\"AGE\", \"GENDER\"]] und Gender als Zahl\n",
        "# X = pd.DataFrame(rhcpatage_df[\"AGE\"])\n",
        "y = dfpred_train[\"HEALTHCARE_EXPENSES\"]\n",
        "# y = pd.DataFrame(rhcpatage_df[\"HEALTHCARE_EXPENSES\"])"
      ],
      "metadata": {
        "id": "_O07wan0Oj2N"
      },
      "execution_count": null,
      "outputs": []
    },
    {
      "cell_type": "code",
      "source": [
        "X.head()"
      ],
      "metadata": {
        "id": "jzRZlOR4aHdM"
      },
      "execution_count": null,
      "outputs": []
    },
    {
      "cell_type": "code",
      "source": [
        "X.shape"
      ],
      "metadata": {
        "id": "l_Cs_9ZtaVmR"
      },
      "execution_count": null,
      "outputs": []
    },
    {
      "cell_type": "code",
      "source": [
        "y.head()"
      ],
      "metadata": {
        "id": "FGYvRXFsaK4W"
      },
      "execution_count": null,
      "outputs": []
    },
    {
      "cell_type": "code",
      "source": [
        "y.shape"
      ],
      "metadata": {
        "id": "BTWJNJ4haN63"
      },
      "execution_count": null,
      "outputs": []
    },
    {
      "cell_type": "code",
      "source": [
        "pred_test_df = pd.concat([X, y], axis=1)\n",
        "pred_test_df.shape"
      ],
      "metadata": {
        "id": "CBoR9acFagqS"
      },
      "execution_count": null,
      "outputs": []
    },
    {
      "cell_type": "code",
      "source": [
        "# shuffle\n",
        "pred_test_df.sample(frac=1)"
      ],
      "metadata": {
        "id": "FGymjBpCarbs"
      },
      "execution_count": null,
      "outputs": []
    },
    {
      "cell_type": "code",
      "source": [
        "X = pred_test_df.drop(\"HEALTHCARE_EXPENSES\", axis=1)\n",
        "y = pred_test_df[\"HEALTHCARE_EXPENSES\"]"
      ],
      "metadata": {
        "id": "dFsHNV2La1HC"
      },
      "execution_count": null,
      "outputs": []
    },
    {
      "cell_type": "code",
      "source": [
        "# split data to testing and training dataset\n",
        "from sklearn.model_selection import  train_test_split\n",
        "X_train, X_test, y_train, y_test = train_test_split(X, y, test_size=0.2, random_state=42) # ACHTUNG 42!!\n",
        "X_train.shape, y_train.shape, X_test.shape, y_test.shape"
      ],
      "metadata": {
        "id": "wCOfJ4cibDee"
      },
      "execution_count": null,
      "outputs": []
    },
    {
      "cell_type": "code",
      "source": [
        "# import regression model\n",
        "from sklearn.linear_model import LinearRegression\n",
        "from sklearn.linear_model import ElasticNet\n",
        "from sklearn.linear_model import SGDRegressor\n",
        "from sklearn.ensemble import RandomForestRegressor\n",
        "# create an object\n",
        "linreg = LinearRegression()"
      ],
      "metadata": {
        "id": "WXHX4p8PbKYr"
      },
      "execution_count": null,
      "outputs": []
    },
    {
      "cell_type": "code",
      "source": [
        "ElasticNet = ElasticNet()\n",
        "SGDRegressor = SGDRegressor()"
      ],
      "metadata": {
        "id": "nq1meA2rozJy"
      },
      "execution_count": null,
      "outputs": []
    },
    {
      "cell_type": "code",
      "source": [
        "RF = RandomForestRegressor()"
      ],
      "metadata": {
        "id": "pKnMsklQtU3p"
      },
      "execution_count": null,
      "outputs": []
    },
    {
      "cell_type": "code",
      "source": [
        "RF.fit(X_train, y_train)"
      ],
      "metadata": {
        "id": "a8ZMcyiQtbJ7"
      },
      "execution_count": null,
      "outputs": []
    },
    {
      "cell_type": "code",
      "source": [
        "ElasticNet.fit(X_train, y_train)"
      ],
      "metadata": {
        "id": "jMTuBEG-pzAt"
      },
      "execution_count": null,
      "outputs": []
    },
    {
      "cell_type": "code",
      "source": [
        "test_pred_elasticnet = ElasticNet.predict(X_test)\n",
        "test_pred_elasticnet"
      ],
      "metadata": {
        "id": "FVeNsXM4p3Rh"
      },
      "execution_count": null,
      "outputs": []
    },
    {
      "cell_type": "code",
      "source": [
        "SGDRegressor.fit(X_train, y_train)"
      ],
      "metadata": {
        "id": "18f1fJlQpGq_"
      },
      "execution_count": null,
      "outputs": []
    },
    {
      "cell_type": "code",
      "source": [
        "test_pred_SGD = SGDRegressor.predict(X_test)\n",
        "test_pred_SGD"
      ],
      "metadata": {
        "id": "mlYTpbc0qHC_"
      },
      "execution_count": null,
      "outputs": []
    },
    {
      "cell_type": "code",
      "source": [
        "# train the model\n",
        "linreg.fit(X_train, y_train)"
      ],
      "metadata": {
        "id": "ddOHx42rbNoU"
      },
      "execution_count": null,
      "outputs": []
    },
    {
      "cell_type": "code",
      "source": [
        "neutest_pred = linreg.predict(pd.DataFrame({\"AGE\":[40]}))\n",
        "neutest_pred"
      ],
      "metadata": {
        "id": "C6x-nXvhzTkw"
      },
      "execution_count": null,
      "outputs": []
    },
    {
      "cell_type": "code",
      "source": [
        "\n",
        "# Making prediction using testing set\n",
        "test_pred = linreg.predict(X_test)\n",
        "test_pred"
      ],
      "metadata": {
        "id": "WHPUJDDXbR0C"
      },
      "execution_count": null,
      "outputs": []
    },
    {
      "cell_type": "code",
      "source": [
        "linreg.score(X_test, y_test) #x groß da Dataframe/Matrix und y klein weil Liste/Vektor"
      ],
      "metadata": {
        "id": "rmmJEM1ybgrL"
      },
      "execution_count": null,
      "outputs": []
    },
    {
      "cell_type": "code",
      "source": [
        "ElasticNet.score(X_test, y_test) "
      ],
      "metadata": {
        "id": "9Tk5tLSUosKA"
      },
      "execution_count": null,
      "outputs": []
    },
    {
      "cell_type": "code",
      "source": [
        "SGDRegressor.score(X_test, y_test) "
      ],
      "metadata": {
        "id": "Sbr4Quzwqbbx"
      },
      "execution_count": null,
      "outputs": []
    },
    {
      "cell_type": "code",
      "source": [
        "RF.score(X_test, y_test) "
      ],
      "metadata": {
        "id": "ALF4B0CwuIax"
      },
      "execution_count": null,
      "outputs": []
    },
    {
      "cell_type": "markdown",
      "source": [
        "# Colab Book reproduzierbar machen"
      ],
      "metadata": {
        "id": "W9OLYUvoZMUR"
      }
    },
    {
      "cell_type": "code",
      "metadata": {
        "id": "qnRDUWAw6tih"
      },
      "source": [
        "# from sklearn.model_selection import train_test_split\n",
        "import sklearn.metrics\n",
        "\n",
        "import matplotlib\n",
        "import matplotlib.pyplot as plt"
      ],
      "execution_count": null,
      "outputs": []
    },
    {
      "cell_type": "markdown",
      "metadata": {
        "id": "MCXaBPYlFgxo"
      },
      "source": [
        "## Configuration"
      ]
    },
    {
      "cell_type": "code",
      "metadata": {
        "id": "0M8dSHj1_5ta"
      },
      "source": [
        "%matplotlib inline"
      ],
      "execution_count": null,
      "outputs": []
    },
    {
      "cell_type": "markdown",
      "metadata": {
        "id": "VWWX5CrQFoqz"
      },
      "source": [
        "# Version Check"
      ]
    },
    {
      "cell_type": "code",
      "metadata": {
        "id": "q0ShwlfT2H80"
      },
      "source": [
        "#python Version\n",
        "import sys\n",
        "sys.version_info"
      ],
      "execution_count": null,
      "outputs": []
    },
    {
      "cell_type": "code",
      "metadata": {
        "id": "D4kWWXUto83S"
      },
      "source": [
        "pd.__version__"
      ],
      "execution_count": null,
      "outputs": []
    },
    {
      "cell_type": "code",
      "metadata": {
        "id": "UcHmxj4R4CIS"
      },
      "source": [
        "%pip install pandas"
      ],
      "execution_count": null,
      "outputs": []
    },
    {
      "cell_type": "code",
      "metadata": {
        "id": "B74MZdtoBFQi"
      },
      "source": [
        "sns.__version__"
      ],
      "execution_count": null,
      "outputs": []
    },
    {
      "cell_type": "code",
      "metadata": {
        "id": "XBFOgz5wBFG7"
      },
      "source": [
        "matplotlib.__version__"
      ],
      "execution_count": null,
      "outputs": []
    },
    {
      "cell_type": "code",
      "metadata": {
        "id": "1G1s6PFeBE4n"
      },
      "source": [
        "np.__version__"
      ],
      "execution_count": null,
      "outputs": []
    },
    {
      "cell_type": "code",
      "metadata": {
        "id": "1wfiNS5LBS0z"
      },
      "source": [
        "sklearn.__version__"
      ],
      "execution_count": null,
      "outputs": []
    },
    {
      "cell_type": "code",
      "metadata": {
        "id": "7ITF03YsBTYa"
      },
      "source": [
        "graphviz.__version__\n"
      ],
      "execution_count": null,
      "outputs": []
    },
    {
      "cell_type": "code",
      "metadata": {
        "id": "3NwGVbSoA5lA"
      },
      "source": [
        "%pip freeze"
      ],
      "execution_count": null,
      "outputs": []
    },
    {
      "cell_type": "markdown",
      "metadata": {
        "id": "9FxdmDqaAeAl"
      },
      "source": [
        "# Calculate the Checksum of the Data Set"
      ]
    },
    {
      "cell_type": "code",
      "metadata": {
        "id": "sIISw67e_9gI"
      },
      "source": [
        "from pandas.util import hash_pandas_object\n",
        "rhc_vereinall_df_hashes = hash_pandas_object(rhc_vereinall_df)"
      ],
      "execution_count": null,
      "outputs": []
    },
    {
      "cell_type": "code",
      "metadata": {
        "id": "HQeHwOMYE5T-"
      },
      "source": [
        "rhc_vereinall_df_hashes"
      ],
      "execution_count": null,
      "outputs": []
    },
    {
      "cell_type": "markdown",
      "metadata": {
        "id": "R45CnT8d4t48"
      },
      "source": [
        "## Value should be -638227857625026837\n"
      ]
    },
    {
      "cell_type": "code",
      "metadata": {
        "id": "lvQMVdkZAEmy"
      },
      "source": [
        "rhc_vereinall_df_hashes.sum()"
      ],
      "execution_count": null,
      "outputs": []
    },
    {
      "cell_type": "code",
      "source": [],
      "metadata": {
        "id": "gPa-NIKFaQhz"
      },
      "execution_count": null,
      "outputs": []
    }
  ]
}