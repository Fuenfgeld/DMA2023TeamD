{
  "nbformat": 4,
  "nbformat_minor": 0,
  "metadata": {
    "colab": {
      "provenance": [],
      "authorship_tag": "ABX9TyN5/d68zb5bMRgpnPScFF5x",
      "include_colab_link": true
    },
    "kernelspec": {
      "name": "python3",
      "display_name": "Python 3"
    },
    "language_info": {
      "name": "python"
    }
  },
  "cells": [
    {
      "cell_type": "markdown",
      "metadata": {
        "id": "view-in-github",
        "colab_type": "text"
      },
      "source": [
        "<a href=\"https://colab.research.google.com/github/Fuenfgeld/DMA2023TeamD/blob/dev_branch_EDA_Prediction/ReHealthCo.ipynb\" target=\"_parent\"><img src=\"https://colab.research.google.com/assets/colab-badge.svg\" alt=\"Open In Colab\"/></a>"
      ]
    },
    {
      "cell_type": "code",
      "source": [
        "# Empfehlung Max Vorsichtshalber: Löschen aller Variablen\n",
        "%reset -f"
      ],
      "metadata": {
        "id": "_Q776tIoSo-M"
      },
      "execution_count": null,
      "outputs": []
    },
    {
      "cell_type": "code",
      "execution_count": null,
      "metadata": {
        "id": "gyMHffSPm0KW"
      },
      "outputs": [],
      "source": [
        "# import libraries\n",
        "import sqlite3\n",
        "from sqlite3 import Error\n",
        "import csv\n",
        "import pandas as pd\n",
        "from pandas_profiling import ProfileReport\n",
        "# from functools import reduce - benötigt?"
      ]
    },
    {
      "cell_type": "code",
      "source": [
        "# mount drive to access data\n",
        "from google.colab import drive\n",
        "drive.mount(\"/content/drive\")"
      ],
      "metadata": {
        "id": "IWLZwqzTnZ9c"
      },
      "execution_count": null,
      "outputs": []
    },
    {
      "cell_type": "code",
      "source": [
        "# Connect to source database\n",
        "def create_connection(db_file):\n",
        "  \"\"\" create a database connection to SQLite database\"\"\"\n",
        "  conn = None\n",
        "  try:\n",
        "    conn = sqlite3.connect(db_file)\n",
        "    return conn\n",
        "  except Error as error:\n",
        "    print(\"Error while connecting to sqlite\", error)\n",
        "  # finally:\n",
        "  #   if conn:\n",
        "  #     conn.close()"
      ],
      "metadata": {
        "id": "9MYO17ENsje0"
      },
      "execution_count": null,
      "outputs": []
    },
    {
      "cell_type": "markdown",
      "source": [
        "# Erstellung der (leeren) Datenbanken (asthma, covid, metabolic, rehealthco)"
      ],
      "metadata": {
        "id": "Nw3CZgcWrb5z"
      }
    },
    {
      "cell_type": "code",
      "source": [
        "material_path = \"/content/drive/Shareddrives/Projektarbeit DMA Gruppe D\"\n",
        "# conn = create_connection() - verbindung zur Datenbank\n",
        "# cur = conn.cursor() - objekt auf datenbank, das die SQL-Anfragen ausführen kann"
      ],
      "metadata": {
        "id": "pNan0NZrnj-C"
      },
      "execution_count": null,
      "outputs": []
    },
    {
      "cell_type": "code",
      "source": [
        "# create a temporary empty ast_database in the memory\n",
        "ast_db = f\"{material_path}/source_dbs/asthma.db\"\n",
        "ast_conn = create_connection(ast_db)\n",
        "ast_cur = ast_conn.cursor()\n",
        "print(\"Database connection is successfully\")"
      ],
      "metadata": {
        "id": "urXV_BSprDZD"
      },
      "execution_count": null,
      "outputs": []
    },
    {
      "cell_type": "code",
      "source": [
        "# create a temporary empty cov_database in the memory\n",
        "cov_db = f\"{material_path}/source_dbs/covid.db\"\n",
        "cov_conn = create_connection(cov_db)\n",
        "cov_cur = cov_conn.cursor()\n",
        "print(\"Database connection is successfully\")"
      ],
      "metadata": {
        "id": "1NvKFXSGrDD6"
      },
      "execution_count": null,
      "outputs": []
    },
    {
      "cell_type": "code",
      "source": [
        "# create a temporary empty met_database in the memory\n",
        "met_db = f\"{material_path}/source_dbs/metabolic.db\"\n",
        "met_conn = create_connection(met_db)\n",
        "met_cur = met_conn.cursor()\n",
        "print(\"Database connection is successfully\")"
      ],
      "metadata": {
        "id": "yZgub4NhrCQ0"
      },
      "execution_count": null,
      "outputs": []
    },
    {
      "cell_type": "code",
      "source": [
        "# create a temporary empty rhc_database in the memory\n",
        "rhc_db = f\"{material_path}/source_dbs/rehealthco.db\"\n",
        "rhc_conn = create_connection(rhc_db)\n",
        "rhc_cur = rhc_conn.cursor()\n",
        "print(\"Database connection is successfully\")"
      ],
      "metadata": {
        "id": "Etsz1N7Qp7zz"
      },
      "execution_count": null,
      "outputs": []
    },
    {
      "cell_type": "markdown",
      "source": [
        "# Erstellung der Tabellen"
      ],
      "metadata": {
        "id": "-tnDflePyA2p"
      }
    },
    {
      "cell_type": "code",
      "source": [
        "path = \"/content/drive/Shareddrives/Projektarbeit DMA Gruppe D/source_dbs/sql_create.txt\"\n",
        "myfile = \"\"\n",
        "with open(path, \"r\") as f:\n",
        "  myfile=f.read()\n",
        "#  print(myfile)"
      ],
      "metadata": {
        "id": "KdX6Fo5ox5I9"
      },
      "execution_count": null,
      "outputs": []
    },
    {
      "cell_type": "code",
      "source": [
        "ast_cur.executescript(myfile)\n",
        "ast_conn.commit()\n",
        "print(\"Successfully created tables in the database\")"
      ],
      "metadata": {
        "id": "ULt1gHkls7KQ"
      },
      "execution_count": null,
      "outputs": []
    },
    {
      "cell_type": "code",
      "source": [
        "# List of tables in ast_database\n",
        "# ast_cur.execute(\"SELECT name FROM sqlite_master WHERE type='table';\")\n",
        "# print(ast_cur.fetchall())"
      ],
      "metadata": {
        "id": "pmLkGbymy4p8"
      },
      "execution_count": null,
      "outputs": []
    },
    {
      "cell_type": "code",
      "source": [
        "cov_cur.executescript(myfile)\n",
        "cov_conn.commit()\n",
        "print(\"Successfully created tables in the database\")"
      ],
      "metadata": {
        "id": "tfh03IAV2x7w"
      },
      "execution_count": null,
      "outputs": []
    },
    {
      "cell_type": "code",
      "source": [
        "# List of tables in cov_database\n",
        "# cov_cur.execute(\"SELECT name FROM sqlite_master WHERE type='table';\")\n",
        "# print(cov_cur.fetchall())"
      ],
      "metadata": {
        "id": "tfbIMpMl323b"
      },
      "execution_count": null,
      "outputs": []
    },
    {
      "cell_type": "code",
      "source": [
        "met_cur.executescript(myfile)\n",
        "met_conn.commit()\n",
        "print(\"Successfully created tables in the database\")"
      ],
      "metadata": {
        "id": "yFytLIsq4C9Q"
      },
      "execution_count": null,
      "outputs": []
    },
    {
      "cell_type": "code",
      "source": [
        "# List of tables in met_database\n",
        "# met_cur.execute(\"SELECT name FROM sqlite_master WHERE type='table';\")\n",
        "# print(met_cur.fetchall())"
      ],
      "metadata": {
        "id": "N1G9QNZU4Jr6"
      },
      "execution_count": null,
      "outputs": []
    },
    {
      "cell_type": "code",
      "source": [
        "rhc_cur.executescript(myfile)\n",
        "rhc_conn.commit()\n",
        "print(\"Successfully created tables in the database\")"
      ],
      "metadata": {
        "id": "WYaqlUCl4JC6"
      },
      "execution_count": null,
      "outputs": []
    },
    {
      "cell_type": "code",
      "source": [
        "# List of tables in cov_database\n",
        "# rhc_cur.execute(\"SELECT name FROM sqlite_master WHERE type='table';\")\n",
        "# print(rhc_cur.fetchall())"
      ],
      "metadata": {
        "id": "ivgegXuX4LDD"
      },
      "execution_count": null,
      "outputs": []
    },
    {
      "cell_type": "markdown",
      "source": [
        "# Datenbanken befüllen mit csv-Dateien"
      ],
      "metadata": {
        "id": "ubTxtiXC5eqQ"
      }
    },
    {
      "cell_type": "code",
      "source": [
        "csv_path_ast = f\"{material_path}/csv_data/asthma\"\n",
        "csv_path_cov = f\"{material_path}/csv_data/covid19\"\n",
        "csv_path_met = f\"{material_path}/csv_data/metabolic_syndrome_disease\""
      ],
      "metadata": {
        "id": "WqtIdHkB6tUW"
      },
      "execution_count": null,
      "outputs": []
    },
    {
      "cell_type": "code",
      "source": [
        "# load the data into a Pandas DataFrame\n",
        "astpat_df = pd.read_csv(f\"{csv_path_ast}/patients.csv\")\n",
        "astcon_df = pd.read_csv(f\"{csv_path_ast}/conditions.csv\")\n",
        "astmed_df = pd.read_csv(f\"{csv_path_ast}/medications.csv\")\n",
        "astpro_df = pd.read_csv(f\"{csv_path_ast}/procedures.csv\")\n",
        "astobs_df = pd.read_csv(f\"{csv_path_ast}/observations.csv\")\n",
        "\n",
        "covpat_df = pd.read_csv(f\"{csv_path_cov}/patients.csv\")\n",
        "covcon_df = pd.read_csv(f\"{csv_path_cov}/conditions.csv\")\n",
        "covmed_df = pd.read_csv(f\"{csv_path_cov}/medications.csv\")\n",
        "covpro_df = pd.read_csv(f\"{csv_path_cov}/procedures.csv\")\n",
        "covobs_df = pd.read_csv(f\"{csv_path_cov}/observations.csv\")\n",
        "\n",
        "metpat_df = pd.read_csv(f\"{csv_path_met}/patients.csv\")\n",
        "metcon_df = pd.read_csv(f\"{csv_path_met}/conditions.csv\")\n",
        "metmed_df = pd.read_csv(f\"{csv_path_met}/medications.csv\")\n",
        "metpro_df = pd.read_csv(f\"{csv_path_met}/procedures.csv\")\n",
        "metobs_df = pd.read_csv(f\"{csv_path_met}/observations.csv\")\n",
        "\n",
        "# write the data to a sqlite table\n",
        "astpat_df.to_sql(\"patients\", ast_conn, schema=None, if_exists='append', index=False, index_label=None, chunksize=None, dtype=None, method=None)\n",
        "astcon_df.to_sql(\"conditions\", ast_conn, schema=None, if_exists='append', index=False, index_label=None, chunksize=None, dtype=None, method=None)\n",
        "astmed_df.to_sql(\"medications\", ast_conn, schema=None, if_exists='append', index=False, index_label=None, chunksize=None, dtype=None, method=None)\n",
        "astpro_df.to_sql(\"procedures\", ast_conn, schema=None, if_exists='append', index=False, index_label=None, chunksize=None, dtype=None, method=None)\n",
        "astobs_df.to_sql(\"observations\", ast_conn, schema=None, if_exists='append', index=False, index_label=None, chunksize=None, dtype=None, method=None)\n",
        "\n",
        "covpat_df.to_sql(\"patients\", cov_conn, schema=None, if_exists='append', index=False, index_label=None, chunksize=None, dtype=None, method=None)\n",
        "covcon_df.to_sql(\"conditions\", cov_conn, schema=None, if_exists='append', index=False, index_label=None, chunksize=None, dtype=None, method=None)\n",
        "covmed_df.to_sql(\"medications\", cov_conn, schema=None, if_exists='append', index=False, index_label=None, chunksize=None, dtype=None, method=None)\n",
        "covpro_df.to_sql(\"procedures\", cov_conn, schema=None, if_exists='append', index=False, index_label=None, chunksize=None, dtype=None, method=None)\n",
        "covobs_df.to_sql(\"observations\", cov_conn, schema=None, if_exists='append', index=False, index_label=None, chunksize=None, dtype=None, method=None)\n",
        "\n",
        "metpat_df.to_sql(\"patients\", met_conn, schema=None, if_exists='append', index=False, index_label=None, chunksize=None, dtype=None, method=None)\n",
        "metcon_df.to_sql(\"conditions\", met_conn, schema=None, if_exists='append', index=False, index_label=None, chunksize=None, dtype=None, method=None)\n",
        "metmed_df.to_sql(\"medications\", met_conn, schema=None, if_exists='append', index=False, index_label=None, chunksize=None, dtype=None, method=None)\n",
        "metpro_df.to_sql(\"procedures\", met_conn, schema=None, if_exists='append', index=False, index_label=None, chunksize=None, dtype=None, method=None)\n",
        "metobs_df.to_sql(\"observations\", met_conn, schema=None, if_exists='append', index=False, index_label=None, chunksize=None, dtype=None, method=None)\n",
        "\n",
        "# Abschluss\n",
        "ast_conn.commit()\n",
        "cov_conn.commit()\n",
        "met_conn.commit()"
      ],
      "metadata": {
        "id": "2kGYEdsIAymZ"
      },
      "execution_count": null,
      "outputs": []
    },
    {
      "cell_type": "code",
      "source": [
        "# check dataframe asthma/covid19/metabolic\n",
        "# print(astpat_df)\n",
        "# print(astcon_df)\n",
        "# print(astmed_df)\n",
        "# print(astpro_df)\n",
        "# print(astobs_df)\n",
        "\n",
        "# print(covpat_df)\n",
        "# print(covcon_df)\n",
        "# print(covmed_df)\n",
        "# print(covpro_df)\n",
        "# print(covobs_df)\n",
        "\n",
        "# print(metpat_df)\n",
        "# print(metcon_df)\n",
        "# print(metmed_df)\n",
        "# print(metpro_df)\n",
        "# print(metobs_df)"
      ],
      "metadata": {
        "id": "WBgNl0e1JO0M"
      },
      "execution_count": null,
      "outputs": []
    },
    {
      "cell_type": "code",
      "source": [
        "# Check data in patients\n",
        "\n",
        "# check data in a table astpat\n",
        "# ast_cur.execute(\"SELECT * FROM patients;\")\n",
        "# rows = ast_cur.fetchall()\n",
        "# for row in rows:\n",
        "#  print(row)\n",
        "\n",
        "# check data in a table covpat\n",
        "# cov_cur.execute(\"SELECT * FROM patients;\")\n",
        "# rows = cov_cur.fetchall()\n",
        "# for row in rows:\n",
        "#  print(row)\n",
        "\n",
        "# check data in a table metpat\n",
        "# met_cur.execute(\"SELECT * FROM patients;\")\n",
        "# rows = met_cur.fetchall()\n",
        "# for row in rows:\n",
        "#  print(row)"
      ],
      "metadata": {
        "id": "SmLwLVyCnIIm"
      },
      "execution_count": null,
      "outputs": []
    },
    {
      "cell_type": "code",
      "source": [
        "# Check data in conditions\n",
        "\n",
        "# check data in a table astcon\n",
        "# ast_cur.execute(\"SELECT * FROM conditions;\")\n",
        "# rows = ast_cur.fetchall()\n",
        "# for row in rows:\n",
        "#  print(row)\n",
        "\n",
        "# check data in a table covcon\n",
        "# cov_cur.execute(\"SELECT * FROM conditions;\")\n",
        "# rows = cov_cur.fetchall()\n",
        "# for row in rows:\n",
        "#  print(row)\n",
        "\n",
        "# check data in a table metcon\n",
        "# met_cur.execute(\"SELECT * FROM conditions;\")\n",
        "# rows = met_cur.fetchall()\n",
        "# for row in rows:\n",
        "#  print(row)"
      ],
      "metadata": {
        "id": "sOOe2xQVCdOl"
      },
      "execution_count": null,
      "outputs": []
    },
    {
      "cell_type": "code",
      "source": [
        "# Check data in medications\n",
        "\n",
        "# check data in a table astmed\n",
        "# ast_cur.execute(\"SELECT * FROM medications;\")\n",
        "# rows = ast_cur.fetchall()\n",
        "# for row in rows:\n",
        "#  print(row)\n",
        "\n",
        "# check data in a table covmed\n",
        "# cov_cur.execute(\"SELECT * FROM medications;\")\n",
        "# rows = cov_cur.fetchall()\n",
        "# for row in rows:\n",
        "#  print(row)\n",
        "\n",
        "# check data in a table metmed\n",
        "# met_cur.execute(\"SELECT * FROM medications;\")\n",
        "# rows = met_cur.fetchall()\n",
        "# for row in rows:\n",
        "#  print(row)"
      ],
      "metadata": {
        "id": "CZxtRuRgDcfb"
      },
      "execution_count": null,
      "outputs": []
    },
    {
      "cell_type": "code",
      "source": [
        "# Check data in procedures\n",
        "\n",
        "# check data in a table astpro\n",
        "# ast_cur.execute(\"SELECT * FROM procedures;\")\n",
        "# rows = ast_cur.fetchall()\n",
        "# for row in rows:\n",
        "#  print(row)\n",
        "\n",
        "# check data in a table covpro\n",
        "# cov_cur.execute(\"SELECT * FROM procedures;\")\n",
        "# rows = cov_cur.fetchall()\n",
        "# for row in rows:\n",
        "#  print(row)\n",
        "\n",
        "# check data in a table metpro\n",
        "# met_cur.execute(\"SELECT * FROM procedures;\")\n",
        "# rows = met_cur.fetchall()\n",
        "# for row in rows:\n",
        "#  print(row)"
      ],
      "metadata": {
        "id": "Y-BiIaXRDdjc"
      },
      "execution_count": null,
      "outputs": []
    },
    {
      "cell_type": "code",
      "source": [
        "# Check data in observations\n",
        "\n",
        "# check data in a table astobs\n",
        "# ast_cur.execute(\"SELECT * FROM observations;\")\n",
        "# rows = ast_cur.fetchall()\n",
        "# for row in rows:\n",
        "#  print(row)\n",
        "\n",
        "# check data in a table covobs\n",
        "# cov_cur.execute(\"SELECT * FROM observations;\")\n",
        "# rows = cov_cur.fetchall()\n",
        "# for row in rows:\n",
        "#  print(row)\n",
        "\n",
        "# check data in a table metobs\n",
        "# met_cur.execute(\"SELECT * FROM observations;\")\n",
        "# rows = met_cur.fetchall()\n",
        "# for row in rows:\n",
        "#  print(row)"
      ],
      "metadata": {
        "id": "HAvz2cryDegK"
      },
      "execution_count": null,
      "outputs": []
    },
    {
      "cell_type": "markdown",
      "source": [
        "# Copy a table from one database to another\n",
        "(empty Rehealthco SQLite database schon erstellt)"
      ],
      "metadata": {
        "id": "uWSL06FOrkVa"
      }
    },
    {
      "cell_type": "code",
      "source": [
        "# Get connections to the databases \n",
        "# von asthma nach rehealthco\n",
        "def copy_table(rhc_conn, ast_cur, rhc_cur, table_name):\n",
        "  ast_cur.execute(f'SELECT * FROM {table_name}')\n",
        "  output = ast_cur.fetchall()   # Returns the results as a list.\n",
        "  # Insert those contents into another table.\n",
        "  for row in output:\n",
        "      rowlen = len(row)\n",
        "      repstring = \"\"\n",
        "      for i in range(rowlen -1):\n",
        "        repstring += \"?,\"\n",
        "      repstring += \"?\"\n",
        "      rhc_cur.execute(f'INSERT INTO {table_name} VALUES ({repstring})', row)\n",
        "  # Cleanup\n",
        "  rhc_conn.commit()"
      ],
      "metadata": {
        "id": "8rZy6v1iRZFC"
      },
      "execution_count": null,
      "outputs": []
    },
    {
      "cell_type": "code",
      "source": [
        "# alle Tabellen vereinen in rehealthco\n",
        "copy_table(rhc_conn, ast_cur, rhc_cur, \"patients\") # 1035 patienten\n",
        "copy_table(rhc_conn, cov_cur, rhc_cur, \"patients\") # nun 2085 patienten\n",
        "copy_table(rhc_conn, met_cur, rhc_cur, \"patients\") # nun 3113 patienten\n",
        "\n",
        "copy_table(rhc_conn, ast_cur, rhc_cur, \"conditions\") # 260 conditions\n",
        "copy_table(rhc_conn, cov_cur, rhc_cur, \"conditions\") # 6635 conditions\n",
        "copy_table(rhc_conn, met_cur, rhc_cur, \"conditions\") # 7041 conditions\n",
        "\n",
        "copy_table(rhc_conn, ast_cur, rhc_cur, \"medications\") # 505 medications\n",
        "copy_table(rhc_conn, cov_cur, rhc_cur, \"medications\") # 1395 medications\n",
        "copy_table(rhc_conn, met_cur, rhc_cur, \"medications\") # 1715 medications\n",
        "\n",
        "copy_table(rhc_conn, ast_cur, rhc_cur, \"procedures\") # 1715 procedures\n",
        "copy_table(rhc_conn, cov_cur, rhc_cur, \"procedures\") # 1715 procedures\n",
        "copy_table(rhc_conn, met_cur, rhc_cur, \"procedures\") # 1715 procedures\n",
        "\n",
        "copy_table(rhc_conn, ast_cur, rhc_cur, \"observations\") # 31220 observations\n",
        "copy_table(rhc_conn, cov_cur, rhc_cur, \"observations\") # 151157 observations\n",
        "copy_table(rhc_conn, met_cur, rhc_cur, \"observations\") # 182271 observations"
      ],
      "metadata": {
        "id": "MRvMREOeW4tb"
      },
      "execution_count": null,
      "outputs": []
    },
    {
      "cell_type": "code",
      "source": [
        "# Tabelleninhalt rehealthco als pandas dataframe\n",
        "rhcpat_df = pd.read_sql('''SELECT * FROM patients''', rhc_conn)\n",
        "rhccon_df = pd.read_sql('''SELECT * FROM conditions''', rhc_conn)\n",
        "rhcmed_df = pd.read_sql('''SELECT * FROM medications''', rhc_conn)\n",
        "rhcpro_df = pd.read_sql('''SELECT * FROM procedures''', rhc_conn)\n",
        "rhcobs_df = pd.read_sql('''SELECT * FROM observations''', rhc_conn)\n",
        "\n",
        "# print(rhcpat_df)\n",
        "# print(rhccon_df)\n",
        "# print(rhcmed_df)\n",
        "# print(rhcpro_df)\n",
        "# print(rhcobs_df)"
      ],
      "metadata": {
        "id": "ymAEOC6qcNWI"
      },
      "execution_count": null,
      "outputs": []
    },
    {
      "cell_type": "code",
      "source": [
        "# Kompelette Tabelle abfragen\n",
        "\n",
        "# rhc_cur.execute(\"SELECT * FROM patients;\")\n",
        "# rows = rhc_cur.fetchall()\n",
        "# for row in rows:\n",
        "#  print(row)\n",
        "\n",
        "# rhc_cur.execute(\"SELECT * FROM conditions;\")\n",
        "# rows = rhc_cur.fetchall()\n",
        "# for row in rows:\n",
        "#  print(row)\n",
        "\n",
        "# rhc_cur.execute(\"SELECT * FROM medications;\")\n",
        "# rows = rhc_cur.fetchall()\n",
        "# for row in rows:\n",
        "#  print(row)\n",
        "\n",
        "# rhc_cur.execute(\"SELECT * FROM procedures;\")\n",
        "# rows = rhc_cur.fetchall()\n",
        "# for row in rows:\n",
        "# print(row)\n",
        "\n",
        "# rhc_cur.execute(\"SELECT * FROM observations;\")\n",
        "# rows = rhc_cur.fetchall()\n",
        "# for row in rows:\n",
        "#  print(row)"
      ],
      "metadata": {
        "id": "4y9sOoUFSc91"
      },
      "execution_count": null,
      "outputs": []
    },
    {
      "cell_type": "code",
      "source": [
        "# 1-Zeiltenanfrage\n",
        "# rhc_cur.execute(\"SELECT * FROM patients\")\n",
        "# out = rhc_cur.fetchall()\n",
        "# print(out)"
      ],
      "metadata": {
        "id": "fUwcVJyHUyEh"
      },
      "execution_count": null,
      "outputs": []
    },
    {
      "cell_type": "markdown",
      "source": [
        "# Indexe Rehealthco"
      ],
      "metadata": {
        "id": "M-qSBBLbrTr0"
      }
    },
    {
      "cell_type": "code",
      "source": [
        "# multicolumn Index\n",
        "rhc_cur.execute(\"CREATE INDEX idx_contacts_name ON patients (FIRST, LAST)\")\n",
        "rhc_cur.fetchall()"
      ],
      "metadata": {
        "id": "3SooFC1vmKQt"
      },
      "execution_count": null,
      "outputs": []
    },
    {
      "cell_type": "code",
      "source": [
        "# show list indexes created for a table\n",
        "rhc_cur.execute(\"PRAGMA index_list(patients)\")\n",
        "print(rhc_cur.fetchall())"
      ],
      "metadata": {
        "id": "9BeyM6M4m2lE"
      },
      "execution_count": null,
      "outputs": []
    },
    {
      "cell_type": "code",
      "source": [
        "rhc_cur.execute(\"CREATE INDEX idx_patname_conditions ON conditions (PATIENT)\")\n",
        "rhc_cur.execute(\"PRAGMA index_list(conditions)\")\n",
        "print(rhc_cur.fetchall())"
      ],
      "metadata": {
        "id": "3XOHAqvYrRKW"
      },
      "execution_count": null,
      "outputs": []
    },
    {
      "cell_type": "code",
      "source": [
        "rhc_cur.execute(\"CREATE INDEX idx_patname_medications ON medications (PATIENT)\")\n",
        "rhc_cur.execute(\"PRAGMA index_list(medications)\")\n",
        "print(rhc_cur.fetchall())"
      ],
      "metadata": {
        "id": "QG3889elsgOT"
      },
      "execution_count": null,
      "outputs": []
    },
    {
      "cell_type": "code",
      "source": [
        "rhc_cur.execute(\"CREATE INDEX idx_patname_procedures ON procedures (PATIENT)\")\n",
        "rhc_cur.execute(\"PRAGMA index_list(procedures)\")\n",
        "print(rhc_cur.fetchall())"
      ],
      "metadata": {
        "id": "0nj5QdVwswsL"
      },
      "execution_count": null,
      "outputs": []
    },
    {
      "cell_type": "code",
      "source": [
        "rhc_cur.execute(\"CREATE INDEX idx_patname_observations ON observations (PATIENT)\")\n",
        "rhc_cur.execute(\"PRAGMA index_list(observations)\")\n",
        "print(rhc_cur.fetchall())"
      ],
      "metadata": {
        "id": "FICo0ueNtJ8h"
      },
      "execution_count": null,
      "outputs": []
    },
    {
      "cell_type": "code",
      "source": [
        "# get all indexes from a database \n",
        "rhc_cur.execute(\"select type, name, tbl_name, sql FROM sqlite_master WHERE type='index'\")\n",
        "print(rhc_cur.fetchall())"
      ],
      "metadata": {
        "id": "EmawqQ0KoM5C"
      },
      "execution_count": null,
      "outputs": []
    },
    {
      "cell_type": "code",
      "source": [
        "# # Drop index\n",
        "# # cur.execute(\"DROP INDEX idx_contacts_name\")\n",
        "# cur.execute(\"PRAGMA index_list(patients)\")\n",
        "# print(cur.fetchall())"
      ],
      "metadata": {
        "id": "GvLxJBPqnH5V"
      },
      "execution_count": null,
      "outputs": []
    },
    {
      "cell_type": "markdown",
      "source": [
        "# Query the tables, join two tables"
      ],
      "metadata": {
        "id": "qsYsgZbprgwb"
      }
    },
    {
      "cell_type": "code",
      "source": [
        "# noch nicht sinnvoll für uns, hier beispielhaft inner join asthma patienten tabelle -> inner join -> asthma medication tabelle\n",
        "# verbindung_astpat_astmed = \"SELECT * FROM medications INNER JOIN patients ON medications.PATIENT = patients.Id\"\n",
        "# ast_cur.execute(verbindung_astpat_astmed)\n",
        "# records = ast_cur.fetchall()\n",
        "# for row in records:\n",
        "#   print(row)"
      ],
      "metadata": {
        "id": "wWI2fHpUPiyF"
      },
      "execution_count": null,
      "outputs": []
    },
    {
      "cell_type": "code",
      "source": [
        "# Left Join\n",
        "# cov_cur.execute('''SELECT * FROM medications LEFT JOIN patients ON medications.PATIENT = patients.Id''')\n",
        "# records = cov_cur.fetchall()\n",
        "# for row in records:\n",
        "#   print(row)"
      ],
      "metadata": {
        "id": "jtyhpldzbMUh"
      },
      "execution_count": null,
      "outputs": []
    },
    {
      "cell_type": "markdown",
      "source": [
        "# Prediction (Supervised Learning)"
      ],
      "metadata": {
        "id": "_GlALkqoSpzi"
      }
    },
    {
      "cell_type": "code",
      "source": [
        "# install the newest version,  \n",
        "# uncomment this line in first runtime, it needs to restart runtime\n",
        "!pip3 install https://github.com/pandas-profiling/pandas-profiling/archive/master.zip"
      ],
      "metadata": {
        "id": "c20leUBPSuTY"
      },
      "execution_count": null,
      "outputs": []
    },
    {
      "cell_type": "markdown",
      "source": [
        "# Exploratory Data Analysis (EDA)\n"
      ],
      "metadata": {
        "id": "Gw7QOSh4RViZ"
      }
    },
    {
      "cell_type": "code",
      "source": [
        "ProfileReport(rhcpat_df) # deathdate: 3000 fehlende Todesdaten, bei insg. 3113 Patienten -> 113 Tote"
      ],
      "metadata": {
        "id": "INRF6p3jnwdG"
      },
      "execution_count": null,
      "outputs": []
    },
    {
      "cell_type": "code",
      "source": [
        "# ProfileReport(rhccon_df) # 43 unterschiedliche Descriptions\n",
        "# ProfileReport(rhcmed_df)\n",
        "# ProfileReport(rhcpro_df)\n",
        "# ProfileReport(rhcobs_df) # 71 verschiedene (Vitalzeichen/Laborwerte)"
      ],
      "metadata": {
        "id": "fX1My869Rg_r"
      },
      "execution_count": null,
      "outputs": []
    },
    {
      "cell_type": "code",
      "source": [],
      "metadata": {
        "id": "Gxnl-Sa0WN8e"
      },
      "execution_count": null,
      "outputs": []
    }
  ]
}