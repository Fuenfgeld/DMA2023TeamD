{
  "nbformat": 4,
  "nbformat_minor": 0,
  "metadata": {
    "colab": {
      "provenance": [],
      "mount_file_id": "1BUIMkSRAbq5SHI3Zqhah_kR6oTpBztTQ",
      "authorship_tag": "ABX9TyMR+sVY2jFF3JwYYUmhHYyR",
      "include_colab_link": true
    },
    "kernelspec": {
      "name": "python3",
      "display_name": "Python 3"
    },
    "language_info": {
      "name": "python"
    }
  },
  "cells": [
    {
      "cell_type": "markdown",
      "metadata": {
        "id": "view-in-github",
        "colab_type": "text"
      },
      "source": [
        "<a href=\"https://colab.research.google.com/github/Fuenfgeld/DMA2023TeamD/blob/main/Covid19_Kostentabellen.ipynb\" target=\"_parent\"><img src=\"https://colab.research.google.com/assets/colab-badge.svg\" alt=\"Open In Colab\"/></a>"
      ]
    },
    {
      "cell_type": "code",
      "execution_count": null,
      "metadata": {
        "id": "b_mCJTemPMSA"
      },
      "outputs": [],
      "source": [
        "import pandas as pd\n",
        "from functools import reduce\n",
        "import sqlite3\n",
        "from sqlite3 import Error\n",
        "import csv"
      ]
    },
    {
      "cell_type": "code",
      "source": [
        "from google.colab import drive\n",
        "drive.mount(\"/content/drive\")"
      ],
      "metadata": {
        "id": "X2OV4n86P21e"
      },
      "execution_count": null,
      "outputs": []
    },
    {
      "cell_type": "markdown",
      "source": [
        "Mounted at /content/drive"
      ],
      "metadata": {
        "id": "ztJL2gZ1P7sa"
      }
    },
    {
      "cell_type": "code",
      "source": [
        "material_path = \"/content/drive/Shareddrives/Projektarbeit DMA Gruppe D\""
      ],
      "metadata": {
        "id": "W8tXP1frP9EX"
      },
      "execution_count": null,
      "outputs": []
    },
    {
      "cell_type": "code",
      "source": [
        "# list of cost\n",
        "!ls \"/content/drive/Shareddrives/Projektarbeit DMA Gruppe D/csv_data/covid19/medications.csv\"\n",
        "!ls \"/content/drive/Shareddrives/Projektarbeit DMA Gruppe D/csv_data/covid19/patients.csv\"\n",
        "!ls \"/content/drive/Shareddrives/Projektarbeit DMA Gruppe D/csv_data/covid19/procedures.csv\""
      ],
      "metadata": {
        "id": "vaUcjSLaQJ1N"
      },
      "execution_count": null,
      "outputs": []
    },
    {
      "cell_type": "markdown",
      "source": [
        "# Path of input/output data \n",
        "Uncomment one type of patient that you would like to create for it sql database and  import csv files into related database."
      ],
      "metadata": {
        "id": "uZhcOfajRM1m"
      }
    },
    {
      "cell_type": "code",
      "source": [
        "## type of patients\n",
        "patient_type = \"allergy\"\n",
        "patient_type = \"asthma\"\n",
        "patient_type = \"breast_cancer\"\n",
        "patient_type = \"metabolic_syndrome_disease\"\n",
        "patient_type = \"colorectal_cancer\"\n",
        "patient_type = \"covid19\"\n",
        "patient_type = \"dermatitis\"\n",
        "patient_type = \"lung_cancer\""
      ],
      "metadata": {
        "id": "lxMW0NE8RLmK"
      },
      "execution_count": null,
      "outputs": []
    },
    {
      "cell_type": "code",
      "source": [
        "# source database path\n",
        "DB_FILE_PATH = f\"{material_path}/source_dbs/source_{patient_type}_test.db\"\n",
        "\n",
        "# folder contains csv files\n",
        "csv_path = f\"{material_path}/csv_data/{patient_type}/\"\n",
        "\n",
        "DB_FILE_PATH, csv_path"
      ],
      "metadata": {
        "id": "FGnrlvncRtdP"
      },
      "execution_count": null,
      "outputs": []
    },
    {
      "cell_type": "code",
      "source": [
        "import numpy as np"
      ],
      "metadata": {
        "id": "vI7cl98jSvpM"
      },
      "execution_count": null,
      "outputs": []
    },
    {
      "cell_type": "markdown",
      "source": [
        "#Kosten aus 'patients'"
      ],
      "metadata": {
        "id": "o7rf8WVeWjnA"
      }
    },
    {
      "cell_type": "code",
      "source": [
        "# Read a csv(exel) file as a DataFram\n",
        "csv_path1 = material_path + \"/csv_data/covid19/patients.csv\" # /content/drive/Shareddrives/Projektarbeit/csv_data/covid19/patients.csv\n",
        "dftest = pd.read_csv(csv_path1)"
      ],
      "metadata": {
        "id": "EMw-nHSjS0wm"
      },
      "execution_count": null,
      "outputs": []
    },
    {
      "cell_type": "code",
      "source": [
        "# show first 5 rows of df\n",
        "dftest.head()"
      ],
      "metadata": {
        "id": "5dgGJhIoTMN4"
      },
      "execution_count": null,
      "outputs": []
    },
    {
      "cell_type": "code",
      "source": [
        "dftest[['Id', 'HEALTHCARE_EXPENSES','HEALTHCARE_COVERAGE']]"
      ],
      "metadata": {
        "id": "QurnNzq2TzNH"
      },
      "execution_count": null,
      "outputs": []
    },
    {
      "cell_type": "markdown",
      "source": [
        "Auswahl der Tabelle 'patients', die die Gesundheitskosten betreffen:\n",
        "Id: Primary Key. Unique Identifier of the patient.\n",
        "HEALTHCARE_EXPANSES: The total lifetime cost of healthcare to the patient (i.e. what the patient paid).\n",
        "HEALTHCARE_COVERAGE: The total lifetime cost of healthcare services that were covered by Payers (i.e. what the insurance company paid).\n",
        "\n",
        "Laut 'Synthea' gibt es auch die Spalte 'Income', ist aber nicht in covid19/patients aufgeführt."
      ],
      "metadata": {
        "id": "oRF7yttAWxxT"
      }
    },
    {
      "cell_type": "markdown",
      "source": [
        "#Kosten aus 'medications'"
      ],
      "metadata": {
        "id": "NsWB5nKYanfU"
      }
    },
    {
      "cell_type": "code",
      "source": [
        "# Read a csv(exel) file as a DataFram\n",
        "csv_path2 = material_path + \"/csv_data/covid19/medications.csv\" # /content/drive/Shareddrives/Projektarbeit DMA Gruppe D/csv_data/covid19/medications.csv\n",
        "dftest = pd.read_csv(csv_path2)"
      ],
      "metadata": {
        "id": "C85L1T1VWAm5"
      },
      "execution_count": null,
      "outputs": []
    },
    {
      "cell_type": "code",
      "source": [
        "# show first 5 rows of df\n",
        "dftest.head()"
      ],
      "metadata": {
        "id": "K33DpHMgY8Bb"
      },
      "execution_count": null,
      "outputs": []
    },
    {
      "cell_type": "code",
      "source": [
        "dftest[['PATIENT', 'BASE_COST','TOTALCOST','PAYER_COVERAGE']]"
      ],
      "metadata": {
        "id": "eYi2KFmgZYRi"
      },
      "execution_count": null,
      "outputs": []
    },
    {
      "cell_type": "markdown",
      "source": [
        "Auswahl der Tabelle 'medications', die die Gesundheitskosten betreffen:\n",
        "Patient: Foreign key to the Patient.\n",
        "Base_Cost: The line item cost of the medication.\n",
        "TotalCost: The total cost of the prescription, including all dispenses.\n",
        "Payer_Coverage: The amount covered or reimbursed by the Payer."
      ],
      "metadata": {
        "id": "2y5t4G--awy8"
      }
    },
    {
      "cell_type": "markdown",
      "source": [
        "#Kosten aus 'procedures_info', eher zu vernachlässigen?!"
      ],
      "metadata": {
        "id": "598CIEfCcb6h"
      }
    },
    {
      "cell_type": "code",
      "source": [
        "# Read a csv(exel) file as a DataFram\n",
        "csv_path3 = material_path + \"/csv_data/covid19/procedures.csv\" # /content/drive/Shareddrives/Projektarbeit DMA Gruppe D/csv_data/covid19/procedures.csv\n",
        "dftest = pd.read_csv(csv_path3)"
      ],
      "metadata": {
        "id": "tSnFQv_QcniX"
      },
      "execution_count": null,
      "outputs": []
    },
    {
      "cell_type": "code",
      "source": [
        "# show first 5 rows of df\n",
        "dftest.head()"
      ],
      "metadata": {
        "id": "MFhmPIx4c5nj"
      },
      "execution_count": null,
      "outputs": []
    },
    {
      "cell_type": "code",
      "source": [
        "dftest[['PATIENT','BASE_COST']]"
      ],
      "metadata": {
        "id": "td6rxMhbc-Rb"
      },
      "execution_count": null,
      "outputs": []
    },
    {
      "cell_type": "markdown",
      "source": [
        "Auswahl der Tabelle 'procedures', die die Gesundheitskosten betreffen:\n",
        "Patient: Foreign key to the Patient.\n",
        "Base_Cost: The line item cost of the medication.\n"
      ],
      "metadata": {
        "id": "gCnL0s8ldaI2"
      }
    }
  ]
}