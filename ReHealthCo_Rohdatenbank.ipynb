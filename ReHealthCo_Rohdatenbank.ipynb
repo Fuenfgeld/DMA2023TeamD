{
  "nbformat": 4,
  "nbformat_minor": 0,
  "metadata": {
    "colab": {
      "provenance": [],
      "include_colab_link": true
    },
    "kernelspec": {
      "name": "python3",
      "display_name": "Python 3"
    },
    "language_info": {
      "name": "python"
    }
  },
  "cells": [
    {
      "cell_type": "markdown",
      "metadata": {
        "id": "view-in-github",
        "colab_type": "text"
      },
      "source": [
        "<a href=\"https://colab.research.google.com/github/sajosa/DMA2023TeamD/blob/Sabines-branch/ReHealthCo_Rohdatenbank.ipynb\" target=\"_parent\"><img src=\"https://colab.research.google.com/assets/colab-badge.svg\" alt=\"Open In Colab\"/></a>"
      ]
    },
    {
      "cell_type": "markdown",
      "source": [
        "# ReHealthCo Erstellen der Rohdatenbank "
      ],
      "metadata": {
        "id": "r2GhM0xtrO3l"
      }
    },
    {
      "cell_type": "markdown",
      "source": [
        "## Vorbereitung "
      ],
      "metadata": {
        "id": "vpF-B8jHUcEo"
      }
    },
    {
      "cell_type": "markdown",
      "source": [
        "###CleanUp - Eventuell gespeicherte Variablen löschen vor Ausführung des Colab books (Ziel Reproduzierbarkeit)"
      ],
      "metadata": {
        "id": "b5m5XJqMVjJq"
      }
    },
    {
      "cell_type": "code",
      "source": [
        "# Löschen aller Variablen\n",
        "%reset -f"
      ],
      "metadata": {
        "id": "_Q776tIoSo-M"
      },
      "execution_count": null,
      "outputs": []
    },
    {
      "cell_type": "markdown",
      "source": [
        "### Importieren der notwendigen Libraries: sqlite3, csv, pandas, ydata_profiling"
      ],
      "metadata": {
        "id": "XBuny03iUyWk"
      }
    },
    {
      "cell_type": "code",
      "execution_count": null,
      "metadata": {
        "id": "gyMHffSPm0KW"
      },
      "outputs": [],
      "source": [
        "# import libraries\n",
        "import sqlite3\n",
        "from sqlite3 import Error\n",
        "import csv\n",
        "import pandas as pd\n",
        "!pip install ydata_profiling\n",
        "# from functools import reduce - benötigt?"
      ]
    },
    {
      "cell_type": "code",
      "source": [
        "from ydata_profiling import ProfileReport"
      ],
      "metadata": {
        "id": "c-LPBrlLhZ-F"
      },
      "execution_count": null,
      "outputs": []
    },
    {
      "cell_type": "markdown",
      "source": [
        "### mount drive to access data"
      ],
      "metadata": {
        "id": "A1Dq0N3XYMoU"
      }
    },
    {
      "cell_type": "code",
      "source": [
        "# mount drive to access data"
      ],
      "metadata": {
        "id": "IWLZwqzTnZ9c"
      },
      "execution_count": null,
      "outputs": []
    },
    {
      "cell_type": "code",
      "source": [
        "!git clone https://github.com/Fuenfgeld/DMA2023TeamD"
      ],
      "metadata": {
        "id": "dmeCFp_e3Y0Z"
      },
      "execution_count": null,
      "outputs": []
    },
    {
      "cell_type": "code",
      "source": [
        "# from google.colab import drive\n",
        "# drive.mount(\"/content/drive\")\n",
        "# %cd /content/DMA2023TeamD"
      ],
      "metadata": {
        "id": "ASPk3gDf3j7g"
      },
      "execution_count": null,
      "outputs": []
    },
    {
      "cell_type": "code",
      "source": [
        "# !ls"
      ],
      "metadata": {
        "id": "DmLGfokv31Ph"
      },
      "execution_count": null,
      "outputs": []
    },
    {
      "cell_type": "markdown",
      "source": [
        "### create a database connection to SQLite database"
      ],
      "metadata": {
        "id": "kTEf2QY3YYM5"
      }
    },
    {
      "cell_type": "code",
      "source": [
        "# Connect to source database\n",
        "def create_connection(db_file):\n",
        "  \"\"\" create a database connection to SQLite database\"\"\"\n",
        "  conn = None\n",
        "  try:\n",
        "    conn = sqlite3.connect(db_file)\n",
        "    return conn\n",
        "  except Error as error:\n",
        "    print(\"Error while connecting to sqlite\", error)\n",
        "  # finally:\n",
        "  #   if conn:\n",
        "  #     conn.close()"
      ],
      "metadata": {
        "id": "9MYO17ENsje0"
      },
      "execution_count": null,
      "outputs": []
    },
    {
      "cell_type": "markdown",
      "source": [
        "### Verbindung zur geteilten Ablage der Gruppe auf  google drive "
      ],
      "metadata": {
        "id": "gMzHM-IOXt6e"
      }
    },
    {
      "cell_type": "code",
      "source": [
        "material_path = \"/content/DMA2023TeamD/\"\n",
        "# conn = create_connection() - verbindung zur Datenbank\n",
        "# cur = conn.cursor() - objekt auf datenbank, das die SQL-Anfragen ausführen kann"
      ],
      "metadata": {
        "id": "pNan0NZrnj-C"
      },
      "execution_count": null,
      "outputs": []
    },
    {
      "cell_type": "markdown",
      "source": [
        "## Erstellen der Rohdatenbank \"rhc_database\"\n",
        "Ablauf:\n",
        "1.   Erstellen der \"noch\" leeren Rohdatenbank \"rhc_database\" (Zieldatenbank)\n",
        "2.   Erstellung der (leeren) Datenbanken der ausgewählten Synthia Module \n",
        "\n",
        " a) asthma --> ast\n",
        "\n",
        " b) covid --> cov\n",
        "\n",
        " c) metabolic syndrom deseas --> met\n",
        " "
      ],
      "metadata": {
        "id": "HJbANmABVr_O"
      }
    },
    {
      "cell_type": "markdown",
      "source": [
        "### 1. Erstellen der \"noch\" leeren Rohdatenbank \"rhc_database\""
      ],
      "metadata": {
        "id": "hvXZ3x32WxBg"
      }
    },
    {
      "cell_type": "code",
      "source": [
        "# create a temporary empty rhc_database in the memory\n",
        "rhc_db = f\"{material_path}/source_dbs/rehealthco.db\"\n",
        "rhc_conn = create_connection(rhc_db)\n",
        "rhc_cur = rhc_conn.cursor()\n",
        "rhc_conn.commit()\n",
        "print(\"Database connection is successfully\")"
      ],
      "metadata": {
        "id": "Etsz1N7Qp7zz"
      },
      "execution_count": null,
      "outputs": []
    },
    {
      "cell_type": "markdown",
      "source": [
        "### 2.a) Erstellung der (leeren) Datenbanken der ausgewählten Synthia Module asthma "
      ],
      "metadata": {
        "id": "Nw3CZgcWrb5z"
      }
    },
    {
      "cell_type": "code",
      "source": [
        "# create a temporary empty ast_database in the memory\n",
        "ast_db = f\"{material_path}/source_dbs/asthma.db\"\n",
        "ast_conn = create_connection(ast_db)\n",
        "ast_cur = ast_conn.cursor()\n",
        "ast_conn.commit()\n",
        "print(\"Database connection is successfully\")"
      ],
      "metadata": {
        "id": "urXV_BSprDZD"
      },
      "execution_count": null,
      "outputs": []
    },
    {
      "cell_type": "markdown",
      "source": [
        "### 2.b)Erstellung der (leeren) Datenbanken der ausgewählten Synthia Module covid"
      ],
      "metadata": {
        "id": "th2ZfPJ8ZN9_"
      }
    },
    {
      "cell_type": "code",
      "source": [
        "# create a temporary empty cov_database in the memory\n",
        "cov_db = f\"{material_path}/source_dbs/covid.db\"\n",
        "cov_conn = create_connection(cov_db)\n",
        "cov_cur = cov_conn.cursor()\n",
        "cov_conn.commit()\n",
        "print(\"Database connection is successfully\")"
      ],
      "metadata": {
        "id": "1NvKFXSGrDD6"
      },
      "execution_count": null,
      "outputs": []
    },
    {
      "cell_type": "markdown",
      "source": [
        "### 2.c) Erstellung der (leeren) Datenbanken der ausgewählten Synthia Module metabolic"
      ],
      "metadata": {
        "id": "UURv6L9ZZSxI"
      }
    },
    {
      "cell_type": "code",
      "source": [
        "# create a temporary empty met_database in the memory\n",
        "met_db = f\"{material_path}/source_dbs/metabolic.db\"\n",
        "met_conn = create_connection(met_db)\n",
        "met_cur = met_conn.cursor()\n",
        "met_conn.commit()\n",
        "print(\"Database connection is successfully\")"
      ],
      "metadata": {
        "id": "yZgub4NhrCQ0"
      },
      "execution_count": null,
      "outputs": []
    },
    {
      "cell_type": "markdown",
      "source": [
        "## Erstellung der Tabellen in den erstellten DB (rhc, asthma, cov, met) mittels sql skript"
      ],
      "metadata": {
        "id": "-tnDflePyA2p"
      }
    },
    {
      "cell_type": "code",
      "source": [
        "path = f\"{material_path}/source_dbs/sql_create.txt\"\n",
        "myfile = \"\"\n",
        "with open(path, \"r\") as f:\n",
        "  myfile=f.read()\n",
        "#  print(myfile)"
      ],
      "metadata": {
        "id": "KdX6Fo5ox5I9"
      },
      "execution_count": null,
      "outputs": []
    },
    {
      "cell_type": "code",
      "source": [
        "rhc_cur.executescript(myfile)\n",
        "rhc_conn.commit()\n",
        "print(\"Successfully created tables in the database\")"
      ],
      "metadata": {
        "id": "WYaqlUCl4JC6"
      },
      "execution_count": null,
      "outputs": []
    },
    {
      "cell_type": "code",
      "source": [
        "# List of tables in cov_database\n",
        "rhc_cur.execute(\"SELECT name FROM sqlite_master WHERE type='table';\")\n",
        "print(rhc_cur.fetchall())"
      ],
      "metadata": {
        "id": "ivgegXuX4LDD"
      },
      "execution_count": null,
      "outputs": []
    },
    {
      "cell_type": "code",
      "source": [
        "ast_cur.executescript(myfile)\n",
        "ast_conn.commit()\n",
        "print(\"Successfully created tables in the database asthma.db\")"
      ],
      "metadata": {
        "id": "ULt1gHkls7KQ"
      },
      "execution_count": null,
      "outputs": []
    },
    {
      "cell_type": "code",
      "source": [
        "# List of tables in ast_database\n",
        "ast_cur.execute(\"SELECT name FROM sqlite_master WHERE type='table';\")\n",
        "print(ast_cur.fetchall())"
      ],
      "metadata": {
        "id": "pmLkGbymy4p8"
      },
      "execution_count": null,
      "outputs": []
    },
    {
      "cell_type": "code",
      "source": [
        "cov_cur.executescript(myfile)\n",
        "cov_conn.commit()\n",
        "print(\"Successfully created tables in the database\")"
      ],
      "metadata": {
        "id": "tfh03IAV2x7w"
      },
      "execution_count": null,
      "outputs": []
    },
    {
      "cell_type": "code",
      "source": [
        "# List of tables in cov_database\n",
        "cov_cur.execute(\"SELECT name FROM sqlite_master WHERE type='table';\")\n",
        "print(cov_cur.fetchall())"
      ],
      "metadata": {
        "id": "tfbIMpMl323b"
      },
      "execution_count": null,
      "outputs": []
    },
    {
      "cell_type": "code",
      "source": [
        "met_cur.executescript(myfile)\n",
        "met_conn.commit()\n",
        "print(\"Successfully created tables in the database\")"
      ],
      "metadata": {
        "id": "yFytLIsq4C9Q"
      },
      "execution_count": null,
      "outputs": []
    },
    {
      "cell_type": "code",
      "source": [
        "# List of tables in met_database\n",
        "met_cur.execute(\"SELECT name FROM sqlite_master WHERE type='table';\")\n",
        "print(met_cur.fetchall())"
      ],
      "metadata": {
        "id": "N1G9QNZU4Jr6"
      },
      "execution_count": null,
      "outputs": []
    },
    {
      "cell_type": "markdown",
      "source": [
        "## Datenbanken (ast, cov, met) befüllen mit csv-Dateien"
      ],
      "metadata": {
        "id": "ubTxtiXC5eqQ"
      }
    },
    {
      "cell_type": "code",
      "source": [
        "csv_path_ast = f\"{material_path}csv_data/asthma\"\n",
        "csv_path_cov = f\"{material_path}csv_data/covid19\"\n",
        "csv_path_met = f\"{material_path}csv_data/metabolic_syndrome_disease\""
      ],
      "metadata": {
        "id": "WqtIdHkB6tUW"
      },
      "execution_count": null,
      "outputs": []
    },
    {
      "cell_type": "code",
      "source": [
        "# load the data into a Pandas DataFrame\n",
        "astpat_df = pd.read_csv(f\"{csv_path_ast}/patients.csv\")\n",
        "astcon_df = pd.read_csv(f\"{csv_path_ast}/conditions.csv\")\n",
        "astmed_df = pd.read_csv(f\"{csv_path_ast}/medications.csv\")\n",
        "astenc_df = pd.read_csv(f\"{csv_path_ast}/encounters.csv\")\n",
        "\n",
        "covpat_df = pd.read_csv(f\"{csv_path_cov}/patients.csv\")\n",
        "covcon_df = pd.read_csv(f\"{csv_path_cov}/conditions.csv\")\n",
        "covmed_df = pd.read_csv(f\"{csv_path_cov}/medications.csv\")\n",
        "covenc_df = pd.read_csv(f\"{csv_path_cov}/encounters.csv\")\n",
        "\n",
        "metpat_df = pd.read_csv(f\"{csv_path_met}/patients.csv\")\n",
        "metcon_df = pd.read_csv(f\"{csv_path_met}/conditions.csv\")\n",
        "metmed_df = pd.read_csv(f\"{csv_path_met}/medications.csv\")\n",
        "metenc_df = pd.read_csv(f\"{csv_path_met}/encounters.csv\")\n",
        "\n",
        "# Abschluss\n",
        "ast_conn.commit()\n",
        "cov_conn.commit()\n",
        "met_conn.commit()"
      ],
      "metadata": {
        "id": "2kGYEdsIAymZ"
      },
      "execution_count": null,
      "outputs": []
    },
    {
      "cell_type": "code",
      "source": [
        "# Hinzufügen einer zusätzlichen Spalte mit dem Wert asthma/covid/metabolic; CAVE: späterer Copy-table Befehl ist kein df sondern ließt Ursprungstabelle, daher ggf. Tabellendatenbankart mit DEFAULT wert schon in txt-Datei einfügen\n",
        "astpat_df['datenbankart'] = 'asthma'\n",
        "astcon_df['datenbankart'] = 'asthma'\n",
        "astmed_df['datenbankart'] = 'asthma'\n",
        "astenc_df['datenbankart'] = 'asthma'\n",
        "\n",
        "covpat_df['datenbankart'] = 'covid'\n",
        "covcon_df['datenbankart'] = 'covid'\n",
        "covmed_df['datenbankart'] = 'covid'\n",
        "covenc_df['datenbankart'] = 'covid'\n",
        "\n",
        "metpat_df['datenbankart'] = 'metabolic'\n",
        "metcon_df['datenbankart'] = 'metabolic'\n",
        "metmed_df['datenbankart'] = 'metabolic'\n",
        "metenc_df['datenbankart'] = 'metabolic'\n",
        "\n",
        "# Abschluss\n",
        "ast_conn.commit()\n",
        "cov_conn.commit()\n",
        "met_conn.commit()"
      ],
      "metadata": {
        "id": "QEZ0FMok1zES"
      },
      "execution_count": null,
      "outputs": []
    },
    {
      "cell_type": "code",
      "source": [
        "# write the data to a sqlite table\n",
        "astpat_df.to_sql(\"patients\", ast_conn, schema=None, if_exists='append', index=False, index_label=None, chunksize=None, dtype=None, method=None)\n",
        "astcon_df.to_sql(\"conditions\", ast_conn, schema=None, if_exists='append', index=False, index_label=None, chunksize=None, dtype=None, method=None)\n",
        "astmed_df.to_sql(\"medications\", ast_conn, schema=None, if_exists='append', index=False, index_label=None, chunksize=None, dtype=None, method=None)\n",
        "astenc_df.to_sql(\"encounters\", ast_conn, schema=None, if_exists='append', index=False, index_label=None, chunksize=None, dtype=None, method=None)\n",
        "\n",
        "covpat_df.to_sql(\"patients\", cov_conn, schema=None, if_exists='append', index=False, index_label=None, chunksize=None, dtype=None, method=None)\n",
        "covcon_df.to_sql(\"conditions\", cov_conn, schema=None, if_exists='append', index=False, index_label=None, chunksize=None, dtype=None, method=None)\n",
        "covmed_df.to_sql(\"medications\", cov_conn, schema=None, if_exists='append', index=False, index_label=None, chunksize=None, dtype=None, method=None)\n",
        "covenc_df.to_sql(\"encounters\", cov_conn, schema=None, if_exists='append', index=False, index_label=None, chunksize=None, dtype=None, method=None)\n",
        "\n",
        "metpat_df.to_sql(\"patients\", met_conn, schema=None, if_exists='append', index=False, index_label=None, chunksize=None, dtype=None, method=None)\n",
        "metcon_df.to_sql(\"conditions\", met_conn, schema=None, if_exists='append', index=False, index_label=None, chunksize=None, dtype=None, method=None)\n",
        "metmed_df.to_sql(\"medications\", met_conn, schema=None, if_exists='append', index=False, index_label=None, chunksize=None, dtype=None, method=None)\n",
        "metenc_df.to_sql(\"encounters\", met_conn, schema=None, if_exists='append', index=False, index_label=None, chunksize=None, dtype=None, method=None)\n",
        "\n",
        "# Abschluss\n",
        "ast_conn.commit()\n",
        "cov_conn.commit()\n",
        "met_conn.commit()"
      ],
      "metadata": {
        "id": "rQPvO-xqGrgT"
      },
      "execution_count": null,
      "outputs": []
    },
    {
      "cell_type": "code",
      "source": [
        "# check dataframe asthma/covid19/metabolic\n",
        "# print(astpat_df)\n",
        "# print(astcon_df)\n",
        "# print(astmed_df)\n",
        "# print(astenc_df)\n",
        "\n",
        "# print(covpat_df)\n",
        "# print(covcon_df)\n",
        "# print(covmed_df)\n",
        "# print(covpro_df)\n",
        "\n",
        "# print(metpat_df)\n",
        "# print(metcon_df)\n",
        "# print(metmed_df)\n",
        "# print(metpro_df)"
      ],
      "metadata": {
        "id": "WBgNl0e1JO0M"
      },
      "execution_count": null,
      "outputs": []
    },
    {
      "cell_type": "code",
      "source": [
        "# Check data in patients\n",
        "\n",
        "# check data in a table astpat\n",
        "# ast_cur.execute(\"SELECT * FROM patients;\")\n",
        "# rows = ast_cur.fetchall()\n",
        "# for row in rows:\n",
        "#  print(row)\n",
        "\n",
        "# check data in a table covpat\n",
        "# cov_cur.execute(\"SELECT * FROM patients;\")\n",
        "# rows = cov_cur.fetchall()\n",
        "# for row in rows:\n",
        "#  print(row)\n",
        "\n",
        "# check data in a table metpat\n",
        "# met_cur.execute(\"SELECT * FROM patients;\")\n",
        "# rows = met_cur.fetchall()\n",
        "# for row in rows:\n",
        "#  print(row)"
      ],
      "metadata": {
        "id": "SmLwLVyCnIIm"
      },
      "execution_count": null,
      "outputs": []
    },
    {
      "cell_type": "code",
      "source": [
        "# Check data in conditions\n",
        "\n",
        "# check data in a table astcon\n",
        "# ast_cur.execute(\"SELECT * FROM conditions;\")\n",
        "# rows = ast_cur.fetchall()\n",
        "# for row in rows:\n",
        "#  print(row)\n",
        "\n",
        "# check data in a table covcon\n",
        "# cov_cur.execute(\"SELECT * FROM conditions;\")\n",
        "# rows = cov_cur.fetchall()\n",
        "# for row in rows:\n",
        "#  print(row)\n",
        "\n",
        "# check data in a table metcon\n",
        "# met_cur.execute(\"SELECT * FROM conditions;\")\n",
        "# rows = met_cur.fetchall()\n",
        "# for row in rows:\n",
        "#  print(row)"
      ],
      "metadata": {
        "id": "sOOe2xQVCdOl"
      },
      "execution_count": null,
      "outputs": []
    },
    {
      "cell_type": "code",
      "source": [
        "# Check data in medications\n",
        "\n",
        "# check data in a table astmed\n",
        "# ast_cur.execute(\"SELECT * FROM medications;\")\n",
        "# rows = ast_cur.fetchall()\n",
        "# for row in rows:\n",
        "#  print(row)\n",
        "\n",
        "# check data in a table covmed\n",
        "# cov_cur.execute(\"SELECT * FROM medications;\")\n",
        "# rows = cov_cur.fetchall()\n",
        "# for row in rows:\n",
        "#  print(row)\n",
        "\n",
        "# check data in a table metmed\n",
        "# met_cur.execute(\"SELECT * FROM medications;\")\n",
        "# rows = met_cur.fetchall()\n",
        "# for row in rows:\n",
        "#  print(row)"
      ],
      "metadata": {
        "id": "CZxtRuRgDcfb"
      },
      "execution_count": null,
      "outputs": []
    },
    {
      "cell_type": "code",
      "source": [
        "# Check data in encounters\n",
        "\n",
        "# check data in a table astpro\n",
        "# ast_cur.execute(\"SELECT * FROM encounters;\")\n",
        "# rows = ast_cur.fetchall()\n",
        "# for row in rows:\n",
        "#  print(row)\n",
        "\n",
        "# check data in a table covpro\n",
        "# cov_cur.execute(\"SELECT * FROM encounters;\")\n",
        "# rows = cov_cur.fetchall()\n",
        "# for row in rows:\n",
        "#  print(row)\n",
        "\n",
        "# check data in a table metpro\n",
        "# met_cur.execute(\"SELECT * FROM encounters;\")\n",
        "# rows = met_cur.fetchall()\n",
        "# for row in rows:\n",
        "#  print(row)"
      ],
      "metadata": {
        "id": "Y-BiIaXRDdjc"
      },
      "execution_count": null,
      "outputs": []
    },
    {
      "cell_type": "markdown",
      "source": [
        "## Copy tables from ast, cov. met db to rhc database\n",
        "  Patiens --> pat\n",
        "\n",
        "  conditions --> con\n",
        "\n",
        "  Medication --> met\n",
        "\n",
        "  Encounters --> enc \n"
      ],
      "metadata": {
        "id": "uWSL06FOrkVa"
      }
    },
    {
      "cell_type": "code",
      "source": [
        "# Get connections to the databases \n",
        "# von asthma nach rehealthco\n",
        "def copy_table(rhc_conn, ast_cur, rhc_cur, table_name):\n",
        "  ast_cur.execute(f'SELECT * FROM {table_name}')\n",
        "  output = ast_cur.fetchall()   # Returns the results as a list.\n",
        "  # Insert those contents into another table.\n",
        "  for row in output:\n",
        "      rowlen = len(row)\n",
        "      repstring = \"\"\n",
        "      for i in range(rowlen -1):\n",
        "        repstring += \"?,\"\n",
        "      repstring += \"?\"\n",
        "      rhc_cur.execute(f'INSERT INTO {table_name} VALUES ({repstring})', row)\n",
        "  # Cleanup\n",
        "  rhc_conn.commit()"
      ],
      "metadata": {
        "id": "8rZy6v1iRZFC"
      },
      "execution_count": null,
      "outputs": []
    },
    {
      "cell_type": "code",
      "source": [
        "# alle Tabellen vereinen in rehealthco\n",
        "copy_table(rhc_conn, ast_cur, rhc_cur, \"patients\") # 1035 patienten\n",
        "copy_table(rhc_conn, cov_cur, rhc_cur, \"patients\") # nun 2085 patienten\n",
        "copy_table(rhc_conn, met_cur, rhc_cur, \"patients\") # nun 3113 patienten\n",
        "\n",
        "copy_table(rhc_conn, ast_cur, rhc_cur, \"conditions\") # 260 conditions\n",
        "copy_table(rhc_conn, cov_cur, rhc_cur, \"conditions\") # 6895 conditions\n",
        "copy_table(rhc_conn, met_cur, rhc_cur, \"conditions\") # 13733 conditions\n",
        "\n",
        "copy_table(rhc_conn, ast_cur, rhc_cur, \"medications\") # 1515 medications\n",
        "copy_table(rhc_conn, cov_cur, rhc_cur, \"medications\") # 2910 medications\n",
        "copy_table(rhc_conn, met_cur, rhc_cur, \"medications\") # 4625 medications\n",
        "\n",
        "copy_table(rhc_conn, ast_cur, rhc_cur, \"encounters\") # 8522 encounters\n",
        "copy_table(rhc_conn, cov_cur, rhc_cur, \"encounters\") # 35368 encounters\n",
        "copy_table(rhc_conn, met_cur, rhc_cur, \"encounters\") # 63081 encounters\n"
      ],
      "metadata": {
        "id": "MRvMREOeW4tb"
      },
      "execution_count": null,
      "outputs": []
    },
    {
      "cell_type": "code",
      "source": [
        "# Tabelleninhalt rehealthco als pandas dataframe\n",
        "rhcpat_df = pd.read_sql('''SELECT * FROM patients''', rhc_conn)\n",
        "rhccon_df = pd.read_sql('''SELECT * FROM conditions''', rhc_conn)\n",
        "rhcmed_df = pd.read_sql('''SELECT * FROM medications''', rhc_conn)\n",
        "rhcenc_df = pd.read_sql('''SELECT * FROM encounters''', rhc_conn)\n",
        "\n",
        "# print(rhcpat_df)\n",
        "# print(rhccon_df)\n",
        "# print(rhcmed_df)\n",
        "# print(rhcenc_df)"
      ],
      "metadata": {
        "id": "ymAEOC6qcNWI"
      },
      "execution_count": null,
      "outputs": []
    },
    {
      "cell_type": "markdown",
      "source": [
        "Export csv file ReHealthCo Rohdatenbank"
      ],
      "metadata": {
        "id": "kySVXG-E-enm"
      }
    },
    {
      "cell_type": "code",
      "source": [
        "rhcpat_df.to_csv('rhcpat_df', index=False)\n",
        "rhccon_df.to_csv('rhccon_df', index=False)\n",
        "rhcmed_df.to_csv('rhcmet_df', index=False)\n",
        "rhcenc_df.to_csv('rhcenc_df', index=False)"
      ],
      "metadata": {
        "id": "NTbpf70N_Bqz"
      },
      "execution_count": null,
      "outputs": []
    },
    {
      "cell_type": "markdown",
      "source": [
        "Anzeigen Dateinamen in sample data"
      ],
      "metadata": {
        "id": "FjKqgrVUEYFL"
      }
    },
    {
      "cell_type": "code",
      "source": [
        "! ls"
      ],
      "metadata": {
        "id": "7C_xsKtGEVzD"
      },
      "execution_count": null,
      "outputs": []
    },
    {
      "cell_type": "markdown",
      "source": [
        "# Bis hierhin final, danach noch experimentell"
      ],
      "metadata": {
        "id": "H6ouZWmsImSd"
      }
    },
    {
      "cell_type": "markdown",
      "source": [
        "Index auf Patiens id"
      ],
      "metadata": {
        "id": "O-QkKx9yFtm-"
      }
    },
    {
      "cell_type": "code",
      "source": [
        "# Tabelle patients\n",
        "rhc_cur.execute(\"CREATE UNIQUE INDEX IF NOT EXISTS IX_PATIENTS_Id ON patients (Id);\")"
      ],
      "metadata": {
        "id": "ODgbwVTvFxfb"
      },
      "execution_count": null,
      "outputs": []
    },
    {
      "cell_type": "code",
      "source": [
        "# show list indexes created for a table\n",
        "rhc_cur.execute(\"PRAGMA index_list(patients)\")\n",
        "print(rhc_cur.fetchall())"
      ],
      "metadata": {
        "id": "dUbl3sZFHNdA"
      },
      "execution_count": null,
      "outputs": []
    },
    {
      "cell_type": "code",
      "source": [
        "import pandas as pd\n",
        "import numpy as np\n",
        "\n",
        "np.random.seed(0)\n",
        "\n",
        "df = pd.DataFrame(np.random.randint(1,20,size=(20, 4)), columns=list('ABCD'))\n",
        "\n",
        "print (df)"
      ],
      "metadata": {
        "id": "O2TJBpgyIAJf"
      },
      "execution_count": null,
      "outputs": []
    },
    {
      "cell_type": "markdown",
      "source": [
        "# To Do zur Finalisierung der Rohdatenbank\n",
        "\n",
        "1. Index auf Patiens ID numeric als fortlaufende Nummer\n",
        "2. Alter berechnen und in neuer Spalte (column) in patiens Tabelle einfügen"
      ],
      "metadata": {
        "id": "HgJazIXnCFsq"
      }
    },
    {
      "cell_type": "markdown",
      "metadata": {
        "id": "VWWX5CrQFoqz"
      },
      "source": [
        "# Version Check"
      ]
    },
    {
      "cell_type": "code",
      "metadata": {
        "id": "q0ShwlfT2H80"
      },
      "source": [
        "#python Version\n",
        "import sys\n",
        "sys.version_info"
      ],
      "execution_count": null,
      "outputs": []
    },
    {
      "cell_type": "code",
      "metadata": {
        "id": "D4kWWXUto83S"
      },
      "source": [
        "pd.__version__"
      ],
      "execution_count": null,
      "outputs": []
    },
    {
      "cell_type": "code",
      "metadata": {
        "id": "UcHmxj4R4CIS"
      },
      "source": [
        "%pip install pandas"
      ],
      "execution_count": null,
      "outputs": []
    },
    {
      "cell_type": "code",
      "metadata": {
        "id": "B74MZdtoBFQi"
      },
      "source": [
        "sns.__version__"
      ],
      "execution_count": null,
      "outputs": []
    },
    {
      "cell_type": "code",
      "metadata": {
        "id": "XBFOgz5wBFG7"
      },
      "source": [
        "matplotlib.__version__"
      ],
      "execution_count": null,
      "outputs": []
    },
    {
      "cell_type": "code",
      "metadata": {
        "id": "1G1s6PFeBE4n"
      },
      "source": [
        "np.__version__"
      ],
      "execution_count": null,
      "outputs": []
    },
    {
      "cell_type": "code",
      "metadata": {
        "id": "1wfiNS5LBS0z"
      },
      "source": [
        "sklearn.__version__"
      ],
      "execution_count": null,
      "outputs": []
    },
    {
      "cell_type": "code",
      "metadata": {
        "id": "7ITF03YsBTYa"
      },
      "source": [
        "graphviz.__version__"
      ],
      "execution_count": null,
      "outputs": []
    },
    {
      "cell_type": "code",
      "metadata": {
        "id": "3NwGVbSoA5lA"
      },
      "source": [
        "%pip freeze"
      ],
      "execution_count": null,
      "outputs": []
    }
  ]
}