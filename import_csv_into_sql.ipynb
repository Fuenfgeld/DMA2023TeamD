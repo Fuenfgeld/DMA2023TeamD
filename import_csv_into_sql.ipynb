{
  "nbformat": 4,
  "nbformat_minor": 0,
  "metadata": {
    "colab": {
      "name": "import_csv_into_sql.ipynb",
      "provenance": [],
      "include_colab_link": true
    },
    "kernelspec": {
      "name": "python3",
      "display_name": "Python 3"
    }
  },
  "cells": [
    {
      "cell_type": "markdown",
      "metadata": {
        "id": "view-in-github",
        "colab_type": "text"
      },
      "source": [
        "<a href=\"https://colab.research.google.com/github/Fuenfgeld/DMA2023TeamD/blob/Jans-Branch/import_csv_into_sql.ipynb\" target=\"_parent\"><img src=\"https://colab.research.google.com/assets/colab-badge.svg\" alt=\"Open In Colab\"/></a>"
      ]
    },
    {
      "cell_type": "markdown",
      "metadata": {
        "id": "JJuauG0GrUyV"
      },
      "source": [
        "\n",
        "#  **Objective**: How to import CSV files into a SQL database \n",
        "\n",
        "\n",
        "\n",
        "\n"
      ]
    },
    {
      "cell_type": "markdown",
      "metadata": {
        "id": "vrI2v_pG17IX"
      },
      "source": [
        "# Importing libraries"
      ]
    },
    {
      "cell_type": "code",
      "metadata": {
        "id": "8PKSoqaUc7Oc"
      },
      "source": [
        "import pandas as pd\n",
        "from functools import reduce\n",
        "import sqlite3\n",
        "from sqlite3 import Error\n",
        "import csv"
      ],
      "execution_count": 2,
      "outputs": []
    },
    {
      "cell_type": "code",
      "metadata": {
        "id": "XbdTJYPwI5Ds",
        "colab": {
          "base_uri": "https://localhost:8080/"
        },
        "outputId": "2ea8854b-9b9c-4cea-8c3d-9ec8c601490c"
      },
      "source": [
        "from google.colab import drive\n",
        "drive.mount(\"/content/drive\")"
      ],
      "execution_count": 3,
      "outputs": [
        {
          "output_type": "stream",
          "name": "stdout",
          "text": [
            "Mounted at /content/drive\n"
          ]
        }
      ]
    },
    {
      "cell_type": "code",
      "metadata": {
        "id": "D-xpDJu_3qvq"
      },
      "source": [
        "material_path = \"/content/drive/Shareddrives/Projektarbeit DMA Gruppe D\"\n"
      ],
      "execution_count": 4,
      "outputs": []
    },
    {
      "cell_type": "code",
      "metadata": {
        "id": "EhNT_4U4JYMz",
        "colab": {
          "base_uri": "https://localhost:8080/"
        },
        "outputId": "fa7551f8-7a3d-4c0c-8b26-2980554c3621"
      },
      "source": [
        "# list of diseases von Covid19, Asthma und Metabolic Syndrom Disease\n",
        "!ls \"/content/drive/Shareddrives/Projektarbeit DMA Gruppe D/csv_data/covid19/disease.csv\"\n",
        "!ls \"/content/drive/Shareddrives/Projektarbeit DMA Gruppe D/csv_data/asthma\"\n",
        "!ls \"/content/drive/Shareddrives/Projektarbeit DMA Gruppe D/csv_data/metabolic_syndrome_disease\""
      ],
      "execution_count": 5,
      "outputs": [
        {
          "output_type": "stream",
          "name": "stdout",
          "text": [
            "'/content/drive/Shareddrives/Projektarbeit DMA Gruppe D/csv_data/covid19/disease.csv'\n",
            "careplans.csv\t encounters.csv       observations.xlsx      procedures.csv\n",
            "conditions.csv\t imaging_studies.csv  organizations.csv      providers.csv\n",
            "conditions.xlsx  immunizations.csv    patients.csv\t     supplies.csv\n",
            "devices.csv\t medications.csv      payers.csv\n",
            "disease.csv\t observations.csv     payer_transitions.csv\n",
            "careplans.csv\t disease.xlsx\t      observations.xlsx      procedures.csv\n",
            "careplans.xlsx\t encounters.csv       organizations.csv      procedures.xlsx\n",
            "conditions.csv\t imaging_studies.csv  patients.csv\t     providers.csv\n",
            "conditions.xlsx  immunizations.csv    patients.xlsx\t     supplies.csv\n",
            "devices.csv\t medications.csv      payers.csv\n",
            "devices.xlsx\t medications.xlsx     payers.xlsx\n",
            "disease.csv\t observations.csv     payer_transitions.csv\n"
          ]
        }
      ]
    },
    {
      "cell_type": "markdown",
      "source": [
        "# PANDAS TEST -von Tatjana\n"
      ],
      "metadata": {
        "id": "qYW-Jbh1cnTy"
      }
    },
    {
      "cell_type": "code",
      "source": [
        "# Read a csv(exel) file as a DataFram\n",
        "csv_path_cov19_cp = material_path + \"/csv_data/covid19/careplans.csv\" # /content/drive/Shareddrives/Projektarbeit DMA Gruppe D/csv_data/covid19/careplans.csv\n",
        "df_cov19_cp = pd.read_csv(csv_path_cov19_cp)\n",
        "# show first 5 rows of df\n",
        "df_cov19_cp.head()"
      ],
      "metadata": {
        "id": "aN7yXqPtc1rr",
        "colab": {
          "base_uri": "https://localhost:8080/",
          "height": 337
        },
        "outputId": "3c949406-e030-4622-e4e5-88798c779715"
      },
      "execution_count": 6,
      "outputs": [
        {
          "output_type": "execute_result",
          "data": {
            "text/plain": [
              "                                     Id       START        STOP  \\\n",
              "0  bbd91bf4-ca41-8fcf-fe03-562677e1cd09  2020-03-16  2020-03-16   \n",
              "1  8fbb54fb-fdcd-6c3c-c38b-993c36a0271d  2020-03-16  2020-04-03   \n",
              "2  3258da38-50e6-b40e-889c-dc95d2323c2f  2020-02-17  2020-03-02   \n",
              "3  ebc94d26-a633-69e8-da33-a42b8e03fbbe  2020-02-24  2020-02-24   \n",
              "4  1f282245-ffef-b0c6-1002-fdef343e45d8  2020-02-24  2020-03-11   \n",
              "\n",
              "                                PATIENT                             ENCOUNTER  \\\n",
              "0  52a250a9-24e4-ec9b-91d6-c38cf1b10fc0  e6242b21-5765-8fb9-d596-07dc2b93bd0d   \n",
              "1  52a250a9-24e4-ec9b-91d6-c38cf1b10fc0  e6242b21-5765-8fb9-d596-07dc2b93bd0d   \n",
              "2  ad5525c0-fdab-94dc-018f-d7209c72bdef  1d453a83-17f7-490d-5576-09f5725cdcaa   \n",
              "3  7f30313f-98e9-2cc2-68a5-6f9973f9ad5a  ccb50c60-5c51-3d03-3aeb-824325cfac91   \n",
              "4  7f30313f-98e9-2cc2-68a5-6f9973f9ad5a  ccb50c60-5c51-3d03-3aeb-824325cfac91   \n",
              "\n",
              "        CODE                                     DESCRIPTION  REASONCODE  \\\n",
              "0  736376001  Infectious disease care plan (record artifact)   840544004   \n",
              "1  736376001  Infectious disease care plan (record artifact)   840539006   \n",
              "2  736376001  Infectious disease care plan (record artifact)   840544004   \n",
              "3  736376001  Infectious disease care plan (record artifact)   840544004   \n",
              "4  736376001  Infectious disease care plan (record artifact)   840539006   \n",
              "\n",
              "    REASONDESCRIPTION  \n",
              "0  Suspected COVID-19  \n",
              "1            COVID-19  \n",
              "2  Suspected COVID-19  \n",
              "3  Suspected COVID-19  \n",
              "4            COVID-19  "
            ],
            "text/html": [
              "\n",
              "  <div id=\"df-5cbff25d-023c-478a-b815-f100db39e6f7\">\n",
              "    <div class=\"colab-df-container\">\n",
              "      <div>\n",
              "<style scoped>\n",
              "    .dataframe tbody tr th:only-of-type {\n",
              "        vertical-align: middle;\n",
              "    }\n",
              "\n",
              "    .dataframe tbody tr th {\n",
              "        vertical-align: top;\n",
              "    }\n",
              "\n",
              "    .dataframe thead th {\n",
              "        text-align: right;\n",
              "    }\n",
              "</style>\n",
              "<table border=\"1\" class=\"dataframe\">\n",
              "  <thead>\n",
              "    <tr style=\"text-align: right;\">\n",
              "      <th></th>\n",
              "      <th>Id</th>\n",
              "      <th>START</th>\n",
              "      <th>STOP</th>\n",
              "      <th>PATIENT</th>\n",
              "      <th>ENCOUNTER</th>\n",
              "      <th>CODE</th>\n",
              "      <th>DESCRIPTION</th>\n",
              "      <th>REASONCODE</th>\n",
              "      <th>REASONDESCRIPTION</th>\n",
              "    </tr>\n",
              "  </thead>\n",
              "  <tbody>\n",
              "    <tr>\n",
              "      <th>0</th>\n",
              "      <td>bbd91bf4-ca41-8fcf-fe03-562677e1cd09</td>\n",
              "      <td>2020-03-16</td>\n",
              "      <td>2020-03-16</td>\n",
              "      <td>52a250a9-24e4-ec9b-91d6-c38cf1b10fc0</td>\n",
              "      <td>e6242b21-5765-8fb9-d596-07dc2b93bd0d</td>\n",
              "      <td>736376001</td>\n",
              "      <td>Infectious disease care plan (record artifact)</td>\n",
              "      <td>840544004</td>\n",
              "      <td>Suspected COVID-19</td>\n",
              "    </tr>\n",
              "    <tr>\n",
              "      <th>1</th>\n",
              "      <td>8fbb54fb-fdcd-6c3c-c38b-993c36a0271d</td>\n",
              "      <td>2020-03-16</td>\n",
              "      <td>2020-04-03</td>\n",
              "      <td>52a250a9-24e4-ec9b-91d6-c38cf1b10fc0</td>\n",
              "      <td>e6242b21-5765-8fb9-d596-07dc2b93bd0d</td>\n",
              "      <td>736376001</td>\n",
              "      <td>Infectious disease care plan (record artifact)</td>\n",
              "      <td>840539006</td>\n",
              "      <td>COVID-19</td>\n",
              "    </tr>\n",
              "    <tr>\n",
              "      <th>2</th>\n",
              "      <td>3258da38-50e6-b40e-889c-dc95d2323c2f</td>\n",
              "      <td>2020-02-17</td>\n",
              "      <td>2020-03-02</td>\n",
              "      <td>ad5525c0-fdab-94dc-018f-d7209c72bdef</td>\n",
              "      <td>1d453a83-17f7-490d-5576-09f5725cdcaa</td>\n",
              "      <td>736376001</td>\n",
              "      <td>Infectious disease care plan (record artifact)</td>\n",
              "      <td>840544004</td>\n",
              "      <td>Suspected COVID-19</td>\n",
              "    </tr>\n",
              "    <tr>\n",
              "      <th>3</th>\n",
              "      <td>ebc94d26-a633-69e8-da33-a42b8e03fbbe</td>\n",
              "      <td>2020-02-24</td>\n",
              "      <td>2020-02-24</td>\n",
              "      <td>7f30313f-98e9-2cc2-68a5-6f9973f9ad5a</td>\n",
              "      <td>ccb50c60-5c51-3d03-3aeb-824325cfac91</td>\n",
              "      <td>736376001</td>\n",
              "      <td>Infectious disease care plan (record artifact)</td>\n",
              "      <td>840544004</td>\n",
              "      <td>Suspected COVID-19</td>\n",
              "    </tr>\n",
              "    <tr>\n",
              "      <th>4</th>\n",
              "      <td>1f282245-ffef-b0c6-1002-fdef343e45d8</td>\n",
              "      <td>2020-02-24</td>\n",
              "      <td>2020-03-11</td>\n",
              "      <td>7f30313f-98e9-2cc2-68a5-6f9973f9ad5a</td>\n",
              "      <td>ccb50c60-5c51-3d03-3aeb-824325cfac91</td>\n",
              "      <td>736376001</td>\n",
              "      <td>Infectious disease care plan (record artifact)</td>\n",
              "      <td>840539006</td>\n",
              "      <td>COVID-19</td>\n",
              "    </tr>\n",
              "  </tbody>\n",
              "</table>\n",
              "</div>\n",
              "      <button class=\"colab-df-convert\" onclick=\"convertToInteractive('df-5cbff25d-023c-478a-b815-f100db39e6f7')\"\n",
              "              title=\"Convert this dataframe to an interactive table.\"\n",
              "              style=\"display:none;\">\n",
              "        \n",
              "  <svg xmlns=\"http://www.w3.org/2000/svg\" height=\"24px\"viewBox=\"0 0 24 24\"\n",
              "       width=\"24px\">\n",
              "    <path d=\"M0 0h24v24H0V0z\" fill=\"none\"/>\n",
              "    <path d=\"M18.56 5.44l.94 2.06.94-2.06 2.06-.94-2.06-.94-.94-2.06-.94 2.06-2.06.94zm-11 1L8.5 8.5l.94-2.06 2.06-.94-2.06-.94L8.5 2.5l-.94 2.06-2.06.94zm10 10l.94 2.06.94-2.06 2.06-.94-2.06-.94-.94-2.06-.94 2.06-2.06.94z\"/><path d=\"M17.41 7.96l-1.37-1.37c-.4-.4-.92-.59-1.43-.59-.52 0-1.04.2-1.43.59L10.3 9.45l-7.72 7.72c-.78.78-.78 2.05 0 2.83L4 21.41c.39.39.9.59 1.41.59.51 0 1.02-.2 1.41-.59l7.78-7.78 2.81-2.81c.8-.78.8-2.07 0-2.86zM5.41 20L4 18.59l7.72-7.72 1.47 1.35L5.41 20z\"/>\n",
              "  </svg>\n",
              "      </button>\n",
              "      \n",
              "  <style>\n",
              "    .colab-df-container {\n",
              "      display:flex;\n",
              "      flex-wrap:wrap;\n",
              "      gap: 12px;\n",
              "    }\n",
              "\n",
              "    .colab-df-convert {\n",
              "      background-color: #E8F0FE;\n",
              "      border: none;\n",
              "      border-radius: 50%;\n",
              "      cursor: pointer;\n",
              "      display: none;\n",
              "      fill: #1967D2;\n",
              "      height: 32px;\n",
              "      padding: 0 0 0 0;\n",
              "      width: 32px;\n",
              "    }\n",
              "\n",
              "    .colab-df-convert:hover {\n",
              "      background-color: #E2EBFA;\n",
              "      box-shadow: 0px 1px 2px rgba(60, 64, 67, 0.3), 0px 1px 3px 1px rgba(60, 64, 67, 0.15);\n",
              "      fill: #174EA6;\n",
              "    }\n",
              "\n",
              "    [theme=dark] .colab-df-convert {\n",
              "      background-color: #3B4455;\n",
              "      fill: #D2E3FC;\n",
              "    }\n",
              "\n",
              "    [theme=dark] .colab-df-convert:hover {\n",
              "      background-color: #434B5C;\n",
              "      box-shadow: 0px 1px 3px 1px rgba(0, 0, 0, 0.15);\n",
              "      filter: drop-shadow(0px 1px 2px rgba(0, 0, 0, 0.3));\n",
              "      fill: #FFFFFF;\n",
              "    }\n",
              "  </style>\n",
              "\n",
              "      <script>\n",
              "        const buttonEl =\n",
              "          document.querySelector('#df-5cbff25d-023c-478a-b815-f100db39e6f7 button.colab-df-convert');\n",
              "        buttonEl.style.display =\n",
              "          google.colab.kernel.accessAllowed ? 'block' : 'none';\n",
              "\n",
              "        async function convertToInteractive(key) {\n",
              "          const element = document.querySelector('#df-5cbff25d-023c-478a-b815-f100db39e6f7');\n",
              "          const dataTable =\n",
              "            await google.colab.kernel.invokeFunction('convertToInteractive',\n",
              "                                                     [key], {});\n",
              "          if (!dataTable) return;\n",
              "\n",
              "          const docLinkHtml = 'Like what you see? Visit the ' +\n",
              "            '<a target=\"_blank\" href=https://colab.research.google.com/notebooks/data_table.ipynb>data table notebook</a>'\n",
              "            + ' to learn more about interactive tables.';\n",
              "          element.innerHTML = '';\n",
              "          dataTable['output_type'] = 'display_data';\n",
              "          await google.colab.output.renderOutput(dataTable, element);\n",
              "          const docLink = document.createElement('div');\n",
              "          docLink.innerHTML = docLinkHtml;\n",
              "          element.appendChild(docLink);\n",
              "        }\n",
              "      </script>\n",
              "    </div>\n",
              "  </div>\n",
              "  "
            ]
          },
          "metadata": {},
          "execution_count": 6
        }
      ]
    },
    {
      "cell_type": "code",
      "source": [
        "csv_path_cov19_cd = material_path + \"/csv_data/covid19/conditions.csv\"\n",
        "df_cov19_cd = pd.read_csv(csv_path_cov19_cd)\n",
        "df_cov19_cd.head()"
      ],
      "metadata": {
        "id": "Cs26OI8Mdr2_",
        "colab": {
          "base_uri": "https://localhost:8080/",
          "height": 206
        },
        "outputId": "4556dcd1-7402-4d53-a8e7-065846bed258"
      },
      "execution_count": 7,
      "outputs": [
        {
          "output_type": "execute_result",
          "data": {
            "text/plain": [
              "        START        STOP                               PATIENT  \\\n",
              "0  2020-02-17  2020-02-27  ad5525c0-fdab-94dc-018f-d7209c72bdef   \n",
              "1  2020-02-24  2020-03-11  7f30313f-98e9-2cc2-68a5-6f9973f9ad5a   \n",
              "2  2020-02-17  2020-02-27  ad5525c0-fdab-94dc-018f-d7209c72bdef   \n",
              "3  2020-02-17  2020-02-27  ad5525c0-fdab-94dc-018f-d7209c72bdef   \n",
              "4  2020-02-17  2020-02-17  ad5525c0-fdab-94dc-018f-d7209c72bdef   \n",
              "\n",
              "                              ENCOUNTER       CODE              DESCRIPTION  \n",
              "0  1d453a83-17f7-490d-5576-09f5725cdcaa   49727002          Cough (finding)  \n",
              "1  ccb50c60-5c51-3d03-3aeb-824325cfac91   49727002          Cough (finding)  \n",
              "2  1d453a83-17f7-490d-5576-09f5725cdcaa  386661006          Fever (finding)  \n",
              "3  1d453a83-17f7-490d-5576-09f5725cdcaa   36955009  Loss of taste (finding)  \n",
              "4  1d453a83-17f7-490d-5576-09f5725cdcaa  840544004       Suspected COVID-19  "
            ],
            "text/html": [
              "\n",
              "  <div id=\"df-b11a6b7f-d5f7-4790-aace-25e20570f6d7\">\n",
              "    <div class=\"colab-df-container\">\n",
              "      <div>\n",
              "<style scoped>\n",
              "    .dataframe tbody tr th:only-of-type {\n",
              "        vertical-align: middle;\n",
              "    }\n",
              "\n",
              "    .dataframe tbody tr th {\n",
              "        vertical-align: top;\n",
              "    }\n",
              "\n",
              "    .dataframe thead th {\n",
              "        text-align: right;\n",
              "    }\n",
              "</style>\n",
              "<table border=\"1\" class=\"dataframe\">\n",
              "  <thead>\n",
              "    <tr style=\"text-align: right;\">\n",
              "      <th></th>\n",
              "      <th>START</th>\n",
              "      <th>STOP</th>\n",
              "      <th>PATIENT</th>\n",
              "      <th>ENCOUNTER</th>\n",
              "      <th>CODE</th>\n",
              "      <th>DESCRIPTION</th>\n",
              "    </tr>\n",
              "  </thead>\n",
              "  <tbody>\n",
              "    <tr>\n",
              "      <th>0</th>\n",
              "      <td>2020-02-17</td>\n",
              "      <td>2020-02-27</td>\n",
              "      <td>ad5525c0-fdab-94dc-018f-d7209c72bdef</td>\n",
              "      <td>1d453a83-17f7-490d-5576-09f5725cdcaa</td>\n",
              "      <td>49727002</td>\n",
              "      <td>Cough (finding)</td>\n",
              "    </tr>\n",
              "    <tr>\n",
              "      <th>1</th>\n",
              "      <td>2020-02-24</td>\n",
              "      <td>2020-03-11</td>\n",
              "      <td>7f30313f-98e9-2cc2-68a5-6f9973f9ad5a</td>\n",
              "      <td>ccb50c60-5c51-3d03-3aeb-824325cfac91</td>\n",
              "      <td>49727002</td>\n",
              "      <td>Cough (finding)</td>\n",
              "    </tr>\n",
              "    <tr>\n",
              "      <th>2</th>\n",
              "      <td>2020-02-17</td>\n",
              "      <td>2020-02-27</td>\n",
              "      <td>ad5525c0-fdab-94dc-018f-d7209c72bdef</td>\n",
              "      <td>1d453a83-17f7-490d-5576-09f5725cdcaa</td>\n",
              "      <td>386661006</td>\n",
              "      <td>Fever (finding)</td>\n",
              "    </tr>\n",
              "    <tr>\n",
              "      <th>3</th>\n",
              "      <td>2020-02-17</td>\n",
              "      <td>2020-02-27</td>\n",
              "      <td>ad5525c0-fdab-94dc-018f-d7209c72bdef</td>\n",
              "      <td>1d453a83-17f7-490d-5576-09f5725cdcaa</td>\n",
              "      <td>36955009</td>\n",
              "      <td>Loss of taste (finding)</td>\n",
              "    </tr>\n",
              "    <tr>\n",
              "      <th>4</th>\n",
              "      <td>2020-02-17</td>\n",
              "      <td>2020-02-17</td>\n",
              "      <td>ad5525c0-fdab-94dc-018f-d7209c72bdef</td>\n",
              "      <td>1d453a83-17f7-490d-5576-09f5725cdcaa</td>\n",
              "      <td>840544004</td>\n",
              "      <td>Suspected COVID-19</td>\n",
              "    </tr>\n",
              "  </tbody>\n",
              "</table>\n",
              "</div>\n",
              "      <button class=\"colab-df-convert\" onclick=\"convertToInteractive('df-b11a6b7f-d5f7-4790-aace-25e20570f6d7')\"\n",
              "              title=\"Convert this dataframe to an interactive table.\"\n",
              "              style=\"display:none;\">\n",
              "        \n",
              "  <svg xmlns=\"http://www.w3.org/2000/svg\" height=\"24px\"viewBox=\"0 0 24 24\"\n",
              "       width=\"24px\">\n",
              "    <path d=\"M0 0h24v24H0V0z\" fill=\"none\"/>\n",
              "    <path d=\"M18.56 5.44l.94 2.06.94-2.06 2.06-.94-2.06-.94-.94-2.06-.94 2.06-2.06.94zm-11 1L8.5 8.5l.94-2.06 2.06-.94-2.06-.94L8.5 2.5l-.94 2.06-2.06.94zm10 10l.94 2.06.94-2.06 2.06-.94-2.06-.94-.94-2.06-.94 2.06-2.06.94z\"/><path d=\"M17.41 7.96l-1.37-1.37c-.4-.4-.92-.59-1.43-.59-.52 0-1.04.2-1.43.59L10.3 9.45l-7.72 7.72c-.78.78-.78 2.05 0 2.83L4 21.41c.39.39.9.59 1.41.59.51 0 1.02-.2 1.41-.59l7.78-7.78 2.81-2.81c.8-.78.8-2.07 0-2.86zM5.41 20L4 18.59l7.72-7.72 1.47 1.35L5.41 20z\"/>\n",
              "  </svg>\n",
              "      </button>\n",
              "      \n",
              "  <style>\n",
              "    .colab-df-container {\n",
              "      display:flex;\n",
              "      flex-wrap:wrap;\n",
              "      gap: 12px;\n",
              "    }\n",
              "\n",
              "    .colab-df-convert {\n",
              "      background-color: #E8F0FE;\n",
              "      border: none;\n",
              "      border-radius: 50%;\n",
              "      cursor: pointer;\n",
              "      display: none;\n",
              "      fill: #1967D2;\n",
              "      height: 32px;\n",
              "      padding: 0 0 0 0;\n",
              "      width: 32px;\n",
              "    }\n",
              "\n",
              "    .colab-df-convert:hover {\n",
              "      background-color: #E2EBFA;\n",
              "      box-shadow: 0px 1px 2px rgba(60, 64, 67, 0.3), 0px 1px 3px 1px rgba(60, 64, 67, 0.15);\n",
              "      fill: #174EA6;\n",
              "    }\n",
              "\n",
              "    [theme=dark] .colab-df-convert {\n",
              "      background-color: #3B4455;\n",
              "      fill: #D2E3FC;\n",
              "    }\n",
              "\n",
              "    [theme=dark] .colab-df-convert:hover {\n",
              "      background-color: #434B5C;\n",
              "      box-shadow: 0px 1px 3px 1px rgba(0, 0, 0, 0.15);\n",
              "      filter: drop-shadow(0px 1px 2px rgba(0, 0, 0, 0.3));\n",
              "      fill: #FFFFFF;\n",
              "    }\n",
              "  </style>\n",
              "\n",
              "      <script>\n",
              "        const buttonEl =\n",
              "          document.querySelector('#df-b11a6b7f-d5f7-4790-aace-25e20570f6d7 button.colab-df-convert');\n",
              "        buttonEl.style.display =\n",
              "          google.colab.kernel.accessAllowed ? 'block' : 'none';\n",
              "\n",
              "        async function convertToInteractive(key) {\n",
              "          const element = document.querySelector('#df-b11a6b7f-d5f7-4790-aace-25e20570f6d7');\n",
              "          const dataTable =\n",
              "            await google.colab.kernel.invokeFunction('convertToInteractive',\n",
              "                                                     [key], {});\n",
              "          if (!dataTable) return;\n",
              "\n",
              "          const docLinkHtml = 'Like what you see? Visit the ' +\n",
              "            '<a target=\"_blank\" href=https://colab.research.google.com/notebooks/data_table.ipynb>data table notebook</a>'\n",
              "            + ' to learn more about interactive tables.';\n",
              "          element.innerHTML = '';\n",
              "          dataTable['output_type'] = 'display_data';\n",
              "          await google.colab.output.renderOutput(dataTable, element);\n",
              "          const docLink = document.createElement('div');\n",
              "          docLink.innerHTML = docLinkHtml;\n",
              "          element.appendChild(docLink);\n",
              "        }\n",
              "      </script>\n",
              "    </div>\n",
              "  </div>\n",
              "  "
            ]
          },
          "metadata": {},
          "execution_count": 7
        }
      ]
    },
    {
      "cell_type": "code",
      "source": [
        "csv_path_cov19_dv = material_path + \"/csv_data/covid19/devices.csv\"\n",
        "df_cov19_dv = pd.read_csv(csv_path_cov19_dv)\n",
        "df_cov19_dv.head()"
      ],
      "metadata": {
        "id": "HLLW74PZd_aW"
      },
      "execution_count": null,
      "outputs": []
    },
    {
      "cell_type": "code",
      "source": [
        "csv_path_cov19_ds = material_path + \"/csv_data/covid19/disease.csv\"\n",
        "df_cov19_ds = pd.read_csv(csv_path_cov19_ds)\n",
        "df_cov19_ds.head()"
      ],
      "metadata": {
        "id": "B_1xnfNBeX6F"
      },
      "execution_count": null,
      "outputs": []
    },
    {
      "cell_type": "code",
      "source": [
        "csv_path_cov19_ec = material_path + \"/csv_data/covid19/encounters.csv\"\n",
        "df_cov19_ec = pd.read_csv(csv_path_cov19_ec)\n",
        "df_cov19_ec.head()"
      ],
      "metadata": {
        "id": "x55B9SrEejWF"
      },
      "execution_count": null,
      "outputs": []
    },
    {
      "cell_type": "code",
      "source": [
        "csv_path_cov19_is = material_path + \"/csv_data/covid19/imaging_studies.csv\"\n",
        "df_cov19_is = pd.read_csv(csv_path_cov19_is)\n",
        "df_cov19_is.head()"
      ],
      "metadata": {
        "id": "V6lpOKjjet0Q"
      },
      "execution_count": null,
      "outputs": []
    },
    {
      "cell_type": "code",
      "source": [
        "csv_path_cov19_im = material_path + \"/csv_data/covid19/immunizations.csv\"\n",
        "df_cov19_im = pd.read_csv(csv_path_cov19_im)\n",
        "df_cov19_im.head()"
      ],
      "metadata": {
        "id": "gYuUHVD8fAqL"
      },
      "execution_count": null,
      "outputs": []
    },
    {
      "cell_type": "code",
      "source": [
        "csv_path_cov19_md = material_path + \"/csv_data/covid19/medications.csv\"\n",
        "df_cov19_md = pd.read_csv(csv_path_cov19_md)\n",
        "df_cov19_md.head()"
      ],
      "metadata": {
        "id": "_7kd5Ng4fM27"
      },
      "execution_count": null,
      "outputs": []
    },
    {
      "cell_type": "code",
      "source": [
        "csv_path_cov19_os = material_path + \"/csv_data/covid19/observations.csv\"\n",
        "df_cov19_os = pd.read_csv(csv_path_cov19_os)\n",
        "df_cov19_os.head()"
      ],
      "metadata": {
        "id": "GgV6roHufYGG"
      },
      "execution_count": null,
      "outputs": []
    },
    {
      "cell_type": "code",
      "source": [
        "csv_path_cov19_pt = material_path + \"/csv_data/covid19/patients.csv\"\n",
        "df_cov19_pt = pd.read_csv(csv_path_cov19_pt)\n",
        "df_cov19_pt.head()"
      ],
      "metadata": {
        "id": "UcUjPV0cflub"
      },
      "execution_count": null,
      "outputs": []
    },
    {
      "cell_type": "code",
      "source": [
        "csv_path_cov19_pyt = material_path + \"/csv_data/covid19/payer_transitions.csv\"\n",
        "df_cov19_pyt = pd.read_csv(csv_path_cov19_pyt)\n",
        "df_cov19_pyt.head()"
      ],
      "metadata": {
        "id": "9MMP8gdnfyBk"
      },
      "execution_count": null,
      "outputs": []
    },
    {
      "cell_type": "code",
      "source": [
        "csv_path_cov19_py = material_path + \"/csv_data/covid19/payers.csv\"\n",
        "df_cov19_py = pd.read_csv(csv_path_cov19_py)\n",
        "df_cov19_py.head()"
      ],
      "metadata": {
        "id": "QBtxtq3ZgDVK"
      },
      "execution_count": null,
      "outputs": []
    },
    {
      "cell_type": "code",
      "source": [
        "csv_path_cov19_pc = material_path + \"/csv_data/covid19/procedures.csv\"\n",
        "df_cov19_pc = pd.read_csv(csv_path_cov19_pc)\n",
        "df_cov19_pc.head()"
      ],
      "metadata": {
        "id": "hkJ6MbLYgO-d"
      },
      "execution_count": null,
      "outputs": []
    },
    {
      "cell_type": "code",
      "source": [
        "csv_path_cov19_pv = material_path + \"/csv_data/covid19/providers.csv\"\n",
        "df_cov19_pv = pd.read_csv(csv_path_cov19_pv)\n",
        "df_cov19_pv.head()"
      ],
      "metadata": {
        "id": "SEFDag3agnn6"
      },
      "execution_count": null,
      "outputs": []
    },
    {
      "cell_type": "code",
      "source": [
        "csv_path_cov19_sp = material_path + \"/csv_data/covid19/supplies.csv\"\n",
        "df_cov19_sp = pd.read_csv(csv_path_cov19_sp)\n",
        "df_cov19_sp.head()"
      ],
      "metadata": {
        "id": "EN0HL4h4g3R4"
      },
      "execution_count": null,
      "outputs": []
    },
    {
      "cell_type": "markdown",
      "source": [
        "# Import conditiond_info von Covid19, Asthma und Metabolic_Syndrom_Disease - von Jan"
      ],
      "metadata": {
        "id": "ZMa0HKmHLAyy"
      }
    },
    {
      "cell_type": "code",
      "source": [
        "# Read a csv(exel) file as a DataFram\n",
        "csv_path_asthma_cp = material_path + \"/csv_data/asthma/conditions.csv\" # /content/drive/Shareddrives/Projektarbeit DMA Gruppe D/csv_data/asthma/conditions.csv\n",
        "df_asthma_cp = pd.read_csv(csv_path_asthma_cp)\n",
        "# show first 5 rows of df\n",
        "df_asthma_cp.head()"
      ],
      "metadata": {
        "id": "0-8F-ktwLT9L"
      },
      "execution_count": null,
      "outputs": []
    },
    {
      "cell_type": "code",
      "source": [
        "#msd -> metabolic_syndrom_disease\n",
        "csv_path_msd_cp = material_path + \"/csv_data/metabolic_syndrome_disease/conditions.csv\" # /content/drive/Shareddrives/Projektarbeit DMA Gruppe D/csv_data/metabolic_syndrome_disease/conditions.csv\n",
        "df_msd_cp = pd.read_csv(csv_path_msd_cp)\n",
        "df_msd_cp.head()"
      ],
      "metadata": {
        "id": "uwy_o0D5Mv71"
      },
      "execution_count": null,
      "outputs": []
    },
    {
      "cell_type": "code",
      "source": [
        "csv_path_cov19_cd = material_path + \"/csv_data/covid19/conditions.csv\" #/content/drive/Shareddrives/Projektarbeit DMA Gruppe D/csv_data/covid19/conditions.csv\n",
        "df_cov19_cd = pd.read_csv(csv_path_cov19_cd)\n",
        "df_cov19_cd.head()"
      ],
      "metadata": {
        "id": "oTkewgErNjpy"
      },
      "execution_count": null,
      "outputs": []
    },
    {
      "cell_type": "markdown",
      "source": [
        "## Geeignete Spalten -Tatjana"
      ],
      "metadata": {
        "id": "ehW1UInmhChf"
      }
    },
    {
      "cell_type": "code",
      "source": [
        "import numpy as np"
      ],
      "metadata": {
        "id": "ByU6eEzEidVp"
      },
      "execution_count": null,
      "outputs": []
    },
    {
      "cell_type": "code",
      "source": [
        "# encounters\n",
        "df_cov19_ec.head(1)"
      ],
      "metadata": {
        "id": "EEPzn2dqiiPo"
      },
      "execution_count": null,
      "outputs": []
    },
    {
      "cell_type": "code",
      "source": [
        "df_cov19_ec.head(3)[[\"Id\", \"PATIENT\", \"PAYER\", \"BASE_ENCOUNTER_COST\", \"TOTAL_CLAIM_COST\", \"PAYER_COVERAGE\"]]"
      ],
      "metadata": {
        "id": "-GI9319yhGXp"
      },
      "execution_count": null,
      "outputs": []
    },
    {
      "cell_type": "code",
      "source": [
        "# medications\n",
        "df_cov19_md.head(1)"
      ],
      "metadata": {
        "id": "TnZsMkUqmNNm"
      },
      "execution_count": null,
      "outputs": []
    },
    {
      "cell_type": "code",
      "source": [
        "df_cov19_md.head(3)[[\"PATIENT\", \"PAYER\", \"BASE_COST\", \"PAYER_COVERAGE\", \"TOTALCOST\"]]"
      ],
      "metadata": {
        "id": "7zGhf0kImXRK"
      },
      "execution_count": null,
      "outputs": []
    },
    {
      "cell_type": "code",
      "source": [
        "# observations\n",
        "df_cov19_os.head(1)"
      ],
      "metadata": {
        "id": "mcyIwV3rl38J"
      },
      "execution_count": null,
      "outputs": []
    },
    {
      "cell_type": "code",
      "source": [
        "df_cov19_os.head(3)[[\"PATIENT\", \"DESCRIPTION\", \"VALUE\", \"UNITS\"]]"
      ],
      "metadata": {
        "id": "o5WFDmAfo2S8"
      },
      "execution_count": null,
      "outputs": []
    },
    {
      "cell_type": "code",
      "source": [
        "# payers\n",
        "df_cov19_py.info()"
      ],
      "metadata": {
        "id": "Mo0fr30Zl_hL"
      },
      "execution_count": null,
      "outputs": []
    },
    {
      "cell_type": "code",
      "source": [
        "df_cov19_py.head(3)[[\"Id\", \"AMOUNT_COVERED\", \"AMOUNT_UNCOVERED\", \"COVERED_ENCOUNTERS\", \"UNCOVERED_ENCOUNTERS\", \"COVERED_MEDICATIONS\", \"UNCOVERED_MEDICATIONS\", \"COVERED_PROCEDURES\", \"UNCOVERED_PROCEDURES\"]]"
      ],
      "metadata": {
        "id": "QM91TsuNpbul"
      },
      "execution_count": null,
      "outputs": []
    },
    {
      "cell_type": "markdown",
      "source": [
        "## Merge"
      ],
      "metadata": {
        "id": "VNYcDh6Pq4yW"
      }
    },
    {
      "cell_type": "code",
      "source": [
        "df_cov19_ec.head(1)"
      ],
      "metadata": {
        "id": "mqfA6Sr0sG5p"
      },
      "execution_count": null,
      "outputs": []
    },
    {
      "cell_type": "code",
      "source": [
        "df_cov19_py.head(1)"
      ],
      "metadata": {
        "id": "_aulWYBQr-gw"
      },
      "execution_count": null,
      "outputs": []
    },
    {
      "cell_type": "code",
      "source": [
        "#stimmt noch nicht\n",
        "pd.merge(df_cov19_py, df_cov19_ec[\"Id\"], how=\"left\", left_on=\"Id\", right_on=\"Id\", suffixes=[\"_payers\", \"_encounters\"])"
      ],
      "metadata": {
        "id": "vZQ9m_SOtJ92"
      },
      "execution_count": null,
      "outputs": []
    },
    {
      "cell_type": "code",
      "source": [
        "#stimmt noch nicht\n",
        "merge_cov19_ec_py = pd.merge(df_cov19_py, df_cov19_ec[\"Id\"], how=\"left\", left_on=\"Id\", right_on=\"Id\", suffixes=[\"_payers\", \"_encounters\"])\n",
        "print(merge_cov19_ec_py)"
      ],
      "metadata": {
        "id": "VlNoxE-lq7Pf"
      },
      "execution_count": null,
      "outputs": []
    },
    {
      "cell_type": "code",
      "source": [
        "#stimmt noch nicht\n",
        "merge_cov19_ec_py.info()"
      ],
      "metadata": {
        "id": "VE6nIj4jtTlP"
      },
      "execution_count": null,
      "outputs": []
    },
    {
      "cell_type": "markdown",
      "source": [],
      "metadata": {
        "id": "5TdhoKRDKfSa"
      }
    },
    {
      "cell_type": "markdown",
      "source": [],
      "metadata": {
        "id": "fPhBhTvDKjPH"
      }
    },
    {
      "cell_type": "markdown",
      "metadata": {
        "id": "xCVtwKPVrgHM"
      },
      "source": [
        "# Path of input/output data \n",
        "Uncomment one type of patient that you would like to create for it sql database and  import csv files into related database."
      ]
    },
    {
      "cell_type": "code",
      "metadata": {
        "id": "44sjVGsG0v6-"
      },
      "source": [
        "## type of patients\n",
        "# patient_type = \"allergy\"\n",
        "# patient_type = \"asthma\"\n",
        "# patient_type = \"breast_cancer\"\n",
        "# patient_type = \"metabolic_syndrome_disease\"\n",
        "# patient_type = \"colorectal_cancer\"\n",
        "patient_type = \"covid19\"\n",
        "# patient_type = \"dermatitis\"\n",
        "# patient_type = \"lung_cancer\"\n",
        "\n"
      ],
      "execution_count": null,
      "outputs": []
    },
    {
      "cell_type": "code",
      "metadata": {
        "id": "x9RG5sTL9eeV"
      },
      "source": [
        "# source database path\n",
        "DB_FILE_PATH = f\"{material_path}/source_dbs/source_{patient_type}_test.db\"\n",
        "\n",
        "# folder contains csv files\n",
        "csv_path = f\"{material_path}/csv_data/{patient_type}/\"\n",
        "\n",
        "DB_FILE_PATH, csv_path"
      ],
      "execution_count": null,
      "outputs": []
    },
    {
      "cell_type": "markdown",
      "metadata": {
        "id": "q_qqFZxVQrKs"
      },
      "source": [
        "# SQL queries to create tables\n",
        "There are more info about tables in https://github.com/synthetichealth/synthea/wiki/CSV-File-Data-Dictionary\n",
        "\n",
        "\n"
      ]
    },
    {
      "cell_type": "code",
      "metadata": {
        "id": "PHfPXQFGl8C6"
      },
      "source": [
        "# dictionary key: name of table, values: sql query to create table\n",
        "sql_table = {}"
      ],
      "execution_count": null,
      "outputs": []
    },
    {
      "cell_type": "code",
      "source": [
        "#  sql Anfrage für Tabelle careplans\n",
        "sql_table[\"careplans\"] = \"\"\"CREATE TABLE IF NOT EXISTS patients (\n",
        "                           Id STRING PRIMARY KEY,\n",
        "                           START DATE,\n",
        "                           STOP DATE\n",
        "                           PATIENT STRING,\n",
        "                           ENCOUNTER STRING,\n",
        "                           CODE STRING,\n",
        "                           DECRIPTION STRING,\n",
        "                           REASONSCODE STRING,\n",
        "                           REASONCODEDESCRIPTION STRING\n",
        "                       );\"\"\"\n",
        "      "
      ],
      "metadata": {
        "id": "TjJ7Y_BYaHIJ"
      },
      "execution_count": null,
      "outputs": []
    },
    {
      "cell_type": "code",
      "metadata": {
        "id": "siV6k04HZyqF"
      },
      "source": [
        "# sql query to create disease table\n",
        "sql_table[\"disease\"] = \"\"\"CREATE TABLE IF NOT EXISTS disease (\n",
        "                           START DATE,\n",
        "                           STOP DATE,\n",
        "                           PATIENT STRING,\n",
        "                           ENCOUNTER STRING,\n",
        "                           CODE STRING,\n",
        "                           DESCRIPTION STRING,\n",
        "                           FOREIGN KEY (PATIENT)\n",
        "                              REFERENCES patients (Id) \n",
        "                           FOREIGN KEY (Encounter)\n",
        "                              REFERENCES encounters (Id)\n",
        "                           \n",
        "                       );\"\"\"\n"
      ],
      "execution_count": null,
      "outputs": []
    },
    {
      "cell_type": "code",
      "metadata": {
        "id": "3saAJAKG7DTT"
      },
      "source": [
        "#  sql query to create patients table\n",
        "sql_table[\"patients\"] = \"\"\"CREATE TABLE IF NOT EXISTS patients (\n",
        "                           Id STRING PRIMARY KEY,\n",
        "                           BIRTHDATE DATE,\n",
        "                           DEATHDATE DATE,\n",
        "                           SSN STRING,\n",
        "                           DRIVERS STRING,\n",
        "                           PASSPORT STRING,\n",
        "                           PREFIX STRING,\n",
        "                           FIRST STRING,\n",
        "                           LAST STRING,\n",
        "                           SUFFIX STRING,\n",
        "                           MAIDEN STRING,\n",
        "                           MARITAL STRING,\n",
        "                           RACE STRING,\n",
        "                           ETHNICITY STRING,\n",
        "                           GENDER STRING,\n",
        "                           BIRTHPLACE STRING,\n",
        "                           ADDRESS STRING,\n",
        "                           CITY STRING,\n",
        "                           STATE STRING,\n",
        "                           COUNTRY STRING,\n",
        "                           ZIP STRING,\n",
        "                           LAT INTEGER,\n",
        "                           LON INTEGER,\n",
        "                           HEALTHCARE_EXPENSES INTEGER,\n",
        "                           HEALTHCARE_COVERAGE INTEGER\n",
        "                       );\"\"\"\n",
        "      "
      ],
      "execution_count": null,
      "outputs": []
    },
    {
      "cell_type": "code",
      "metadata": {
        "id": "knobrzYZ7D2d"
      },
      "source": [
        "# sql query to create encounters table\n",
        "sql_table[\"encounters\"] = \"\"\"CREATE TABLE IF NOT EXISTS encounters (\n",
        "                           Id STRING PRIMARY KEY,\n",
        "                           START DATE,\n",
        "                           STOP DATE,\n",
        "                           PATIENT STRING,\n",
        "                           ORGANIZATIONS STRING,\n",
        "                           PROVIDER STRING,\n",
        "                           PAYER STRING,\n",
        "                           ENCOUNTERCLASS STRING,\n",
        "                           CODE STRING,\n",
        "                           DESCRIPTION STRING,\n",
        "                           BASE_ENCOUNTER_COST INTEGER,\n",
        "                           TOTAL_CLAIM_COST INTEGER,\n",
        "                           PAYER_COVERAGE INTEGER,\n",
        "                           REASONCODE STRING,\n",
        "                           REASONDESCRIPTION STRING,\n",
        "                           FOREIGN KEY (PATIENT)\n",
        "                              REFERENCES patients (Id) \n",
        "                       );\"\"\"\n"
      ],
      "execution_count": null,
      "outputs": []
    },
    {
      "cell_type": "code",
      "metadata": {
        "id": "SPgRzjeC7Dyy"
      },
      "source": [
        "# sql query to create careplans table\n",
        "sql_table[\"careplans\"] = \"\"\"CREATE TABLE IF NOT EXISTS careplans (\n",
        "                           Id STRING PRIMARY KEY,\n",
        "                           START DATE,\n",
        "                           STOP DATE,\n",
        "                           PATIENT STRING,\n",
        "                           ENCOUNTER STRING,\n",
        "                           CODE STRING,\n",
        "                           DESCRIPTION STRING,\n",
        "                           REASONCODE STRING,\n",
        "                           REASONDESCRIPTION STRING,\n",
        "                           FOREIGN KEY (PATIENT)\n",
        "                              REFERENCES patients (Id) \n",
        "                           FOREIGN KEY (Encounter)\n",
        "                              REFERENCES encounters (Id) \n",
        "\n",
        "                       );\"\"\""
      ],
      "execution_count": null,
      "outputs": []
    },
    {
      "cell_type": "code",
      "metadata": {
        "id": "l5BOTtt9tX_h"
      },
      "source": [
        "# sql query to create conditions table\n",
        "sql_table[\"conditions\"] = \"\"\"CREATE TABLE IF NOT EXISTS conditions (\n",
        "                           START DATE,\n",
        "                           STOP DATE,\n",
        "                           PATIENT STRING,\n",
        "                           ENCOUNTER STRING,\n",
        "                           CODE STRING,\n",
        "                           DESCRIPTION STRING,\n",
        "                           FOREIGN KEY (PATIENT)\n",
        "                              REFERENCES patients (Id) \n",
        "                           FOREIGN KEY (Encounter)\n",
        "                              REFERENCES encounters (Id) \n",
        "\n",
        "                       );\"\"\""
      ],
      "execution_count": null,
      "outputs": []
    },
    {
      "cell_type": "code",
      "metadata": {
        "id": "Gios0rVz7D8U"
      },
      "source": [
        "# sql query to create medications table\n",
        "sql_table[\"medications\"] = \"\"\"CREATE TABLE IF NOT EXISTS medications (\n",
        "                           START DATE,\n",
        "                           STOP DATE,\n",
        "                           PATIENT STRING,\n",
        "                           PAYER STRING,\n",
        "                           ENCOUNTER STRING,\n",
        "                           CODE STRING,\n",
        "                           DESCRIPTION STRING,\n",
        "                           BASE_COST INTEGER,\n",
        "                           PAYER_COVERAGE INTEGER,\n",
        "                           DISPENSES INTEGER,\n",
        "                           TOTALCOST INTEGER,\n",
        "                           REASONCODE STRING,\n",
        "                           REASONDESCRIPTION STRING,\n",
        "                           FOREIGN KEY (PATIENT)\n",
        "                              REFERENCES patients (Id) \n",
        "                           \n",
        "                       );\"\"\"\n"
      ],
      "execution_count": null,
      "outputs": []
    },
    {
      "cell_type": "code",
      "metadata": {
        "id": "gdxzjU5u7EAT"
      },
      "source": [
        "# # sql query to create procedures table\n",
        "sql_table[\"procedures\"]= \"\"\"CREATE TABLE IF NOT EXISTS procedures (\n",
        "                           DATE DATE,\n",
        "                           PATIENT STRING,\n",
        "                           ENCOUNTER STRING,\n",
        "                           CODE STRING,\n",
        "                           DESCRIPTION STRING,\n",
        "                           BASE_COST INTEGER,\n",
        "                           REASONCODE STRING,\n",
        "                           REASONDESCRIPTION STRING,\n",
        "                           FOREIGN KEY (PATIENT)\n",
        "                              REFERENCES patients (Id) \n",
        "                           FOREIGN KEY (Encounter)\n",
        "                              REFERENCES encounters (Id) \n",
        "\n",
        "                       );\"\"\"\n"
      ],
      "execution_count": null,
      "outputs": []
    },
    {
      "cell_type": "code",
      "metadata": {
        "id": "S-S75rDvTV6p"
      },
      "source": [
        "\n",
        "# # sql query to create observations table\n",
        "sql_table[\"observations\"]= \"\"\"CREATE TABLE IF NOT EXISTS observations (\n",
        "                           DATE DATE,\n",
        "                           PATIENT STRING,\n",
        "                           ENCOUNTER STRING,\n",
        "                           CODE STRING,\n",
        "                           DESCRIPTION STRING,\n",
        "                           VALUE STRING,\n",
        "                           UNITS STRING,\n",
        "                           TYPE STRING,\n",
        "                           FOREIGN KEY (PATIENT)\n",
        "                              REFERENCES patients (Id) \n",
        "                           FOREIGN KEY (Encounter)\n",
        "                              REFERENCES encounters (Id) \n",
        "\n",
        "                       );\"\"\""
      ],
      "execution_count": null,
      "outputs": []
    },
    {
      "cell_type": "code",
      "metadata": {
        "id": "mir0yIFBT5Mr"
      },
      "source": [
        "# sql query to create devices table\n",
        "sql_table[\"devices\"] = \"\"\"CREATE TABLE IF NOT EXISTS devices (\n",
        "                           START DATE,\n",
        "                           STOP DATE,\n",
        "                           PATIENT STRING,\n",
        "                           ENCOUNTER STRING,\n",
        "                           CODE STRING,\n",
        "                           DESCRIPTION STRING,\n",
        "                           UDI STRING,\n",
        "                           FOREIGN KEY (PATIENT)\n",
        "                              REFERENCES patients (Id) \n",
        "                           FOREIGN KEY (Encounter)\n",
        "                              REFERENCES encounters (Id)\n",
        "                           \n",
        "                       );\"\"\"\n"
      ],
      "execution_count": null,
      "outputs": []
    },
    {
      "cell_type": "code",
      "metadata": {
        "id": "u9M3rP4SU-q-"
      },
      "source": [
        "# sql query to create Imaging_studies table\n",
        "sql_table[\"imaging_studies\"] = \"\"\"CREATE TABLE IF NOT EXISTS imaging_studies (\n",
        "                           Id STRING PRIMARY KEY,\n",
        "                           DATE DATE,\n",
        "                           PATIENT STRING,\n",
        "                           ENCOUNTER STRING,\n",
        "                           BODYSITE_CODE STRING,\n",
        "                           BODYSITE_DESCRIPTION STRING,\n",
        "                           MODALITY_CODE STRING,\n",
        "                           MODALITY_DESCRIPTION STRING,\n",
        "                           SOP_CODE STRING,\n",
        "                           SOP_DESCRIPTION STRING,\n",
        "                           FOREIGN KEY (PATIENT)\n",
        "                              REFERENCES patients (Id) \n",
        "                           FOREIGN KEY (Encounter)\n",
        "                              REFERENCES encounters (Id) \n",
        "\n",
        "                       );\"\"\""
      ],
      "execution_count": null,
      "outputs": []
    },
    {
      "cell_type": "code",
      "metadata": {
        "id": "2_2tQ0y8Wavb"
      },
      "source": [
        "# sql query to create Immunizations table\n",
        "sql_table[\"immunizations\"]= \"\"\"CREATE TABLE IF NOT EXISTS immunizations(\n",
        "                           DATE DATE,\n",
        "                           PATIENT STRING,\n",
        "                           ENCOUNTER STRING,\n",
        "                           CODE STRING,\n",
        "                           DESCRIPTION STRING,\n",
        "                           BASE_COST INTEGER,\n",
        "                           FOREIGN KEY (PATIENT)\n",
        "                              REFERENCES patients (Id) \n",
        "                           FOREIGN KEY (Encounter)\n",
        "                              REFERENCES encounters (Id) \n",
        "\n",
        "                       );\"\"\""
      ],
      "execution_count": null,
      "outputs": []
    },
    {
      "cell_type": "markdown",
      "metadata": {
        "id": "0BJVXYo4qlot"
      },
      "source": [
        "# Import csv files into database tables\n",
        "\n",
        "\n"
      ]
    },
    {
      "cell_type": "code",
      "metadata": {
        "id": "maUFhmCA7MzC"
      },
      "source": [
        "def connect_to_db(db_file):\n",
        "    \"\"\"\n",
        "    Connect to an SQlite database, if db file does not exist it will be created\n",
        "    :param db_file: absolute or relative path of db file\n",
        "    :return: sqlite3 connection\n",
        "    \"\"\"\n",
        "    sqlite3_conn = None\n",
        "\n",
        "    try:\n",
        "        sqlite3_conn = sqlite3.connect(db_file)\n",
        "        return sqlite3_conn\n",
        "\n",
        "    except Error as err:\n",
        "        print(err)\n",
        "\n",
        "        if sqlite3_conn is not None:\n",
        "            sqlite3_conn.close()\n",
        "\n",
        "\n",
        "def insert_values_to_table(cursor, table_name, csv_file_path):\n",
        "\n",
        "    \"\"\"\n",
        "    Open a csv file, store its content in a list excluding header and insert the data from the list to db table\n",
        "    :param table_name: table name in the database to insert the data into\n",
        "    :param csv_file_path: path of the csv file to process\n",
        "    :return: None\n",
        "    \"\"\"\n",
        "\n",
        "    # Read CSV file content\n",
        "    values_to_insert = open_csv_file(csv_file_path)\n",
        "\n",
        "    # Insert to table\n",
        "    if len(values_to_insert) > 0:\n",
        "        column_names, column_numbers = get_column_names_from_db_table(cursor, table_name)\n",
        "\n",
        "        values_str = '?,' * column_numbers\n",
        "        # print(\"*****\", values_str, column_names, column_numbers)\n",
        "        values_str = values_str[:-1]\n",
        "\n",
        "        sql_query = 'INSERT OR REPLACE INTO ' + table_name + '(' + column_names + ') VALUES (' + values_str + ')'\n",
        "\n",
        "\n",
        "        cursor.executemany(sql_query, values_to_insert)\n",
        "        # conn.commit()\n",
        "\n",
        "        print('SQL insert process finished')\n",
        "    else:\n",
        "        print('Nothing to insert')\n",
        "\n",
        "        # conn.close()\n",
        "\n",
        "    # else:\n",
        "        # print('Connection to database failed')\n",
        "\n",
        "\n",
        "def open_csv_file(csv_file_path):\n",
        "    \"\"\"\n",
        "    Open and read data from a csv file without headers (skipping the first row)\n",
        "    :param csv_file_path: path of the csv file to process\n",
        "    :return: a list with the csv content\n",
        "    \"\"\"\n",
        "    with open(csv_file_path, 'r', encoding='utf-8') as csv_file:\n",
        "        reader = csv.reader(csv_file)\n",
        "        next(reader)\n",
        "\n",
        "        data = list()\n",
        "        for row in reader:\n",
        "            data.append(row)\n",
        "\n",
        "        return data\n",
        "\n",
        "\n",
        "def get_column_names_from_db_table(sql_cursor, table_name):\n",
        "    \"\"\"\n",
        "    Scrape the column names from a database table to a list and convert to a comma separated string, count the number\n",
        "    of columns in a database table\n",
        "    :param sql_cursor: sqlite cursor\n",
        "    :param table_name: table name to get the column names from\n",
        "    :return: a comma separated string with column names, an integer with number of columns\n",
        "    \"\"\"\n",
        "\n",
        "    table_column_names = 'PRAGMA table_info(' + table_name + ');'\n",
        "    sql_cursor.execute(table_column_names)\n",
        "    table_column_names = sql_cursor.fetchall()\n",
        "\n",
        "    column_count = len(table_column_names)\n",
        "\n",
        "    column_names = list()\n",
        "\n",
        "    for name in table_column_names:\n",
        "        column_names.append(name[1])\n",
        "\n",
        "    return ', '.join(column_names), column_count\n",
        "\n",
        "\n"
      ],
      "execution_count": null,
      "outputs": []
    },
    {
      "cell_type": "code",
      "metadata": {
        "id": "EcIFjR0hqFci"
      },
      "source": [
        "# list of tables\n",
        "sql_table.keys()"
      ],
      "execution_count": null,
      "outputs": []
    },
    {
      "cell_type": "code",
      "metadata": {
        "id": "bEAlK7Rsy0Uo"
      },
      "source": [
        "# # remove all tables in a db\n",
        "# for name in sql_table.keys():\n",
        "#   cursor.execute(f\"drop table if exists {name}\")\n"
      ],
      "execution_count": null,
      "outputs": []
    },
    {
      "cell_type": "code",
      "metadata": {
        "id": "Js6ewRvH7DQf"
      },
      "source": [
        "# import csv into db\n",
        "conn = connect_to_db(DB_FILE_PATH)\n",
        "if conn is not None:\n",
        "        cursor = conn.cursor()\n",
        "        for name in sql_table.keys():\n",
        "          csv_file = csv_path + name + \".csv\"\n",
        "          print(name, csv_file)\n",
        "          \n",
        "          cursor.execute(sql_table[name])\n",
        "\n",
        "          insert_values_to_table(cursor, name, csv_file)\n",
        "        # conn.commit()\n",
        "else:\n",
        "        print('Connection to database failed')\n"
      ],
      "execution_count": null,
      "outputs": []
    },
    {
      "cell_type": "code",
      "metadata": {
        "id": "7CF-HaoGsY_d"
      },
      "source": [
        "# ex, access to a csv file\n",
        "pd.read_csv(f\"{csv_path}disease.csv\").head()"
      ],
      "execution_count": null,
      "outputs": []
    },
    {
      "cell_type": "code",
      "metadata": {
        "id": "9bdJbKtO7DjH"
      },
      "source": [
        "# List of tables in database \n",
        "cursor.execute(\"SELECT name FROM sqlite_master WHERE type='table';\")\n",
        "print(cursor.fetchall())"
      ],
      "execution_count": null,
      "outputs": []
    },
    {
      "cell_type": "code",
      "metadata": {
        "id": "xpw2cpNiHRiH"
      },
      "source": [
        "# check data in a table\n",
        "cursor.execute(\"SELECT * FROM patients;\")\n",
        "rows = cursor.fetchall()\n",
        "for row in rows:\n",
        "  print(row)"
      ],
      "execution_count": null,
      "outputs": []
    },
    {
      "cell_type": "markdown",
      "source": [
        "ACHTUNG ENDE"
      ],
      "metadata": {
        "id": "E9ZNTpSiX6hi"
      }
    },
    {
      "cell_type": "code",
      "metadata": {
        "id": "-tGRiVcbqCgc"
      },
      "source": [
        "conn.commit()"
      ],
      "execution_count": null,
      "outputs": []
    },
    {
      "cell_type": "code",
      "metadata": {
        "id": "u-Uh2B1YqCeK"
      },
      "source": [
        "conn.close()"
      ],
      "execution_count": null,
      "outputs": []
    },
    {
      "cell_type": "markdown",
      "metadata": {
        "id": "lrHLAR3w1vDU"
      },
      "source": [
        "# Ref:\n",
        "\n",
        "\n",
        "\n",
        "> Synthea csv formats\n",
        "*   https://github.com/synthetichealth/synthea/wiki/CSV-File-Data-Dictionary\n",
        "\n",
        "\n",
        "> Load file in google colab\n",
        "* https://towardsdatascience.com/3-ways-to-load-csv-files-into-colab-7c14fcbdcb92\n",
        "* https://stackoverflow.com/questions/18837262/convert-python-dict-into-a-dataframe\n",
        "* https://colab.research.google.com/notebooks/io.ipynb\n",
        "\n",
        "> python & sqlite \n",
        " * https://pynative.com/python-sqlite/\n",
        " * https://github.com/gygergely/PythonSQLite\n",
        " * https://www.youtube.com/watch?v=DihBLvfXVSE\n",
        "\n",
        "> Importing a CSV file into a sqlite3 database table using Python\n",
        "* https://stackoverflow.com/questions/2887878/importing-a-csv-file-into-a-sqlite3-database-table-using-python\n",
        "\n",
        "\n",
        "> error\n",
        "* https://stackoverflow.com/questions/36518628/sqlite3-integrityerror-unique-constraint-failed-when-inserting-a-value\n"
      ]
    },
    {
      "cell_type": "code",
      "metadata": {
        "id": "R7S76Fwl8Jp_"
      },
      "source": [],
      "execution_count": null,
      "outputs": []
    },
    {
      "cell_type": "code",
      "metadata": {
        "id": "eDqlv4Jk1zqQ"
      },
      "source": [],
      "execution_count": null,
      "outputs": []
    }
  ]
}