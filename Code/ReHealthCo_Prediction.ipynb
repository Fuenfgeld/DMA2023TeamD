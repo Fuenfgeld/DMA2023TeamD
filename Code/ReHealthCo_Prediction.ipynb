{
  "nbformat": 4,
  "nbformat_minor": 0,
  "metadata": {
    "colab": {
      "provenance": [],
      "toc_visible": true,
      "include_colab_link": true
    },
    "kernelspec": {
      "name": "python3",
      "display_name": "Python 3"
    },
    "language_info": {
      "name": "python"
    }
  },
  "cells": [
    {
      "cell_type": "markdown",
      "metadata": {
        "id": "view-in-github",
        "colab_type": "text"
      },
      "source": [
        "<a href=\"https://colab.research.google.com/github/Fuenfgeld/DMA2023TeamD/blob/dev_branch_EDA_Prediction/Code/ReHealthCo_Prediction.ipynb\" target=\"_parent\"><img src=\"https://colab.research.google.com/assets/colab-badge.svg\" alt=\"Open In Colab\"/></a>"
      ]
    },
    {
      "cell_type": "markdown",
      "source": [
        "# ReHealthCo Prediction-Prozess"
      ],
      "metadata": {
        "id": "r2GhM0xtrO3l"
      }
    },
    {
      "cell_type": "markdown",
      "source": [
        "## Vorbereitung "
      ],
      "metadata": {
        "id": "vpF-B8jHUcEo"
      }
    },
    {
      "cell_type": "markdown",
      "source": [
        "###CleanUp - Eventuell gespeicherte Variablen löschen vor Ausführung des Colab books (Ziel Reproduzierbarkeit)"
      ],
      "metadata": {
        "id": "b5m5XJqMVjJq"
      }
    },
    {
      "cell_type": "code",
      "source": [
        "# Löschen aller Variablen\n",
        "%reset -f"
      ],
      "metadata": {
        "id": "_Q776tIoSo-M"
      },
      "execution_count": null,
      "outputs": []
    },
    {
      "cell_type": "markdown",
      "source": [
        "## Importieren der notwendigen Libraries: sqlite3, csv, pandas"
      ],
      "metadata": {
        "id": "O8gYdvOwn5mk"
      }
    },
    {
      "cell_type": "code",
      "source": [
        "import sqlite3\n",
        "from sqlite3 import Error\n",
        "import csv\n",
        "import pandas as pd\n",
        "from pandas.util import hash_pandas_object\n",
        "import seaborn as sns\n",
        "from sklearn.model_selection import train_test_split \n",
        "from sklearn.ensemble import RandomForestRegressor\n",
        "\n",
        "# import regression model\n",
        "from sklearn.linear_model import LinearRegression\n",
        "from sklearn.linear_model import ElasticNet\n",
        "from sklearn.linear_model import SGDRegressor\n",
        "\n",
        "# create an object\n",
        "linreg = LinearRegression()\n",
        "ElasticNet = ElasticNet()\n",
        "SGDRegressor = SGDRegressor()\n",
        "RF = RandomForestRegressor()"
      ],
      "metadata": {
        "id": "mJxD2LwZn3yn"
      },
      "execution_count": null,
      "outputs": []
    },
    {
      "cell_type": "markdown",
      "source": [
        "### Erstellung einer virtuellen Kopie des GitHub Repositorium DMA2023TeamD in Colab"
      ],
      "metadata": {
        "id": "A1Dq0N3XYMoU"
      }
    },
    {
      "cell_type": "code",
      "source": [
        "!git clone https://github.com/Fuenfgeld/DMA2023TeamD.git"
      ],
      "metadata": {
        "id": "dmeCFp_e3Y0Z"
      },
      "execution_count": null,
      "outputs": []
    },
    {
      "cell_type": "code",
      "source": [
        "# Wechsel in den Unterordner csv_data des Github-Projekt-Ordners\n",
        "%cd /content/DMA2023TeamD/csv_data"
      ],
      "metadata": {
        "id": "nMsb146GnGj0"
      },
      "execution_count": null,
      "outputs": []
    },
    {
      "cell_type": "code",
      "source": [
        "# Auflistung aller Ordnerinhalte\n",
        "!ls"
      ],
      "metadata": {
        "id": "hqmn5rfUnGj1"
      },
      "execution_count": null,
      "outputs": []
    },
    {
      "cell_type": "markdown",
      "source": [
        "### Benennung des rhc-DataFrames und Einlesen des entsprechenden anonymisierten csv-Files von Github"
      ],
      "metadata": {
        "id": "B5a4CkeGyL-z"
      }
    },
    {
      "cell_type": "code",
      "source": [
        "# Pfad-Abkürzung zum Speicherort der anonymisierten csv-Tabelle\n",
        "csv_path_anonymrhc = \"/content/DMA2023TeamD/csv_data\""
      ],
      "metadata": {
        "id": "7-NeR0VHppu4"
      },
      "execution_count": null,
      "outputs": []
    },
    {
      "cell_type": "code",
      "source": [
        "# Einlesen der anonymisierten Tabelle als Pandas DataFrame\n",
        "rhc_df = pd.read_csv(f\"{csv_path_anonymrhc}/anonym_rhcpat.csv\")"
      ],
      "metadata": {
        "id": "vVRS5MaayL-1"
      },
      "execution_count": null,
      "outputs": []
    },
    {
      "cell_type": "code",
      "source": [
        "# Anzeige des DF-Inhalts\n",
        "rhc_df"
      ],
      "metadata": {
        "id": "u75OTP-ANat-"
      },
      "execution_count": null,
      "outputs": []
    },
    {
      "cell_type": "markdown",
      "source": [
        "# Einlesen passender DataFrames (DF) nach Auswertung durch den EDA-Prozess"
      ],
      "metadata": {
        "id": "7WKJCaQpybZB"
      }
    },
    {
      "cell_type": "markdown",
      "source": [
        "### Ziel-DF rhc_all_df mit allen geplanten Vergleichen ohne Bereinigungen"
      ],
      "metadata": {
        "id": "5kJyDmKGIPIP"
      }
    },
    {
      "cell_type": "code",
      "source": [
        "diag_anz_df = rhc_df[[\"RHC_PSEUDONYM\", \"DESC_CON\"]].groupby([\"RHC_PSEUDONYM\"]).count().sort_values(\"DESC_CON\", ascending=False) # Erstellung DF diag_anz_df mit Spalte Diagnosen/Patient als Name\n",
        "diag_anz_df.rename(columns={\"DESC_CON\": \"DESC_CON_ANZ\"}, inplace=True) # Umbenunng der Spalte Diagnosen/Patient in DESC_CON_ANZ\n",
        "rhc_diagn_df = pd.DataFrame.merge(rhc_df, diag_anz_df, left_on=[\"RHC_PSEUDONYM\"], right_on=[\"RHC_PSEUDONYM\"], how=\"left\") # Spalte Diagnosen/Patient an das gesamte DataFrame hängen\n",
        "rhc_diagn_df.loc[:, 'DESC_CON_SORT'] = rhc_diagn_df.loc[:, 'DESC_CON_ANZ'] # Spalte DESC_CON_ANZ verdoppeln\n",
        "rhc_diagn_df['DESC_CON_SORT'].values[rhc_diagn_df['DESC_CON_SORT'] > 2] = 3 # Ersetzen aller Werte bei Patienten > 2 Diagnosen mit einer 3\n",
        "rhc_diagn_df[\"HEALTHCARE_EXPENSES_UNCOVERED\"] = rhc_diagn_df[\"HEALTHCARE_EXPENSES_PAT\"]-rhc_diagn_df[\"HEALTHCARE_COVERAGE_PAT\"] # neue Spalte HEALTHCARE_EXPENSES uncovered\n",
        "rhc_diagn_df[\"VERH_HEALTHCARE_EXPENSES_COV_UNCOV\"] = rhc_diagn_df[\"HEALTHCARE_COVERAGE_PAT\"]/rhc_diagn_df[\"HEALTHCARE_EXPENSES_PAT\"] # neue Spalte Verhältnis Ausgaben abgedeckt/nicht abgedeckt mit Spaltennahmen VERH_HEALTHCARE_EXPENSES_COV_UNCOV\n",
        "rhc_enc_anz_df = rhc_diagn_df[[\"RHC_PSEUDONYM\", \"ENCOUNTERCLASS_ENC\"]].groupby([\"RHC_PSEUDONYM\"]).count().sort_values(\"ENCOUNTERCLASS_ENC\", ascending=False) # Anzeige Encounterbegegnungen/Patient, absteigend sortiert\n",
        "rhc_enc_anz_df.rename(columns={\"ENCOUNTERCLASS_ENC\": \"ENCOUNTERCLASS_ENC_ANZ\"}, inplace=True) # Umbenunng der Spalte Encounterbegegnungen/Patient in ENCOUNTERCLASS_ENC_ANZ\n",
        "rhc_all_df = pd.DataFrame.merge(rhc_diagn_df, rhc_enc_anz_df, left_on=[\"RHC_PSEUDONYM\"], right_on=[\"RHC_PSEUDONYM\"], how=\"left\") # Spalte Encounterbegegnungen/Patient an das gesamte DataFrame hängen\n",
        "rhc_all_df.loc[:, 'ENCOUNTERCLASS_ENC_ANZ_SORT'] = rhc_all_df.loc[:, 'ENCOUNTERCLASS_ENC_ANZ'] # Spalte ENCOUNTERCLASS_ENC_ANZ verdoppeln\n",
        "rhc_all_df['ENCOUNTERCLASS_ENC_ANZ_SORT'].values[rhc_all_df['ENCOUNTERCLASS_ENC_ANZ_SORT'] > 2] = 3 # Ersetzen aller Werte bei Patienten > 2 Encounterbegegnungen mit einer 3\n",
        "rhc_all_df # Anzeige des Ergebnis"
      ],
      "metadata": {
        "id": "asLejBDkymAK"
      },
      "execution_count": null,
      "outputs": []
    },
    {
      "cell_type": "markdown",
      "source": [
        "### Ziel-DF rhc_all_nowell_df mit allen geplanten Vergleichen ohne wellness bei Encounterbegegnungen"
      ],
      "metadata": {
        "id": "p56MccsrIequ"
      }
    },
    {
      "cell_type": "code",
      "source": [
        "rhc_all_nowell_df = rhc_all_df.drop(rhc_all_df[ (rhc_all_df['ENCOUNTERCLASS_ENC'] == \"wellness\")].index) # Löschen der Encounterbegegnung wellness \n",
        "# rhc_all_nowell_df.groupby([\"ENCOUNTERCLASS_ENC\"]).size() # Anzeige der Übersicht\n",
        "rhc_all_nowell_df"
      ],
      "metadata": {
        "id": "3reuWPfiFZDP"
      },
      "execution_count": null,
      "outputs": []
    },
    {
      "cell_type": "markdown",
      "source": [
        "### Ziel-DF groupbypat_df zusammengefasst auf einzelene Patienten mit allen geplanten Vergleichen ohne Bereinigungen"
      ],
      "metadata": {
        "id": "SDK55byKIn8X"
      }
    },
    {
      "cell_type": "code",
      "source": [
        "# Gruppierung nach Patienten, diese sonst doppelt gezählt werden\n",
        "groupbypat_df = rhc_all_nowell_df[['RHC_PSEUDONYM', 'GENDER_PAT', 'HEALTHCARE_EXPENSES_PAT', 'HEALTHCARE_COVERAGE_PAT', 'DATENBANKART', 'LEBENDIG', 'AGE', 'CODE_CON', 'DESC_CON', 'CONDITIONDAUER', 'TOTALCOST_MED', 'ENCOUNTERCLASS_ENC', 'BEHANDLUNGSDAUER', 'DESC_CON_ANZ', 'DESC_CON_SORT', 'ENCOUNTERCLASS_ENC_ANZ']].groupby([\"RHC_PSEUDONYM\"]).mean().reset_index()\n",
        "groupbypat_df"
      ],
      "metadata": {
        "id": "dfglnB5oFh88"
      },
      "execution_count": null,
      "outputs": []
    },
    {
      "cell_type": "markdown",
      "source": [
        "### Ziel-DF anz_pat_dign_enc_df mit Anzeige Patienten/Diagnose sowie Patienten/Encountbegegnung, absteigend sortiert nach Patienten/Diagnose"
      ],
      "metadata": {
        "id": "mmzpgHwiI2SY"
      }
    },
    {
      "cell_type": "code",
      "source": [
        "pat_anz_nowellrechnung_df = rhc_df.drop(rhc_df[ (rhc_df['ENCOUNTERCLASS_ENC'] == \"wellness\") ].index) # Löschen der Encounterbegegnung wellness \n",
        "diagn_encnowell_df = pat_anz_nowellrechnung_df[[\"RHC_PSEUDONYM\", \"DESC_CON\", \"ENCOUNTERCLASS_ENC\"]].groupby([\"DESC_CON\"]).count().sort_values(\"RHC_PSEUDONYM\", ascending=False) # Benennung des DF\n",
        "diagn_encnowell_df.rename(columns={\"ENCOUNTERCLASS_ENC\": \"ENCOUNTERCLASS_NOWELL\"}, inplace=True) # Umbenunng der Spalte Encounterbegegnungen/Diagnose in ENCOUNTERCLASS_NOWELL\n",
        "anz_pat_dign_enc_df = diagn_encnowell_df.reset_index()\n",
        "anz_pat_dign_enc_df.rename(columns={\"RHC_PSEUDONYM\": \"PAT_ANZ\", \"DESC_CON\": \"DIAGNOSEN\", \"ENCOUNTERCLASS_NOWELL\": \"ENC_BEGEG_NOWELL\"}, inplace=True) # Umbenunng der Spalte Encounterbegegnungen/Diagnose in ENCOUNTERCLASS_NOWELL\n",
        "anz_pat_dign_enc_df # Anzeige DF"
      ],
      "metadata": {
        "id": "lOOfECl1z7MG"
      },
      "execution_count": null,
      "outputs": []
    },
    {
      "cell_type": "markdown",
      "source": [
        "### Ziel-DF ohne Extremwerte basierend auf dem DF rhc_all_nowell_df mit allen geplanten Vergleichen ohne wellness bei Encounterbegegnungen"
      ],
      "metadata": {
        "id": "lWq-fo4IJZMd"
      }
    },
    {
      "cell_type": "code",
      "source": [
        "# Extremwerte herausnehmen\n",
        "rhc_rein01_df = rhc_all_nowell_df[rhc_all_nowell_df[\"HEALTHCARE_EXPENSES_PAT\"]<1500000]\n",
        "rhc_rein02_df = rhc_rein01_df[rhc_rein01_df[\"AGE\"]<100]\n",
        "rhc_rein03_df = rhc_rein02_df[rhc_rein02_df[\"HEALTHCARE_COVERAGE_PAT\"]<20000]\n",
        "rhc_rein04_df = rhc_rein03_df[rhc_rein03_df[\"CONDITIONDAUER\"]<5000]\n",
        "rhc_rein05_df = rhc_rein04_df[rhc_rein04_df[\"TOTALCOST_MED\"]<175000]\n",
        "rhc_rein06_df = rhc_rein05_df[rhc_rein05_df[\"BEHANDLUNGSDAUER\"]<350]\n",
        "rhc_rein_df = rhc_rein06_df[rhc_rein06_df[\"DESC_CON_ANZ\"]<50]\n",
        "rhc_rein_df"
      ],
      "metadata": {
        "id": "gGuplAKdGDMu"
      },
      "execution_count": null,
      "outputs": []
    },
    {
      "cell_type": "markdown",
      "source": [
        "### folgende essentielle DF wurden erstellt: \n",
        "rhc_all_df  =  alles\n",
        "\n",
        "rhc_all_nowell_df  =  alles ohne wellness\n",
        "\n",
        "groupbypat_df  =  gemittelt auf einen Patienten\n",
        "\n",
        "anz_pat_dign_enc_df  =  Patienten/Diagnose sowie Patienten/Encountbegegnung\n",
        "\n",
        "rhc_rein_df  =  kein wellness keine Extremwerte"
      ],
      "metadata": {
        "id": "OSNbKyI2LKiO"
      }
    },
    {
      "cell_type": "markdown",
      "source": [
        "# Machinelearning Modelle"
      ],
      "metadata": {
        "id": "lBRgR_SqKK00"
      }
    },
    {
      "cell_type": "code",
      "source": [
        "# ACHTUNG nochmal ansehen!!!\n",
        "\n",
        "# import python packages for ML models\n",
        "\n",
        "# from sklearn.model_selection import  GridSearchCV"
      ],
      "metadata": {
        "id": "Lj_dBBkvGIqs"
      },
      "execution_count": null,
      "outputs": []
    },
    {
      "cell_type": "code",
      "source": [
        "# Pivot-Table - wahrscheinlich löschen\n",
        "# dfpred = rhcpatage_df.pivot_table(values=\"HEALTHCARE_EXPENSES\", index=None, columns=[\"AGE\", \"GENDER\"], aggfunc='mean', fill_value=None, margins=False, dropna=True, margins_name='All', observed=False, sort=True)\n",
        "# dfpred.head(20)\n",
        "# # dfpred.shape"
      ],
      "metadata": {
        "id": "V8wZ2e9eKKXz"
      },
      "execution_count": null,
      "outputs": []
    },
    {
      "cell_type": "code",
      "source": [
        "# Anzeige der Kopfspalten des DF\n",
        "print(rhc_all_df.columns.tolist())"
      ],
      "metadata": {
        "id": "hmkBTp1sLtFy"
      },
      "execution_count": null,
      "outputs": []
    },
    {
      "cell_type": "code",
      "source": [
        "dfpred = rhc_all_df[[\"AGE\", \"GENDER_PAT\", \"HEALTHCARE_EXPENSES_PAT\"]].groupby([\"AGE\", \"GENDER_PAT\"]).mean().reset_index()\n",
        "dfpred"
      ],
      "metadata": {
        "id": "A6dTWztVuq2W"
      },
      "execution_count": null,
      "outputs": []
    },
    {
      "cell_type": "code",
      "source": [
        "# Mischen der Daten\n",
        "dfpred= dfpred.sample(frac=1)"
      ],
      "metadata": {
        "id": "r-xuHFg6OTAn"
      },
      "execution_count": null,
      "outputs": []
    },
    {
      "cell_type": "code",
      "source": [
        "# Splitten der Daten in train und test Dataframes\n",
        "train_ratio = 0.70\n",
        "validation_ratio = 0.15\n",
        "test_ratio = 0.15"
      ],
      "metadata": {
        "id": "8U6CW08COg2Q"
      },
      "execution_count": null,
      "outputs": []
    },
    {
      "cell_type": "code",
      "source": [
        "# Ausgabe der Shapes von train und test Dataframes\n",
        "dfpred_train, dfpred_test = train_test_split(dfpred, test_size=test_ratio, random_state=0)\n",
        "dfpred_train.shape, dfpred_test.shape"
      ],
      "metadata": {
        "id": "Ie5CtBATD7kW"
      },
      "execution_count": null,
      "outputs": []
    },
    {
      "cell_type": "code",
      "source": [
        "print(dfpred_train)"
      ],
      "metadata": {
        "id": "bRnpnF4OUBww"
      },
      "execution_count": null,
      "outputs": []
    },
    {
      "cell_type": "code",
      "source": [
        "# Bestimmen der Features und des Zielwertes\n",
        "X = dfpred_train[\"AGE\"]\n",
        "y = dfpred_train[\"HEALTHCARE_EXPENSES_PAT\"]"
      ],
      "metadata": {
        "id": "_O07wan0Oj2N"
      },
      "execution_count": null,
      "outputs": []
    },
    {
      "cell_type": "code",
      "source": [
        "X.head()"
      ],
      "metadata": {
        "id": "jzRZlOR4aHdM"
      },
      "execution_count": null,
      "outputs": []
    },
    {
      "cell_type": "code",
      "source": [
        "X.shape"
      ],
      "metadata": {
        "id": "l_Cs_9ZtaVmR"
      },
      "execution_count": null,
      "outputs": []
    },
    {
      "cell_type": "code",
      "source": [
        "y.head()"
      ],
      "metadata": {
        "id": "FGYvRXFsaK4W"
      },
      "execution_count": null,
      "outputs": []
    },
    {
      "cell_type": "code",
      "source": [
        "y.shape"
      ],
      "metadata": {
        "id": "BTWJNJ4haN63"
      },
      "execution_count": null,
      "outputs": []
    },
    {
      "cell_type": "code",
      "source": [
        "pred_test_df = pd.concat([X, y], axis=1)\n",
        "pred_test_df.shape"
      ],
      "metadata": {
        "id": "CBoR9acFagqS"
      },
      "execution_count": null,
      "outputs": []
    },
    {
      "cell_type": "code",
      "source": [
        "# shuffle\n",
        "pred_test_df.sample(frac=1)"
      ],
      "metadata": {
        "id": "FGymjBpCarbs"
      },
      "execution_count": null,
      "outputs": []
    },
    {
      "cell_type": "code",
      "source": [
        "X = pred_test_df.drop(\"HEALTHCARE_EXPENSES_PAT\", axis=1)\n",
        "y = pred_test_df[\"HEALTHCARE_EXPENSES_PAT\"]"
      ],
      "metadata": {
        "id": "dFsHNV2La1HC"
      },
      "execution_count": null,
      "outputs": []
    },
    {
      "cell_type": "code",
      "source": [
        "# split data to testing and training dataset\n",
        "X_train, X_test, y_train, y_test = train_test_split(X, y, test_size=0.2, random_state=42) # ACHTUNG 42!!\n",
        "X_train.shape, y_train.shape, X_test.shape, y_test.shape"
      ],
      "metadata": {
        "id": "wCOfJ4cibDee"
      },
      "execution_count": null,
      "outputs": []
    },
    {
      "cell_type": "code",
      "source": [
        "RF = RandomForestRegressor()"
      ],
      "metadata": {
        "id": "pKnMsklQtU3p"
      },
      "execution_count": null,
      "outputs": []
    },
    {
      "cell_type": "code",
      "source": [
        "RF.fit(X_train, y_train)"
      ],
      "metadata": {
        "id": "a8ZMcyiQtbJ7"
      },
      "execution_count": null,
      "outputs": []
    },
    {
      "cell_type": "code",
      "source": [
        "ElasticNet.fit(X_train, y_train)"
      ],
      "metadata": {
        "id": "jMTuBEG-pzAt"
      },
      "execution_count": null,
      "outputs": []
    },
    {
      "cell_type": "code",
      "source": [
        "test_pred_elasticnet = ElasticNet.predict(X_test)\n",
        "test_pred_elasticnet"
      ],
      "metadata": {
        "id": "FVeNsXM4p3Rh"
      },
      "execution_count": null,
      "outputs": []
    },
    {
      "cell_type": "code",
      "source": [
        "SGDRegressor.fit(X_train, y_train)"
      ],
      "metadata": {
        "id": "18f1fJlQpGq_"
      },
      "execution_count": null,
      "outputs": []
    },
    {
      "cell_type": "code",
      "source": [
        "test_pred_SGD = SGDRegressor.predict(X_test)\n",
        "test_pred_SGD"
      ],
      "metadata": {
        "id": "mlYTpbc0qHC_"
      },
      "execution_count": null,
      "outputs": []
    },
    {
      "cell_type": "code",
      "source": [
        "# train the model\n",
        "linreg.fit(X_train, y_train)"
      ],
      "metadata": {
        "id": "ddOHx42rbNoU"
      },
      "execution_count": null,
      "outputs": []
    },
    {
      "cell_type": "code",
      "source": [
        "neutest_pred = linreg.predict(pd.DataFrame({\"AGE\":[40]}))\n",
        "neutest_pred"
      ],
      "metadata": {
        "id": "C6x-nXvhzTkw"
      },
      "execution_count": null,
      "outputs": []
    },
    {
      "cell_type": "code",
      "source": [
        "# Making prediction using testing set\n",
        "test_pred = linreg.predict(X_test)\n",
        "test_pred"
      ],
      "metadata": {
        "id": "WHPUJDDXbR0C"
      },
      "execution_count": null,
      "outputs": []
    },
    {
      "cell_type": "code",
      "source": [
        "linreg.score(X_test, y_test) #x groß da Dataframe/Matrix und y klein weil Liste/Vektor"
      ],
      "metadata": {
        "id": "rmmJEM1ybgrL"
      },
      "execution_count": null,
      "outputs": []
    },
    {
      "cell_type": "code",
      "source": [
        "ElasticNet.score(X_test, y_test) "
      ],
      "metadata": {
        "id": "9Tk5tLSUosKA"
      },
      "execution_count": null,
      "outputs": []
    },
    {
      "cell_type": "code",
      "source": [
        "SGDRegressor.score(X_test, y_test) "
      ],
      "metadata": {
        "id": "Sbr4Quzwqbbx"
      },
      "execution_count": null,
      "outputs": []
    },
    {
      "cell_type": "code",
      "source": [
        "RF.score(X_test, y_test) "
      ],
      "metadata": {
        "id": "ALF4B0CwuIax"
      },
      "execution_count": null,
      "outputs": []
    },
    {
      "cell_type": "markdown",
      "metadata": {
        "id": "VWWX5CrQFoqz"
      },
      "source": [
        "# Version Check"
      ]
    },
    {
      "cell_type": "code",
      "metadata": {
        "id": "q0ShwlfT2H80"
      },
      "source": [
        "#python Version\n",
        "import sys\n",
        "sys.version_info"
      ],
      "execution_count": null,
      "outputs": []
    },
    {
      "cell_type": "code",
      "metadata": {
        "id": "D4kWWXUto83S"
      },
      "source": [
        "pd.__version__"
      ],
      "execution_count": null,
      "outputs": []
    },
    {
      "cell_type": "code",
      "source": [
        "csv.__version__"
      ],
      "metadata": {
        "id": "CYZ4BvSDakIz"
      },
      "execution_count": null,
      "outputs": []
    },
    {
      "cell_type": "code",
      "source": [
        "sns.__version__"
      ],
      "metadata": {
        "id": "Q9NWOl0KOksq"
      },
      "execution_count": null,
      "outputs": []
    },
    {
      "cell_type": "code",
      "metadata": {
        "id": "3NwGVbSoA5lA"
      },
      "source": [
        "# Überprüfen aller Variablen\n",
        "# %pip freeze"
      ],
      "execution_count": null,
      "outputs": []
    },
    {
      "cell_type": "markdown",
      "metadata": {
        "id": "9FxdmDqaAeAl"
      },
      "source": [
        "# Calculate the Checksum of the Data Set"
      ]
    },
    {
      "cell_type": "code",
      "metadata": {
        "id": "sIISw67e_9gI"
      },
      "source": [
        "rhc_df_hashes = hash_pandas_object(rhc_df)\n",
        "diag_anz_df_hashes = hash_pandas_object(diag_anz_df)\n",
        "rhc_diagn_df_hashes = hash_pandas_object(rhc_diagn_df)\n",
        "rhc_enc_anz_df_hashes = hash_pandas_object(rhc_enc_anz_df)\n",
        "rhc_all_df_hashes = hash_pandas_object(rhc_all_df)\n",
        "rhc_all_nowell_df_hashes = hash_pandas_object(rhc_all_nowell_df)\n",
        "groupbypat_df_hashes = hash_pandas_object(groupbypat_df)\n",
        "pat_anz_nowellrechnung_df_hashes = hash_pandas_object(pat_anz_nowellrechnung_df)\n",
        "diagn_encnowell_df_hashes = hash_pandas_object(diagn_encnowell_df)\n",
        "anz_pat_dign_enc_df_hashes = hash_pandas_object(anz_pat_dign_enc_df)\n",
        "rhc_rein01_df_hashes = hash_pandas_object(rhc_rein01_df)    \n",
        "rhc_rein02_df_hashes = hash_pandas_object(rhc_rein02_df)\n",
        "rhc_rein03_df_hashes = hash_pandas_object(rhc_rein03_df)\n",
        "rhc_rein04_df_hashes = hash_pandas_object(rhc_rein04_df)\n",
        "rhc_rein05_df_hashes = hash_pandas_object(rhc_rein05_df)\n",
        "rhc_rein06_df_hashes = hash_pandas_object(rhc_rein06_df)\n",
        "rhc_rein_df_hashes = hash_pandas_object(rhc_rein_df)"
      ],
      "execution_count": null,
      "outputs": []
    },
    {
      "cell_type": "code",
      "source": [
        "Liste_rhcpredall_hashes = [rhc_df_hashes, diag_anz_df_hashes, rhc_diagn_df_hashes, rhc_enc_anz_df_hashes, rhc_all_df_hashes, rhc_all_nowell_df_hashes, groupbypat_df_hashes, pat_anz_nowellrechnung_df_hashes, diagn_encnowell_df_hashes, anz_pat_dign_enc_df_hashes, rhc_rein01_df_hashes, rhc_rein02_df_hashes, rhc_rein03_df_hashes, rhc_rein04_df_hashes, rhc_rein05_df_hashes, rhc_rein06_df_hashes, rhc_rein_df_hashes]"
      ],
      "metadata": {
        "id": "OEdJmrV0v4C-"
      },
      "execution_count": null,
      "outputs": []
    },
    {
      "cell_type": "code",
      "source": [
        "print(Liste_rhcpredall_hashes)"
      ],
      "metadata": {
        "id": "lezu8pUOwsA6"
      },
      "execution_count": null,
      "outputs": []
    },
    {
      "cell_type": "markdown",
      "metadata": {
        "id": "R45CnT8d4t48"
      },
      "source": [
        "## Value should be \n",
        "8997601563088961698\n",
        "\n",
        "-3795146034381248713\n",
        "\n",
        "2650178518257614002\n",
        "\n",
        "-5022892886560696056\n",
        "\n",
        "8245114429953816038\n",
        "\n",
        "-5141405102485937931\n",
        "\n",
        "-8472048597029283422\n",
        "\n",
        "-840543143014388252\n",
        "\n",
        "1693621233367357631\n",
        "\n",
        "-1250212140467252653\n",
        "\n",
        "9035061648931252140\n",
        "\n",
        "3979407772490755112\n",
        "\n",
        "3979407772490755112\n",
        "\n",
        "-1626434201662496073\n",
        "\n",
        "-6425855923958030484\n",
        "\n",
        "3181589982608435791\n",
        "\n",
        "-7702891464465174751"
      ]
    },
    {
      "cell_type": "code",
      "metadata": {
        "id": "lvQMVdkZAEmy"
      },
      "source": [
        "print(rhc_df_hashes.sum())\n",
        "print(diag_anz_df_hashes.sum())\n",
        "print(rhc_diagn_df_hashes.sum())\n",
        "print(rhc_enc_anz_df_hashes.sum())\n",
        "print(rhc_all_df_hashes.sum())\n",
        "print(rhc_all_nowell_df_hashes.sum())\n",
        "print(groupbypat_df_hashes.sum())\n",
        "print(pat_anz_nowellrechnung_df_hashes.sum())\n",
        "print(diagn_encnowell_df_hashes.sum())\n",
        "print(anz_pat_dign_enc_df_hashes.sum())\n",
        "print(rhc_rein01_df_hashes.sum())\n",
        "print(rhc_rein02_df_hashes.sum())\n",
        "print(rhc_rein03_df_hashes.sum())\n",
        "print(rhc_rein04_df_hashes.sum())\n",
        "print(rhc_rein05_df_hashes.sum())\n",
        "print(rhc_rein06_df_hashes.sum())\n",
        "print(rhc_rein_df_hashes.sum())"
      ],
      "execution_count": null,
      "outputs": []
    }
  ]
}