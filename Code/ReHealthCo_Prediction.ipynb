{
  "nbformat": 4,
  "nbformat_minor": 0,
  "metadata": {
    "colab": {
      "provenance": [],
      "toc_visible": true,
      "include_colab_link": true
    },
    "kernelspec": {
      "name": "python3",
      "display_name": "Python 3"
    },
    "language_info": {
      "name": "python"
    }
  },
  "cells": [
    {
      "cell_type": "markdown",
      "metadata": {
        "id": "view-in-github",
        "colab_type": "text"
      },
      "source": [
        "<a href=\"https://colab.research.google.com/github/Fuenfgeld/DMA2023TeamD/blob/dev_branch_EDA_Prediction/Code/ReHealthCo_Prediction.ipynb\" target=\"_parent\"><img src=\"https://colab.research.google.com/assets/colab-badge.svg\" alt=\"Open In Colab\"/></a>"
      ]
    },
    {
      "cell_type": "markdown",
      "source": [
        "# ReHealthCo Prediction-Prozess"
      ],
      "metadata": {
        "id": "r2GhM0xtrO3l"
      }
    },
    {
      "cell_type": "markdown",
      "source": [
        "## Vorbereitung "
      ],
      "metadata": {
        "id": "vpF-B8jHUcEo"
      }
    },
    {
      "cell_type": "markdown",
      "source": [
        "###CleanUp - Eventuell gespeicherte Variablen löschen vor Ausführung des Colab books (Ziel Reproduzierbarkeit)"
      ],
      "metadata": {
        "id": "b5m5XJqMVjJq"
      }
    },
    {
      "cell_type": "code",
      "source": [
        "# Löschen aller Variablen\n",
        "%reset -f"
      ],
      "metadata": {
        "id": "_Q776tIoSo-M"
      },
      "execution_count": null,
      "outputs": []
    },
    {
      "cell_type": "markdown",
      "source": [
        "## Importieren der notwendigen Libraries: sqlite3, csv, pandas"
      ],
      "metadata": {
        "id": "O8gYdvOwn5mk"
      }
    },
    {
      "cell_type": "code",
      "source": [
        "import sqlite3\n",
        "from sqlite3 import Error\n",
        "import csv\n",
        "import pandas as pd\n",
        "import numpy as np\n",
        "from pandas.util import hash_pandas_object\n",
        "import seaborn as sns\n",
        "from sklearn.model_selection import train_test_split \n",
        "from sklearn.linear_model import LinearRegression\n",
        "from sklearn.linear_model import ElasticNet\n",
        "from sklearn.ensemble import RandomForestRegressor"
      ],
      "metadata": {
        "id": "mJxD2LwZn3yn"
      },
      "execution_count": null,
      "outputs": []
    },
    {
      "cell_type": "markdown",
      "source": [
        "### Erstellung einer virtuellen Kopie des GitHub Repositorium DMA2023TeamD in Colab"
      ],
      "metadata": {
        "id": "A1Dq0N3XYMoU"
      }
    },
    {
      "cell_type": "code",
      "source": [
        "!git clone https://github.com/Fuenfgeld/DMA2023TeamD.git"
      ],
      "metadata": {
        "id": "dmeCFp_e3Y0Z"
      },
      "execution_count": null,
      "outputs": []
    },
    {
      "cell_type": "code",
      "source": [
        "# Wechsel in den Unterordner csv_data des Github-Projekt-Ordners\n",
        "%cd /content/DMA2023TeamD/csv_data"
      ],
      "metadata": {
        "id": "nMsb146GnGj0"
      },
      "execution_count": null,
      "outputs": []
    },
    {
      "cell_type": "code",
      "source": [
        "# Auflistung aller Ordnerinhalte\n",
        "!ls"
      ],
      "metadata": {
        "id": "hqmn5rfUnGj1"
      },
      "execution_count": null,
      "outputs": []
    },
    {
      "cell_type": "markdown",
      "source": [
        "### Benennung des rhc-DataFrames und Einlesen des entsprechenden anonymisierten csv-Files von Github"
      ],
      "metadata": {
        "id": "B5a4CkeGyL-z"
      }
    },
    {
      "cell_type": "code",
      "source": [
        "# Pfad-Abkürzung zum Speicherort der anonymisierten csv-Tabelle\n",
        "csv_path_anonymrhc = \"/content/DMA2023TeamD/csv_data\""
      ],
      "metadata": {
        "id": "7-NeR0VHppu4"
      },
      "execution_count": null,
      "outputs": []
    },
    {
      "cell_type": "code",
      "source": [
        "# Einlesen der anonymisierten Tabelle als Pandas DataFrame\n",
        "rhc_df = pd.read_csv(f\"{csv_path_anonymrhc}/anonym_rhcpat.csv\")"
      ],
      "metadata": {
        "id": "vVRS5MaayL-1"
      },
      "execution_count": null,
      "outputs": []
    },
    {
      "cell_type": "code",
      "source": [
        "# Anzeige des DF-Inhalts\n",
        "rhc_df"
      ],
      "metadata": {
        "id": "u75OTP-ANat-"
      },
      "execution_count": null,
      "outputs": []
    },
    {
      "cell_type": "markdown",
      "source": [
        "# Einlesen passender DataFrames (DF) nach Auswertung durch den EDA-Prozess"
      ],
      "metadata": {
        "id": "7WKJCaQpybZB"
      }
    },
    {
      "cell_type": "markdown",
      "source": [
        "### Ziel-DF rhc_all_df mit allen geplanten Vergleichen ohne Bereinigungen"
      ],
      "metadata": {
        "id": "5kJyDmKGIPIP"
      }
    },
    {
      "cell_type": "code",
      "source": [
        "diag_anz_df = rhc_df[[\"RHC_PSEUDONYM\", \"DESC_CON\"]].groupby([\"RHC_PSEUDONYM\"]).count().sort_values(\"DESC_CON\", ascending=False) # Erstellung DF diag_anz_df mit Spalte Diagnosen/Patient als Name\n",
        "diag_anz_df.rename(columns={\"DESC_CON\": \"DESC_CON_ANZ\"}, inplace=True) # Umbenunng der Spalte Diagnosen/Patient in DESC_CON_ANZ\n",
        "rhc_diagn_df = pd.DataFrame.merge(rhc_df, diag_anz_df, left_on=[\"RHC_PSEUDONYM\"], right_on=[\"RHC_PSEUDONYM\"], how=\"left\") # Spalte Diagnosen/Patient an das gesamte DataFrame hängen\n",
        "rhc_diagn_df.loc[:, 'DESC_CON_SORT'] = rhc_diagn_df.loc[:, 'DESC_CON_ANZ'] # Spalte DESC_CON_ANZ verdoppeln\n",
        "rhc_diagn_df['DESC_CON_SORT'].values[rhc_diagn_df['DESC_CON_SORT'] > 2] = 3 # Ersetzen aller Werte bei Patienten > 2 Diagnosen mit einer 3\n",
        "rhc_diagn_df[\"HEALTHCARE_EXPENSES_UNCOVERED\"] = rhc_diagn_df[\"HEALTHCARE_EXPENSES_PAT\"]-rhc_diagn_df[\"HEALTHCARE_COVERAGE_PAT\"] # neue Spalte HEALTHCARE_EXPENSES uncovered\n",
        "rhc_diagn_df[\"VERH_HEALTHCARE_EXPENSES_COV_UNCOV\"] = rhc_diagn_df[\"HEALTHCARE_COVERAGE_PAT\"]/rhc_diagn_df[\"HEALTHCARE_EXPENSES_PAT\"] # neue Spalte Verhältnis Ausgaben abgedeckt/nicht abgedeckt mit Spaltennahmen VERH_HEALTHCARE_EXPENSES_COV_UNCOV\n",
        "rhc_enc_anz_df = rhc_diagn_df[[\"RHC_PSEUDONYM\", \"ENCOUNTERCLASS_ENC\"]].groupby([\"RHC_PSEUDONYM\"]).count().sort_values(\"ENCOUNTERCLASS_ENC\", ascending=False) # Anzeige Encounterbegegnungen/Patient, absteigend sortiert\n",
        "rhc_enc_anz_df.rename(columns={\"ENCOUNTERCLASS_ENC\": \"ENCOUNTERCLASS_ENC_ANZ\"}, inplace=True) # Umbenunng der Spalte Encounterbegegnungen/Patient in ENCOUNTERCLASS_ENC_ANZ\n",
        "rhc_all_df = pd.DataFrame.merge(rhc_diagn_df, rhc_enc_anz_df, left_on=[\"RHC_PSEUDONYM\"], right_on=[\"RHC_PSEUDONYM\"], how=\"left\") # Spalte Encounterbegegnungen/Patient an das gesamte DataFrame hängen\n",
        "rhc_all_df.loc[:, 'ENCOUNTERCLASS_ENC_ANZ_SORT'] = rhc_all_df.loc[:, 'ENCOUNTERCLASS_ENC_ANZ'] # Spalte ENCOUNTERCLASS_ENC_ANZ verdoppeln\n",
        "rhc_all_df['ENCOUNTERCLASS_ENC_ANZ_SORT'].values[rhc_all_df['ENCOUNTERCLASS_ENC_ANZ_SORT'] > 2] = 3 # Ersetzen aller Werte bei Patienten > 2 Encounterbegegnungen mit einer 3\n",
        "rhc_all_df # Anzeige des Ergebnis"
      ],
      "metadata": {
        "id": "asLejBDkymAK"
      },
      "execution_count": null,
      "outputs": []
    },
    {
      "cell_type": "markdown",
      "source": [
        "### Ziel-DF rhc_all_nowell_df mit allen geplanten Vergleichen ohne wellness bei Encounterbegegnungen sowie Umschreibung aller Stringwerte in Integer zur Durchführung von Berechnungen"
      ],
      "metadata": {
        "id": "p56MccsrIequ"
      }
    },
    {
      "cell_type": "code",
      "source": [
        "rhc_all_nowell_df = rhc_all_df.drop(rhc_all_df[ (rhc_all_df['ENCOUNTERCLASS_ENC'] == \"wellness\")].index) # Löschen der Encounterbegegnung wellness \n",
        "# Umschreibung aller string-werte in integer vor Gruppierung auf einzelnen Patienten\n",
        "rhc_all_nowell_df.ENCOUNTERCLASS_ENC.replace(['ambulatory', 'inpatient', 'emergency', 'outpatient'], [0, 1, 2, 3], inplace=True)\n",
        "rhc_all_nowell_df.DATENBANKART.replace(['asthma', 'covid', 'metabolic'], [0, 1, 2], inplace=True)\n",
        "rhc_all_nowell_df.DESC_CON.replace(['COVID-19', 'Coronary Heart Disease', 'Pneumonia (disorder)', \"Hypoxemia (disorder)\", \"Acute respiratory failure (disorder)\", \"Cardiac Arrest\", \"Atrial Fibrillation\", \"Stroke\", \"Sepsis caused by virus (disorder)\", \n",
        "                                        \"Acute deep venous thrombosis (disorder)\", \"Acute pulmonary embolism (disorder)\", \"Myocardial Infarction\", \"Septic shock (disorder)\", \"Acute respiratory distress syndrome (disorder)\",\n",
        "                                        \"Injury of heart (disorder)\", \"Acquired coagulation disorder (disorder)\", \"Childhood asthma\", \"Injury of kidney (disorder)\", \"Heart failure (disorder)\", \"Bacterial infectious disease (disorder)\", \"Asthma\"\n",
        "                                        ], [0, 1, 2, 3, 4, 5, 6, 7, 8, 9, 10, 11, 12, 13, 14, 15, 16, 17, 18, 19, 20], inplace=True)\n",
        "rhc_all_nowell_df"
      ],
      "metadata": {
        "id": "3reuWPfiFZDP"
      },
      "execution_count": null,
      "outputs": []
    },
    {
      "cell_type": "markdown",
      "source": [
        "### Ziel-DF anz_pat_dign_enc_df mit Anzeige Patienten/Diagnose sowie Patienten/Encountbegegnung, absteigend sortiert nach Patienten/Diagnose"
      ],
      "metadata": {
        "id": "mmzpgHwiI2SY"
      }
    },
    {
      "cell_type": "code",
      "source": [
        "pat_anz_nowellrechnung_df = rhc_df.drop(rhc_df[ (rhc_df['ENCOUNTERCLASS_ENC'] == \"wellness\") ].index) # Löschen der Encounterbegegnung wellness \n",
        "diagn_encnowell_df = pat_anz_nowellrechnung_df[[\"RHC_PSEUDONYM\", \"DESC_CON\", \"ENCOUNTERCLASS_ENC\"]].groupby([\"DESC_CON\"]).count().sort_values(\"RHC_PSEUDONYM\", ascending=False) # Benennung des DF\n",
        "diagn_encnowell_df.rename(columns={\"ENCOUNTERCLASS_ENC\": \"ENCOUNTERCLASS_NOWELL\"}, inplace=True) # Umbenunng der Spalte Encounterbegegnungen/Diagnose in ENCOUNTERCLASS_NOWELL\n",
        "anz_pat_dign_enc_df = diagn_encnowell_df.reset_index()\n",
        "anz_pat_dign_enc_df.rename(columns={\"RHC_PSEUDONYM\": \"PAT_ANZ\", \"DESC_CON\": \"DIAGNOSEN\", \"ENCOUNTERCLASS_NOWELL\": \"ENC_BEGEG_NOWELL\"}, inplace=True) # Umbenunng der Spalte Encounterbegegnungen/Diagnose in ENCOUNTERCLASS_NOWELL\n",
        "anz_pat_dign_enc_df.DIAGNOSEN.replace(['COVID-19', 'Coronary Heart Disease', 'Pneumonia (disorder)', \"Hypoxemia (disorder)\", \"Acute respiratory failure (disorder)\", \"Cardiac Arrest\", \"Atrial Fibrillation\", \"Stroke\", \"Sepsis caused by virus (disorder)\", \n",
        "                                        \"Acute deep venous thrombosis (disorder)\", \"Acute pulmonary embolism (disorder)\", \"Myocardial Infarction\", \"Septic shock (disorder)\", \"Acute respiratory distress syndrome (disorder)\",\n",
        "                                        \"Injury of heart (disorder)\", \"Acquired coagulation disorder (disorder)\", \"Childhood asthma\", \"Injury of kidney (disorder)\", \"Heart failure (disorder)\", \"Bacterial infectious disease (disorder)\", \"Asthma\"\n",
        "                                        ], [0, 1, 2, 3, 4, 5, 6, 7, 8, 9, 10, 11, 12, 13, 14, 15, 16, 17, 18, 19, 20], inplace=True) # Umbenunng der Diagnosen in 0 bis 20 um damit zu rechnen\n",
        "anz_pat_dign_enc_df # Anzeige DF"
      ],
      "metadata": {
        "id": "lOOfECl1z7MG"
      },
      "execution_count": null,
      "outputs": []
    },
    {
      "cell_type": "markdown",
      "source": [
        "### Ziel-DF ohne Extremwerte basierend auf dem DF rhc_all_nowell_df mit allen geplanten Vergleichen ohne wellness bei Encounterbegegnungen"
      ],
      "metadata": {
        "id": "lWq-fo4IJZMd"
      }
    },
    {
      "cell_type": "markdown",
      "source": [
        "### folgende essentielle DF wurden erstellt: \n",
        "rhc_all_df  =  alles\n",
        "\n",
        "rhc_all_nowell_df  =  alles ohne wellness\n",
        "\n",
        "anz_pat_dign_enc_df  =  Anzahl Patienten/Diagnose sowie Patienten/Encountbegegnung"
      ],
      "metadata": {
        "id": "OSNbKyI2LKiO"
      }
    },
    {
      "cell_type": "markdown",
      "source": [
        "# Machinelearning Modelle"
      ],
      "metadata": {
        "id": "lBRgR_SqKK00"
      }
    },
    {
      "cell_type": "code",
      "source": [
        "# Anzeige der Kopfspalten des DF\n",
        "print(rhc_all_df.columns.tolist())"
      ],
      "metadata": {
        "id": "hmkBTp1sLtFy"
      },
      "execution_count": null,
      "outputs": []
    },
    {
      "cell_type": "code",
      "source": [
        "# Prediction für DF alles\n",
        "dfpred = rhc_all_df[[\"AGE\", \"GENDER_PAT\", \"HEALTHCARE_EXPENSES_PAT\", \"DESC_CON_ANZ\", \"ENCOUNTERCLASS_ENC_ANZ\"]].groupby([\"AGE\", \"GENDER_PAT\"]).mean().reset_index()\n",
        "dfpred"
      ],
      "metadata": {
        "id": "A6dTWztVuq2W"
      },
      "execution_count": null,
      "outputs": []
    },
    {
      "cell_type": "code",
      "source": [
        "# Anzeige der Kopfspalten des DF\n",
        "print(rhc_all_nowell_df.columns.tolist())"
      ],
      "metadata": {
        "id": "YfSM4b394KnJ"
      },
      "execution_count": null,
      "outputs": []
    },
    {
      "cell_type": "code",
      "source": [
        "# Prediction für DF alles ohne wellness\n",
        "dfprednowell = rhc_all_nowell_df[[\"AGE\", \"GENDER_PAT\", \"HEALTHCARE_EXPENSES_PAT\", \"DESC_CON_ANZ\", \"ENCOUNTERCLASS_ENC_ANZ\"]].groupby([\"AGE\", \"GENDER_PAT\"]).mean().reset_index()\n",
        "dfprednowell"
      ],
      "metadata": {
        "id": "vUrpcGwG2awo"
      },
      "execution_count": null,
      "outputs": []
    },
    {
      "cell_type": "code",
      "source": [
        "# Anzeige der Kopfspalten des DF\n",
        "print(anz_pat_dign_enc_df.columns.tolist())"
      ],
      "metadata": {
        "id": "Lz68lglD4Oxb"
      },
      "execution_count": null,
      "outputs": []
    },
    {
      "cell_type": "code",
      "source": [
        "# Prediction für DF Anzahl Patienten/Diagnose sowie Patienten/Encountbegegnung\n",
        "dfpredanz = anz_pat_dign_enc_df[['DIAGNOSEN', 'PAT_ANZ', 'ENC_BEGEG_NOWELL']].groupby(['DIAGNOSEN']).mean().reset_index()\n",
        "dfpredanz"
      ],
      "metadata": {
        "id": "R2kUUTWc2ivQ"
      },
      "execution_count": null,
      "outputs": []
    },
    {
      "cell_type": "code",
      "source": [
        "# Mischen der Daten\n",
        "dfpred = dfpred.sample(frac=1)\n",
        "dfprednowell = dfprednowell.sample(frac=1)\n",
        "dfpredanz = dfpredanz.sample(frac=1)"
      ],
      "metadata": {
        "id": "r-xuHFg6OTAn"
      },
      "execution_count": null,
      "outputs": []
    },
    {
      "cell_type": "code",
      "source": [
        "# Splitten der Daten in train und test Dataframes\n",
        "train_ratio = 0.70\n",
        "validation_ratio = 0.15\n",
        "test_ratio = 0.15"
      ],
      "metadata": {
        "id": "8U6CW08COg2Q"
      },
      "execution_count": null,
      "outputs": []
    },
    {
      "cell_type": "code",
      "source": [
        "# Ausgabe der Shapes von train und test Dataframes\n",
        "dfpred_train, dfpred_test = train_test_split(dfpred, test_size=test_ratio, random_state=0)\n",
        "dfprednowell_train, dfprednowell_test = train_test_split(dfprednowell, test_size=test_ratio, random_state=0)\n",
        "dfpredanz_train, dfpredanz_test = train_test_split(dfpredanz, test_size=test_ratio, random_state=0)"
      ],
      "metadata": {
        "id": "Ie5CtBATD7kW"
      },
      "execution_count": null,
      "outputs": []
    },
    {
      "cell_type": "code",
      "source": [
        "dfpred_train.shape, dfpred_test.shape"
      ],
      "metadata": {
        "id": "1DzHk1Ny5suh"
      },
      "execution_count": null,
      "outputs": []
    },
    {
      "cell_type": "code",
      "source": [
        "dfprednowell_train.shape, dfprednowell_test.shape"
      ],
      "metadata": {
        "id": "XpfTui785iXQ"
      },
      "execution_count": null,
      "outputs": []
    },
    {
      "cell_type": "code",
      "source": [
        "dfpredanz_train.shape, dfpredanz_test.shape"
      ],
      "metadata": {
        "id": "zKT-1I6s5k3Q"
      },
      "execution_count": null,
      "outputs": []
    },
    {
      "cell_type": "code",
      "source": [
        "print(dfpred_train)\n",
        "print(dfprednowell_train)\n",
        "print(dfpredanz_train)"
      ],
      "metadata": {
        "id": "bRnpnF4OUBww"
      },
      "execution_count": null,
      "outputs": []
    },
    {
      "cell_type": "markdown",
      "source": [
        "Bestimmen der Features und des Zielwertes"
      ],
      "metadata": {
        "id": "OM2ssqUCx-md"
      }
    },
    {
      "cell_type": "code",
      "source": [
        "X = dfpred_train.drop(\"HEALTHCARE_EXPENSES_PAT\", axis=1)\n",
        "y = dfpred_train[\"HEALTHCARE_EXPENSES_PAT\"]"
      ],
      "metadata": {
        "id": "_O07wan0Oj2N"
      },
      "execution_count": null,
      "outputs": []
    },
    {
      "cell_type": "code",
      "source": [
        "X1 = dfprednowell_train.drop(\"HEALTHCARE_EXPENSES_PAT\", axis=1)\n",
        "y1 = dfprednowell_train[\"HEALTHCARE_EXPENSES_PAT\"]"
      ],
      "metadata": {
        "id": "akjqzTWo55UE"
      },
      "execution_count": null,
      "outputs": []
    },
    {
      "cell_type": "code",
      "source": [
        "X2 = dfpredanz_train.drop(\"PAT_ANZ\", axis=1)\n",
        "y2 = dfpredanz_train[\"PAT_ANZ\"]"
      ],
      "metadata": {
        "id": "UMsoDjJG524w"
      },
      "execution_count": null,
      "outputs": []
    },
    {
      "cell_type": "code",
      "source": [
        "X2"
      ],
      "metadata": {
        "id": "CucDxcOSKJpn"
      },
      "execution_count": null,
      "outputs": []
    },
    {
      "cell_type": "code",
      "source": [
        "X3 = dfpredanz_train.drop(\"ENC_BEGEG_NOWELL\", axis=1)\n",
        "y3 = dfpredanz_train[\"ENC_BEGEG_NOWELL\"]"
      ],
      "metadata": {
        "id": "g1Nzjenc64Hq"
      },
      "execution_count": null,
      "outputs": []
    },
    {
      "cell_type": "code",
      "source": [
        "X.head()"
      ],
      "metadata": {
        "id": "jzRZlOR4aHdM"
      },
      "execution_count": null,
      "outputs": []
    },
    {
      "cell_type": "code",
      "source": [
        "X.shape"
      ],
      "metadata": {
        "id": "l_Cs_9ZtaVmR"
      },
      "execution_count": null,
      "outputs": []
    },
    {
      "cell_type": "code",
      "source": [
        "y.head()"
      ],
      "metadata": {
        "id": "FGYvRXFsaK4W"
      },
      "execution_count": null,
      "outputs": []
    },
    {
      "cell_type": "code",
      "source": [
        "y.shape"
      ],
      "metadata": {
        "id": "BTWJNJ4haN63"
      },
      "execution_count": null,
      "outputs": []
    },
    {
      "cell_type": "code",
      "source": [
        "pred_test_df = pd.concat([X, y], axis=1)\n",
        "pred_test_df.shape"
      ],
      "metadata": {
        "id": "CBoR9acFagqS"
      },
      "execution_count": null,
      "outputs": []
    },
    {
      "cell_type": "code",
      "source": [
        "pred_test_nowell_df = pd.concat([X1, y1], axis=1)\n",
        "pred_test_nowell_df.shape"
      ],
      "metadata": {
        "id": "eVN8hKEt7GAm"
      },
      "execution_count": null,
      "outputs": []
    },
    {
      "cell_type": "code",
      "source": [
        "pred_test_anzpat_df = pd.concat([X2, y2], axis=1)\n",
        "pred_test_anzpat_df.shape"
      ],
      "metadata": {
        "id": "sqwgkLVH7NAF"
      },
      "execution_count": null,
      "outputs": []
    },
    {
      "cell_type": "code",
      "source": [
        "pred_test_anzenc_df = pd.concat([X3, y3], axis=1)\n",
        "pred_test_anzenc_df.shape"
      ],
      "metadata": {
        "id": "ApgYbohO7TA9"
      },
      "execution_count": null,
      "outputs": []
    },
    {
      "cell_type": "code",
      "source": [
        "# shuffle\n",
        "pred_test_df.sample(frac=1)"
      ],
      "metadata": {
        "id": "FGymjBpCarbs"
      },
      "execution_count": null,
      "outputs": []
    },
    {
      "cell_type": "code",
      "source": [
        "# shuffle\n",
        "pred_test_nowell_df.sample(frac=1)"
      ],
      "metadata": {
        "id": "4e3TqjRA7lR1"
      },
      "execution_count": null,
      "outputs": []
    },
    {
      "cell_type": "code",
      "source": [
        "# shuffle\n",
        "pred_test_anzpat_df.sample(frac=1)"
      ],
      "metadata": {
        "id": "U1E3vQSL7o0k"
      },
      "execution_count": null,
      "outputs": []
    },
    {
      "cell_type": "code",
      "source": [
        "# shuffle\n",
        "pred_test_anzenc_df.sample(frac=1)"
      ],
      "metadata": {
        "id": "zgTIO-Ck7tRu"
      },
      "execution_count": null,
      "outputs": []
    },
    {
      "cell_type": "code",
      "source": [
        "# split data to testing and training dataset alles\n",
        "X_train, X_test, y_train, y_test = train_test_split(X, y, test_size=0.2, random_state=42) # ACHTUNG auf 42 setzen!\n",
        "X_train.shape, y_train.shape, X_test.shape, y_test.shape"
      ],
      "metadata": {
        "id": "wCOfJ4cibDee"
      },
      "execution_count": null,
      "outputs": []
    },
    {
      "cell_type": "code",
      "source": [
        "# split data to testing and training dataset alles ohne wellness\n",
        "X1_train, X1_test, y1_train, y1_test = train_test_split(X1, y1, test_size=0.2, random_state=42) # ACHTUNG auf 42 setzen!\n",
        "X1_train.shape, y1_train.shape, X1_test.shape, y1_test.shape"
      ],
      "metadata": {
        "id": "OcRnDslE7_19"
      },
      "execution_count": null,
      "outputs": []
    },
    {
      "cell_type": "code",
      "source": [
        "# split data to testing and training dataset Anzahl Patienten/Diagnose\n",
        "X2_train, X2_test, y2_train, y2_test = train_test_split(X2, y2, test_size=0.2, random_state=42) # ACHTUNG auf 42 setzen!\n",
        "X2_train.shape, y2_train.shape, X2_test.shape, y2_test.shape"
      ],
      "metadata": {
        "id": "yjonAsd18IHS"
      },
      "execution_count": null,
      "outputs": []
    },
    {
      "cell_type": "code",
      "source": [
        "# split data to testing and training dataset Anzahl Patienten/Encountbegegnung\n",
        "X3_train, X3_test, y3_train, y3_test = train_test_split(X3, y3, test_size=0.2, random_state=42) # ACHTUNG auf 42 setzen!\n",
        "X3_train.shape, y3_train.shape, X3_test.shape, y3_test.shape"
      ],
      "metadata": {
        "id": "fiEQ_mVD8Owm"
      },
      "execution_count": null,
      "outputs": []
    },
    {
      "cell_type": "code",
      "source": [
        "# create an object\n",
        "linreg = LinearRegression()\n",
        "ElasticNet = ElasticNet()\n",
        "RF = RandomForestRegressor()"
      ],
      "metadata": {
        "id": "pKnMsklQtU3p"
      },
      "execution_count": null,
      "outputs": []
    },
    {
      "cell_type": "markdown",
      "source": [
        "### Machine learning modelle trainieren - es lässt sich immmer nur ein Model trainieren, daher je nach Model Code aus-/kommentieren"
      ],
      "metadata": {
        "id": "9H7ViRUmssRE"
      }
    },
    {
      "cell_type": "markdown",
      "source": [
        "Training und Test für DF alles - ggf. aus-/kommentieren"
      ],
      "metadata": {
        "id": "e477KRFAD_rE"
      }
    },
    {
      "cell_type": "code",
      "source": [
        "# ElasticNet\n",
        "ElasticNet.fit(X_train, y_train)\n",
        "test_pred_elasticnet = ElasticNet.predict(X_test)\n",
        "test_pred_elasticnet"
      ],
      "metadata": {
        "id": "jMTuBEG-pzAt"
      },
      "execution_count": null,
      "outputs": []
    },
    {
      "cell_type": "code",
      "source": [
        "# Lineare Regression\n",
        "linreg.fit(X_train, y_train)\n",
        "test_pred_lin = linreg.predict(X_test)\n",
        "test_pred_lin"
      ],
      "metadata": {
        "id": "QkvC-ZQ9FNkU"
      },
      "execution_count": null,
      "outputs": []
    },
    {
      "cell_type": "code",
      "source": [
        "# RandomForest\n",
        "RF.fit(X_train, y_train)\n",
        "test_pred_RF = RF.predict(X_test)\n",
        "test_pred_RF"
      ],
      "metadata": {
        "id": "bgxX8wycF1nC"
      },
      "execution_count": null,
      "outputs": []
    },
    {
      "cell_type": "markdown",
      "source": [
        "Training und Test für DF alles ohne wellness - ggf. aus-/kommentieren"
      ],
      "metadata": {
        "id": "3ZDET8r3EhqG"
      }
    },
    {
      "cell_type": "code",
      "source": [
        "# # ElasticNet\n",
        "# ElasticNet.fit(X1_train, y1_train)\n",
        "# test_pred_elasticnet1 = ElasticNet.predict(X1_test)\n",
        "# test_pred_elasticnet1"
      ],
      "metadata": {
        "id": "yU5J-8yx9n7O"
      },
      "execution_count": null,
      "outputs": []
    },
    {
      "cell_type": "code",
      "source": [
        "# # Lineare Regression\n",
        "# linreg.fit(X1_train, y1_train)\n",
        "# test_pred_lin = linreg.predict(X1_test)\n",
        "# test_pred_lin"
      ],
      "metadata": {
        "id": "uQWOYz98FgML"
      },
      "execution_count": null,
      "outputs": []
    },
    {
      "cell_type": "code",
      "source": [
        "# # RandomForest\n",
        "# RF.fit(X1_train, y1_train)\n",
        "# test_pred_RF = RF.predict(X1_test)\n",
        "# test_pred_RF"
      ],
      "metadata": {
        "id": "v4pKG_2sGHcy"
      },
      "execution_count": null,
      "outputs": []
    },
    {
      "cell_type": "markdown",
      "source": [
        "Training und Test für DF Anzahl Patienten/Diagnose - ggf. aus-/kommentieren"
      ],
      "metadata": {
        "id": "v8WQnkuYEvlQ"
      }
    },
    {
      "cell_type": "code",
      "source": [
        "# # ElasticNet\n",
        "# ElasticNet.fit(X2_train, y2_train)\n",
        "# test_pred_elasticnet1 = ElasticNet.predict(X2_test)\n",
        "# test_pred_elasticnet1"
      ],
      "metadata": {
        "id": "QfgUDy6A9qDn"
      },
      "execution_count": null,
      "outputs": []
    },
    {
      "cell_type": "code",
      "source": [
        "# # Lineare Regression\n",
        "# linreg.fit(X2_train, y2_train)\n",
        "# test_pred_lin = linreg.predict(X2_test)\n",
        "# test_pred_lin"
      ],
      "metadata": {
        "id": "JVwzXEb7Fvvi"
      },
      "execution_count": null,
      "outputs": []
    },
    {
      "cell_type": "code",
      "source": [
        "# # RandomForest\n",
        "# RF.fit(X2_train, y2_train)\n",
        "# test_pred_RF = RF.predict(X2_test)\n",
        "# test_pred_RF"
      ],
      "metadata": {
        "id": "df98ZWYuGORB"
      },
      "execution_count": null,
      "outputs": []
    },
    {
      "cell_type": "markdown",
      "source": [
        "Training und Test für DF Anzahl Patienten/Encounterbegegnung - ggf. aus-/kommentieren"
      ],
      "metadata": {
        "id": "5CxbBrA2FCjr"
      }
    },
    {
      "cell_type": "code",
      "source": [
        "# # ElasticNet\n",
        "# ElasticNet.fit(X3_train, y3_train)\n",
        "# test_pred_elasticnet1 = ElasticNet.predict(X3_test)\n",
        "# test_pred_elasticnet1"
      ],
      "metadata": {
        "id": "w9dkHSLy9r66"
      },
      "execution_count": null,
      "outputs": []
    },
    {
      "cell_type": "code",
      "source": [
        "# # Lineare Regression\n",
        "# linreg.fit(X3_train, y3_train)\n",
        "# test_pred_lin = linreg.predict(X3_test)\n",
        "# test_pred_lin"
      ],
      "metadata": {
        "id": "qYL7TKKE95vc"
      },
      "execution_count": null,
      "outputs": []
    },
    {
      "cell_type": "code",
      "source": [
        "# # RandomForest\n",
        "# RF.fit(X3_train, y3_train)\n",
        "# test_pred_RF = RF.predict(X3_test)\n",
        "# test_pred_RF"
      ],
      "metadata": {
        "id": "jKvf01W5-GVR"
      },
      "execution_count": null,
      "outputs": []
    },
    {
      "cell_type": "markdown",
      "source": [
        "### Vorhersage am Beispiel der linearen Regression für Healthcare-Gesamtkosten für einen männlichen Patienten im Alter von 40 J, der bislang 1 Diagnose gestellt bekommen sowie noch keinen Krankenhausbesuch absolviert hat: Betrag in $\n",
        "(1 Diagnose aus folgenden Kategorien: 'COVID-19', 'Coronary Heart Disease', 'Pneumonia (disorder)', \"Hypoxemia (disorder)\", \"Acute respiratory failure (disorder)\", \"Cardiac Arrest\", \"Atrial Fibrillation\", \"Stroke\", \"Sepsis caused by virus (disorder)\", \"Acute deep venous thrombosis (disorder)\", \"Acute pulmonary embolism (disorder)\", \"Myocardial Infarction\", \"Septic shock (disorder)\", \"Acute respiratory distress syndrome (disorder)\", \"Injury of heart (disorder)\", \"Acquired coagulation disorder (disorder)\", \"Childhood asthma\", \"Injury of kidney (disorder)\", \"Heart failure (disorder)\", \"Bacterial infectious disease (disorder)\", \"Asthma\")"
      ],
      "metadata": {
        "id": "RPuxIyVjqCKz"
      }
    },
    {
      "cell_type": "code",
      "source": [
        "# Für DF alles - ggf. aus-/kommentieren\n",
        "healthcarecost_pred = linreg.predict(pd.DataFrame({\"AGE\":[40], \"GENDER_PAT\":[0], \"DESC_CON_ANZ\":[1], \"ENCOUNTERCLASS_ENC_ANZ\":[0]}))\n",
        "healthcarecost_pred"
      ],
      "metadata": {
        "id": "C6x-nXvhzTkw"
      },
      "execution_count": null,
      "outputs": []
    },
    {
      "cell_type": "code",
      "source": [
        "# # Für DF alles ohne wellness - ggf. aus-/kommentieren\n",
        "# healthcarecost_pred = linreg.predict(pd.DataFrame({\"AGE\":[40], \"GENDER_PAT\":[0], \"DESC_CON_ANZ\":[1], \"ENCOUNTERCLASS_ENC_ANZ\":[0]}))\n",
        "# healthcarecost_pred"
      ],
      "metadata": {
        "id": "_oVsfqfcHKd5"
      },
      "execution_count": null,
      "outputs": []
    },
    {
      "cell_type": "markdown",
      "source": [
        "Vorhersage am Beispiel der linearen Regression für Anzahl an Patienten, die an Diagnose 15 (= Acquired coagulation disorder (disorder)) leiden und 1x eine Krankenhausbegegnung hatten"
      ],
      "metadata": {
        "id": "iXIgSflFKma9"
      }
    },
    {
      "cell_type": "code",
      "source": [
        "# # Für DF Anzahl Patienten/Diagnose\n",
        "# diagn_pred = linreg.predict(pd.DataFrame({'DIAGNOSEN':[15], 'ENC_BEGEG_NOWELL':[1]}))\n",
        "# diagn_pred"
      ],
      "metadata": {
        "id": "RYj7WPCWBc3K"
      },
      "execution_count": null,
      "outputs": []
    },
    {
      "cell_type": "markdown",
      "source": [
        "Vorhersage am Beispiel der linearen Regression für Anzahl an Krankenhausbegenungen, die an Diagnose 15 (= Acquired coagulation disorder (disorder)) leiden in Abhängigkeit der Patientenanzahl"
      ],
      "metadata": {
        "id": "Pu74BLqeLK3c"
      }
    },
    {
      "cell_type": "code",
      "source": [
        "# # Für DF Anzahl Patienten/Encounterbegegnung\n",
        "# diagn_pred = linreg.predict(pd.DataFrame({'DIAGNOSEN':[15], 'PAT_ANZ':[15]}))\n",
        "# diagn_pred"
      ],
      "metadata": {
        "id": "5oU9j_AQHktz"
      },
      "execution_count": null,
      "outputs": []
    },
    {
      "cell_type": "markdown",
      "source": [
        "### Auswertung Vorhersagekraft je nach Testverfahren\n",
        "je nach Vorhersage-DF Zeile 1/2/3/4 aus-/kommentieren"
      ],
      "metadata": {
        "id": "ZWxW5FNnpqDq"
      }
    },
    {
      "cell_type": "code",
      "source": [
        "linreg.score(X_test, y_test) # DF alles\n",
        "# linreg.score(X1_test, y1_test) # DF alles ohne wellness\n",
        "# linreg.score(X2_test, y2_test) # DF Anzahl Patienten/Diagnose\n",
        "# linreg.score(X3_test, y3_test) # DF Anzahl Patienten/Encountbegegnung"
      ],
      "metadata": {
        "id": "rmmJEM1ybgrL"
      },
      "execution_count": null,
      "outputs": []
    },
    {
      "cell_type": "code",
      "source": [
        "ElasticNet.score(X_test, y_test) # DF alles\n",
        "# ElasticNet.score(X1_test, y1_test) # DF alles ohne wellness\n",
        "# ElasticNet.score(X2_test, y2_test) # DF Anzahl Patienten/Diagnose\n",
        "# ElasticNet.score(X3_test, y3_test) # DF Anzahl Patienten/Encountbegegnung"
      ],
      "metadata": {
        "id": "9Tk5tLSUosKA"
      },
      "execution_count": null,
      "outputs": []
    },
    {
      "cell_type": "code",
      "source": [
        "RF.score(X_test, y_test) # DF alles\n",
        "# RF.score(X1_test, y1_test) # DF alles ohne wellness\n",
        "# RF.score(X2_test, y2_test) # DF Anzahl Patienten/Diagnose\n",
        "# RF.score(X3_test, y3_test) # DF Anzahl Patienten/Encountbegegnung"
      ],
      "metadata": {
        "id": "ALF4B0CwuIax"
      },
      "execution_count": null,
      "outputs": []
    },
    {
      "cell_type": "markdown",
      "metadata": {
        "id": "VWWX5CrQFoqz"
      },
      "source": [
        "# Version Check"
      ]
    },
    {
      "cell_type": "code",
      "metadata": {
        "id": "q0ShwlfT2H80"
      },
      "source": [
        "#python Version\n",
        "import sys\n",
        "sys.version_info"
      ],
      "execution_count": null,
      "outputs": []
    },
    {
      "cell_type": "code",
      "metadata": {
        "id": "D4kWWXUto83S"
      },
      "source": [
        "pd.__version__"
      ],
      "execution_count": null,
      "outputs": []
    },
    {
      "cell_type": "code",
      "source": [
        "csv.__version__"
      ],
      "metadata": {
        "id": "CYZ4BvSDakIz"
      },
      "execution_count": null,
      "outputs": []
    },
    {
      "cell_type": "code",
      "source": [
        "sns.__version__"
      ],
      "metadata": {
        "id": "Q9NWOl0KOksq"
      },
      "execution_count": null,
      "outputs": []
    },
    {
      "cell_type": "code",
      "metadata": {
        "id": "3NwGVbSoA5lA"
      },
      "source": [
        "# Überprüfen aller Variablen\n",
        "# %pip freeze"
      ],
      "execution_count": null,
      "outputs": []
    },
    {
      "cell_type": "markdown",
      "metadata": {
        "id": "9FxdmDqaAeAl"
      },
      "source": [
        "# Calculate the Checksum of the Data Set"
      ]
    },
    {
      "cell_type": "code",
      "metadata": {
        "id": "sIISw67e_9gI"
      },
      "source": [
        "rhc_df_hashes = hash_pandas_object(rhc_df)\n",
        "diag_anz_df_hashes = hash_pandas_object(diag_anz_df)\n",
        "rhc_diagn_df_hashes = hash_pandas_object(rhc_diagn_df)\n",
        "rhc_enc_anz_df_hashes = hash_pandas_object(rhc_enc_anz_df)\n",
        "rhc_all_df_hashes = hash_pandas_object(rhc_all_df)\n",
        "rhc_all_nowell_df_hashes = hash_pandas_object(rhc_all_nowell_df)\n",
        "pat_anz_nowellrechnung_df_hashes = hash_pandas_object(pat_anz_nowellrechnung_df)\n",
        "diagn_encnowell_df_hashes = hash_pandas_object(diagn_encnowell_df)\n",
        "anz_pat_dign_enc_df_hashes = hash_pandas_object(anz_pat_dign_enc_df)"
      ],
      "execution_count": null,
      "outputs": []
    },
    {
      "cell_type": "code",
      "source": [
        "Liste_rhcpredall_hashes = [rhc_df_hashes, diag_anz_df_hashes, rhc_diagn_df_hashes, rhc_enc_anz_df_hashes, rhc_all_df_hashes, rhc_all_nowell_df_hashes, pat_anz_nowellrechnung_df_hashes, diagn_encnowell_df_hashes, anz_pat_dign_enc_df_hashes]"
      ],
      "metadata": {
        "id": "OEdJmrV0v4C-"
      },
      "execution_count": null,
      "outputs": []
    },
    {
      "cell_type": "code",
      "source": [
        "print(Liste_rhcpredall_hashes)"
      ],
      "metadata": {
        "id": "lezu8pUOwsA6"
      },
      "execution_count": null,
      "outputs": []
    },
    {
      "cell_type": "markdown",
      "metadata": {
        "id": "R45CnT8d4t48"
      },
      "source": [
        "## Value should be \n",
        "8997601563088961698\n",
        "\n",
        "-3795146034381248713\n",
        "\n",
        "2650178518257614002\n",
        "\n",
        "-5022892886560696056\n",
        "\n",
        "8245114429953816038\n",
        "\n",
        "-3815936067771996962\n",
        "\n",
        "-840543143014388252\n",
        "\n",
        "1693621233367357631\n",
        "\n",
        "-3811992772619237490"
      ]
    },
    {
      "cell_type": "code",
      "metadata": {
        "id": "lvQMVdkZAEmy"
      },
      "source": [
        "print(rhc_df_hashes.sum())\n",
        "print(diag_anz_df_hashes.sum())\n",
        "print(rhc_diagn_df_hashes.sum())\n",
        "print(rhc_enc_anz_df_hashes.sum())\n",
        "print(rhc_all_df_hashes.sum())\n",
        "print(rhc_all_nowell_df_hashes.sum())\n",
        "print(pat_anz_nowellrechnung_df_hashes.sum())\n",
        "print(diagn_encnowell_df_hashes.sum())\n",
        "print(anz_pat_dign_enc_df_hashes.sum())"
      ],
      "execution_count": null,
      "outputs": []
    }
  ]
}