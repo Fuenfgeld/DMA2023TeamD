{
  "nbformat": 4,
  "nbformat_minor": 0,
  "metadata": {
    "colab": {
      "provenance": [],
      "toc_visible": true,
      "include_colab_link": true
    },
    "kernelspec": {
      "name": "python3",
      "display_name": "Python 3"
    },
    "language_info": {
      "name": "python"
    }
  },
  "cells": [
    {
      "cell_type": "markdown",
      "metadata": {
        "id": "view-in-github",
        "colab_type": "text"
      },
      "source": [
        "<a href=\"https://colab.research.google.com/github/Fuenfgeld/DMA2023TeamD/blob/dev_branch_EDA_Prediction/Code/ReHealthCo_Rohdatenbank.ipynb\" target=\"_parent\"><img src=\"https://colab.research.google.com/assets/colab-badge.svg\" alt=\"Open In Colab\"/></a>"
      ]
    },
    {
      "cell_type": "markdown",
      "source": [
        "# ReHealthCo Erstellen der Rohdatenbank "
      ],
      "metadata": {
        "id": "r2GhM0xtrO3l"
      }
    },
    {
      "cell_type": "markdown",
      "source": [
        "## Vorbereitung "
      ],
      "metadata": {
        "id": "vpF-B8jHUcEo"
      }
    },
    {
      "cell_type": "markdown",
      "source": [
        "###CleanUp - Eventuell gespeicherte Variablen löschen vor Ausführung des Colab books (Ziel Reproduzierbarkeit)"
      ],
      "metadata": {
        "id": "b5m5XJqMVjJq"
      }
    },
    {
      "cell_type": "code",
      "source": [
        "# Löschen aller Variablen\n",
        "%reset -f"
      ],
      "metadata": {
        "id": "_Q776tIoSo-M"
      },
      "execution_count": null,
      "outputs": []
    },
    {
      "cell_type": "markdown",
      "source": [
        "### Importieren der notwendigen Libraries: sqlite3, csv, pandas"
      ],
      "metadata": {
        "id": "XBuny03iUyWk"
      }
    },
    {
      "cell_type": "code",
      "execution_count": null,
      "metadata": {
        "id": "gyMHffSPm0KW"
      },
      "outputs": [],
      "source": [
        "# import libraries\n",
        "import sqlite3\n",
        "from sqlite3 import Error\n",
        "import csv\n",
        "import pandas as pd\n",
        "from pandas.util import hash_pandas_object"
      ]
    },
    {
      "cell_type": "markdown",
      "source": [
        "### Verknüpfung G-Dive mit Colab"
      ],
      "metadata": {
        "id": "KoRjid4DmVBZ"
      }
    },
    {
      "cell_type": "code",
      "source": [
        "!mkdir -p /content/drive\n",
        "from google.colab import drive\n",
        "drive.mount('/content/drive')"
      ],
      "metadata": {
        "id": "ITXJ30YcmPs8"
      },
      "execution_count": null,
      "outputs": []
    },
    {
      "cell_type": "markdown",
      "source": [
        "### Verbindung mit der SQL-Datenbank herstellen durch Definition der Funktion  *create_connection* und Verbindung mit dem Modul *sqlite3*."
      ],
      "metadata": {
        "id": "kTEf2QY3YYM5"
      }
    },
    {
      "cell_type": "code",
      "source": [
        "# Connect to source database\n",
        "def create_connection(db_file):\n",
        "  \"\"\" create a database connection to SQLite database\"\"\"\n",
        "  conn = None\n",
        "  try:\n",
        "    conn = sqlite3.connect(db_file)\n",
        "    return conn\n",
        "  except Error as error:\n",
        "    print(\"Error while connecting to sqlite\", error)\n",
        "  # finally:\n",
        "  #   if conn:\n",
        "  #     conn.close()"
      ],
      "metadata": {
        "id": "9MYO17ENsje0"
      },
      "execution_count": null,
      "outputs": []
    },
    {
      "cell_type": "markdown",
      "source": [
        "### Definition der Variable *material_path* als Platzhalter zum Verweis auf g-Drive "
      ],
      "metadata": {
        "id": "gMzHM-IOXt6e"
      }
    },
    {
      "cell_type": "markdown",
      "source": [
        "✈ **!! Bitte in nächster Code Zelle eigenen Material Pfad angeben, wenn eigene Daten eingelesen werden sollen !!**\n"
      ],
      "metadata": {
        "id": "928oWlmUo817"
      }
    },
    {
      "cell_type": "code",
      "source": [
        "material_path = \"/content/drive/Shareddrives/Projektarbeit DMA Gruppe D/\""
      ],
      "metadata": {
        "id": "pNan0NZrnj-C"
      },
      "execution_count": null,
      "outputs": []
    },
    {
      "cell_type": "markdown",
      "source": [
        "## Erstellen der Rohdatenbank \"rhc_database\"\n",
        "Ablauf:\n",
        "1.   Erstellen der \"noch\" leeren Rohdatenbank \"rhc_database\" (Zieldatenbank)\n",
        "2.   Erstellung der (leeren) Datenbanken der ausgewählten Synthia Module \n",
        "\n",
        " a) asthma --> ast\n",
        "\n",
        " b) covid --> cov\n",
        "\n",
        " c) metabolic syndrom deseas --> met\n",
        " "
      ],
      "metadata": {
        "id": "HJbANmABVr_O"
      }
    },
    {
      "cell_type": "markdown",
      "source": [
        "### 1. Erstellen der \"noch\" leeren Rohdatenbank \"rhc_database\""
      ],
      "metadata": {
        "id": "hvXZ3x32WxBg"
      }
    },
    {
      "cell_type": "code",
      "source": [
        "# create a temporary empty rhc_database in the memory\n",
        "rhc_db = f\"{material_path}/source_dbs/rehealthco.db\"\n",
        "rhc_conn = create_connection(rhc_db)\n",
        "rhc_cur = rhc_conn.cursor()\n",
        "rhc_conn.commit()\n",
        "print(\"Database connection is successfully\")"
      ],
      "metadata": {
        "id": "Etsz1N7Qp7zz"
      },
      "execution_count": null,
      "outputs": []
    },
    {
      "cell_type": "markdown",
      "source": [
        "### 2.a) Erstellung der (leeren) Datenbanken der ausgewählten Synthia Module asthma "
      ],
      "metadata": {
        "id": "Nw3CZgcWrb5z"
      }
    },
    {
      "cell_type": "code",
      "source": [
        "# create a temporary empty ast_database in the memory\n",
        "ast_db = f\"{material_path}/source_dbs/asthma.db\"\n",
        "ast_conn = create_connection(ast_db)\n",
        "ast_cur = ast_conn.cursor()\n",
        "ast_conn.commit()\n",
        "print(\"Database connection is successfully\")"
      ],
      "metadata": {
        "id": "urXV_BSprDZD"
      },
      "execution_count": null,
      "outputs": []
    },
    {
      "cell_type": "markdown",
      "source": [
        "### 2.b) Erstellung der (leeren) Datenbanken der ausgewählten Synthia Module covid"
      ],
      "metadata": {
        "id": "th2ZfPJ8ZN9_"
      }
    },
    {
      "cell_type": "code",
      "source": [
        "# create a temporary empty cov_database in the memory\n",
        "cov_db = f\"{material_path}/source_dbs/covid.db\"\n",
        "cov_conn = create_connection(cov_db)\n",
        "cov_cur = cov_conn.cursor()\n",
        "cov_conn.commit()\n",
        "print(\"Database connection is successfully\")"
      ],
      "metadata": {
        "id": "1NvKFXSGrDD6"
      },
      "execution_count": null,
      "outputs": []
    },
    {
      "cell_type": "markdown",
      "source": [
        "### 2.c) Erstellung der (leeren) Datenbanken der ausgewählten Synthia Module metabolic"
      ],
      "metadata": {
        "id": "UURv6L9ZZSxI"
      }
    },
    {
      "cell_type": "code",
      "source": [
        "# create a temporary empty met_database in the memory\n",
        "met_db = f\"{material_path}/source_dbs/metabolic.db\"\n",
        "met_conn = create_connection(met_db)\n",
        "met_cur = met_conn.cursor()\n",
        "met_conn.commit()\n",
        "print(\"Database connection is successfully\")"
      ],
      "metadata": {
        "id": "yZgub4NhrCQ0"
      },
      "execution_count": null,
      "outputs": []
    },
    {
      "cell_type": "markdown",
      "source": [
        "## Anlegen der Tabellen in den erstellten DB (rhc, asthma, cov, met) mittels sql skript"
      ],
      "metadata": {
        "id": "-tnDflePyA2p"
      }
    },
    {
      "cell_type": "code",
      "source": [
        "path = f\"{material_path}/source_dbs/sql_create.txt\"\n",
        "myfile = \"\"\n",
        "with open(path, \"r\") as f:\n",
        "  myfile=f.read()\n",
        "#  print(myfile)"
      ],
      "metadata": {
        "id": "KdX6Fo5ox5I9"
      },
      "execution_count": null,
      "outputs": []
    },
    {
      "cell_type": "code",
      "source": [
        "rhc_cur.executescript(myfile)\n",
        "rhc_conn.commit()\n",
        "print(\"Successfully created tables in the database\")"
      ],
      "metadata": {
        "id": "WYaqlUCl4JC6"
      },
      "execution_count": null,
      "outputs": []
    },
    {
      "cell_type": "code",
      "source": [
        "# List of tables in cov_database\n",
        "rhc_cur.execute(\"SELECT name FROM sqlite_master WHERE type='table';\")\n",
        "print(rhc_cur.fetchall())"
      ],
      "metadata": {
        "id": "ivgegXuX4LDD"
      },
      "execution_count": null,
      "outputs": []
    },
    {
      "cell_type": "code",
      "source": [
        "ast_cur.executescript(myfile)\n",
        "ast_conn.commit()\n",
        "print(\"Successfully created tables in the database asthma.db\")"
      ],
      "metadata": {
        "id": "ULt1gHkls7KQ"
      },
      "execution_count": null,
      "outputs": []
    },
    {
      "cell_type": "code",
      "source": [
        "# List of tables in ast_database\n",
        "ast_cur.execute(\"SELECT name FROM sqlite_master WHERE type='table';\")\n",
        "print(ast_cur.fetchall())"
      ],
      "metadata": {
        "id": "pmLkGbymy4p8"
      },
      "execution_count": null,
      "outputs": []
    },
    {
      "cell_type": "code",
      "source": [
        "cov_cur.executescript(myfile)\n",
        "cov_conn.commit()\n",
        "print(\"Successfully created tables in the database\")"
      ],
      "metadata": {
        "id": "tfh03IAV2x7w"
      },
      "execution_count": null,
      "outputs": []
    },
    {
      "cell_type": "code",
      "source": [
        "# List of tables in cov_database\n",
        "cov_cur.execute(\"SELECT name FROM sqlite_master WHERE type='table';\")\n",
        "print(cov_cur.fetchall())"
      ],
      "metadata": {
        "id": "tfbIMpMl323b"
      },
      "execution_count": null,
      "outputs": []
    },
    {
      "cell_type": "code",
      "source": [
        "met_cur.executescript(myfile)\n",
        "met_conn.commit()\n",
        "print(\"Successfully created tables in the database\")"
      ],
      "metadata": {
        "id": "yFytLIsq4C9Q"
      },
      "execution_count": null,
      "outputs": []
    },
    {
      "cell_type": "code",
      "source": [
        "# List of tables in met_database\n",
        "met_cur.execute(\"SELECT name FROM sqlite_master WHERE type='table';\")\n",
        "print(met_cur.fetchall())"
      ],
      "metadata": {
        "id": "N1G9QNZU4Jr6"
      },
      "execution_count": null,
      "outputs": []
    },
    {
      "cell_type": "markdown",
      "source": [
        "## Datenbanken (ast, cov, met) befüllen mit csv-Dateien"
      ],
      "metadata": {
        "id": "ubTxtiXC5eqQ"
      }
    },
    {
      "cell_type": "markdown",
      "source": [
        "### Dateipfad für csv Datein mittels Platzhalter anlegen:  csv_path_ast/-cov/-met in g-Drive"
      ],
      "metadata": {
        "id": "X4Hp6cOlDteN"
      }
    },
    {
      "cell_type": "code",
      "source": [
        "csv_path_ast = f\"{material_path}csv_data/asthma\"\n",
        "csv_path_cov = f\"{material_path}csv_data/covid19\"\n",
        "csv_path_met = f\"{material_path}csv_data/metabolic_syndrome_disease\""
      ],
      "metadata": {
        "id": "WqtIdHkB6tUW"
      },
      "execution_count": null,
      "outputs": []
    },
    {
      "cell_type": "markdown",
      "source": [
        "### Benennung der DataFrames und Einlesen der entsprechenden csv-Files"
      ],
      "metadata": {
        "id": "MJlp_FCwEBAb"
      }
    },
    {
      "cell_type": "code",
      "source": [
        "astpat_df = pd.read_csv(f\"{csv_path_ast}/patients.csv\")\n",
        "astcon_df = pd.read_csv(f\"{csv_path_ast}/conditions.csv\")\n",
        "astmed_df = pd.read_csv(f\"{csv_path_ast}/medications.csv\")\n",
        "astenc_df = pd.read_csv(f\"{csv_path_ast}/encounters.csv\")\n",
        "\n",
        "covpat_df = pd.read_csv(f\"{csv_path_cov}/patients.csv\")\n",
        "covcon_df = pd.read_csv(f\"{csv_path_cov}/conditions.csv\")\n",
        "covmed_df = pd.read_csv(f\"{csv_path_cov}/medications.csv\")\n",
        "covenc_df = pd.read_csv(f\"{csv_path_cov}/encounters.csv\")\n",
        "\n",
        "metpat_df = pd.read_csv(f\"{csv_path_met}/patients.csv\")\n",
        "metcon_df = pd.read_csv(f\"{csv_path_met}/conditions.csv\")\n",
        "metmed_df = pd.read_csv(f\"{csv_path_met}/medications.csv\")\n",
        "metenc_df = pd.read_csv(f\"{csv_path_met}/encounters.csv\")"
      ],
      "metadata": {
        "id": "vArg2R-KGSCq"
      },
      "execution_count": null,
      "outputs": []
    },
    {
      "cell_type": "markdown",
      "source": [
        "Definition der Funktion is_empty zur Überprüfung des Inhalts der DataFrames"
      ],
      "metadata": {
        "id": "OPIujgFANdiJ"
      }
    },
    {
      "cell_type": "code",
      "source": [
        "def is_empty(dfs):\n",
        "  print(dfs)"
      ],
      "metadata": {
        "id": "l7ecAUIZM8rl"
      },
      "execution_count": null,
      "outputs": []
    },
    {
      "cell_type": "code",
      "source": [
        "# Überprüfung eines DataFrames am Beispiel von astpat_df\n",
        "is_empty(astpat_df)"
      ],
      "metadata": {
        "id": "bHVMJdsyNbWA"
      },
      "execution_count": null,
      "outputs": []
    },
    {
      "cell_type": "markdown",
      "source": [
        "### Erstellung von Listen mit DataFrames zur schnelleren Verlinkung"
      ],
      "metadata": {
        "id": "-FFgyfDNQdZB"
      }
    },
    {
      "cell_type": "code",
      "source": [
        "Liste_alldfs = [astpat_df, astcon_df, astmed_df, astenc_df, covpat_df, covcon_df, covmed_df, covenc_df, metpat_df, metcon_df, metenc_df, metmed_df]\n",
        "Liste_astdfs = [astpat_df, astcon_df, astmed_df, astenc_df]\n",
        "Liste_covdfs = [covpat_df, covcon_df, covmed_df, covenc_df]\n",
        "Liste_metdfs = [metpat_df, metcon_df, metenc_df, metmed_df]"
      ],
      "metadata": {
        "id": "h5FImJODPG7V"
      },
      "execution_count": null,
      "outputs": []
    },
    {
      "cell_type": "code",
      "source": [
        "# Überprüfung aller DataFrames als Liste\n",
        "is_empty(Liste_alldfs)"
      ],
      "metadata": {
        "id": "-dpuM7o4LNFN"
      },
      "execution_count": null,
      "outputs": []
    },
    {
      "cell_type": "markdown",
      "source": [
        "## Hinzufügen einer zusätzlichen Spalte und mit Befüllung mit den Werten asthma/covid/metabolic in Abhängigkeit der Ursprungstabelle"
      ],
      "metadata": {
        "id": "eI_pxrUSESv4"
      }
    },
    {
      "cell_type": "markdown",
      "source": [
        "### Definion der Funktion spalteneu"
      ],
      "metadata": {
        "id": "G0zZ2rKdWUDO"
      }
    },
    {
      "cell_type": "code",
      "source": [
        "def spalteneu(dfs, spaltenname, spalteninhalt):\n",
        "  dfs[spaltenname] = spalteninhalt\n",
        "  print(dfs)"
      ],
      "metadata": {
        "id": "7phF_aOFQEO7"
      },
      "execution_count": null,
      "outputs": []
    },
    {
      "cell_type": "markdown",
      "source": [
        "### neue Spalte DATENBANKART mit Inhalt asthma für alle asthma-Dataframes"
      ],
      "metadata": {
        "id": "s2xGzVEfXS4g"
      }
    },
    {
      "cell_type": "code",
      "source": [
        "spalteneu(astpat_df, \"DATENBANKART\", \"asthma\")\n",
        "spalteneu(astcon_df, \"DATENBANKART\", \"asthma\")\n",
        "spalteneu(astmed_df, \"DATENBANKART\", \"asthma\")\n",
        "spalteneu(astenc_df, \"DATENBANKART\", \"asthma\")"
      ],
      "metadata": {
        "id": "jkrpMPPoUgDn"
      },
      "execution_count": null,
      "outputs": []
    },
    {
      "cell_type": "markdown",
      "source": [
        "### neue Spalte DATENBANKART mit Inhalt covid für alle covid-Dataframes"
      ],
      "metadata": {
        "id": "LFYSSsIpXPI-"
      }
    },
    {
      "cell_type": "code",
      "source": [
        "spalteneu(covpat_df, \"DATENBANKART\", \"covid\")\n",
        "spalteneu(covcon_df, \"DATENBANKART\", \"covid\")\n",
        "spalteneu(covmed_df, \"DATENBANKART\", \"covid\")\n",
        "spalteneu(covenc_df, \"DATENBANKART\", \"covid\")"
      ],
      "metadata": {
        "id": "zYej6XB2Us2a"
      },
      "execution_count": null,
      "outputs": []
    },
    {
      "cell_type": "markdown",
      "source": [
        "### neue Spalte DATENBANKART mit Inhalt metabolic für alle metabolic-Dataframes"
      ],
      "metadata": {
        "id": "T5gq472WXMBV"
      }
    },
    {
      "cell_type": "code",
      "source": [
        "spalteneu(metpat_df, \"DATENBANKART\", \"metabolic\")\n",
        "spalteneu(metcon_df, \"DATENBANKART\", \"metabolic\")\n",
        "spalteneu(metmed_df, \"DATENBANKART\", \"metabolic\")\n",
        "spalteneu(metenc_df, \"DATENBANKART\", \"metabolic\")"
      ],
      "metadata": {
        "id": "QEZ0FMok1zES"
      },
      "execution_count": null,
      "outputs": []
    },
    {
      "cell_type": "markdown",
      "source": [
        "### Überprüfung des DataFrame-Inhalts am Beispiel der Liste aller DataFrames"
      ],
      "metadata": {
        "id": "vITwdTgyXfrB"
      }
    },
    {
      "cell_type": "code",
      "source": [
        "is_empty(Liste_alldfs)"
      ],
      "metadata": {
        "id": "khUosRHoKcxO"
      },
      "execution_count": null,
      "outputs": []
    },
    {
      "cell_type": "markdown",
      "source": [
        "# Schreiben der DataFrame-Inhalte in SQL-Tabelle"
      ],
      "metadata": {
        "id": "zndm-o6IYC0y"
      }
    },
    {
      "cell_type": "code",
      "source": [
        "astpat_df.to_sql(\"patients\", ast_conn, schema=None, if_exists='append', index=False, index_label=None, chunksize=None, dtype=None, method=None)\n",
        "astcon_df.to_sql(\"conditions\", ast_conn, schema=None, if_exists='append', index=False, index_label=None, chunksize=None, dtype=None, method=None)\n",
        "astmed_df.to_sql(\"medications\", ast_conn, schema=None, if_exists='append', index=False, index_label=None, chunksize=None, dtype=None, method=None)\n",
        "astenc_df.to_sql(\"encounters\", ast_conn, schema=None, if_exists='append', index=False, index_label=None, chunksize=None, dtype=None, method=None)\n",
        "\n",
        "covpat_df.to_sql(\"patients\", cov_conn, schema=None, if_exists='append', index=False, index_label=None, chunksize=None, dtype=None, method=None)\n",
        "covcon_df.to_sql(\"conditions\", cov_conn, schema=None, if_exists='append', index=False, index_label=None, chunksize=None, dtype=None, method=None)\n",
        "covmed_df.to_sql(\"medications\", cov_conn, schema=None, if_exists='append', index=False, index_label=None, chunksize=None, dtype=None, method=None)\n",
        "covenc_df.to_sql(\"encounters\", cov_conn, schema=None, if_exists='append', index=False, index_label=None, chunksize=None, dtype=None, method=None)\n",
        "\n",
        "metpat_df.to_sql(\"patients\", met_conn, schema=None, if_exists='append', index=False, index_label=None, chunksize=None, dtype=None, method=None)\n",
        "metcon_df.to_sql(\"conditions\", met_conn, schema=None, if_exists='append', index=False, index_label=None, chunksize=None, dtype=None, method=None)\n",
        "metmed_df.to_sql(\"medications\", met_conn, schema=None, if_exists='append', index=False, index_label=None, chunksize=None, dtype=None, method=None)\n",
        "metenc_df.to_sql(\"encounters\", met_conn, schema=None, if_exists='append', index=False, index_label=None, chunksize=None, dtype=None, method=None)\n",
        "\n",
        "# Abschluss\n",
        "ast_conn.commit()\n",
        "cov_conn.commit()\n",
        "met_conn.commit()"
      ],
      "metadata": {
        "id": "rQPvO-xqGrgT"
      },
      "execution_count": null,
      "outputs": []
    },
    {
      "cell_type": "markdown",
      "source": [
        "### Definition der Funktion *checkdata* die den Tabelleninhalt einer bestimmten Datenbank ausliest"
      ],
      "metadata": {
        "id": "dKqBPQsAaMZ6"
      }
    },
    {
      "cell_type": "code",
      "source": [
        "def checkdata(cursor, sql_query):\n",
        "  cursor.execute(sql_query)\n",
        "  rows = cursor.fetchall()\n",
        "  for row in rows:\n",
        "    print(row)"
      ],
      "metadata": {
        "id": "tXv5xw9NZEKH"
      },
      "execution_count": null,
      "outputs": []
    },
    {
      "cell_type": "markdown",
      "source": [
        "### Auslesen der Patients-Tabelle von ast/cov/met"
      ],
      "metadata": {
        "id": "1iMcFG-majPK"
      }
    },
    {
      "cell_type": "code",
      "source": [
        "checkdata(ast_cur, \"SELECT * FROM patients;\")\n",
        "checkdata(cov_cur, \"SELECT * FROM patients;\")\n",
        "checkdata(met_cur, \"SELECT * FROM patients;\")"
      ],
      "metadata": {
        "id": "WBJd7-BoZnAq"
      },
      "execution_count": null,
      "outputs": []
    },
    {
      "cell_type": "markdown",
      "source": [
        "### Auslesen der Conditions-Tabelle von ast/cov/met"
      ],
      "metadata": {
        "id": "VfM3ll_Wats7"
      }
    },
    {
      "cell_type": "code",
      "source": [
        "checkdata(ast_cur, \"SELECT * FROM conditions;\")\n",
        "checkdata(cov_cur, \"SELECT * FROM conditions;\")\n",
        "checkdata(met_cur, \"SELECT * FROM conditions;\")"
      ],
      "metadata": {
        "id": "4wcECkyNanG9"
      },
      "execution_count": null,
      "outputs": []
    },
    {
      "cell_type": "markdown",
      "source": [
        "### Auslesen der Medications-Tabelle von ast/cov/met"
      ],
      "metadata": {
        "id": "lWYbSmp_bZ-_"
      }
    },
    {
      "cell_type": "code",
      "source": [
        "checkdata(ast_cur, \"SELECT * FROM medications;\")\n",
        "checkdata(cov_cur, \"SELECT * FROM medications;\")\n",
        "checkdata(met_cur, \"SELECT * FROM medications;\")"
      ],
      "metadata": {
        "id": "FyCs8IJ9bZ_O"
      },
      "execution_count": null,
      "outputs": []
    },
    {
      "cell_type": "markdown",
      "source": [
        "### Auslesen der Encounters-Tabelle von ast/cov/met"
      ],
      "metadata": {
        "id": "ioHW41SabnCE"
      }
    },
    {
      "cell_type": "code",
      "source": [
        "checkdata(ast_cur, \"SELECT * FROM encounters;\")\n",
        "checkdata(cov_cur, \"SELECT * FROM encounters;\")\n",
        "checkdata(met_cur, \"SELECT * FROM encounters;\")"
      ],
      "metadata": {
        "id": "CpIxL6cObmTL"
      },
      "execution_count": null,
      "outputs": []
    },
    {
      "cell_type": "markdown",
      "source": [
        "## Kopieren der Tabellen in Rohdatenbank: Von *ast, cov, met* db nach *rhc* database unter Verwendung der Funktion copy_table\n",
        "  Patiens --> pat\n",
        "\n",
        "  conditions --> con\n",
        "\n",
        "  Medication --> met\n",
        "\n",
        "  Encounters --> enc \n"
      ],
      "metadata": {
        "id": "uWSL06FOrkVa"
      }
    },
    {
      "cell_type": "code",
      "source": [
        "def copy_table(rhc_conn, ast_cur, rhc_cur, table_name):\n",
        "  ast_cur.execute(f'SELECT * FROM {table_name}')\n",
        "  output = ast_cur.fetchall()   # Returns the results as a list.\n",
        "  # Insert those contents into another table.\n",
        "  for row in output:\n",
        "      rowlen = len(row)\n",
        "      repstring = \"\"\n",
        "      for i in range(rowlen -1):\n",
        "        repstring += \"?,\"\n",
        "      repstring += \"?\"\n",
        "      rhc_cur.execute(f'INSERT INTO {table_name} VALUES ({repstring})', row)\n",
        "  # Cleanup\n",
        "  rhc_conn.commit()"
      ],
      "metadata": {
        "id": "8rZy6v1iRZFC"
      },
      "execution_count": null,
      "outputs": []
    },
    {
      "cell_type": "markdown",
      "source": [
        "# Vereinigung alle Tabellen patients/conditions/medications/encounters in der Zieldatenbank rehealthco"
      ],
      "metadata": {
        "id": "mEnzfxmUcnuX"
      }
    },
    {
      "cell_type": "code",
      "source": [
        "copy_table(rhc_conn, ast_cur, rhc_cur, \"patients\") # 1035 patienten\n",
        "copy_table(rhc_conn, cov_cur, rhc_cur, \"patients\") # nun 2085 patienten\n",
        "copy_table(rhc_conn, met_cur, rhc_cur, \"patients\") # nun 3113 patienten\n",
        "\n",
        "copy_table(rhc_conn, ast_cur, rhc_cur, \"conditions\") # 260 conditions\n",
        "copy_table(rhc_conn, cov_cur, rhc_cur, \"conditions\") # 6895 conditions\n",
        "copy_table(rhc_conn, met_cur, rhc_cur, \"conditions\") # 13733 conditions\n",
        "\n",
        "copy_table(rhc_conn, ast_cur, rhc_cur, \"medications\") # 1515 medications\n",
        "copy_table(rhc_conn, cov_cur, rhc_cur, \"medications\") # 2910 medications\n",
        "copy_table(rhc_conn, met_cur, rhc_cur, \"medications\") # 4625 medications\n",
        "\n",
        "copy_table(rhc_conn, ast_cur, rhc_cur, \"encounters\") # 8522 encounters\n",
        "copy_table(rhc_conn, cov_cur, rhc_cur, \"encounters\") # 35368 encounters\n",
        "copy_table(rhc_conn, met_cur, rhc_cur, \"encounters\") # 63081 encounters\n"
      ],
      "metadata": {
        "id": "MRvMREOeW4tb"
      },
      "execution_count": null,
      "outputs": []
    },
    {
      "cell_type": "markdown",
      "source": [
        "### Tabelleninhalt rehealthco in Pandas-DataFrame umwandeln"
      ],
      "metadata": {
        "id": "yTYHvboDdgwW"
      }
    },
    {
      "cell_type": "code",
      "source": [
        "rhcpat_df = pd.read_sql('''SELECT * FROM patients''', rhc_conn)\n",
        "rhccon_df = pd.read_sql('''SELECT * FROM conditions''', rhc_conn)\n",
        "rhcmed_df = pd.read_sql('''SELECT * FROM medications''', rhc_conn)\n",
        "rhcenc_df = pd.read_sql('''SELECT * FROM encounters''', rhc_conn)"
      ],
      "metadata": {
        "id": "ymAEOC6qcNWI"
      },
      "execution_count": null,
      "outputs": []
    },
    {
      "cell_type": "markdown",
      "source": [
        "### Definition einer Liste mit allen realthco-DataFrames"
      ],
      "metadata": {
        "id": "lqCxX4UveNh9"
      }
    },
    {
      "cell_type": "code",
      "source": [
        "Liste_rhcdfs = [rhcpat_df, rhccon_df, rhcmed_df, rhcenc_df]"
      ],
      "metadata": {
        "id": "lXuj-4FPdzEs"
      },
      "execution_count": null,
      "outputs": []
    },
    {
      "cell_type": "markdown",
      "source": [
        "### Überprüfung des rhc-DataFrame-Inhalts am Beispiel der Liste_rhcdfs"
      ],
      "metadata": {
        "id": "RTpC4K4recik"
      }
    },
    {
      "cell_type": "code",
      "source": [
        "is_empty(Liste_rhcdfs)"
      ],
      "metadata": {
        "id": "G8Eyk0q3eLcd"
      },
      "execution_count": null,
      "outputs": []
    },
    {
      "cell_type": "markdown",
      "source": [
        "# Ausgabe der rhc-Dataframes als csv im rhc-Ordner in g-Drive"
      ],
      "metadata": {
        "id": "ZKYuoHT-e4ut"
      }
    },
    {
      "cell_type": "markdown",
      "source": [
        "**✈ !!! ggf anpassen auf eigenen Zeilordner **"
      ],
      "metadata": {
        "id": "K-MfPewUu6JJ"
      }
    },
    {
      "cell_type": "code",
      "source": [
        "rhcpat_df.to_csv(f\"{material_path}/csv_data/rhc/rhcpat_df.csv\", index=False)\n",
        "rhccon_df.to_csv(f\"{material_path}/csv_data/rhc/rhccon_df.csv\", index=False)\n",
        "rhcmed_df.to_csv(f\"{material_path}/csv_data/rhc/rhcmed_df.csv\", index=False)\n",
        "rhcenc_df.to_csv(f\"{material_path}/csv_data/rhc/rhcenc_df.csv\", index=False)"
      ],
      "metadata": {
        "id": "gEvnxQS-etf4"
      },
      "execution_count": null,
      "outputs": []
    },
    {
      "cell_type": "markdown",
      "source": [
        "Anzeigen Dateinamen in sample data"
      ],
      "metadata": {
        "id": "FjKqgrVUEYFL"
      }
    },
    {
      "cell_type": "code",
      "source": [
        "%cd /content/drive/Shareddrives/Projektarbeit DMA Gruppe D/csv_data/rhc"
      ],
      "metadata": {
        "id": "jeWFWoDuTtbC"
      },
      "execution_count": null,
      "outputs": []
    },
    {
      "cell_type": "code",
      "source": [
        "!ls"
      ],
      "metadata": {
        "id": "7C_xsKtGEVzD"
      },
      "execution_count": null,
      "outputs": []
    },
    {
      "cell_type": "markdown",
      "metadata": {
        "id": "VWWX5CrQFoqz"
      },
      "source": [
        "# Version Check"
      ]
    },
    {
      "cell_type": "code",
      "metadata": {
        "id": "q0ShwlfT2H80"
      },
      "source": [
        "#python Version\n",
        "import sys\n",
        "sys.version_info"
      ],
      "execution_count": null,
      "outputs": []
    },
    {
      "cell_type": "code",
      "metadata": {
        "id": "D4kWWXUto83S"
      },
      "source": [
        "pd.__version__"
      ],
      "execution_count": null,
      "outputs": []
    },
    {
      "cell_type": "code",
      "source": [
        "csv.__version__"
      ],
      "metadata": {
        "id": "CYZ4BvSDakIz"
      },
      "execution_count": null,
      "outputs": []
    },
    {
      "cell_type": "code",
      "metadata": {
        "id": "3NwGVbSoA5lA"
      },
      "source": [
        "# Überprüfen aller Variablen\n",
        "# %pip freeze"
      ],
      "execution_count": null,
      "outputs": []
    },
    {
      "cell_type": "markdown",
      "metadata": {
        "id": "9FxdmDqaAeAl"
      },
      "source": [
        "# Calculate the Checksum of the Data Set"
      ]
    },
    {
      "cell_type": "markdown",
      "source": [
        "### Return a data hash of DataFrames"
      ],
      "metadata": {
        "id": "oX8UJOilvoPc"
      }
    },
    {
      "cell_type": "code",
      "metadata": {
        "id": "sIISw67e_9gI"
      },
      "source": [
        "rhcpat_df_hashes = hash_pandas_object(rhcpat_df)\n",
        "rhccon_df_hashes = hash_pandas_object(rhccon_df)\n",
        "rhcmed_df_hashes = hash_pandas_object(rhcmed_df)\n",
        "rhcenc_df_hashes = hash_pandas_object(rhcenc_df)\n",
        "astpat_df_hashes = hash_pandas_object(astpat_df)\n",
        "astcon_df_hashes = hash_pandas_object(astcon_df)\n",
        "astmed_df_hashes = hash_pandas_object(astmed_df)\n",
        "astenc_df_hashes = hash_pandas_object(astenc_df)\n",
        "covpat_df_hashes = hash_pandas_object(covpat_df)\n",
        "covcon_df_hashes = hash_pandas_object(covcon_df)\n",
        "covmed_df_hashes = hash_pandas_object(covmed_df)\n",
        "covenc_df_hashes = hash_pandas_object(covenc_df)\n",
        "metpat_df_hashes = hash_pandas_object(metpat_df)\n",
        "metcon_df_hashes = hash_pandas_object(metcon_df)\n",
        "metenc_df_hashes = hash_pandas_object(metenc_df)\n",
        "metmed_df_hashes = hash_pandas_object(metmed_df)"
      ],
      "execution_count": null,
      "outputs": []
    },
    {
      "cell_type": "markdown",
      "source": [
        "### Erstellung einer Liste mit allen DF(DataFrame)-Hashes"
      ],
      "metadata": {
        "id": "g_dl-9BbjCAM"
      }
    },
    {
      "cell_type": "code",
      "source": [
        "Liste_rhcall_hashes = [rhcpat_df_hashes, rhccon_df_hashes, rhcmed_df_hashes, rhcenc_df_hashes, astpat_df_hashes, astcon_df_hashes, astmed_df_hashes, astenc_df_hashes, covpat_df_hashes, covcon_df_hashes, covmed_df_hashes, covenc_df_hashes, metpat_df_hashes, metcon_df_hashes, metenc_df_hashes, metmed_df_hashes]"
      ],
      "metadata": {
        "id": "QHw-XC8gjLP7"
      },
      "execution_count": null,
      "outputs": []
    },
    {
      "cell_type": "markdown",
      "source": [
        "### Überprüfung des Inhalts der RHC-Hashes-Liste"
      ],
      "metadata": {
        "id": "-Oh5ZXcejcLr"
      }
    },
    {
      "cell_type": "code",
      "source": [
        "is_empty(Liste_rhcall_hashes)"
      ],
      "metadata": {
        "id": "5k738RpdjJ6z"
      },
      "execution_count": null,
      "outputs": []
    },
    {
      "cell_type": "markdown",
      "metadata": {
        "id": "R45CnT8d4t48"
      },
      "source": [
        "## Value should be \n",
        "-8140980192655343965\n",
        "\n",
        "-5790193237357692379\n",
        "\n",
        "6124240394299011028\n",
        "\n",
        "-7931912941125174269\n",
        "\n",
        "-2952109169486064140\n",
        "\n",
        "-3583170254518385514\n",
        "\n",
        "6582727215233823342\n",
        "\n",
        "2090490377281150800\n",
        "\n",
        "-8134803707280816990\n",
        "\n",
        "-3968985936687461128\n",
        "\n",
        "8280189707757870772\n",
        "\n",
        "4108379418269422510\n",
        "\n",
        "7329300234170408827\n",
        "\n",
        "3531979424007980983\n",
        "\n",
        "250775821851881736\n",
        "\n",
        "34967352814278137\n"
      ]
    },
    {
      "cell_type": "code",
      "metadata": {
        "id": "lvQMVdkZAEmy"
      },
      "source": [
        "print(rhcpat_df_hashes.sum())\n",
        "print(rhccon_df_hashes.sum())\n",
        "print(rhcmed_df_hashes.sum())\n",
        "print(rhcenc_df_hashes.sum())\n",
        "print(astpat_df_hashes.sum())\n",
        "print(astcon_df_hashes.sum())\n",
        "print(astmed_df_hashes.sum())\n",
        "print(astenc_df_hashes.sum())\n",
        "print(covpat_df_hashes.sum())\n",
        "print(covcon_df_hashes.sum())\n",
        "print(covmed_df_hashes.sum())\n",
        "print(covenc_df_hashes.sum())\n",
        "print(metpat_df_hashes.sum())\n",
        "print(metcon_df_hashes.sum())\n",
        "print(metenc_df_hashes.sum())\n",
        "print(metmed_df_hashes.sum())"
      ],
      "execution_count": null,
      "outputs": []
    }
  ]
}