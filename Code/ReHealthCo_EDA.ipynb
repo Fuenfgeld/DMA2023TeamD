{
  "nbformat": 4,
  "nbformat_minor": 0,
  "metadata": {
    "colab": {
      "provenance": [],
      "include_colab_link": true
    },
    "kernelspec": {
      "name": "python3",
      "display_name": "Python 3"
    },
    "language_info": {
      "name": "python"
    }
  },
  "cells": [
    {
      "cell_type": "markdown",
      "metadata": {
        "id": "view-in-github",
        "colab_type": "text"
      },
      "source": [
        "<a href=\"https://colab.research.google.com/github/Fuenfgeld/DMA2023TeamD/blob/dev_branch_EDA_Prediction/Code/ReHealthCo_EDA.ipynb\" target=\"_parent\"><img src=\"https://colab.research.google.com/assets/colab-badge.svg\" alt=\"Open In Colab\"/></a>"
      ]
    },
    {
      "cell_type": "markdown",
      "source": [
        "# ReHealthCo EDA-Prozess"
      ],
      "metadata": {
        "id": "r2GhM0xtrO3l"
      }
    },
    {
      "cell_type": "markdown",
      "source": [
        "## Vorbereitung "
      ],
      "metadata": {
        "id": "vpF-B8jHUcEo"
      }
    },
    {
      "cell_type": "markdown",
      "source": [
        "###CleanUp - Eventuell gespeicherte Variablen löschen vor Ausführung des Colab books (Ziel Reproduzierbarkeit)"
      ],
      "metadata": {
        "id": "b5m5XJqMVjJq"
      }
    },
    {
      "cell_type": "code",
      "source": [
        "# Löschen aller Variablen\n",
        "%reset -f"
      ],
      "metadata": {
        "id": "_Q776tIoSo-M"
      },
      "execution_count": null,
      "outputs": []
    },
    {
      "cell_type": "markdown",
      "source": [
        "Installtion der Package ydata_profiling"
      ],
      "metadata": {
        "id": "RIS7KV5-LEu8"
      }
    },
    {
      "cell_type": "code",
      "source": [
        "!pip install ydata_profiling"
      ],
      "metadata": {
        "id": "YjX7eJKBKvzV"
      },
      "execution_count": null,
      "outputs": []
    },
    {
      "cell_type": "markdown",
      "source": [
        "## Importieren der notwendigen Libraries: sqlite3, csv, pandas"
      ],
      "metadata": {
        "id": "O8gYdvOwn5mk"
      }
    },
    {
      "cell_type": "code",
      "source": [
        "import sqlite3\n",
        "from sqlite3 import Error\n",
        "import csv\n",
        "import pandas as pd\n",
        "from pandas.util import hash_pandas_object\n",
        "from ydata_profiling import ProfileReport\n",
        "import seaborn as sns\n",
        "import matplotlib.pyplot as plt"
      ],
      "metadata": {
        "id": "mJxD2LwZn3yn"
      },
      "execution_count": null,
      "outputs": []
    },
    {
      "cell_type": "markdown",
      "source": [
        "### Erstellung einer virtuellen Kopie des GitHub Repositorium DMA2023TeamD in Colab"
      ],
      "metadata": {
        "id": "A1Dq0N3XYMoU"
      }
    },
    {
      "cell_type": "code",
      "source": [
        "!git clone https://github.com/Fuenfgeld/DMA2023TeamD.git"
      ],
      "metadata": {
        "id": "dmeCFp_e3Y0Z"
      },
      "execution_count": null,
      "outputs": []
    },
    {
      "cell_type": "code",
      "source": [
        "# Wechsel in den Unterordner csv_data des Github-Projekt-Ordners\n",
        "%cd /content/DMA2023TeamD/csv_data"
      ],
      "metadata": {
        "id": "nMsb146GnGj0"
      },
      "execution_count": null,
      "outputs": []
    },
    {
      "cell_type": "code",
      "source": [
        "# Auflistung aller Ordnerinhalte\n",
        "!ls"
      ],
      "metadata": {
        "id": "hqmn5rfUnGj1"
      },
      "execution_count": null,
      "outputs": []
    },
    {
      "cell_type": "markdown",
      "source": [
        "### Benennung des rhc-DataFrames und Einlesen des entsprechenden anonymisierten csv-Files von Github"
      ],
      "metadata": {
        "id": "MJlp_FCwEBAb"
      }
    },
    {
      "cell_type": "code",
      "source": [
        "# Pfad-Abkürzung zum Speicherort der anonymisierten csv-Tabelle\n",
        "csv_path_anonymrhc = \"/content/DMA2023TeamD/csv_data\""
      ],
      "metadata": {
        "id": "7-NeR0VHppu4"
      },
      "execution_count": null,
      "outputs": []
    },
    {
      "cell_type": "code",
      "source": [
        "# Einlesen der anonymisierten Tabelle als Pandas DataFrame\n",
        "rhc_df = pd.read_csv(f\"{csv_path_anonymrhc}/anonym_rhcpat.csv\")"
      ],
      "metadata": {
        "id": "vArg2R-KGSCq"
      },
      "execution_count": null,
      "outputs": []
    },
    {
      "cell_type": "code",
      "source": [
        "# Anzeige des DF-Inhalts\n",
        "rhc_df"
      ],
      "metadata": {
        "id": "u75OTP-ANat-"
      },
      "execution_count": null,
      "outputs": []
    },
    {
      "cell_type": "code",
      "source": [
        "# Anzeige der Kopfspalten des DF\n",
        "print(rhc_df.columns.tolist())"
      ],
      "metadata": {
        "id": "m9DH5b2MQGmZ"
      },
      "execution_count": null,
      "outputs": []
    },
    {
      "cell_type": "code",
      "source": [
        "# Diagnosen/Patient\n",
        "rhc_df[[\"RHC_PSEUDONYM\", \"DESC_CON\"]].groupby([\"RHC_PSEUDONYM\"]).size()"
      ],
      "metadata": {
        "id": "SUGb9pzZPafK"
      },
      "execution_count": null,
      "outputs": []
    },
    {
      "cell_type": "code",
      "source": [
        "# Anzeige Diagnosen/Patient, absteigend sortiert\n",
        "diag_anz_df = rhc_df[[\"RHC_PSEUDONYM\", \"DESC_CON\"]].groupby([\"RHC_PSEUDONYM\"]).count().sort_values(\"DESC_CON\", ascending=False) \n",
        "diag_anz_df.rename(columns={\"DESC_CON\": \"DESC_CON_ANZ\"}, inplace=True)\n",
        "diag_anz_df"
      ],
      "metadata": {
        "id": "9r47tXbcaG9i"
      },
      "execution_count": null,
      "outputs": []
    },
    {
      "cell_type": "code",
      "source": [
        "# Spalte Diagnosen/Patient an das gesamte DataFrame hängen\n",
        "rhc_diagn_df = pd.DataFrame.merge(rhc_df, diag_anz_df, left_on=[\"RHC_PSEUDONYM\"], right_on=[\"RHC_PSEUDONYM\"], how=\"left\")\n",
        "rhc_diagn_df"
      ],
      "metadata": {
        "id": "4e60MBacAB9W"
      },
      "execution_count": null,
      "outputs": []
    },
    {
      "cell_type": "code",
      "source": [
        "# Spalte DESC_CON_ANZ verdoppeln\n",
        "rhc_diagn_df.loc[:, 'DESC_CON_SORT'] = rhc_diagn_df.loc[:, 'DESC_CON_ANZ']\n",
        "# Anzeige der Kopfspalten des DF\n",
        "print(rhc_diagn_df.columns.tolist())"
      ],
      "metadata": {
        "id": "1EoCY7-l_g2c"
      },
      "execution_count": null,
      "outputs": []
    },
    {
      "cell_type": "code",
      "source": [
        "# Ersetzen aller Werte bei Patienten > 2 Diagnosen mit einer 3\n",
        "rhc_diagn_df['DESC_CON_SORT'].values[rhc_diagn_df['DESC_CON_SORT'] > 2] = 3\n",
        "rhc_diagn_df"
      ],
      "metadata": {
        "id": "BVcyc6LZT9PB"
      },
      "execution_count": null,
      "outputs": []
    },
    {
      "cell_type": "code",
      "source": [
        "# neue Spalte HEALTHCARE_EXPENSES uncovered\n",
        "rhc_diagn_df[\"HEALTHCARE_EXPENSES_UNCOVERED\"] = rhc_diagn_df[\"HEALTHCARE_EXPENSES_PAT\"]-rhc_diagn_df[\"HEALTHCARE_COVERAGE_PAT\"]\n",
        "rhc_diagn_df"
      ],
      "metadata": {
        "id": "i7NKms1zZdPw"
      },
      "execution_count": null,
      "outputs": []
    },
    {
      "cell_type": "code",
      "source": [
        "# neue Spalte Verhältnis Ausgaben abgedeckt/nicht abgedeckt mit Spaltennahmen VERH_HEALTHCARE_EXPENSES_COV_UNCOV\n",
        "rhc_diagn_df[\"VERH_HEALTHCARE_EXPENSES_COV_UNCOV\"] = rhc_diagn_df[\"HEALTHCARE_COVERAGE_PAT\"]/rhc_diagn_df[\"HEALTHCARE_EXPENSES_PAT\"]\n",
        "rhc_diagn_df"
      ],
      "metadata": {
        "id": "51Xz7sifaydW"
      },
      "execution_count": null,
      "outputs": []
    },
    {
      "cell_type": "code",
      "source": [
        "# Anzeige DF Patienten/DiagnoseErweiterung sowie Encountbegegnungen, , absteigend sortiert nach Patienten/Diagnose\n",
        "diagn_enc_df = rhc_df[[\"RHC_PSEUDONYM\", \"DESC_CON\", \"ENCOUNTERCLASS_ENC\"]].groupby([\"DESC_CON\"]).count().sort_values(\"RHC_PSEUDONYM\", ascending=False) \n",
        "diagn_enc_df"
      ],
      "metadata": {
        "id": "FmZNjpKV1BJC"
      },
      "execution_count": null,
      "outputs": []
    },
    {
      "cell_type": "code",
      "source": [
        "# Anzeige DF Patienten/DiagnoseErweiterung sowie Encountbegegnungen, absteigend sortiert nach Patienten/Diagnose\n",
        "pat_anz_nowellrechnung_df = rhc_df.drop(rhc_df[ (rhc_df['ENCOUNTERCLASS_ENC'] == \"wellness\") ].index) # Löschen der Encounterbegegnung wellness \n",
        "diagn_encnowell_df = pat_anz_nowellrechnung_df[[\"RHC_PSEUDONYM\", \"DESC_CON\", \"ENCOUNTERCLASS_ENC\"]].groupby([\"DESC_CON\"]).count().sort_values(\"RHC_PSEUDONYM\", ascending=False) # Benennung des DF\n",
        "diagn_encnowell_df.rename(columns={\"ENCOUNTERCLASS_ENC\": \"ENCOUNTERCLASS_NOWELL\"}, inplace=True) # Umbenunng der Spalte Encounterbegegnungen/Diagnose in ENCOUNTERCLASS_NOWELL\n",
        "diagn_encnowell_df # Anzeige DF"
      ],
      "metadata": {
        "id": "GyGdB6Zd1jD3"
      },
      "execution_count": null,
      "outputs": []
    },
    {
      "cell_type": "code",
      "source": [
        "# Anzeige Encounterbegegnungen/Patient, absteigend sortiert\n",
        "rhc_enc_anz_df = rhc_diagn_df[[\"RHC_PSEUDONYM\", \"ENCOUNTERCLASS_ENC\"]].groupby([\"RHC_PSEUDONYM\"]).count().sort_values(\"ENCOUNTERCLASS_ENC\", ascending=False) \n",
        "rhc_enc_anz_df.rename(columns={\"ENCOUNTERCLASS_ENC\": \"ENCOUNTERCLASS_ENC_ANZ\"}, inplace=True)\n",
        "rhc_enc_anz_df"
      ],
      "metadata": {
        "id": "M5aTNmL5DTz3"
      },
      "execution_count": null,
      "outputs": []
    },
    {
      "cell_type": "code",
      "source": [
        "# Spalte Encounterbegegnungen/Patient an das gesamte DataFrame hängen\n",
        "rhc_all_df = pd.DataFrame.merge(rhc_diagn_df, rhc_enc_anz_df, left_on=[\"RHC_PSEUDONYM\"], right_on=[\"RHC_PSEUDONYM\"], how=\"left\")\n",
        "rhc_all_df"
      ],
      "metadata": {
        "id": "nBImFTQXEppo"
      },
      "execution_count": null,
      "outputs": []
    },
    {
      "cell_type": "code",
      "source": [
        "# Ersetzen aller Werte bei Patienten > 2 Encounterbegegnungen mit einer 3 nach Verdopplung\n",
        "rhc_all_df.loc[:, 'ENCOUNTERCLASS_ENC_ANZ_SORT'] = rhc_all_df.loc[:, 'ENCOUNTERCLASS_ENC_ANZ'] # Spalte ENCOUNTERCLASS_ENC_ANZ verdoppeln\n",
        "rhc_all_df['ENCOUNTERCLASS_ENC_ANZ'].values[rhc_all_df['ENCOUNTERCLASS_ENC_ANZ'] > 2] = 3\n",
        "rhc_all_df # Anzeige des Ergebnis"
      ],
      "metadata": {
        "id": "pCQ-nNjvFJuV"
      },
      "execution_count": null,
      "outputs": []
    },
    {
      "cell_type": "code",
      "source": [
        "# Löschen der Encounterbegegnung wellness \n",
        "rhc_all_nowell_df = rhc_all_df.drop(rhc_all_df[ (rhc_all_df['ENCOUNTERCLASS_ENC'] == \"wellness\")\n",
        "                                                     ].index)\n",
        "rhc_all_nowell_df.groupby([\"ENCOUNTERCLASS_ENC\"]).size() # Anzeige der Übersicht"
      ],
      "metadata": {
        "id": "G5onQQHpF4GC"
      },
      "execution_count": null,
      "outputs": []
    },
    {
      "cell_type": "code",
      "source": [
        "rhc_all_nowell_df # Anzeige des Ergebnis"
      ],
      "metadata": {
        "id": "4V5ywm9MGd4r"
      },
      "execution_count": null,
      "outputs": []
    },
    {
      "cell_type": "code",
      "source": [
        "# Anzeige der Kopfspalten des DF\n",
        "print(rhc_all_nowell_df.columns.tolist())"
      ],
      "metadata": {
        "id": "S6RzJP5AI8MW"
      },
      "execution_count": null,
      "outputs": []
    },
    {
      "cell_type": "code",
      "source": [
        "# Gruppierung nach Patienten, diese sonst doppelt gezählt werden\n",
        "groupbypat_df = rhc_all_nowell_df[['RHC_PSEUDONYM', 'GENDER_PAT', 'HEALTHCARE_EXPENSES_PAT', 'HEALTHCARE_COVERAGE_PAT', 'DATENBANKART', 'LEBENDIG', 'AGE', 'CODE_CON', 'DESC_CON', 'CONDITIONDAUER', 'TOTALCOST_MED', 'ENCOUNTERCLASS_ENC', 'BEHANDLUNGSDAUER', 'DESC_CON_ANZ', 'DESC_CON_SORT', 'ENCOUNTERCLASS_ENC_ANZ']].groupby([\"RHC_PSEUDONYM\"]).mean().reset_index()\n",
        "groupbypat_df"
      ],
      "metadata": {
        "id": "da_E9MQ6ItDu"
      },
      "execution_count": null,
      "outputs": []
    },
    {
      "cell_type": "code",
      "source": [
        "# Patienten kommen doppelt vor!\n",
        "ProfileReport(rhc_all_nowell_df)"
      ],
      "metadata": {
        "id": "cKvpVURsMXng"
      },
      "execution_count": null,
      "outputs": []
    },
    {
      "cell_type": "code",
      "source": [
        "# Profilreporting nach Groupierung auf den Patienten\n",
        "ProfileReport(groupbypat_df)"
      ],
      "metadata": {
        "id": "YKkmDi65KL1k"
      },
      "execution_count": null,
      "outputs": []
    },
    {
      "cell_type": "code",
      "source": [
        "anz_pat_dign_enc_df = diagn_encnowell_df.reset_index()\n",
        "anz_pat_dign_enc_df.rename(columns={\"RHC_PSEUDONYM\": \"PAT_ANZ\", \"DESC_CON\": \"DIAGNOSEN\", \"ENCOUNTERCLASS_NOWELL\": \"ENC_BEGEG_NOWELL\"}, inplace=True) # Umbenunng der Spalte Encounterbegegnungen/Diagnose in ENCOUNTERCLASS_NOWELL\n",
        "ProfileReport(anz_pat_dign_enc_df)"
      ],
      "metadata": {
        "id": "z-G9xoRwBqra"
      },
      "execution_count": null,
      "outputs": []
    },
    {
      "cell_type": "markdown",
      "source": [
        "# Boxplot and Remove Outlier \n",
        "(Extremwerte rausnehmen)"
      ],
      "metadata": {
        "id": "jBDzsKCVo9P0"
      }
    },
    {
      "cell_type": "code",
      "source": [
        "# Anzeige der Kopfspalten des DF\n",
        "print(rhc_all_nowell_df.columns.tolist())"
      ],
      "metadata": {
        "id": "B1vjeFI1L4CL"
      },
      "execution_count": null,
      "outputs": []
    },
    {
      "cell_type": "code",
      "source": [
        "sns.boxplot(x=groupbypat_df[\"HEALTHCARE_EXPENSES_PAT\"])"
      ],
      "metadata": {
        "id": "shDxOzJtL-BT"
      },
      "execution_count": null,
      "outputs": []
    },
    {
      "cell_type": "code",
      "source": [
        "rhc_rein01_df = rhc_all_nowell_df[rhc_all_nowell_df[\"HEALTHCARE_EXPENSES_PAT\"]<1500000]\n",
        "sns.boxplot(x=rhc_rein01_df[\"HEALTHCARE_EXPENSES_PAT\"])"
      ],
      "metadata": {
        "id": "4y9-wWJAMKLu"
      },
      "execution_count": null,
      "outputs": []
    },
    {
      "cell_type": "code",
      "source": [
        "sns.boxplot(x=rhc_rein01_df[\"AGE\"])"
      ],
      "metadata": {
        "id": "eDtoB57ZoR_s"
      },
      "execution_count": null,
      "outputs": []
    },
    {
      "cell_type": "code",
      "source": [
        "rhc_rein02_df = rhc_rein01_df[rhc_rein01_df[\"AGE\"]<100]\n",
        "sns.boxplot(x=rhc_rein01_df[\"AGE\"])"
      ],
      "metadata": {
        "id": "EcC_4EzypB09"
      },
      "execution_count": null,
      "outputs": []
    },
    {
      "cell_type": "code",
      "source": [
        "sns.boxplot(x=rhc_rein02_df[\"HEALTHCARE_COVERAGE_PAT\"])"
      ],
      "metadata": {
        "id": "5dRzKKBYNQxS"
      },
      "execution_count": null,
      "outputs": []
    },
    {
      "cell_type": "code",
      "source": [
        "rhc_rein03_df = rhc_rein02_df[rhc_rein02_df[\"HEALTHCARE_COVERAGE_PAT\"]<20000]\n",
        "sns.boxplot(x=rhc_rein03_df[\"HEALTHCARE_COVERAGE_PAT\"])"
      ],
      "metadata": {
        "id": "1UJPSTZGNQxU"
      },
      "execution_count": null,
      "outputs": []
    },
    {
      "cell_type": "code",
      "source": [
        "sns.boxplot(x=rhc_rein03_df[\"CONDITIONDAUER\"])"
      ],
      "metadata": {
        "id": "b-xt0jakN9Vd"
      },
      "execution_count": null,
      "outputs": []
    },
    {
      "cell_type": "code",
      "source": [
        "rhc_rein04_df = rhc_rein03_df[rhc_rein03_df[\"CONDITIONDAUER\"]<5000]\n",
        "sns.boxplot(x=rhc_rein03_df[\"CONDITIONDAUER\"])"
      ],
      "metadata": {
        "id": "vHdjqliSN9Ve"
      },
      "execution_count": null,
      "outputs": []
    },
    {
      "cell_type": "code",
      "source": [
        "sns.boxplot(x=rhc_rein04_df[\"TOTALCOST_MED\"])"
      ],
      "metadata": {
        "id": "eHf8EfUhT1C6"
      },
      "execution_count": null,
      "outputs": []
    },
    {
      "cell_type": "code",
      "source": [
        "rhc_rein05_df = rhc_rein04_df[rhc_rein04_df[\"TOTALCOST_MED\"]<175000]\n",
        "sns.boxplot(x=rhc_rein04_df[\"TOTALCOST_MED\"])"
      ],
      "metadata": {
        "id": "MngM3LuRT1C8"
      },
      "execution_count": null,
      "outputs": []
    },
    {
      "cell_type": "code",
      "source": [
        "sns.boxplot(x=rhc_rein05_df[\"BEHANDLUNGSDAUER\"])"
      ],
      "metadata": {
        "id": "FwD7TIEzT22U"
      },
      "execution_count": null,
      "outputs": []
    },
    {
      "cell_type": "code",
      "source": [
        "rhc_rein06_df = rhc_rein05_df[rhc_rein05_df[\"BEHANDLUNGSDAUER\"]<350]\n",
        "sns.boxplot(x=rhc_rein05_df[\"CONDITIONDAUER\"])"
      ],
      "metadata": {
        "id": "qHGWRts8T22V"
      },
      "execution_count": null,
      "outputs": []
    },
    {
      "cell_type": "code",
      "source": [
        "sns.boxplot(x=rhc_rein06_df[\"DESC_CON_ANZ\"])"
      ],
      "metadata": {
        "id": "1zoXBim3Uevd"
      },
      "execution_count": null,
      "outputs": []
    },
    {
      "cell_type": "code",
      "source": [
        "rhc_rein_df = rhc_rein06_df[rhc_rein06_df[\"DESC_CON_ANZ\"]<50]\n",
        "sns.boxplot(x=rhc_rein_df[\"DESC_CON_ANZ\"])"
      ],
      "metadata": {
        "id": "qOJRNdgvUeve"
      },
      "execution_count": null,
      "outputs": []
    },
    {
      "cell_type": "markdown",
      "source": [
        "### von Extremwerten bereinigtes DF"
      ],
      "metadata": {
        "id": "qBjzIu1KWcdO"
      }
    },
    {
      "cell_type": "code",
      "source": [
        "rhc_rein_df"
      ],
      "metadata": {
        "id": "e8wQLKgdWRHr"
      },
      "execution_count": null,
      "outputs": []
    },
    {
      "cell_type": "code",
      "source": [
        "# distribution of GENDER attribute ohne Extremwerten\n",
        "sns.countplot(x=\"variable\", hue= \"value\", data=pd.melt(rhc_rein_df[[\"GENDER_PAT\"]]))"
      ],
      "metadata": {
        "id": "kJQ0i0IPpbCw"
      },
      "execution_count": null,
      "outputs": []
    },
    {
      "cell_type": "code",
      "source": [
        "# distribution of GENDER attribute mit Extremwerten\n",
        "sns.countplot(x=\"variable\", hue= \"value\", data=pd.melt(groupbypat_df[[\"GENDER_PAT\"]]))"
      ],
      "metadata": {
        "id": "59PpfqPMW5b9"
      },
      "execution_count": null,
      "outputs": []
    },
    {
      "cell_type": "code",
      "source": [
        "# distribution of DESCRIPTION-Anzahl\n",
        "sns.countplot(x=\"variable\", hue= \"value\", data=pd.melt(rhc_rein_df[[\"DESC_CON_ANZ\"]]))"
      ],
      "metadata": {
        "id": "kLvTftaDp_Wr"
      },
      "execution_count": null,
      "outputs": []
    },
    {
      "cell_type": "code",
      "source": [
        "# Verteilung Behandlungsdauer in Stunden\n",
        "sns.countplot(x=\"variable\", hue= \"value\", data=pd.melt(rhc_rein_df[[\"BEHANDLUNGSDAUER\"]]))"
      ],
      "metadata": {
        "id": "MRFYNPSuHW0o"
      },
      "execution_count": null,
      "outputs": []
    },
    {
      "cell_type": "code",
      "source": [
        "# Verteilung Conditiondauer in Stunden\n",
        "sns.countplot(x=\"variable\", hue= \"value\", data=pd.melt(rhc_rein_df[[\"CONDITIONDAUER\"]]))"
      ],
      "metadata": {
        "id": "rvvIvQGRX9p7"
      },
      "execution_count": null,
      "outputs": []
    },
    {
      "cell_type": "code",
      "source": [
        "# Verteilung der Erkrankungen im bereinigten DF\n",
        "sns.countplot(x=\"variable\", hue= \"value\", data=pd.melt(rhc_rein_df[[\"DESC_CON\"]]))"
      ],
      "metadata": {
        "id": "cmV8RMiXYc_o"
      },
      "execution_count": null,
      "outputs": []
    },
    {
      "cell_type": "code",
      "source": [
        "# Verteilung der Erkrankungen im nicht bereinigten DF\n",
        "sns.countplot(x=\"variable\", hue= \"value\", data=pd.melt(rhc_all_nowell_df[[\"DESC_CON\"]]))"
      ],
      "metadata": {
        "id": "hBghEwjBYrN5"
      },
      "execution_count": null,
      "outputs": []
    },
    {
      "cell_type": "code",
      "source": [
        "# Verteilung Diagnosen/Patient\n",
        "sns.countplot(x=\"variable\", hue= \"value\", data=pd.melt(diagn_enc_df[[\"RHC_PSEUDONYM\"]]))"
      ],
      "metadata": {
        "id": "c2IHPqXKf04G"
      },
      "execution_count": null,
      "outputs": []
    },
    {
      "cell_type": "code",
      "source": [
        "# Verteilung Diagnosen/Encounterbegenung\n",
        "sns.countplot(x=\"variable\", hue= \"value\", data=pd.melt(diagn_enc_df[[\"ENCOUNTERCLASS_ENC\"]]))"
      ],
      "metadata": {
        "id": "r6hJyz6a9tgy"
      },
      "execution_count": null,
      "outputs": []
    },
    {
      "cell_type": "code",
      "source": [
        "# Histogramm HEALTHCARE_EXPENSES_UNCOVERED im nicht bereinigten DF\n",
        "rhc_all_nowell_df[\"HEALTHCARE_EXPENSES_UNCOVERED\"].plot(kind='hist', bins=20, figsize=(12,6), facecolor='grey',edgecolor='black')"
      ],
      "metadata": {
        "id": "es-ojLDQu8MR"
      },
      "execution_count": null,
      "outputs": []
    },
    {
      "cell_type": "code",
      "source": [
        "# Histogramm Verhätnis Kosten gedeckt/nicht abgedeckt im nicht bereinigten DF\n",
        "rhc_diagn_df[\"VERH_HEALTHCARE_EXPENSES_COV_UNCOV\"].plot(kind='hist', bins=20, figsize=(12,6), facecolor='grey',edgecolor='black')\n",
        "# rhc_diagn_df[\"VERH_HEALTHCARE_EXPENSES_COV_UNCOV\"] = rhc_diagn_df[\"HEALTHCARE_COVERAGE_PAT\"]/rhc_diagn_df[\"HEALTHCARE_EXPENSES_PAT\"]"
      ],
      "metadata": {
        "id": "FQt3yGmSqNqE"
      },
      "execution_count": null,
      "outputs": []
    },
    {
      "cell_type": "code",
      "source": [
        "# Histogramm Alter bereinigtes DF\n",
        "rhc_rein_df[\"AGE\"].plot(kind='hist', bins=20, figsize=(12,6), facecolor='grey',edgecolor='black')"
      ],
      "metadata": {
        "id": "5o8wYEJycRjW"
      },
      "execution_count": null,
      "outputs": []
    },
    {
      "cell_type": "code",
      "source": [
        "# Histogramm Alter nicht bereinigtes DF\n",
        "rhc_all_nowell_df[\"AGE\"].plot(kind='hist', bins=20, figsize=(12,6), facecolor='grey',edgecolor='black')"
      ],
      "metadata": {
        "id": "YtziVeHacaxL"
      },
      "execution_count": null,
      "outputs": []
    },
    {
      "cell_type": "code",
      "source": [
        "# # convert categorical variable to numerical by replacing - könnte wichtig für die Erstellung von Histogrammen sein! Beispiel\n",
        "rhc_all_nowell_df.DATENBANKART.replace(['asthma', 'covid', 'metabolic'], [0, 1, 2], inplace=True)\n",
        "# Verteilung Ursprungsdatenbank asthma = 0, covid = 1, metabolic = 2\n",
        "rhc_all_nowell_df[\"DATENBANKART\"].plot(kind='hist', bins=20, figsize=(12,6), facecolor='grey',edgecolor='black')"
      ],
      "metadata": {
        "id": "uJRldRWtdBDM"
      },
      "execution_count": null,
      "outputs": []
    },
    {
      "cell_type": "code",
      "source": [
        "# Verteilung tot/lebend (1/0)\n",
        "rhc_all_nowell_df[\"LEBENDIG\"].plot(kind='hist', bins=20, figsize=(12,6), facecolor='grey',edgecolor='black')"
      ],
      "metadata": {
        "id": "9Yin1qI9cvCc"
      },
      "execution_count": null,
      "outputs": []
    },
    {
      "cell_type": "code",
      "source": [
        "# Verteilung Encounter-Classen ambulatory/inpatient/emergency/outpatient als 0/1/2/3\n",
        "rhc_all_nowell_df.ENCOUNTERCLASS_ENC.replace(['ambulatory', 'inpatient', 'emergency', 'outpatient'], [0, 1, 2, 3], inplace=True)\n",
        "rhc_all_nowell_df[\"ENCOUNTERCLASS_ENC\"].plot(kind='hist', bins=20, figsize=(12,6), facecolor='grey',edgecolor='black')"
      ],
      "metadata": {
        "id": "TUv1rQFrd3fM"
      },
      "execution_count": null,
      "outputs": []
    },
    {
      "cell_type": "markdown",
      "source": [
        "# Multivariate Analysis: Analyzing Relationships Between Variables"
      ],
      "metadata": {
        "id": "ncZdcqY7qwot"
      }
    },
    {
      "cell_type": "code",
      "source": [
        "# Generating the correlating matrix\n",
        "corr = rhc_all_nowell_df.corr()\n",
        "plt.figure(figsize=(7, 5))\n",
        "# Generating the correlation heat-map\n",
        "sns.heatmap(corr, annot=True)"
      ],
      "metadata": {
        "id": "GDUTS3q4qyYg"
      },
      "execution_count": null,
      "outputs": []
    },
    {
      "cell_type": "markdown",
      "metadata": {
        "id": "VWWX5CrQFoqz"
      },
      "source": [
        "# Version Check"
      ]
    },
    {
      "cell_type": "code",
      "metadata": {
        "id": "q0ShwlfT2H80"
      },
      "source": [
        "#python Version\n",
        "import sys\n",
        "sys.version_info"
      ],
      "execution_count": null,
      "outputs": []
    },
    {
      "cell_type": "code",
      "metadata": {
        "id": "D4kWWXUto83S"
      },
      "source": [
        "pd.__version__"
      ],
      "execution_count": null,
      "outputs": []
    },
    {
      "cell_type": "code",
      "source": [
        "csv.__version__"
      ],
      "metadata": {
        "id": "CYZ4BvSDakIz"
      },
      "execution_count": null,
      "outputs": []
    },
    {
      "cell_type": "code",
      "source": [
        "sns.__version__"
      ],
      "metadata": {
        "id": "VzdyoSbQOygz"
      },
      "execution_count": null,
      "outputs": []
    },
    {
      "cell_type": "code",
      "metadata": {
        "id": "3NwGVbSoA5lA"
      },
      "source": [
        "# Überprüfen aller Variablen\n",
        "# %pip freeze"
      ],
      "execution_count": null,
      "outputs": []
    },
    {
      "cell_type": "markdown",
      "metadata": {
        "id": "9FxdmDqaAeAl"
      },
      "source": [
        "# Calculate the Checksum of the Data Set"
      ]
    },
    {
      "cell_type": "code",
      "metadata": {
        "id": "sIISw67e_9gI"
      },
      "source": [
        "rhc_diagn_df_hashes = hash_pandas_object(rhc_diagn_df)\n",
        "diag_anz_df_hashes = hash_pandas_object(diag_anz_df)\n",
        "rhc_diagn_df_hashes = hash_pandas_object(rhc_diagn_df)\n",
        "diagn_enc_df_hashes = hash_pandas_object(diagn_enc_df)\n",
        "pat_anz_nowellrechnung_df_hashes = hash_pandas_object(pat_anz_nowellrechnung_df)\n",
        "diagn_encnowell_df_hashes = hash_pandas_object(diagn_encnowell_df)\n",
        "rhc_enc_anz_df_hashes = hash_pandas_object(rhc_enc_anz_df)\n",
        "rhc_enc_anz_df_hashes = hash_pandas_object(rhc_enc_anz_df)\n",
        "rhc_all_df_hashes = hash_pandas_object(rhc_all_df)\n",
        "rhc_all_nowell_df_hashes = hash_pandas_object(rhc_all_nowell_df)\n",
        "groupbypat_df_hashes = hash_pandas_object(groupbypat_df)\n",
        "rhc_rein01_df_hashes = hash_pandas_object(rhc_rein01_df)\n",
        "rhc_rein02_df_hashes = hash_pandas_object(rhc_rein02_df)\n",
        "rhc_rein03_df_hashes = hash_pandas_object(rhc_rein03_df)\n",
        "rhc_rein04_df_hashes = hash_pandas_object(rhc_rein04_df)\n",
        "rhc_rein05_df_hashes = hash_pandas_object(rhc_rein05_df)\n",
        "rhc_rein06_df_hashes = hash_pandas_object(rhc_rein06_df)\n",
        "rhc_rein_df_hashes = hash_pandas_object(rhc_rein_df)\n",
        "anz_pat_dign_enc_df_hashes = hash_pandas_object(anz_pat_dign_enc_df)"
      ],
      "execution_count": null,
      "outputs": []
    },
    {
      "cell_type": "code",
      "source": [
        "Liste_rhcedaall_hashes = [rhc_diagn_df_hashes, diag_anz_df_hashes, rhc_diagn_df_hashes, diagn_enc_df_hashes, pat_anz_nowellrechnung_df_hashes, diagn_encnowell_df_hashes, rhc_enc_anz_df_hashes, rhc_enc_anz_df_hashes, rhc_all_df_hashes, rhc_all_nowell_df_hashes, groupbypat_df_hashes, rhc_rein01_df_hashes, rhc_rein02_df_hashes, rhc_rein03_df_hashes, rhc_rein04_df_hashes, rhc_rein05_df_hashes, rhc_rein06_df_hashes, rhc_rein_df_hashes, anz_pat_dign_enc_df_hashes]"
      ],
      "metadata": {
        "id": "OEdJmrV0v4C-"
      },
      "execution_count": null,
      "outputs": []
    },
    {
      "cell_type": "code",
      "source": [
        "print(Liste_rhcedaall_hashes)"
      ],
      "metadata": {
        "id": "lezu8pUOwsA6"
      },
      "execution_count": null,
      "outputs": []
    },
    {
      "cell_type": "markdown",
      "metadata": {
        "id": "R45CnT8d4t48"
      },
      "source": [
        "## Value should be \n",
        "2650178518257614002\n",
        "\n",
        "-3795146034381248713\n",
        "\n",
        "2650178518257614002\n",
        "\n",
        "7831896322564588659\n",
        "\n",
        "-840543143014388252\n",
        "\n",
        "1693621233367357631\n",
        "\n",
        "-5022892886560696056\n",
        "\n",
        "-5058732213369095038\n",
        "\n",
        "-1621010955553152918\n",
        "\n",
        "-7846124668401262891\n",
        "\n",
        "-7151992359203372660\n",
        "\n",
        "6239097838065681928\n",
        "\n",
        "6239097838065681928\n",
        "\n",
        "-2502359466387942033\n",
        "\n",
        "1851482707534779390\n",
        "\n",
        "2377980241770097181\n",
        "\n",
        "9152482894650796171\n",
        "\n",
        "-1250212140467252653"
      ]
    },
    {
      "cell_type": "code",
      "metadata": {
        "id": "lvQMVdkZAEmy"
      },
      "source": [
        "print(rhc_diagn_df_hashes.sum())\n",
        "print(diag_anz_df_hashes.sum())\n",
        "print(rhc_diagn_df_hashes.sum())\n",
        "print(diagn_enc_df_hashes.sum())\n",
        "print(pat_anz_nowellrechnung_df_hashes.sum())\n",
        "print(diagn_encnowell_df_hashes.sum())\n",
        "print(rhc_enc_anz_df_hashes.sum())\n",
        "print(rhc_all_df_hashes.sum())\n",
        "print(rhc_all_nowell_df_hashes.sum())\n",
        "print(groupbypat_df_hashes.sum())\n",
        "print(rhc_rein01_df_hashes.sum())\n",
        "print(rhc_rein02_df_hashes.sum())\n",
        "print(rhc_rein03_df_hashes.sum())\n",
        "print(rhc_rein04_df_hashes.sum())\n",
        "print(rhc_rein05_df_hashes.sum())\n",
        "print(rhc_rein06_df_hashes.sum())\n",
        "print(rhc_rein_df_hashes.sum())\n",
        "print(anz_pat_dign_enc_df_hashes.sum())"
      ],
      "execution_count": null,
      "outputs": []
    },
    {
      "cell_type": "code",
      "source": [],
      "metadata": {
        "id": "rwk_-BPBjZiD"
      },
      "execution_count": null,
      "outputs": []
    }
  ]
}