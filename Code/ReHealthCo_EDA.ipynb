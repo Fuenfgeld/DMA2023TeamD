{
  "nbformat": 4,
  "nbformat_minor": 0,
  "metadata": {
    "colab": {
      "provenance": [],
      "toc_visible": true,
      "include_colab_link": true
    },
    "kernelspec": {
      "name": "python3",
      "display_name": "Python 3"
    },
    "language_info": {
      "name": "python"
    }
  },
  "cells": [
    {
      "cell_type": "markdown",
      "metadata": {
        "id": "view-in-github",
        "colab_type": "text"
      },
      "source": [
        "<a href=\"https://colab.research.google.com/github/Fuenfgeld/DMA2023TeamD/blob/main/Code/ReHealthCo_EDA.ipynb\" target=\"_parent\"><img src=\"https://colab.research.google.com/assets/colab-badge.svg\" alt=\"Open In Colab\"/></a>"
      ]
    },
    {
      "cell_type": "markdown",
      "source": [
        "# ReHealthCo EDA-Prozess"
      ],
      "metadata": {
        "id": "r2GhM0xtrO3l"
      }
    },
    {
      "cell_type": "markdown",
      "source": [
        "## Vorbereitung "
      ],
      "metadata": {
        "id": "vpF-B8jHUcEo"
      }
    },
    {
      "cell_type": "markdown",
      "source": [
        "###CleanUp - Eventuell gespeicherte Variablen löschen vor Ausführung des Colab books (Ziel Reproduzierbarkeit)"
      ],
      "metadata": {
        "id": "b5m5XJqMVjJq"
      }
    },
    {
      "cell_type": "code",
      "source": [
        "# Löschen aller Variablen\n",
        "%reset -f"
      ],
      "metadata": {
        "id": "_Q776tIoSo-M"
      },
      "execution_count": null,
      "outputs": []
    },
    {
      "cell_type": "markdown",
      "source": [
        "Installtion der Package ydata_profiling"
      ],
      "metadata": {
        "id": "RIS7KV5-LEu8"
      }
    },
    {
      "cell_type": "code",
      "source": [
        "!pip install ydata_profiling"
      ],
      "metadata": {
        "id": "YjX7eJKBKvzV"
      },
      "execution_count": null,
      "outputs": []
    },
    {
      "cell_type": "markdown",
      "source": [
        "### Importieren der notwendigen Libraries: sqlite3, csv, pandas"
      ],
      "metadata": {
        "id": "O8gYdvOwn5mk"
      }
    },
    {
      "cell_type": "code",
      "source": [
        "import sqlite3\n",
        "from sqlite3 import Error\n",
        "import csv\n",
        "import pandas as pd\n",
        "from pandas.util import hash_pandas_object\n",
        "from ydata_profiling import ProfileReport\n",
        "import seaborn as sns\n",
        "import matplotlib.pyplot as plt"
      ],
      "metadata": {
        "id": "mJxD2LwZn3yn"
      },
      "execution_count": null,
      "outputs": []
    },
    {
      "cell_type": "markdown",
      "source": [
        "Erstellung einer virtuellen Kopie des GitHub Repositorium DMA2023TeamD in Colab"
      ],
      "metadata": {
        "id": "A1Dq0N3XYMoU"
      }
    },
    {
      "cell_type": "code",
      "source": [
        "!git clone https://github.com/Fuenfgeld/DMA2023TeamD.git"
      ],
      "metadata": {
        "id": "dmeCFp_e3Y0Z"
      },
      "execution_count": null,
      "outputs": []
    },
    {
      "cell_type": "code",
      "source": [
        "# Wechsel in den Unterordner csv_data des Github-Projekt-Ordners\n",
        "%cd /content/DMA2023TeamD/csv_data"
      ],
      "metadata": {
        "id": "nMsb146GnGj0"
      },
      "execution_count": null,
      "outputs": []
    },
    {
      "cell_type": "code",
      "source": [
        "# Auflistung aller Ordnerinhalte\n",
        "!ls"
      ],
      "metadata": {
        "id": "hqmn5rfUnGj1"
      },
      "execution_count": null,
      "outputs": []
    },
    {
      "cell_type": "markdown",
      "source": [
        "### Anlegen des rhc-DataFrames *rhc_df* und Einlesen des anonymisierten csv-Files von Github"
      ],
      "metadata": {
        "id": "MJlp_FCwEBAb"
      }
    },
    {
      "cell_type": "code",
      "source": [
        "# Pfad-Abkürzung zum Speicherort der anonymisierten csv-Tabelle\n",
        "csv_path_anonymrhc = \"/content/DMA2023TeamD/csv_data\""
      ],
      "metadata": {
        "id": "7-NeR0VHppu4"
      },
      "execution_count": null,
      "outputs": []
    },
    {
      "cell_type": "code",
      "source": [
        "# Einlesen der anonymisierten Tabelle als Pandas DataFrame\n",
        "rhc_df = pd.read_csv(f\"{csv_path_anonymrhc}/anonym_rhcpat.csv\")"
      ],
      "metadata": {
        "id": "vArg2R-KGSCq"
      },
      "execution_count": null,
      "outputs": []
    },
    {
      "cell_type": "code",
      "source": [
        "# Anzeige des DF-Inhalts\n",
        "rhc_df"
      ],
      "metadata": {
        "id": "u75OTP-ANat-"
      },
      "execution_count": null,
      "outputs": []
    },
    {
      "cell_type": "markdown",
      "source": [
        "##Auswertungen auf ***rhc_df***"
      ],
      "metadata": {
        "id": "JkauL8UdyEBZ"
      }
    },
    {
      "cell_type": "code",
      "source": [
        "# Anzeige der Kopfspalten des DF\n",
        "print(rhc_df.columns.tolist())"
      ],
      "metadata": {
        "id": "m9DH5b2MQGmZ"
      },
      "execution_count": null,
      "outputs": []
    },
    {
      "cell_type": "markdown",
      "source": [
        "###Diagnosen/Patient (0,1, 2 und >3 Diagnosen)"
      ],
      "metadata": {
        "id": "aG72sAEtyQ19"
      }
    },
    {
      "cell_type": "code",
      "source": [
        "# Diagnosen/Patient\n",
        "rhc_df[[\"RHC_PSEUDONYM\", \"DESC_CON\"]].groupby([\"RHC_PSEUDONYM\"]).size()"
      ],
      "metadata": {
        "id": "SUGb9pzZPafK"
      },
      "execution_count": null,
      "outputs": []
    },
    {
      "cell_type": "markdown",
      "source": [
        "#### Anlegen der Spalte  *diag_anz_df* (Diagnosen pro Patient)"
      ],
      "metadata": {
        "id": "8k7AlFo5I3uE"
      }
    },
    {
      "cell_type": "code",
      "source": [
        "# Anzeige Diagnosen/Patient, absteigend sortiert\n",
        "diag_anz_df = rhc_df[[\"RHC_PSEUDONYM\", \"DESC_CON\"]].groupby([\"RHC_PSEUDONYM\"]).count().sort_values(\"DESC_CON\", ascending=False) \n",
        "diag_anz_df.rename(columns={\"DESC_CON\": \"DESC_CON_ANZ\"}, inplace=True)\n",
        "diag_anz_df"
      ],
      "metadata": {
        "id": "9r47tXbcaG9i"
      },
      "execution_count": null,
      "outputs": []
    },
    {
      "cell_type": "code",
      "source": [
        "# Spalte Diagnosen/Patient an das gesamte DataFrame hängen\n",
        "rhc_diagn_df = pd.DataFrame.merge(rhc_df, diag_anz_df, left_on=[\"RHC_PSEUDONYM\"], right_on=[\"RHC_PSEUDONYM\"], how=\"left\")\n",
        "rhc_diagn_df"
      ],
      "metadata": {
        "id": "4e60MBacAB9W"
      },
      "execution_count": null,
      "outputs": []
    },
    {
      "cell_type": "markdown",
      "source": [
        "####Anlegen der Spalte *DESC_CON_SORT* (Value o,1,2, >3)"
      ],
      "metadata": {
        "id": "nFA4AbsMJ242"
      }
    },
    {
      "cell_type": "code",
      "source": [
        "# Spalte DESC_CON_ANZ verdoppeln\n",
        "rhc_diagn_df.loc[:, 'DESC_CON_SORT'] = rhc_diagn_df.loc[:, 'DESC_CON_ANZ']\n",
        "# Anzeige der Kopfspalten des DF\n",
        "print(rhc_diagn_df.columns.tolist())"
      ],
      "metadata": {
        "id": "1EoCY7-l_g2c"
      },
      "execution_count": null,
      "outputs": []
    },
    {
      "cell_type": "code",
      "source": [
        "# Ersetzen aller Werte bei Patienten > 2 Diagnosen mit einer 3\n",
        "rhc_diagn_df['DESC_CON_SORT'].values[rhc_diagn_df['DESC_CON_SORT'] > 2] = 3\n",
        "rhc_diagn_df"
      ],
      "metadata": {
        "id": "BVcyc6LZT9PB"
      },
      "execution_count": null,
      "outputs": []
    },
    {
      "cell_type": "markdown",
      "source": [
        "##Arbeit auf *rhc_diagn_df*"
      ],
      "metadata": {
        "id": "3ReIfXSOK7z2"
      }
    },
    {
      "cell_type": "markdown",
      "source": [
        "### Spalte *HEALTHCARE_EXPENSES_UNCOVERED*"
      ],
      "metadata": {
        "id": "UXTB3qjBzhuc"
      }
    },
    {
      "cell_type": "code",
      "source": [
        "# neue Spalte HEALTHCARE_EXPENSES uncovered\n",
        "rhc_diagn_df[\"HEALTHCARE_EXPENSES_UNCOVERED\"] = rhc_diagn_df[\"HEALTHCARE_EXPENSES_PAT\"]-rhc_diagn_df[\"HEALTHCARE_COVERAGE_PAT\"]\n",
        "rhc_diagn_df"
      ],
      "metadata": {
        "id": "i7NKms1zZdPw"
      },
      "execution_count": null,
      "outputs": []
    },
    {
      "cell_type": "markdown",
      "source": [
        "###Spalte *VERH_HEALTHCARE_EXPENSES_COV_UNCOV* \n",
        "Verhältnis Ausgaben abgedeckt/nicht abgedeckt"
      ],
      "metadata": {
        "id": "lfF_9c8zLNrX"
      }
    },
    {
      "cell_type": "code",
      "source": [
        "# neue Spalte Verhältnis Ausgaben abgedeckt/nicht abgedeckt mit Spaltennahmen VERH_HEALTHCARE_EXPENSES_COV_UNCOV\n",
        "rhc_diagn_df[\"VERH_HEALTHCARE_EXPENSES_COV_UNCOV\"] = rhc_diagn_df[\"HEALTHCARE_COVERAGE_PAT\"]/rhc_diagn_df[\"HEALTHCARE_EXPENSES_PAT\"]\n",
        "rhc_diagn_df"
      ],
      "metadata": {
        "id": "51Xz7sifaydW"
      },
      "execution_count": null,
      "outputs": []
    },
    {
      "cell_type": "markdown",
      "source": [
        "## Patient pro Diagnose\n"
      ],
      "metadata": {
        "id": "SlfTjKQY0uqW"
      }
    },
    {
      "cell_type": "markdown",
      "source": [
        "### *diagn_enc_df*, Patient pro Diagnose mit Encounterclasse Wellness "
      ],
      "metadata": {
        "id": "b1VWh1BPNJCC"
      }
    },
    {
      "cell_type": "code",
      "source": [
        "# Anzeige DF Patienten/Diagnose, Erweiterung sowie Encountbegegnungen, absteigend sortiert nach Patienten/Diagnose\n",
        "diagn_enc_df = rhc_df[[\"RHC_PSEUDONYM\", \"DESC_CON\", \"ENCOUNTERCLASS_ENC\"]].groupby([\"DESC_CON\"]).count().sort_values(\"RHC_PSEUDONYM\", ascending=False) \n",
        "diagn_enc_df"
      ],
      "metadata": {
        "id": "FmZNjpKV1BJC"
      },
      "execution_count": null,
      "outputs": []
    },
    {
      "cell_type": "markdown",
      "source": [
        "### *diagn_encnowell_df* Patient pro Diagnose ohne Encounterclasse wellness"
      ],
      "metadata": {
        "id": "RHukSIUoNiTZ"
      }
    },
    {
      "cell_type": "code",
      "source": [
        "# Anzeige DF Patienten/DiagnoseErweiterung sowie Encountbegegnungen, absteigend sortiert nach Patienten/Diagnose\n",
        "pat_anz_nowellrechnung_df = rhc_df.drop(rhc_df[ (rhc_df['ENCOUNTERCLASS_ENC'] == \"wellness\") ].index) # Löschen der Encounterbegegnung wellness \n",
        "diagn_encnowell_df = pat_anz_nowellrechnung_df[[\"RHC_PSEUDONYM\", \"DESC_CON\", \"ENCOUNTERCLASS_ENC\"]].groupby([\"DESC_CON\"]).count().sort_values(\"RHC_PSEUDONYM\", ascending=False) # Benennung des DF\n",
        "diagn_encnowell_df.rename(columns={\"ENCOUNTERCLASS_ENC\": \"ENCOUNTERCLASS_NOWELL\"}, inplace=True) # Umbenunng der Spalte Encounterbegegnungen/Diagnose in ENCOUNTERCLASS_NOWELL\n",
        "diagn_encnowell_df # Anzeige DF"
      ],
      "metadata": {
        "id": "GyGdB6Zd1jD3"
      },
      "execution_count": null,
      "outputs": []
    },
    {
      "cell_type": "markdown",
      "source": [
        "##Encounterbegegnungen pro Patient"
      ],
      "metadata": {
        "id": "28tWqV9uOe4K"
      }
    },
    {
      "cell_type": "markdown",
      "source": [
        "###*rhc_enc_anz_df*  Encounterbegegnungen/Patient"
      ],
      "metadata": {
        "id": "V8hx5T7oOL5d"
      }
    },
    {
      "cell_type": "code",
      "source": [
        "# Anzeige Encounterbegegnungen/Patient, absteigend sortiert\n",
        "rhc_enc_anz_df = rhc_diagn_df[[\"RHC_PSEUDONYM\", \"ENCOUNTERCLASS_ENC\"]].groupby([\"RHC_PSEUDONYM\"]).count().sort_values(\"ENCOUNTERCLASS_ENC\", ascending=False) \n",
        "rhc_enc_anz_df.rename(columns={\"ENCOUNTERCLASS_ENC\": \"ENCOUNTERCLASS_ENC_ANZ\"}, inplace=True)\n",
        "rhc_enc_anz_df"
      ],
      "metadata": {
        "id": "M5aTNmL5DTz3"
      },
      "execution_count": null,
      "outputs": []
    },
    {
      "cell_type": "markdown",
      "source": [
        "## Erstellen *rhc_all_df* (rhc_diagn_df und rhc_enc_anz_df)"
      ],
      "metadata": {
        "id": "lbQvNl4tPMw3"
      }
    },
    {
      "cell_type": "code",
      "source": [
        "# Spalte Encounterbegegnungen/Patient an das gesamte DataFrame hängen\n",
        "rhc_all_df = pd.DataFrame.merge(rhc_diagn_df, rhc_enc_anz_df, left_on=[\"RHC_PSEUDONYM\"], right_on=[\"RHC_PSEUDONYM\"], how=\"left\")\n",
        "rhc_all_df"
      ],
      "metadata": {
        "id": "nBImFTQXEppo"
      },
      "execution_count": null,
      "outputs": []
    },
    {
      "cell_type": "markdown",
      "source": [
        "####Spalte *ENCOUNTERCLASS_ENC_ANZ*"
      ],
      "metadata": {
        "id": "WmnAllXCSYVm"
      }
    },
    {
      "cell_type": "markdown",
      "source": [
        "####Spalte *ENCOUNTERCLASS_ENC_ANZ_SORT*"
      ],
      "metadata": {
        "id": "8OWQe9EfStY1"
      }
    },
    {
      "cell_type": "code",
      "source": [
        "# Ersetzen aller Werte bei Patienten > 2 Encounterbegegnungen mit einer 3 nach Verdopplung\n",
        "rhc_all_df.loc[:, 'ENCOUNTERCLASS_ENC_ANZ_SORT'] = rhc_all_df.loc[:, 'ENCOUNTERCLASS_ENC_ANZ'] # Spalte ENCOUNTERCLASS_ENC_ANZ verdoppeln\n",
        "rhc_all_df['ENCOUNTERCLASS_ENC_ANZ_SORT'].values[rhc_all_df['ENCOUNTERCLASS_ENC_ANZ_SORT'] > 2] = 3\n",
        "rhc_all_df # Anzeige des Ergebnis"
      ],
      "metadata": {
        "id": "pCQ-nNjvFJuV"
      },
      "execution_count": null,
      "outputs": []
    },
    {
      "cell_type": "code",
      "source": [
        "# Löschen der Encounterbegegnung wellness \n",
        "rhc_all_nowell_df = rhc_all_df.drop(rhc_all_df[ (rhc_all_df['ENCOUNTERCLASS_ENC'] == \"wellness\")\n",
        "                                                     ].index)\n",
        "rhc_all_nowell_df.groupby([\"ENCOUNTERCLASS_ENC\"]).size() # Anzeige der Übersicht"
      ],
      "metadata": {
        "id": "G5onQQHpF4GC"
      },
      "execution_count": null,
      "outputs": []
    },
    {
      "cell_type": "code",
      "source": [
        "rhc_all_nowell_df # Anzeige des Ergebnis"
      ],
      "metadata": {
        "id": "4V5ywm9MGd4r"
      },
      "execution_count": null,
      "outputs": []
    },
    {
      "cell_type": "code",
      "source": [
        "# Umschreibung aller string-werte in integer vor Gruppierung auf einzelnen Patienten\n",
        "rhc_all_nowell_df.ENCOUNTERCLASS_ENC.replace(['ambulatory', 'inpatient', 'emergency', 'outpatient'], [0, 1, 2, 3], inplace=True)\n",
        "rhc_all_nowell_df.DATENBANKART.replace(['asthma', 'covid', 'metabolic'], [0, 1, 2], inplace=True)\n",
        "rhc_all_nowell_df.DESC_CON.replace(['COVID-19', 'Coronary Heart Disease', 'Pneumonia (disorder)', \"Hypoxemia (disorder)\", \"Acute respiratory failure (disorder)\", \"Cardiac Arrest\", \"Atrial Fibrillation\", \"Stroke\", \"Sepsis caused by virus (disorder)\", \n",
        "                                        \"Acute deep venous thrombosis (disorder)\", \"Acute pulmonary embolism (disorder)\", \"Myocardial Infarction\", \"Septic shock (disorder)\", \"Acute respiratory distress syndrome (disorder)\",\n",
        "                                        \"Injury of heart (disorder)\", \"Acquired coagulation disorder (disorder)\", \"Childhood asthma\", \"Injury of kidney (disorder)\", \"Heart failure (disorder)\", \"Bacterial infectious disease (disorder)\", \"Asthma\"\n",
        "                                        ], [0, 1, 2, 3, 4, 5, 6, 7, 8, 9, 10, 11, 12, 13, 14, 15, 16, 17, 18, 19, 20], inplace=True)\n",
        "rhc_all_nowell_df[\"DESC_CON\"].plot(kind='hist', bins=20, figsize=(12,6), facecolor='grey',edgecolor='black')"
      ],
      "metadata": {
        "id": "kiyrZWVQQKFY"
      },
      "execution_count": null,
      "outputs": []
    },
    {
      "cell_type": "code",
      "source": [
        "# Anzeige der Kopfspalten des DF\n",
        "print(rhc_all_nowell_df.columns.tolist())"
      ],
      "metadata": {
        "id": "S6RzJP5AI8MW"
      },
      "execution_count": null,
      "outputs": []
    },
    {
      "cell_type": "code",
      "source": [
        "# Gruppierung nach Patienten, diese sonst mehrfach gezählt werden\n",
        "groupbypat_df = rhc_all_nowell_df[['RHC_PSEUDONYM', 'GENDER_PAT', 'HEALTHCARE_EXPENSES_PAT', 'HEALTHCARE_COVERAGE_PAT', 'DATENBANKART', 'LEBENDIG', 'AGE', 'CODE_CON', 'DESC_CON', 'CONDITIONDAUER', 'TOTALCOST_MED', 'ENCOUNTERCLASS_ENC', 'BEHANDLUNGSDAUER', 'DESC_CON_ANZ', 'DESC_CON_SORT', 'HEALTHCARE_EXPENSES_UNCOVERED', 'VERH_HEALTHCARE_EXPENSES_COV_UNCOV', 'ENCOUNTERCLASS_ENC_ANZ', 'ENCOUNTERCLASS_ENC_ANZ_SORT']\n",
        "].groupby([\"RHC_PSEUDONYM\"]).mean().reset_index()\n",
        "groupbypat_df"
      ],
      "metadata": {
        "id": "da_E9MQ6ItDu"
      },
      "execution_count": null,
      "outputs": []
    },
    {
      "cell_type": "code",
      "source": [
        "# Profilreporting nach Groupierung auf den Patienten, da sonst Patienten mehrfach in der Auswertung auftreten und dies die Ergebnisse verzerrt\n",
        "ProfileReport(groupbypat_df)"
      ],
      "metadata": {
        "id": "YKkmDi65KL1k"
      },
      "execution_count": null,
      "outputs": []
    },
    {
      "cell_type": "code",
      "source": [
        "anz_pat_dign_enc_df = diagn_encnowell_df.reset_index()\n",
        "anz_pat_dign_enc_df.rename(columns={\"RHC_PSEUDONYM\": \"PAT_ANZ\", \"DESC_CON\": \"DIAGNOSEN\", \"ENCOUNTERCLASS_NOWELL\": \"ENC_BEGEG_NOWELL\"}, inplace=True) # Umbenunng der Spalte Encounterbegegnungen/Diagnose in ENCOUNTERCLASS_NOWELL\n",
        "ProfileReport(anz_pat_dign_enc_df)"
      ],
      "metadata": {
        "id": "z-G9xoRwBqra"
      },
      "execution_count": null,
      "outputs": []
    },
    {
      "cell_type": "markdown",
      "source": [
        "# Boxplot and Remove Outlier \n",
        "(Extremwerte rausnehmen)"
      ],
      "metadata": {
        "id": "jBDzsKCVo9P0"
      }
    },
    {
      "cell_type": "code",
      "source": [
        "# Anzeige der Kopfspalten des DF\n",
        "print(groupbypat_df.columns.tolist())"
      ],
      "metadata": {
        "id": "B1vjeFI1L4CL"
      },
      "execution_count": null,
      "outputs": []
    },
    {
      "cell_type": "code",
      "source": [
        "sns.boxplot(x=groupbypat_df[\"HEALTHCARE_COVERAGE_PAT\"])"
      ],
      "metadata": {
        "id": "5dRzKKBYNQxS"
      },
      "execution_count": null,
      "outputs": []
    },
    {
      "cell_type": "code",
      "source": [
        "rhc_rein01_df = groupbypat_df[groupbypat_df[\"HEALTHCARE_COVERAGE_PAT\"]<15000]\n",
        "sns.boxplot(x=rhc_rein01_df[\"HEALTHCARE_COVERAGE_PAT\"])"
      ],
      "metadata": {
        "id": "1UJPSTZGNQxU"
      },
      "execution_count": null,
      "outputs": []
    },
    {
      "cell_type": "code",
      "source": [
        "sns.boxplot(x=rhc_rein01_df[\"CONDITIONDAUER\"])"
      ],
      "metadata": {
        "id": "b-xt0jakN9Vd"
      },
      "execution_count": null,
      "outputs": []
    },
    {
      "cell_type": "code",
      "source": [
        "rhc_rein02_df = rhc_rein01_df[rhc_rein01_df[\"CONDITIONDAUER\"]<1000]\n",
        "sns.boxplot(x=rhc_rein01_df[\"CONDITIONDAUER\"])"
      ],
      "metadata": {
        "id": "vHdjqliSN9Ve"
      },
      "execution_count": null,
      "outputs": []
    },
    {
      "cell_type": "code",
      "source": [
        "sns.boxplot(x=rhc_rein02_df[\"BEHANDLUNGSDAUER\"])"
      ],
      "metadata": {
        "id": "FwD7TIEzT22U"
      },
      "execution_count": null,
      "outputs": []
    },
    {
      "cell_type": "code",
      "source": [
        "rhc_rein03_df = rhc_rein02_df[rhc_rein02_df[\"BEHANDLUNGSDAUER\"]<200]\n",
        "sns.boxplot(x=rhc_rein03_df[\"CONDITIONDAUER\"])"
      ],
      "metadata": {
        "id": "qHGWRts8T22V"
      },
      "execution_count": null,
      "outputs": []
    },
    {
      "cell_type": "code",
      "source": [
        "sns.boxplot(x=rhc_rein03_df[\"DESC_CON_ANZ\"])"
      ],
      "metadata": {
        "id": "1zoXBim3Uevd"
      },
      "execution_count": null,
      "outputs": []
    },
    {
      "cell_type": "code",
      "source": [
        "rhc_rein_df = rhc_rein03_df[rhc_rein03_df[\"DESC_CON_ANZ\"]<100]\n",
        "sns.boxplot(x=rhc_rein_df[\"DESC_CON_ANZ\"])"
      ],
      "metadata": {
        "id": "qOJRNdgvUeve"
      },
      "execution_count": null,
      "outputs": []
    },
    {
      "cell_type": "markdown",
      "source": [
        "### um Extremwerten bereinigtes DF *rhc_rein_df*"
      ],
      "metadata": {
        "id": "qBjzIu1KWcdO"
      }
    },
    {
      "cell_type": "code",
      "source": [
        "rhc_rein_df"
      ],
      "metadata": {
        "id": "e8wQLKgdWRHr"
      },
      "execution_count": null,
      "outputs": []
    },
    {
      "cell_type": "markdown",
      "source": [
        "### Vergleich der Zeilenanzahl der DFs vor und nach Extremwertbereinigung: nach Bereinigung Verlust von 2814 Zeilen obwohl nur in 4 Spalten Wertbereinigung vorgenommen wurde und nur offensichtliche Ausreisser rausgestrichen wurden"
      ],
      "metadata": {
        "id": "xL8rI7L-FTur"
      }
    },
    {
      "cell_type": "code",
      "source": [
        "# Anzeige aller Zeilen\n",
        "rhc_rein_df.shape[0]"
      ],
      "metadata": {
        "id": "XP1s-ILeFNyv"
      },
      "execution_count": null,
      "outputs": []
    },
    {
      "cell_type": "code",
      "source": [
        "# Anzeige aller Zeilen\n",
        "groupbypat_df.shape[0]"
      ],
      "metadata": {
        "id": "FKF7Qz3fFEic"
      },
      "execution_count": null,
      "outputs": []
    },
    {
      "cell_type": "code",
      "source": [
        "# distribution of GENDER attribute ohne Extremwerten\n",
        "sns.countplot(x=\"variable\", hue= \"value\", data=pd.melt(rhc_rein_df[[\"GENDER_PAT\"]]))"
      ],
      "metadata": {
        "id": "kJQ0i0IPpbCw"
      },
      "execution_count": null,
      "outputs": []
    },
    {
      "cell_type": "code",
      "source": [
        "# distribution of GENDER attribute mit Extremwerten\n",
        "sns.countplot(x=\"variable\", hue= \"value\", data=pd.melt(groupbypat_df[[\"GENDER_PAT\"]]))"
      ],
      "metadata": {
        "id": "59PpfqPMW5b9"
      },
      "execution_count": null,
      "outputs": []
    },
    {
      "cell_type": "code",
      "source": [
        "# Verhältnis Diagnosen-Anzahl/Patient im bereinigten DF\n",
        "sns.countplot(x=\"variable\", hue= \"value\", orient=\"v\", data=pd.melt(rhc_rein_df[[\"DESC_CON_ANZ\"]]))"
      ],
      "metadata": {
        "id": "kLvTftaDp_Wr"
      },
      "execution_count": null,
      "outputs": []
    },
    {
      "cell_type": "code",
      "source": [
        "# SJ \n",
        "# Verhältnis Diagnosen-Anzahl/Patient im bereinigten DF\n",
        "sns.countplot(x=\"variable\", hue= \"value\", data=pd.melt(rhc_rein_df[[\"DESC_CON_ANZ\"]]))"
      ],
      "metadata": {
        "id": "MMCYmfWmDxRL"
      },
      "execution_count": null,
      "outputs": []
    },
    {
      "cell_type": "code",
      "source": [
        "# Verhältnis Diagnosen-Anzahl/Patient im nicht bereinigten DF\n",
        "sns.countplot(x=\"variable\", hue= \"value\", data=pd.melt(groupbypat_df[[\"DESC_CON_ANZ\"]]))"
      ],
      "metadata": {
        "id": "4cL5X88-NeGV"
      },
      "execution_count": null,
      "outputs": []
    },
    {
      "cell_type": "code",
      "source": [
        "# Verteilung Behandlungsdauer in Stunden im bereinigten DF\n",
        "sns.countplot(x=\"variable\", hue= \"value\", data=pd.melt(rhc_rein_df[[\"BEHANDLUNGSDAUER\"]]))"
      ],
      "metadata": {
        "id": "MRFYNPSuHW0o"
      },
      "execution_count": null,
      "outputs": []
    },
    {
      "cell_type": "code",
      "source": [
        "# Verteilung Behandlungsdauer in Stunden im nicht bereinigten DF\n",
        "sns.countplot(x=\"variable\", hue= \"value\", data=pd.melt(groupbypat_df[[\"BEHANDLUNGSDAUER\"]]))"
      ],
      "metadata": {
        "id": "dlG4vKWuOLFL"
      },
      "execution_count": null,
      "outputs": []
    },
    {
      "cell_type": "code",
      "source": [
        "# Verteilung Conditiondauer in Stunden im bereinigten DF\n",
        "sns.countplot(x=\"variable\", hue= \"value\", data=pd.melt(rhc_rein_df[[\"CONDITIONDAUER\"]]))"
      ],
      "metadata": {
        "id": "rvvIvQGRX9p7"
      },
      "execution_count": null,
      "outputs": []
    },
    {
      "cell_type": "code",
      "source": [
        "# Verteilung Conditiondauer in Stunden im bereinigten DF\n",
        "sns.countplot(x=\"variable\", hue= \"value\", data=pd.melt(groupbypat_df[[\"CONDITIONDAUER\"]]))"
      ],
      "metadata": {
        "id": "2HEyjTyzOW7C"
      },
      "execution_count": null,
      "outputs": []
    },
    {
      "cell_type": "code",
      "source": [
        "# Verteilung der Diagnosenhäufigkeit/Patient im bereinigten DF\n",
        "sns.countplot(x=\"variable\", hue= \"value\", data=pd.melt(rhc_rein_df[[\"DESC_CON_ANZ\"]]))"
      ],
      "metadata": {
        "id": "cmV8RMiXYc_o"
      },
      "execution_count": null,
      "outputs": []
    },
    {
      "cell_type": "code",
      "source": [
        "# Verteilung der Diagnosenhäufigkeit/Patient im nicht DF\n",
        "sns.countplot(x=\"variable\", hue= \"value\", data=pd.melt(groupbypat_df[[\"DESC_CON_ANZ\"]]))"
      ],
      "metadata": {
        "id": "dPC_mwuM6XrP"
      },
      "execution_count": null,
      "outputs": []
    },
    {
      "cell_type": "code",
      "source": [
        "# Verteilung der Erkrankungen im nicht bereinigten DF mit wellness\n",
        "sns.countplot(x=\"variable\", hue= \"value\", data=pd.melt(rhc_all_df[[\"DESC_CON\"]]))"
      ],
      "metadata": {
        "id": "hBghEwjBYrN5"
      },
      "execution_count": null,
      "outputs": []
    },
    {
      "cell_type": "code",
      "source": [
        "# Verteilung der Erkrankungen im nicht bereinigten DF ohne wellness mit folgender Zuweisung: \n",
        "# ['COVID-19', 'Coronary Heart Disease', 'Pneumonia (disorder)', \"Hypoxemia (disorder)\", \"Acute respiratory failure (disorder)\", \"Cardiac Arrest\", \"Atrial Fibrillation\", \"Stroke\", \"Sepsis caused by virus (disorder)\", \n",
        "# \"Acute deep venous thrombosis (disorder)\", \"Acute pulmonary embolism (disorder)\", \"Myocardial Infarction\", \"Septic shock (disorder)\", \"Acute respiratory distress syndrome (disorder)\",\n",
        "# \"Injury of heart (disorder)\", \"Acquired coagulation disorder (disorder)\", \"Childhood asthma\", \"Injury of kidney (disorder)\", \"Heart failure (disorder)\", \"Bacterial infectious disease (disorder)\", \"Asthma\"]\n",
        "# = [0, 1, 2, 3, 4, 5, 6, 7, 8, 9, 10, 11, 12, 13, 14, 15, 16, 17, 18, 19, 20]\n",
        "sns.countplot(x=\"variable\", hue= \"value\", data=pd.melt(rhc_all_nowell_df[[\"DESC_CON\"]]))"
      ],
      "metadata": {
        "id": "XpJWj6CpJov8"
      },
      "execution_count": null,
      "outputs": []
    },
    {
      "cell_type": "code",
      "source": [
        "# Verteilung Diagnosen/Patient\n",
        "sns.countplot(x=\"variable\", hue= \"value\", data=pd.melt(diagn_enc_df[[\"RHC_PSEUDONYM\"]]))"
      ],
      "metadata": {
        "id": "c2IHPqXKf04G"
      },
      "execution_count": null,
      "outputs": []
    },
    {
      "cell_type": "code",
      "source": [
        "# Verteilung Diagnosen/Encounterbegenung\n",
        "sns.countplot(x=\"variable\", hue= \"value\", data=pd.melt(diagn_enc_df[[\"ENCOUNTERCLASS_ENC\"]]))"
      ],
      "metadata": {
        "id": "r6hJyz6a9tgy"
      },
      "execution_count": null,
      "outputs": []
    },
    {
      "cell_type": "code",
      "source": [
        "# Histogramm HEALTHCARE_EXPENSES_UNCOVERED im nicht bereinigten DF\n",
        "groupbypat_df[\"HEALTHCARE_EXPENSES_UNCOVERED\"].plot(kind='hist', bins=20, figsize=(12,6), facecolor='grey',edgecolor='black')"
      ],
      "metadata": {
        "id": "es-ojLDQu8MR"
      },
      "execution_count": null,
      "outputs": []
    },
    {
      "cell_type": "code",
      "source": [
        "# Histogramm HEALTHCARE_EXPENSES_UNCOVERED im bereinigten DF\n",
        "rhc_rein_df[\"HEALTHCARE_EXPENSES_UNCOVERED\"].plot(kind='hist', bins=20, figsize=(12,6), facecolor='grey',edgecolor='black')"
      ],
      "metadata": {
        "id": "VKeNKsb9PEld"
      },
      "execution_count": null,
      "outputs": []
    },
    {
      "cell_type": "code",
      "source": [
        "# Histogramm Verhätnis Kosten gedeckt/nicht abgedeckt im nicht bereinigten DF\n",
        "groupbypat_df[\"VERH_HEALTHCARE_EXPENSES_COV_UNCOV\"].plot(kind='hist', bins=20, figsize=(12,6), facecolor='grey',edgecolor='black')"
      ],
      "metadata": {
        "id": "FQt3yGmSqNqE"
      },
      "execution_count": null,
      "outputs": []
    },
    {
      "cell_type": "code",
      "source": [
        "# Histogramm Verhätnis Kosten gedeckt/nicht abgedeckt im bereinigten DF\n",
        "rhc_rein_df[\"VERH_HEALTHCARE_EXPENSES_COV_UNCOV\"].plot(kind='hist', bins=20, figsize=(12,6), facecolor='grey',edgecolor='black')"
      ],
      "metadata": {
        "id": "1K08dG0MPRA_"
      },
      "execution_count": null,
      "outputs": []
    },
    {
      "cell_type": "code",
      "source": [
        "# Histogramm Alter im nicht bereinigten DF\n",
        "groupbypat_df[\"AGE\"].plot(kind='hist', bins=20, figsize=(12,6), facecolor='grey',edgecolor='black')"
      ],
      "metadata": {
        "id": "5o8wYEJycRjW"
      },
      "execution_count": null,
      "outputs": []
    },
    {
      "cell_type": "code",
      "source": [
        "# Histogramm Alter im bereinigten DF\n",
        "rhc_rein_df[\"AGE\"].plot(kind='hist', bins=20, figsize=(12,6), facecolor='grey',edgecolor='black')"
      ],
      "metadata": {
        "id": "YtziVeHacaxL"
      },
      "execution_count": null,
      "outputs": []
    },
    {
      "cell_type": "code",
      "source": [
        "# Verteilung tot/lebend (1/0) nicht bereinigte DF\n",
        "rhc_rein_df[\"LEBENDIG\"].plot(kind='hist', bins=20, figsize=(12,6), facecolor='grey',edgecolor='black')"
      ],
      "metadata": {
        "id": "9Yin1qI9cvCc"
      },
      "execution_count": null,
      "outputs": []
    },
    {
      "cell_type": "code",
      "source": [
        "# Verhältnis tot/lebend 0/1 im bereinigten DF in Farbe\n",
        "sns.countplot(x=\"variable\", hue= \"value\", data=pd.melt(rhc_rein_df[[\"LEBENDIG\"]]))"
      ],
      "metadata": {
        "id": "PY9DEsBrcp_p"
      },
      "execution_count": null,
      "outputs": []
    },
    {
      "cell_type": "code",
      "source": [
        "# Verhältnis tot/lebend 0/1 im nicht bereinigten DF in Farbe\n",
        "sns.countplot(x=\"variable\", hue= \"value\", data=pd.melt(groupbypat_df[[\"LEBENDIG\"]]))"
      ],
      "metadata": {
        "id": "C3VfFp5OcxYo"
      },
      "execution_count": null,
      "outputs": []
    },
    {
      "cell_type": "code",
      "source": [
        "# Verhältnis Gesundheitskostenabeckung im bereinigten DF\n",
        "sns.countplot(x=\"variable\", hue= \"value\", data=pd.melt(rhc_rein_df[[\"HEALTHCARE_COVERAGE_PAT\"]]))"
      ],
      "metadata": {
        "id": "TUv1rQFrd3fM"
      },
      "execution_count": null,
      "outputs": []
    },
    {
      "cell_type": "code",
      "source": [
        "# Verhältnis Gesundheitskostenabeckung im nicht bereinigten DF\n",
        "sns.countplot(x=\"variable\", hue= \"value\", data=pd.melt(groupbypat_df[[\"HEALTHCARE_COVERAGE_PAT\"]]))"
      ],
      "metadata": {
        "id": "EME1R_9gVF5t"
      },
      "execution_count": null,
      "outputs": []
    },
    {
      "cell_type": "code",
      "source": [
        "# Verhältnis Ursprungstabelle im bereinigten DF\n",
        "sns.countplot(x=\"variable\", hue= \"value\", data=pd.melt(rhc_rein_df[[\"DATENBANKART\"]]))"
      ],
      "metadata": {
        "id": "U1RIKOMAVSXA"
      },
      "execution_count": null,
      "outputs": []
    },
    {
      "cell_type": "code",
      "source": [
        "# Verhältnis Ursprungstabelle im nicht bereinigten DF\n",
        "sns.countplot(x=\"variable\", hue= \"value\", data=pd.melt(groupbypat_df[[\"DATENBANKART\"]]))"
      ],
      "metadata": {
        "id": "OC-atideWNv4"
      },
      "execution_count": null,
      "outputs": []
    },
    {
      "cell_type": "code",
      "source": [
        "# Verhältnis Medikamentenkosten im bereinigten DF\n",
        "sns.countplot(x=\"variable\", hue= \"value\", data=pd.melt(rhc_rein_df[[\"TOTALCOST_MED\"]]))"
      ],
      "metadata": {
        "id": "TsFUc4QYWlQn"
      },
      "execution_count": null,
      "outputs": []
    },
    {
      "cell_type": "code",
      "source": [
        "# Verhältnis Medikamentenkosten im nicht bereinigten DF\n",
        "sns.countplot(x=\"variable\", hue= \"value\", data=pd.melt(groupbypat_df[[\"TOTALCOST_MED\"]]))"
      ],
      "metadata": {
        "id": "NYDMlVH5W8EJ"
      },
      "execution_count": null,
      "outputs": []
    },
    {
      "cell_type": "code",
      "source": [
        "# Verhältnis Behandlungsdauer im bereinigten DF\n",
        "sns.countplot(x=\"variable\", hue= \"value\", data=pd.melt(rhc_rein_df[[\"BEHANDLUNGSDAUER\"]]))"
      ],
      "metadata": {
        "id": "BwVrgGoeXR86"
      },
      "execution_count": null,
      "outputs": []
    },
    {
      "cell_type": "code",
      "source": [
        "# Verhältnis Behandlungsdauer im nicht bereinigten DF\n",
        "sns.countplot(x=\"variable\", hue= \"value\", data=pd.melt(groupbypat_df[[\"BEHANDLUNGSDAUER\"]]))"
      ],
      "metadata": {
        "id": "FS13GymxXUqd"
      },
      "execution_count": null,
      "outputs": []
    },
    {
      "cell_type": "code",
      "source": [
        "# Verhältnis Diagnosen-Anzahl/Patient 0/1/2/3(= >2) im bereinigten DF\n",
        "sns.countplot(x=\"variable\", hue= \"value\", data=pd.melt(rhc_rein_df[[\"DESC_CON_SORT\"]]))"
      ],
      "metadata": {
        "id": "rj78xB2-X0-8"
      },
      "execution_count": null,
      "outputs": []
    },
    {
      "cell_type": "code",
      "source": [
        "# Verhältnis Diagnosen-Anzahl/Patient 0/1/2/3 (= >2) im nicht bereinigten DF\n",
        "sns.countplot(x=\"variable\", hue= \"value\", data=pd.melt(groupbypat_df[[\"DESC_CON_SORT\"]]))"
      ],
      "metadata": {
        "id": "Cp5gq7xkX-Vl"
      },
      "execution_count": null,
      "outputs": []
    },
    {
      "cell_type": "code",
      "source": [
        "# Verhältnis Encounterbegegnungen im bereinigten DF\n",
        "sns.countplot(x=\"variable\", hue= \"value\", data=pd.melt(rhc_rein_df[[\"ENCOUNTERCLASS_ENC_ANZ\"]]))"
      ],
      "metadata": {
        "id": "42hItIPFaKR_"
      },
      "execution_count": null,
      "outputs": []
    },
    {
      "cell_type": "code",
      "source": [
        "# Verhältnis Encounterbegegnungen im nicht bereinigten DF\n",
        "sns.countplot(x=\"variable\", hue= \"value\", data=pd.melt(groupbypat_df[[\"ENCOUNTERCLASS_ENC_ANZ\"]]))"
      ],
      "metadata": {
        "id": "EFl4OldIaKSB"
      },
      "execution_count": null,
      "outputs": []
    },
    {
      "cell_type": "code",
      "source": [
        "# Verhältnis Encounterbegegnungen /1/2/3 (= >2) im bereinigten DF\n",
        "sns.countplot(x=\"variable\", hue= \"value\", data=pd.melt(rhc_rein_df[[\"ENCOUNTERCLASS_ENC_ANZ_SORT\"]]))"
      ],
      "metadata": {
        "id": "WqtYcRGeYieh"
      },
      "execution_count": null,
      "outputs": []
    },
    {
      "cell_type": "code",
      "source": [
        "# Verhältnis Encounterbegegnungen /1/2/3 (= >2) im nicht bereinigten DF\n",
        "sns.countplot(x=\"variable\", hue= \"value\", data=pd.melt(groupbypat_df[[\"ENCOUNTERCLASS_ENC_ANZ_SORT\"]]))"
      ],
      "metadata": {
        "id": "jB04ZJJ4YyCa"
      },
      "execution_count": null,
      "outputs": []
    },
    {
      "cell_type": "markdown",
      "source": [
        "# Multivariate Analysis: Analyzing Relationships Between Variables"
      ],
      "metadata": {
        "id": "ncZdcqY7qwot"
      }
    },
    {
      "cell_type": "code",
      "source": [
        "# Generating the correlating matrix\n",
        "corr = rhc_all_nowell_df.corr()\n",
        "plt.figure(figsize=(7, 5))\n",
        "# Generating the correlation heat-map\n",
        "sns.heatmap(corr, annot=True)"
      ],
      "metadata": {
        "id": "GDUTS3q4qyYg"
      },
      "execution_count": null,
      "outputs": []
    },
    {
      "cell_type": "markdown",
      "metadata": {
        "id": "VWWX5CrQFoqz"
      },
      "source": [
        "# Version Check"
      ]
    },
    {
      "cell_type": "code",
      "metadata": {
        "id": "q0ShwlfT2H80"
      },
      "source": [
        "#python Version\n",
        "import sys\n",
        "sys.version_info"
      ],
      "execution_count": null,
      "outputs": []
    },
    {
      "cell_type": "code",
      "metadata": {
        "id": "D4kWWXUto83S"
      },
      "source": [
        "pd.__version__"
      ],
      "execution_count": null,
      "outputs": []
    },
    {
      "cell_type": "code",
      "source": [
        "csv.__version__"
      ],
      "metadata": {
        "id": "CYZ4BvSDakIz"
      },
      "execution_count": null,
      "outputs": []
    },
    {
      "cell_type": "code",
      "source": [
        "sns.__version__"
      ],
      "metadata": {
        "id": "VzdyoSbQOygz"
      },
      "execution_count": null,
      "outputs": []
    },
    {
      "cell_type": "code",
      "metadata": {
        "id": "3NwGVbSoA5lA"
      },
      "source": [
        "# Überprüfen aller Variablen\n",
        "# %pip freeze"
      ],
      "execution_count": null,
      "outputs": []
    },
    {
      "cell_type": "markdown",
      "metadata": {
        "id": "9FxdmDqaAeAl"
      },
      "source": [
        "# Calculate the Checksum of the Data Set"
      ]
    },
    {
      "cell_type": "code",
      "metadata": {
        "id": "sIISw67e_9gI"
      },
      "source": [
        "rhc_diagn_df_hashes = hash_pandas_object(rhc_diagn_df)\n",
        "diag_anz_df_hashes = hash_pandas_object(diag_anz_df)\n",
        "rhc_diagn_df_hashes = hash_pandas_object(rhc_diagn_df)\n",
        "diagn_enc_df_hashes = hash_pandas_object(diagn_enc_df)\n",
        "pat_anz_nowellrechnung_df_hashes = hash_pandas_object(pat_anz_nowellrechnung_df)\n",
        "diagn_encnowell_df_hashes = hash_pandas_object(diagn_encnowell_df)\n",
        "rhc_enc_anz_df_hashes = hash_pandas_object(rhc_enc_anz_df)\n",
        "rhc_enc_anz_df_hashes = hash_pandas_object(rhc_enc_anz_df)\n",
        "rhc_all_df_hashes = hash_pandas_object(rhc_all_df)\n",
        "rhc_all_nowell_df_hashes = hash_pandas_object(rhc_all_nowell_df)\n",
        "groupbypat_df_hashes = hash_pandas_object(groupbypat_df)\n",
        "rhc_rein01_df_hashes = hash_pandas_object(rhc_rein01_df)\n",
        "rhc_rein02_df_hashes = hash_pandas_object(rhc_rein02_df)\n",
        "rhc_rein03_df_hashes = hash_pandas_object(rhc_rein03_df)\n",
        "rhc_rein_df_hashes = hash_pandas_object(rhc_rein_df)\n",
        "anz_pat_dign_enc_df_hashes = hash_pandas_object(anz_pat_dign_enc_df)"
      ],
      "execution_count": null,
      "outputs": []
    },
    {
      "cell_type": "code",
      "source": [
        "Liste_rhcedaall_hashes = [rhc_diagn_df_hashes, diag_anz_df_hashes, rhc_diagn_df_hashes, diagn_enc_df_hashes, pat_anz_nowellrechnung_df_hashes, diagn_encnowell_df_hashes, rhc_enc_anz_df_hashes, rhc_enc_anz_df_hashes, rhc_all_df_hashes, rhc_all_nowell_df_hashes, groupbypat_df_hashes, rhc_rein01_df_hashes, rhc_rein02_df_hashes, rhc_rein03_df_hashes, rhc_rein_df_hashes, anz_pat_dign_enc_df_hashes]"
      ],
      "metadata": {
        "id": "OEdJmrV0v4C-"
      },
      "execution_count": null,
      "outputs": []
    },
    {
      "cell_type": "code",
      "source": [
        "print(Liste_rhcedaall_hashes)"
      ],
      "metadata": {
        "id": "lezu8pUOwsA6"
      },
      "execution_count": null,
      "outputs": []
    },
    {
      "cell_type": "markdown",
      "metadata": {
        "id": "R45CnT8d4t48"
      },
      "source": [
        "## Value should be \n",
        "2650178518257614002\n",
        "\n",
        "-3795146034381248713\n",
        "\n",
        "2650178518257614002\n",
        "\n",
        "7831896322564588659\n",
        "\n",
        "-840543143014388252\n",
        "\n",
        "1693621233367357631\n",
        "\n",
        "-5022892886560696056\n",
        "\n",
        "8245114429953816038\n",
        "\n",
        "-3815936067771996962\n",
        "\n",
        "-7423060998095774579\n",
        "\n",
        "-7611279281022461570\n",
        "\n",
        "-6161144217749052061\n",
        "\n",
        "6171608350576877069\n",
        "\n",
        "2939134733002627004\n",
        "\n",
        "-1250212140467252653"
      ]
    },
    {
      "cell_type": "code",
      "metadata": {
        "id": "lvQMVdkZAEmy"
      },
      "source": [
        "print(rhc_diagn_df_hashes.sum())\n",
        "print(diag_anz_df_hashes.sum())\n",
        "print(rhc_diagn_df_hashes.sum())\n",
        "print(diagn_enc_df_hashes.sum())\n",
        "print(pat_anz_nowellrechnung_df_hashes.sum())\n",
        "print(diagn_encnowell_df_hashes.sum())\n",
        "print(rhc_enc_anz_df_hashes.sum())\n",
        "print(rhc_all_df_hashes.sum())\n",
        "print(rhc_all_nowell_df_hashes.sum())\n",
        "print(groupbypat_df_hashes.sum())\n",
        "print(rhc_rein01_df_hashes.sum())\n",
        "print(rhc_rein02_df_hashes.sum())\n",
        "print(rhc_rein03_df_hashes.sum())\n",
        "print(rhc_rein_df_hashes.sum())\n",
        "print(anz_pat_dign_enc_df_hashes.sum())"
      ],
      "execution_count": null,
      "outputs": []
    }
  ]
}