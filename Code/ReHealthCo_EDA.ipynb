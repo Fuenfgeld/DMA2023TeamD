{
  "nbformat": 4,
  "nbformat_minor": 0,
  "metadata": {
    "colab": {
      "provenance": [],
      "include_colab_link": true
    },
    "kernelspec": {
      "name": "python3",
      "display_name": "Python 3"
    },
    "language_info": {
      "name": "python"
    }
  },
  "cells": [
    {
      "cell_type": "markdown",
      "metadata": {
        "id": "view-in-github",
        "colab_type": "text"
      },
      "source": [
        "<a href=\"https://colab.research.google.com/github/Fuenfgeld/DMA2023TeamD/blob/dev_branch_EDA_Prediction/Code/ReHealthCo_EDA.ipynb\" target=\"_parent\"><img src=\"https://colab.research.google.com/assets/colab-badge.svg\" alt=\"Open In Colab\"/></a>"
      ]
    },
    {
      "cell_type": "markdown",
      "source": [
        "# ReHealthCo EDA-Prozess"
      ],
      "metadata": {
        "id": "r2GhM0xtrO3l"
      }
    },
    {
      "cell_type": "markdown",
      "source": [
        "## Vorbereitung "
      ],
      "metadata": {
        "id": "vpF-B8jHUcEo"
      }
    },
    {
      "cell_type": "markdown",
      "source": [
        "###CleanUp - Eventuell gespeicherte Variablen löschen vor Ausführung des Colab books (Ziel Reproduzierbarkeit)"
      ],
      "metadata": {
        "id": "b5m5XJqMVjJq"
      }
    },
    {
      "cell_type": "code",
      "source": [
        "# Löschen aller Variablen\n",
        "%reset -f"
      ],
      "metadata": {
        "id": "_Q776tIoSo-M"
      },
      "execution_count": null,
      "outputs": []
    },
    {
      "cell_type": "markdown",
      "source": [
        "Installtion der Package ydata_profiling"
      ],
      "metadata": {
        "id": "RIS7KV5-LEu8"
      }
    },
    {
      "cell_type": "code",
      "source": [
        "!pip install ydata_profiling"
      ],
      "metadata": {
        "id": "YjX7eJKBKvzV"
      },
      "execution_count": null,
      "outputs": []
    },
    {
      "cell_type": "markdown",
      "source": [
        "## Importieren der notwendigen Libraries: sqlite3, csv, pandas"
      ],
      "metadata": {
        "id": "O8gYdvOwn5mk"
      }
    },
    {
      "cell_type": "code",
      "source": [
        "import sqlite3\n",
        "from sqlite3 import Error\n",
        "import csv\n",
        "import pandas as pd\n",
        "from pandas.util import hash_pandas_object\n",
        "from ydata_profiling import ProfileReport"
      ],
      "metadata": {
        "id": "mJxD2LwZn3yn"
      },
      "execution_count": null,
      "outputs": []
    },
    {
      "cell_type": "markdown",
      "source": [
        "### Erstellung einer virtuellen Kopie des GitHub Repositorium DMA2023TeamD in Colab"
      ],
      "metadata": {
        "id": "A1Dq0N3XYMoU"
      }
    },
    {
      "cell_type": "code",
      "source": [
        "!git clone https://github.com/Fuenfgeld/DMA2023TeamD.git"
      ],
      "metadata": {
        "id": "dmeCFp_e3Y0Z"
      },
      "execution_count": null,
      "outputs": []
    },
    {
      "cell_type": "code",
      "source": [
        "# Wechsel in den Unterordner csv_data des Github-Projekt-Ordners\n",
        "%cd /content/DMA2023TeamD/csv_data"
      ],
      "metadata": {
        "id": "nMsb146GnGj0"
      },
      "execution_count": null,
      "outputs": []
    },
    {
      "cell_type": "code",
      "source": [
        "# Auflistung aller Ordnerinhalte\n",
        "!ls"
      ],
      "metadata": {
        "id": "hqmn5rfUnGj1"
      },
      "execution_count": null,
      "outputs": []
    },
    {
      "cell_type": "markdown",
      "source": [
        "### Verknüpfung G-Dive mit Colab benötigt????????"
      ],
      "metadata": {
        "id": "VVCl6Z4Qp9x0"
      }
    },
    {
      "cell_type": "code",
      "source": [
        "# !mkdir -p /content/drive\n",
        "# from google.colab import drive\n",
        "# drive.mount('/content/drive')"
      ],
      "metadata": {
        "id": "74d88M6Dp9x1"
      },
      "execution_count": null,
      "outputs": []
    },
    {
      "cell_type": "markdown",
      "source": [
        "### Benennung des rhc-DataFrames und Einlesen des entsprechenden anonymisierten csv-Files von Github"
      ],
      "metadata": {
        "id": "MJlp_FCwEBAb"
      }
    },
    {
      "cell_type": "code",
      "source": [
        "# Pfad-Abkürzung zum Speicherort der anonymisierten csv-Tabelle\n",
        "csv_path_anonymrhc = \"/content/DMA2023TeamD/csv_data\""
      ],
      "metadata": {
        "id": "7-NeR0VHppu4"
      },
      "execution_count": null,
      "outputs": []
    },
    {
      "cell_type": "code",
      "source": [
        "# Einlesen der anonymisierten Tabelle als Pandas DataFrame\n",
        "rhc_df = pd.read_csv(f\"{csv_path_anonymrhc}/anonym_rhcpat.csv\")"
      ],
      "metadata": {
        "id": "vArg2R-KGSCq"
      },
      "execution_count": null,
      "outputs": []
    },
    {
      "cell_type": "code",
      "source": [
        "# Anzeige des DF-Inhalts\n",
        "rhc_df"
      ],
      "metadata": {
        "id": "u75OTP-ANat-"
      },
      "execution_count": null,
      "outputs": []
    },
    {
      "cell_type": "code",
      "source": [
        "# Anzeige der Kopfspalten des DF\n",
        "print(rhc_df.columns.tolist())"
      ],
      "metadata": {
        "id": "m9DH5b2MQGmZ"
      },
      "execution_count": null,
      "outputs": []
    },
    {
      "cell_type": "code",
      "source": [
        "# Diagnosen/Patient\n",
        "rhc_df.groupby([\"RHC_PSEUDONYM\", 'DESC_CON']).size()"
      ],
      "metadata": {
        "id": "SUGb9pzZPafK"
      },
      "execution_count": null,
      "outputs": []
    },
    {
      "cell_type": "code",
      "source": [
        "rhc_df.groupby([\"RHC_PSEUDONYM\"]).size()"
      ],
      "metadata": {
        "id": "0ty6ZkemaX3u"
      },
      "execution_count": null,
      "outputs": []
    },
    {
      "cell_type": "code",
      "source": [
        "rhc_df.groupby([\"RHC_PSEUDONYM\"]).count()"
      ],
      "metadata": {
        "id": "9r47tXbcaG9i"
      },
      "execution_count": null,
      "outputs": []
    },
    {
      "cell_type": "code",
      "source": [
        "df1 = rhc_df.groupby(['RHC_PSEUDONYM', 'GENDER_PAT', 'HEALTHCARE_EXPENSES_PAT', 'HEALTHCARE_COVERAGE_PAT', 'DATENBANKART', 'LEBENDIG', 'AGE', 'CODE_CON', 'DESC_CON', 'CONDITIONDAUER', 'TOTALCOST_MED', 'ENCOUNTERCLASS_ENC', 'BEHANDLUNGSDAUER'])['RHC_PSEUDONYM'].count()\n",
        "df1"
      ],
      "metadata": {
        "id": "BVcyc6LZT9PB"
      },
      "execution_count": null,
      "outputs": []
    },
    {
      "cell_type": "code",
      "source": [
        "# ydata-profiling auf anonymisierte Tabelle\n",
        "ProfileReport(rhc_df)"
      ],
      "metadata": {
        "id": "DpcSlrnKOcPR"
      },
      "execution_count": null,
      "outputs": []
    },
    {
      "cell_type": "code",
      "source": [
        "ProfileReport(df1)"
      ],
      "metadata": {
        "id": "PxHk9zgfZOZY"
      },
      "execution_count": null,
      "outputs": []
    },
    {
      "cell_type": "markdown",
      "metadata": {
        "id": "VWWX5CrQFoqz"
      },
      "source": [
        "# Version Check"
      ]
    },
    {
      "cell_type": "code",
      "metadata": {
        "id": "q0ShwlfT2H80"
      },
      "source": [
        "#python Version\n",
        "import sys\n",
        "sys.version_info"
      ],
      "execution_count": null,
      "outputs": []
    },
    {
      "cell_type": "code",
      "metadata": {
        "id": "D4kWWXUto83S"
      },
      "source": [
        "pd.__version__"
      ],
      "execution_count": null,
      "outputs": []
    },
    {
      "cell_type": "code",
      "source": [
        "csv.__version__"
      ],
      "metadata": {
        "id": "CYZ4BvSDakIz"
      },
      "execution_count": null,
      "outputs": []
    },
    {
      "cell_type": "code",
      "metadata": {
        "id": "3NwGVbSoA5lA"
      },
      "source": [
        "# Überprüfen aller Variablen\n",
        "# %pip freeze"
      ],
      "execution_count": null,
      "outputs": []
    },
    {
      "cell_type": "markdown",
      "metadata": {
        "id": "9FxdmDqaAeAl"
      },
      "source": [
        "# ANPASSEN!! Calculate the Checksum of the Data Set"
      ]
    },
    {
      "cell_type": "code",
      "metadata": {
        "id": "sIISw67e_9gI"
      },
      "source": [
        "rhcpat_df_hashes = hash_pandas_object(rhcpat_df)\n",
        "rhccon_df_hashes = hash_pandas_object(rhccon_df)\n",
        "rhcmed_df_hashes = hash_pandas_object(rhcmed_df)\n",
        "rhcenc_df_hashes = hash_pandas_object(rhcenc_df)\n",
        "rhcpatidx_df_hashes = hash_pandas_object(rhcpatidx_df)\n",
        "rhcpat_schluesseltabelle_df_hashes = hash_pandas_object(rhcpat_schluesseltabelle_df)\n",
        "rhcpat_schluesseltabelleidx_df_hashes = hash_pandas_object(rhcpat_schluesseltabelleidx_df)\n",
        "rhc_verein1_df_hashes = hash_pandas_object(rhc_verein1_df)\n",
        "rhc_verein2_df_hashes = hash_pandas_object(rhc_verein2_df)\n",
        "rhc_vereinall_df_hashes = hash_pandas_object(rhc_vereinall_df)\n",
        "anonym_rhcpat_df_hashes = hash_pandas_object(anonym_rhcpat_df)\n",
        "\n",
        "print(rhcpat_df_hashes)\n",
        "print(rhccon_df_hashes)\n",
        "print(rhcmed_df_hashes)\n",
        "print(rhcenc_df_hashes)\n",
        "print(rhcpatidx_df_hashes)\n",
        "print(rhcpat_schluesseltabelle_df_hashes)\n",
        "print(rhcpat_schluesseltabelleidx_df_hashes)\n",
        "print(rhc_verein1_df_hashes)\n",
        "print(rhc_verein2_df_hashes)\n",
        "print(rhc_vereinall_df_hashes)\n",
        "print(anonym_rhcpat_df_hashes)"
      ],
      "execution_count": null,
      "outputs": []
    },
    {
      "cell_type": "code",
      "source": [
        "Liste_rhcetcall_hashes = [rhcpat_df_hashes, rhccon_df_hashes, rhcmed_df_hashes, rhcenc_df_hashes, rhcpatidx_df_hashes, rhcpat_schluesseltabelle_df_hashes, rhcpat_schluesseltabelleidx_df_hashes, rhc_verein1_df_hashes, rhc_verein2_df_hashes, rhc_vereinall_df_hashes, anonym_rhcpat_df_hashes]"
      ],
      "metadata": {
        "id": "OEdJmrV0v4C-"
      },
      "execution_count": null,
      "outputs": []
    },
    {
      "cell_type": "code",
      "source": [
        "print(Liste_rhcetcall_hashes)"
      ],
      "metadata": {
        "id": "lezu8pUOwsA6"
      },
      "execution_count": null,
      "outputs": []
    },
    {
      "cell_type": "markdown",
      "metadata": {
        "id": "R45CnT8d4t48"
      },
      "source": [
        "## Value should be \n",
        "8511479554227127615\n",
        "\n",
        "-181358878522955579\n",
        "\n",
        "6124240394299011028\n",
        "\n",
        "-2843949348663385963\n",
        "\n",
        "-7008809488748868895\n",
        "\n",
        "-3225392982667861325\n",
        "\n",
        "-7008809488748868895\n",
        "\n",
        "-5123959212951937834\n",
        "\n",
        "476094269920066095\n",
        "\n",
        "7757257148626635020\n",
        "\n",
        "-8218260507818896620"
      ]
    },
    {
      "cell_type": "code",
      "metadata": {
        "id": "lvQMVdkZAEmy"
      },
      "source": [
        "print(rhcpat_df_hashes.sum())\n",
        "print(rhccon_df_hashes.sum())\n",
        "print(rhcmed_df_hashes.sum())\n",
        "print(rhcenc_df_hashes.sum())\n",
        "print(rhcpatidx_df_hashes.sum())\n",
        "print(rhcpat_schluesseltabelle_df_hashes.sum())\n",
        "print(rhcpat_schluesseltabelleidx_df_hashes.sum())\n",
        "print(rhc_verein1_df_hashes.sum())\n",
        "print(rhc_verein2_df_hashes.sum())\n",
        "print(rhc_vereinall_df_hashes.sum())\n",
        "print(anonym_rhcpat_df_hashes.sum())"
      ],
      "execution_count": null,
      "outputs": []
    }
  ]
}