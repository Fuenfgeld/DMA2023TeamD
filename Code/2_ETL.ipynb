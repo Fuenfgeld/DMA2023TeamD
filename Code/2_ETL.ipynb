{
  "nbformat": 4,
  "nbformat_minor": 0,
  "metadata": {
    "colab": {
      "provenance": []
    },
    "kernelspec": {
      "name": "python3",
      "display_name": "Python 3"
    },
    "language_info": {
      "name": "python"
    }
  },
  "cells": [
    {
      "cell_type": "markdown",
      "source": [
        "# ReHealthCo Erstellen der Rohdatenbank "
      ],
      "metadata": {
        "id": "r2GhM0xtrO3l"
      }
    },
    {
      "cell_type": "markdown",
      "source": [
        "## Vorbereitung "
      ],
      "metadata": {
        "id": "vpF-B8jHUcEo"
      }
    },
    {
      "cell_type": "markdown",
      "source": [
        "###CleanUp - Eventuell gespeicherte Variablen löschen vor Ausführung des Colab books (Ziel Reproduzierbarkeit)"
      ],
      "metadata": {
        "id": "b5m5XJqMVjJq"
      }
    },
    {
      "cell_type": "code",
      "source": [
        "# Löschen aller Variablen\n",
        "%reset -f"
      ],
      "metadata": {
        "id": "_Q776tIoSo-M"
      },
      "execution_count": null,
      "outputs": []
    },
    {
      "cell_type": "markdown",
      "source": [
        "## import from one Google colab notebook to the other"
      ],
      "metadata": {
        "id": "-lh5eAYuWZsl"
      }
    },
    {
      "cell_type": "code",
      "source": [
        "!pip install import_ipynb\n",
        "!pip install ipynb\n",
        "\n",
        "import import_ipynb\n",
        "import ipynb"
      ],
      "metadata": {
        "id": "AGPMxYM1WW1p"
      },
      "execution_count": null,
      "outputs": []
    },
    {
      "cell_type": "code",
      "source": [
        "!git clone https://github.com/Fuenfgeld/DMA2023TeamD"
      ],
      "metadata": {
        "id": "t0Y-TaNowu7D"
      },
      "execution_count": null,
      "outputs": []
    },
    {
      "cell_type": "code",
      "source": [
        "%cd /content/DMA2023TeamD/Code"
      ],
      "metadata": {
        "id": "ASPk3gDf3j7g"
      },
      "execution_count": null,
      "outputs": []
    },
    {
      "cell_type": "code",
      "source": [
        "!ls"
      ],
      "metadata": {
        "id": "DmLGfokv31Ph"
      },
      "execution_count": null,
      "outputs": []
    },
    {
      "cell_type": "code",
      "source": [
        "%run 1_ReHealthCo_Rohdatenbank.ipynb"
      ],
      "metadata": {
        "id": "21Y03UYVXCOL"
      },
      "execution_count": null,
      "outputs": []
    },
    {
      "cell_type": "markdown",
      "source": [
        "# Einfügen einer neuen Spalte mit tod/lebendig"
      ],
      "metadata": {
        "id": "g42bAT4h6qdg"
      }
    },
    {
      "cell_type": "code",
      "source": [
        "# Anzeigen alle aktuellen Spalten in Tabelle Patienten\n",
        "print(rhcpat_df.columns.tolist())"
      ],
      "metadata": {
        "id": "EzOg_szjxCzK"
      },
      "execution_count": null,
      "outputs": []
    },
    {
      "cell_type": "code",
      "source": [
        "# Spalte DEATHDATE dublizieren\n",
        "rhcpat_df.loc[:, 'LEBENDIG'] = rhcpat_df.loc[:, 'DEATHDATE']"
      ],
      "metadata": {
        "id": "eG3O7wsIzFeA"
      },
      "execution_count": null,
      "outputs": []
    },
    {
      "cell_type": "code",
      "source": [
        "# Anzeigen alle aktuellen Spalten\n",
        "print(rhcpat_df.columns.tolist())\n",
        "rhcpat_df.head(50)"
      ],
      "metadata": {
        "id": "092pkMyrzhzM"
      },
      "execution_count": null,
      "outputs": []
    },
    {
      "cell_type": "markdown",
      "source": [
        "# convert \"LEBENDIG\" to datetime"
      ],
      "metadata": {
        "id": "qtfq5OYq3uxu"
      }
    },
    {
      "cell_type": "code",
      "source": [
        "rhcpat_df[\"LEBENDIG\"] = pd.to_datetime(rhcpat_df[\"LEBENDIG\"])\n",
        "rhcpat_df.head(50)"
      ],
      "metadata": {
        "id": "PYD9xP7z3ub8"
      },
      "execution_count": null,
      "outputs": []
    },
    {
      "cell_type": "code",
      "source": [
        "# Umbennen aller vorhandenen Daten in Spalte LEBENDIG in tod\n",
        "today = pd.Timestamp.today().floor('d')\n",
        "rhcpat_df.loc[rhcpat_df['LEBENDIG'] < today, 'LEBENDIG'] = \"tod\"\n",
        "rhcpat_df.head(50)"
      ],
      "metadata": {
        "id": "OJ378MYj4szE"
      },
      "execution_count": null,
      "outputs": []
    },
    {
      "cell_type": "markdown",
      "source": [
        "# Todesdatum nullwerte = lebendig"
      ],
      "metadata": {
        "id": "xpanuZaH_bt_"
      }
    },
    {
      "cell_type": "code",
      "source": [
        "# NaN Werte in Spalte LEBENDIG in lebend umschreiben\n",
        "rhcpat_df['LEBENDIG'] = rhcpat_df['LEBENDIG'].fillna(\"lebend\")\n",
        "rhcpat_df.head(50)"
      ],
      "metadata": {
        "id": "HO1U_yn-19LC"
      },
      "execution_count": null,
      "outputs": []
    },
    {
      "cell_type": "markdown",
      "source": [
        "# calculate age in Tabelle rhcpat_df"
      ],
      "metadata": {
        "id": "hZ-oHcNziqC2"
      }
    },
    {
      "cell_type": "markdown",
      "source": [
        "# fill nall values with todays date"
      ],
      "metadata": {
        "id": "g4KGP_9RiwyF"
      }
    },
    {
      "cell_type": "code",
      "source": [
        "rhcpat_df[\"DEATHDATE\"] = rhcpat_df.DEATHDATE.fillna(pd.to_datetime(\"today\"))"
      ],
      "metadata": {
        "id": "AQOsiM6Wiu9W"
      },
      "execution_count": null,
      "outputs": []
    },
    {
      "cell_type": "markdown",
      "source": [
        "# convert to datetime"
      ],
      "metadata": {
        "id": "hYmvZKq5i5Rt"
      }
    },
    {
      "cell_type": "code",
      "source": [
        "rhcpat_df[\"DEATHDATE\"] = pd.to_datetime(rhcpat_df[\"DEATHDATE\"])\n",
        "rhcpat_df[\"BIRTHDATE\"] = pd.to_datetime(rhcpat_df[\"BIRTHDATE\"])\n",
        "rhcpat_df[\"AGE\"] = rhcpat_df.DEATHDATE.dt.year - rhcpat_df.BIRTHDATE.dt.year"
      ],
      "metadata": {
        "id": "19bfwiDXZAp5"
      },
      "execution_count": null,
      "outputs": []
    },
    {
      "cell_type": "markdown",
      "source": [
        "# Überprüfimg des Ergebnis"
      ],
      "metadata": {
        "id": "h0Cow6cTjAWv"
      }
    },
    {
      "cell_type": "code",
      "source": [
        "# rhcpat_df.head()\n",
        "# rhcpat_df.groupby(\"Id\").size()\n",
        "rhcpat_df.nunique(axis=0)"
      ],
      "metadata": {
        "id": "8Mww5Faki-wI"
      },
      "execution_count": null,
      "outputs": []
    },
    {
      "cell_type": "markdown",
      "source": [
        "# Erstellung Dauer stationäre Krankenhaustage"
      ],
      "metadata": {
        "id": "HGkKKv1uim5G"
      }
    },
    {
      "cell_type": "code",
      "source": [
        "# Anzeigen alle aktuellen Spalten in Tabelle Encounters\n",
        "print(rhcenc_df.columns.tolist())"
      ],
      "metadata": {
        "id": "CTW9wdGI95gh"
      },
      "execution_count": null,
      "outputs": []
    },
    {
      "cell_type": "code",
      "source": [
        "rhcenc_df[\"START\"] = pd.to_datetime(rhcenc_df[\"START\"])\n",
        "rhcenc_df[\"STOP\"] = pd.to_datetime(rhcenc_df[\"STOP\"])\n",
        "rhcenc_df[\"KRANKENHAUSTAGE\"] = rhcenc_df.STOP.dt.day - rhcenc_df.START.dt.day\n",
        "rhcenc_df[\"KRANKENHAUSMINUTEN\"] = rhcenc_df.STOP.dt.minute - rhcenc_df.START.dt.minute\n",
        "rhcenc_df.sort_values(by='KRANKENHAUSTAGE', ascending=False)"
      ],
      "metadata": {
        "id": "UspZDN-0B9a6"
      },
      "execution_count": null,
      "outputs": []
    },
    {
      "cell_type": "code",
      "source": [
        "rhcenc_df[\"KRANKENHAUSMINUTEN\"] = rhcenc_df.STOP.dt.minute - rhcenc_df.START.dt.minute\n",
        "rhcenc_df.sort_values(by='KRANKENHAUSMINUTEN', ascending=False)"
      ],
      "metadata": {
        "id": "uVSFm5OzDzro"
      },
      "execution_count": null,
      "outputs": []
    },
    {
      "cell_type": "markdown",
      "source": [
        "# Erstellung einer Schlüsseltabelle"
      ],
      "metadata": {
        "id": "AiZNJxZMic9e"
      }
    },
    {
      "cell_type": "code",
      "source": [
        "rhcpat_schluesseltabelle_df = rhcpat_df[[\"Id\"]]\n",
        "print(rhcpat_schluesseltabelle_df)"
      ],
      "metadata": {
        "id": "m_n8nDtc7uUo"
      },
      "execution_count": null,
      "outputs": []
    },
    {
      "cell_type": "markdown",
      "source": [
        "# Set multiple columns as Index Tabelle Patient auf FIRST und LAST"
      ],
      "metadata": {
        "id": "XS6GRR2iiSXc"
      }
    },
    {
      "cell_type": "code",
      "source": [
        "rhcpat_index_df = rhcpat_df.set_index(['FIRST','LAST'], append=True)\n",
        "# rhccon_index_df = rhccon_df.set_index('PATIENT', append=True) #Index sinnvoll?\n",
        "# rhcmed_index_df = rhcmed_df.set_index('PATIENT', append=True) #Index sinnvoll?\n",
        "# rhcenc_index_df = rhcenc_df.set_index('PATIENT', append=True) #Index sinnvoll?\n",
        "print(rhcpat_index_df)\n",
        "# print(rhccon_index_df) #Index sinnvoll?\n",
        "# print(rhcmed_index_df) #Index sinnvoll?\n",
        "# print(rhcenc_index_df) #Index sinnvoll?"
      ],
      "metadata": {
        "id": "TiZwUQI0hTDW"
      },
      "execution_count": null,
      "outputs": []
    },
    {
      "cell_type": "markdown",
      "source": [
        "Export csv file ReHealthCo Rohdatenbank"
      ],
      "metadata": {
        "id": "kySVXG-E-enm"
      }
    },
    {
      "cell_type": "code",
      "source": [
        "%cd /content/DMA2023TeamD/csv_data"
      ],
      "metadata": {
        "id": "GUUf6OnPsok9"
      },
      "execution_count": null,
      "outputs": []
    },
    {
      "cell_type": "code",
      "source": [
        "!ls"
      ],
      "metadata": {
        "id": "dcHs2S6LszU2"
      },
      "execution_count": null,
      "outputs": []
    },
    {
      "cell_type": "code",
      "source": [
        "# dataframes als csv in rhc gespeichert\n",
        "rhcpat_index_df.to_csv(f\"{material_path}csv_data/rhc/rhcpat_df\", index=True) #mit Index!\n",
        "rhcpat_schluesseltabelle_df.to_csv(f\"{material_path}csv_data/rhc/rhcpat_schluesseltabelle_df\", index=True) #mit Index!\n",
        "rhccon_df.to_csv(f\"{material_path}csv_data/rhc/rhccon_df\", index=False)\n",
        "rhcmed_df.to_csv(f\"{material_path}csv_data/rhc/rhcmet_df\", index=False)\n",
        "rhcenc_df.to_csv(f\"{material_path}csv_data/rhc/rhcenc_df\", index=False)"
      ],
      "metadata": {
        "id": "NTbpf70N_Bqz"
      },
      "execution_count": null,
      "outputs": []
    },
    {
      "cell_type": "markdown",
      "source": [
        "# Ggf. Pop-Up bestägtigen: Zulassen mehrerer Downloads!"
      ],
      "metadata": {
        "id": "lBeSfx2N_8Sy"
      }
    },
    {
      "cell_type": "code",
      "source": [
        "from google.colab import files\n",
        "files.download(f\"{material_path}csv_data/rhc/rhcpat_df\")"
      ],
      "metadata": {
        "id": "Xb4T_s6WmK3z"
      },
      "execution_count": null,
      "outputs": []
    },
    {
      "cell_type": "code",
      "source": [
        "files.download(f\"{material_path}csv_data/rhc/rhcpat_schluesseltabelle_df\")"
      ],
      "metadata": {
        "id": "8CwUwPg1uVKZ"
      },
      "execution_count": null,
      "outputs": []
    },
    {
      "cell_type": "code",
      "source": [
        "files.download(f\"{material_path}csv_data/rhc/rhccon_df\")"
      ],
      "metadata": {
        "id": "7l5W1QQXux16"
      },
      "execution_count": null,
      "outputs": []
    },
    {
      "cell_type": "code",
      "source": [
        "files.download(f\"{material_path}csv_data/rhc/rhcmet_df\")"
      ],
      "metadata": {
        "id": "8VlxDqJfuzaZ"
      },
      "execution_count": null,
      "outputs": []
    },
    {
      "cell_type": "code",
      "source": [
        "files.download(f\"{material_path}csv_data/rhc/rhcenc_df\")"
      ],
      "metadata": {
        "id": "B5x8PCWIu0_x"
      },
      "execution_count": null,
      "outputs": []
    },
    {
      "cell_type": "markdown",
      "source": [
        "# Tabellenvereinigung nach Anonymisierung"
      ],
      "metadata": {
        "id": "z3FN0qX3jmul"
      }
    },
    {
      "cell_type": "markdown",
      "source": [
        "# anonymisierte csv-files einlesen"
      ],
      "metadata": {
        "id": "L6M6Zp3vj5uH"
      }
    },
    {
      "cell_type": "code",
      "source": [
        "%cd /content/DMA2023TeamD/csv_data"
      ],
      "metadata": {
        "id": "_l1odFd7Lycy"
      },
      "execution_count": null,
      "outputs": []
    },
    {
      "cell_type": "code",
      "source": [
        "!ls"
      ],
      "metadata": {
        "id": "Awa6jgCfL59S"
      },
      "execution_count": null,
      "outputs": []
    },
    {
      "cell_type": "code",
      "source": [
        "csv_path_rhc = f\"{material_path}csv_data/rhc\""
      ],
      "metadata": {
        "id": "wHrGijGhkOo7"
      },
      "execution_count": null,
      "outputs": []
    },
    {
      "cell_type": "code",
      "source": [
        "anonym_rhcpat_df = pd.read_csv(f\"{csv_path_rhc}/rhcpat_df.csv\")\n",
        "anonym_rhccon_df = pd.read_csv(f\"{csv_path_rhc}/rhccon_df.csv\")\n",
        "anonym_rhcmet_df = pd.read_csv(f\"{csv_path_rhc}/rhcmet_df.csv\")\n",
        "anonym_rhcenc_df = pd.read_csv(f\"{csv_path_rhc}/rhcenc_df.csv\")"
      ],
      "metadata": {
        "id": "zawqk4dBj-ol"
      },
      "execution_count": null,
      "outputs": []
    },
    {
      "cell_type": "markdown",
      "source": [
        "# anonymisierte Tabellen vereinigen"
      ],
      "metadata": {
        "id": "awrkQDPewrce"
      }
    },
    {
      "cell_type": "code",
      "source": [
        "rhc_verein1_df = pd.DataFrame.merge(rhcpat_df, rhccon_df, left_on=[\"Id\", \"datenbankart\"], right_on=[\"PATIENT\", \"datenbankart\"], how=\"inner\")\n",
        "rhc_verein1_df.drop(\"PATIENT\", axis=1, inplace=True)\n",
        "rhc_verein1_df.rename(columns={\"DESCRIPTION\": \"desc_con\", \"CODE\": \"code_con\", \"START\": \"start_con\", \"STOP\": \"stop_con\"}, inplace=True)\n",
        "# rhc_verein1_df.shape\n",
        "# rhc_verein1_df.head()\n",
        "print(rhc_verein1_df)"
      ],
      "metadata": {
        "id": "7grmku5ajlvt"
      },
      "execution_count": null,
      "outputs": []
    },
    {
      "cell_type": "code",
      "source": [
        "#@title Default title text { display-mode: \"both\" }\n",
        "rhc_verein2_df = pd.DataFrame.merge(rhc_verein1_df, rhcmed_df, left_on=[\"Id\", \"datenbankart\", \"ENCOUNTER\"], right_on=[\"PATIENT\", \"datenbankart\", \"ENCOUNTER\"], how=\"inner\")\n",
        "rhc_verein2_df.drop(\"PATIENT\", axis=1, inplace=True)\n",
        "rhc_verein2_df.rename(columns={\"DESCRIPTION\": \"desc_med\", \"CODE\": \"code_med\", \"START\": \"start_med\", \"STOP\": \"stop_med\", \"REASONDESCRIPTION\": \"reasondesc_med\", \"REASONCODE\": \"reasoncode_med\"}, inplace=True)\n",
        "rhc_verein2_df.shape\n",
        "# rhc_verein2_df.head()\n",
        "# print(rhc_verein2_df)"
      ],
      "metadata": {
        "id": "gVyz_K54xKQ5"
      },
      "execution_count": null,
      "outputs": []
    },
    {
      "cell_type": "code",
      "source": [
        "rhcenc_df.rename(columns={\"Id\": \"id_enc\"}, inplace=True)\n",
        "# print(rhcenc_df)"
      ],
      "metadata": {
        "id": "td9QBPmhnEVo"
      },
      "execution_count": null,
      "outputs": []
    },
    {
      "cell_type": "code",
      "source": [
        "rhc_vereinall_df = pd.DataFrame.merge(rhc_verein2_df, rhcenc_df, left_on=[\"Id\", \"datenbankart\", \"PAYER\", \"PAYER_COVERAGE\"], right_on=[\"PATIENT\", \"datenbankart\", \"PAYER\", \"PAYER_COVERAGE\"], how=\"inner\")\n",
        "rhc_vereinall_df.drop(\"PATIENT\", axis=1, inplace=True)\n",
        "rhc_vereinall_df.rename(columns={\"DESCRIPTION\": \"desc_enc\", \"CODE\": \"code_enc\", \"START\": \"start_enc\", \"STOP\": \"stop_enc\", \"REASONDESCRIPTION\": \"reasondesc_enc\", \"REASONCODE\": \"reasoncode_enc\"}, inplace=True)\n",
        "rhc_vereinall_df.shape\n",
        "# rhc_vereinall_df.head()"
      ],
      "metadata": {
        "id": "wNBjFqO6UEdY"
      },
      "execution_count": null,
      "outputs": []
    },
    {
      "cell_type": "markdown",
      "source": [
        "# dataframe in sql schreiben"
      ],
      "metadata": {
        "id": "Amt3P7MFxO4S"
      }
    },
    {
      "cell_type": "code",
      "source": [
        "# ... irgendwas mit to_sql...."
      ],
      "metadata": {
        "id": "k_66yhrtxbZD"
      },
      "execution_count": null,
      "outputs": []
    },
    {
      "cell_type": "code",
      "source": [
        "  # Cleanup\n",
        "  rhc_conn.commit()"
      ],
      "metadata": {
        "id": "vPRZ7t6UvG4I"
      },
      "execution_count": null,
      "outputs": []
    },
    {
      "cell_type": "code",
      "source": [
        "rhc_vereinall_df_to_csv = pd.DataFrame(rhc_vereinall_df)\n",
        "rhc_vereinall_df.to_csv(index=False)"
      ],
      "metadata": {
        "id": "rohL_bXtmvD7"
      },
      "execution_count": null,
      "outputs": []
    },
    {
      "cell_type": "markdown",
      "source": [
        "Anzeigen Dateinamen in sample data"
      ],
      "metadata": {
        "id": "FjKqgrVUEYFL"
      }
    },
    {
      "cell_type": "code",
      "source": [
        "%cd /content/DMA2023TeamD/source_dbs/"
      ],
      "metadata": {
        "id": "i5mgrIBTjcMK"
      },
      "execution_count": null,
      "outputs": []
    },
    {
      "cell_type": "code",
      "source": [
        "! ls"
      ],
      "metadata": {
        "id": "7C_xsKtGEVzD"
      },
      "execution_count": null,
      "outputs": []
    },
    {
      "cell_type": "markdown",
      "metadata": {
        "id": "VWWX5CrQFoqz"
      },
      "source": [
        "# Version Check"
      ]
    },
    {
      "cell_type": "code",
      "metadata": {
        "id": "q0ShwlfT2H80"
      },
      "source": [
        "#python Version\n",
        "import sys\n",
        "sys.version_info"
      ],
      "execution_count": null,
      "outputs": []
    },
    {
      "cell_type": "code",
      "metadata": {
        "id": "D4kWWXUto83S"
      },
      "source": [
        "pd.__version__"
      ],
      "execution_count": null,
      "outputs": []
    },
    {
      "cell_type": "code",
      "source": [
        "csv.__version__"
      ],
      "metadata": {
        "id": "CYZ4BvSDakIz"
      },
      "execution_count": null,
      "outputs": []
    },
    {
      "cell_type": "code",
      "metadata": {
        "id": "3NwGVbSoA5lA"
      },
      "source": [
        "# Überprüfen aller Variablen\n",
        "# %pip freeze"
      ],
      "execution_count": null,
      "outputs": []
    },
    {
      "cell_type": "markdown",
      "metadata": {
        "id": "9FxdmDqaAeAl"
      },
      "source": [
        "# ANPASSEN!! Calculate the Checksum of the Data Set"
      ]
    },
    {
      "cell_type": "code",
      "metadata": {
        "id": "sIISw67e_9gI"
      },
      "source": [
        "from pandas.util import hash_pandas_object\n",
        "rhcpat_df_hashes = hash_pandas_object(rhcpat_df)\n",
        "rhccon_df_hashes = hash_pandas_object(rhccon_df)\n",
        "rhcmed_df_hashes = hash_pandas_object(rhcmed_df)\n",
        "rhcenc_df_hashes = hash_pandas_object(rhcenc_df)\n",
        "rhcpat_index_df_hashes = hash_pandas_object(rhcpat_index_df)\n",
        "rhcpat_schluesseltabelle_df_hashes = hash_pandas_object(rhcpat_schluesseltabelle_df)\n",
        "print(rhcpat_df_hashes)\n",
        "print(rhccon_df_hashes)\n",
        "print(rhcmed_df_hashes)\n",
        "print(rhcenc_df_hashes)\n",
        "print(rhcpat_index_df)\n",
        "print(rhcpat_schluesseltabelle_df)"
      ],
      "execution_count": null,
      "outputs": []
    },
    {
      "cell_type": "markdown",
      "metadata": {
        "id": "R45CnT8d4t48"
      },
      "source": [
        "## Value should be \n",
        "7825850388330491080\n",
        "\n",
        "-5790193237357692379\n",
        "\n",
        "6124240394299011028\n",
        "\n",
        "-7931912941125174269\n",
        "\n",
        "1175881583699170415\n",
        "\n",
        "-3225392982667861325\n"
      ]
    },
    {
      "cell_type": "code",
      "metadata": {
        "id": "lvQMVdkZAEmy"
      },
      "source": [
        "print(rhcpat_df_hashes.sum())\n",
        "print(rhccon_df_hashes.sum())\n",
        "print(rhcmed_df_hashes.sum())\n",
        "print(rhcenc_df_hashes.sum())\n",
        "print(rhcpat_index_df_hashes.sum())\n",
        "print(rhcpat_schluesseltabelle_df_hashes.sum())"
      ],
      "execution_count": null,
      "outputs": []
    },
    {
      "cell_type": "code",
      "source": [],
      "metadata": {
        "id": "6QbDAnAJcGz4"
      },
      "execution_count": null,
      "outputs": []
    }
  ]
}