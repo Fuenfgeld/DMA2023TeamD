{
  "nbformat": 4,
  "nbformat_minor": 0,
  "metadata": {
    "colab": {
      "provenance": []
    },
    "kernelspec": {
      "name": "python3",
      "display_name": "Python 3"
    },
    "language_info": {
      "name": "python"
    }
  },
  "cells": [
    {
      "cell_type": "markdown",
      "source": [
        "# ReHealthCo Erstellen der Rohdatenbank "
      ],
      "metadata": {
        "id": "r2GhM0xtrO3l"
      }
    },
    {
      "cell_type": "markdown",
      "source": [
        "## Vorbereitung "
      ],
      "metadata": {
        "id": "vpF-B8jHUcEo"
      }
    },
    {
      "cell_type": "markdown",
      "source": [
        "###CleanUp - Eventuell gespeicherte Variablen löschen vor Ausführung des Colab books (Ziel Reproduzierbarkeit)"
      ],
      "metadata": {
        "id": "b5m5XJqMVjJq"
      }
    },
    {
      "cell_type": "code",
      "source": [
        "# Löschen aller Variablen\n",
        "%reset -f"
      ],
      "metadata": {
        "id": "_Q776tIoSo-M"
      },
      "execution_count": null,
      "outputs": []
    },
    {
      "cell_type": "markdown",
      "source": [
        "# mount gdrive \n",
        "ggf. in colab-Umgebung neuen Ordner mit Namen \"drive\" erstellen\n",
        "\n",
        "![image.png](data:image/png;base64,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)"
      ],
      "metadata": {
        "id": "ULdeCTygZI5R"
      }
    },
    {
      "cell_type": "code",
      "source": [
        "!mkdir -p /content/drive\n",
        "from google.colab import drive\n",
        "drive.mount('/content/drive')"
      ],
      "metadata": {
        "id": "uS7s7oyaZWn9"
      },
      "execution_count": null,
      "outputs": []
    },
    {
      "cell_type": "markdown",
      "source": [
        "## import from one Google colab notebook to the other"
      ],
      "metadata": {
        "id": "-lh5eAYuWZsl"
      }
    },
    {
      "cell_type": "code",
      "source": [
        "!pip install import_ipynb\n",
        "!pip install ipynb\n",
        "\n",
        "import import_ipynb\n",
        "import ipynb"
      ],
      "metadata": {
        "id": "AGPMxYM1WW1p"
      },
      "execution_count": null,
      "outputs": []
    },
    {
      "cell_type": "code",
      "source": [
        "!git clone https://github.com/Fuenfgeld/DMA2023TeamD"
      ],
      "metadata": {
        "id": "t0Y-TaNowu7D"
      },
      "execution_count": null,
      "outputs": []
    },
    {
      "cell_type": "code",
      "source": [
        "%cd /content/DMA2023TeamD/Code"
      ],
      "metadata": {
        "id": "ASPk3gDf3j7g"
      },
      "execution_count": null,
      "outputs": []
    },
    {
      "cell_type": "code",
      "source": [
        "!ls"
      ],
      "metadata": {
        "id": "DmLGfokv31Ph"
      },
      "execution_count": null,
      "outputs": []
    },
    {
      "cell_type": "code",
      "source": [
        "%run 1_ReHealthCo_Rohdatenbank.ipynb"
      ],
      "metadata": {
        "id": "21Y03UYVXCOL"
      },
      "execution_count": null,
      "outputs": []
    },
    {
      "cell_type": "markdown",
      "source": [
        "# Einfügen einer neuen Spalte mit tod/lebendig"
      ],
      "metadata": {
        "id": "g42bAT4h6qdg"
      }
    },
    {
      "cell_type": "code",
      "source": [
        "# Anzeigen alle aktuellen Spalten in Tabelle Patienten\n",
        "print(rhcpat_df.columns.tolist())"
      ],
      "metadata": {
        "id": "EzOg_szjxCzK"
      },
      "execution_count": null,
      "outputs": []
    },
    {
      "cell_type": "code",
      "source": [
        "# Spalte DEATHDATE dublizieren\n",
        "rhcpat_df.loc[:, 'LEBENDIG'] = rhcpat_df.loc[:, 'DEATHDATE']"
      ],
      "metadata": {
        "id": "eG3O7wsIzFeA"
      },
      "execution_count": null,
      "outputs": []
    },
    {
      "cell_type": "code",
      "source": [
        "# Anzeigen alle aktuellen Spalten\n",
        "print(rhcpat_df.columns.tolist())\n",
        "rhcpat_df.head(50)"
      ],
      "metadata": {
        "id": "092pkMyrzhzM"
      },
      "execution_count": null,
      "outputs": []
    },
    {
      "cell_type": "markdown",
      "source": [
        "# convert \"LEBENDIG\" to datetime"
      ],
      "metadata": {
        "id": "qtfq5OYq3uxu"
      }
    },
    {
      "cell_type": "code",
      "source": [
        "rhcpat_df[\"LEBENDIG\"] = pd.to_datetime(rhcpat_df[\"LEBENDIG\"])\n",
        "rhcpat_df.head(50)"
      ],
      "metadata": {
        "id": "PYD9xP7z3ub8"
      },
      "execution_count": null,
      "outputs": []
    },
    {
      "cell_type": "code",
      "source": [
        "# Umbennen aller vorhandenen Daten in Spalte LEBENDIG in tod\n",
        "today = pd.Timestamp.today().floor('d')\n",
        "rhcpat_df.loc[rhcpat_df['LEBENDIG'] < today, 'LEBENDIG'] = \"tod\"\n",
        "rhcpat_df.head(50)"
      ],
      "metadata": {
        "id": "OJ378MYj4szE"
      },
      "execution_count": null,
      "outputs": []
    },
    {
      "cell_type": "markdown",
      "source": [
        "# Todesdatum nullwerte = lebendig"
      ],
      "metadata": {
        "id": "xpanuZaH_bt_"
      }
    },
    {
      "cell_type": "code",
      "source": [
        "# NaN Werte in Spalte LEBENDIG in lebend umschreiben\n",
        "rhcpat_df['LEBENDIG'] = rhcpat_df['LEBENDIG'].fillna(\"lebend\")\n",
        "rhcpat_df.head(50)"
      ],
      "metadata": {
        "id": "HO1U_yn-19LC"
      },
      "execution_count": null,
      "outputs": []
    },
    {
      "cell_type": "markdown",
      "source": [
        "# calculate age in Tabelle rhcpat_df"
      ],
      "metadata": {
        "id": "hZ-oHcNziqC2"
      }
    },
    {
      "cell_type": "markdown",
      "source": [
        "# fill nall values with todays date"
      ],
      "metadata": {
        "id": "g4KGP_9RiwyF"
      }
    },
    {
      "cell_type": "code",
      "source": [
        "rhcpat_df[\"DEATHDATE\"] = rhcpat_df.DEATHDATE.fillna(pd.to_datetime(\"today\"))"
      ],
      "metadata": {
        "id": "AQOsiM6Wiu9W"
      },
      "execution_count": null,
      "outputs": []
    },
    {
      "cell_type": "markdown",
      "source": [
        "# convert to datetime"
      ],
      "metadata": {
        "id": "hYmvZKq5i5Rt"
      }
    },
    {
      "cell_type": "code",
      "source": [
        "rhcpat_df[\"DEATHDATE\"] = pd.to_datetime(rhcpat_df[\"DEATHDATE\"])\n",
        "rhcpat_df[\"BIRTHDATE\"] = pd.to_datetime(rhcpat_df[\"BIRTHDATE\"])\n",
        "rhcpat_df[\"AGE\"] = rhcpat_df.DEATHDATE.dt.year - rhcpat_df.BIRTHDATE.dt.year"
      ],
      "metadata": {
        "id": "19bfwiDXZAp5"
      },
      "execution_count": null,
      "outputs": []
    },
    {
      "cell_type": "markdown",
      "source": [
        "# Überprüfimg des Ergebnis"
      ],
      "metadata": {
        "id": "h0Cow6cTjAWv"
      }
    },
    {
      "cell_type": "code",
      "source": [
        "# rhcpat_df.head()\n",
        "# rhcpat_df.groupby(\"Id\").size()\n",
        "rhcpat_df.nunique(axis=0)"
      ],
      "metadata": {
        "id": "8Mww5Faki-wI"
      },
      "execution_count": null,
      "outputs": []
    },
    {
      "cell_type": "markdown",
      "source": [
        "# Erstellung Dauer stationäre Krankenhaustage"
      ],
      "metadata": {
        "id": "HGkKKv1uim5G"
      }
    },
    {
      "cell_type": "code",
      "source": [
        "# Anzeigen alle aktuellen Spalten in Tabelle Encounters\n",
        "print(rhcenc_df.columns.tolist())"
      ],
      "metadata": {
        "id": "CTW9wdGI95gh"
      },
      "execution_count": null,
      "outputs": []
    },
    {
      "cell_type": "code",
      "source": [
        "rhcenc_df[\"START\"] = pd.to_datetime(rhcenc_df[\"START\"])\n",
        "rhcenc_df[\"STOP\"] = pd.to_datetime(rhcenc_df[\"STOP\"])\n",
        "rhcenc_df[\"KRANKENHAUSDAUER\"] = rhcenc_df.STOP - rhcenc_df.START\n",
        "rhcenc_df.sort_values(by='KRANKENHAUSDAUER', ascending=False)"
      ],
      "metadata": {
        "id": "UspZDN-0B9a6"
      },
      "execution_count": null,
      "outputs": []
    },
    {
      "cell_type": "markdown",
      "source": [
        "# Erstellung einer Schlüsseltabelle"
      ],
      "metadata": {
        "id": "AiZNJxZMic9e"
      }
    },
    {
      "cell_type": "code",
      "source": [
        "rhcpat_schluesseltabelle_df = rhcpat_df[[\"Id\"]]\n",
        "print(rhcpat_schluesseltabelle_df)"
      ],
      "metadata": {
        "id": "m_n8nDtc7uUo"
      },
      "execution_count": null,
      "outputs": []
    },
    {
      "cell_type": "markdown",
      "source": [
        "# Set multiple columns as Index Tabelle Patient auf FIRST und LAST"
      ],
      "metadata": {
        "id": "XS6GRR2iiSXc"
      }
    },
    {
      "cell_type": "code",
      "source": [
        "rhcpat_index_df = rhcpat_df.set_index(['FIRST','LAST'], append=True)\n",
        "# rhccon_index_df = rhccon_df.set_index('PATIENT', append=True) #Index sinnvoll?\n",
        "# rhcmed_index_df = rhcmed_df.set_index('PATIENT', append=True) #Index sinnvoll?\n",
        "# rhcenc_index_df = rhcenc_df.set_index('PATIENT', append=True) #Index sinnvoll?\n",
        "print(rhcpat_index_df)\n",
        "# print(rhccon_index_df) #Index sinnvoll?\n",
        "# print(rhcmed_index_df) #Index sinnvoll?\n",
        "# print(rhcenc_index_df) #Index sinnvoll?"
      ],
      "metadata": {
        "id": "TiZwUQI0hTDW"
      },
      "execution_count": null,
      "outputs": []
    },
    {
      "cell_type": "markdown",
      "source": [
        "Export csv file ReHealthCo Rohdatenbank"
      ],
      "metadata": {
        "id": "kySVXG-E-enm"
      }
    },
    {
      "cell_type": "code",
      "source": [
        "%cd /content/DMA2023TeamD/csv_data"
      ],
      "metadata": {
        "id": "GUUf6OnPsok9"
      },
      "execution_count": null,
      "outputs": []
    },
    {
      "cell_type": "code",
      "source": [
        "!ls"
      ],
      "metadata": {
        "id": "dcHs2S6LszU2"
      },
      "execution_count": null,
      "outputs": []
    },
    {
      "cell_type": "code",
      "source": [
        "# dataframes als csv in rhc gespeichert\n",
        "rhcpat_index_df.to_csv(f\"{material_path}csv_data/rhc/rhcpat_df.csv\", index=True) #mit Index!\n",
        "rhcpat_schluesseltabelle_df.to_csv(f\"{material_path}csv_data/rhc/rhcpat_schluesseltabelle_df.csv\", index=True) #mit Index!\n",
        "rhccon_df.to_csv(f\"{material_path}csv_data/rhc/rhccon_df.csv\", index=False)\n",
        "rhcmed_df.to_csv(f\"{material_path}csv_data/rhc/rhcmet_df.csv\", index=False)\n",
        "rhcenc_df.to_csv(f\"{material_path}csv_data/rhc/rhcenc_df.csv\", index=False)"
      ],
      "metadata": {
        "id": "NTbpf70N_Bqz"
      },
      "execution_count": null,
      "outputs": []
    },
    {
      "cell_type": "code",
      "source": [
        "%cd /content/DMA2023TeamD/csv_data/rhc"
      ],
      "metadata": {
        "id": "LVTTsRqySdg4"
      },
      "execution_count": null,
      "outputs": []
    },
    {
      "cell_type": "code",
      "source": [
        "!ls"
      ],
      "metadata": {
        "id": "8v4aqrgXSfZi"
      },
      "execution_count": null,
      "outputs": []
    },
    {
      "cell_type": "markdown",
      "source": [
        "# Ggf. Pop-Up bestägtigen: Zulassen mehrerer Downloads!"
      ],
      "metadata": {
        "id": "lBeSfx2N_8Sy"
      }
    },
    {
      "cell_type": "code",
      "source": [
        "from google.colab import files\n",
        "files.download(f\"{material_path}csv_data/rhc/rhcpat_df.csv\")\n",
        "files.download(f\"{material_path}csv_data/rhc/rhcpat_schluesseltabelle_df.csv\")\n",
        "files.download(f\"{material_path}csv_data/rhc/rhccon_df.csv\")\n",
        "files.download(f\"{material_path}csv_data/rhc/rhcmet_df.csv\")\n",
        "files.download(f\"{material_path}csv_data/rhc/rhcenc_df.csv\")"
      ],
      "metadata": {
        "id": "Xb4T_s6WmK3z"
      },
      "execution_count": null,
      "outputs": []
    },
    {
      "cell_type": "markdown",
      "source": [
        "# Tabellenvereinigung nach Anonymisierung"
      ],
      "metadata": {
        "id": "z3FN0qX3jmul"
      }
    },
    {
      "cell_type": "markdown",
      "source": [
        "# anonymisierte csv-files einlesen"
      ],
      "metadata": {
        "id": "L6M6Zp3vj5uH"
      }
    },
    {
      "cell_type": "code",
      "source": [
        "%cd /content/DMA2023TeamD/csv_data/anonym_rhc"
      ],
      "metadata": {
        "id": "_l1odFd7Lycy"
      },
      "execution_count": null,
      "outputs": []
    },
    {
      "cell_type": "code",
      "source": [
        "!ls"
      ],
      "metadata": {
        "id": "Awa6jgCfL59S"
      },
      "execution_count": null,
      "outputs": []
    },
    {
      "cell_type": "code",
      "source": [
        "# Richtiges Verzeichnis noch updaten!\n",
        "csv_path_anonym_rhc = f\"{material_path}csv_data/anonym_rhc\""
      ],
      "metadata": {
        "id": "wHrGijGhkOo7"
      },
      "execution_count": null,
      "outputs": []
    },
    {
      "cell_type": "code",
      "source": [
        "anonym_rhcpat_df = pd.read_csv(f\"{csv_path_anonym_rhc}/rhcpat_df.csv\")\n",
        "# anonym_rhccon_df = pd.read_csv(f\"{csv_path_anonym_rhc}/rhccon_df.csv\")\n",
        "# anonym_rhcmet_df = pd.read_csv(f\"{csv_path_anonym_rhc}/rhcmet_df.csv\")\n",
        "# anonym_rhcenc_df = pd.read_csv(f\"{csv_path_anonym_rhc}/rhcenc_df.csv\")"
      ],
      "metadata": {
        "id": "zawqk4dBj-ol"
      },
      "execution_count": null,
      "outputs": []
    },
    {
      "cell_type": "markdown",
      "source": [
        "# anonymisierte Tabellen vereinigen\n",
        "## alles auskommentieren sobald csv-Upload funktioniert!"
      ],
      "metadata": {
        "id": "awrkQDPewrce"
      }
    },
    {
      "cell_type": "code",
      "source": [
        "# rhc_verein1_df = pd.DataFrame.merge(anonym_rhcpat_df, anonym_rhccon_df, left_on=[\"Id\", \"datenbankart\"], right_on=[\"PATIENT\", \"datenbankart\"], how=\"inner\")\n",
        "# rhc_verein1_df.drop(\"PATIENT\", axis=1, inplace=True)\n",
        "# rhc_verein1_df.rename(columns={\"DESCRIPTION\": \"desc_con\", \"CODE\": \"code_con\", \"START\": \"start_con\", \"STOP\": \"stop_con\"}, inplace=True)\n",
        "# rhc_verein1_df.shape\n",
        "# rhc_verein1_df.head()\n",
        "# print(rhc_verein1_df)"
      ],
      "metadata": {
        "id": "7grmku5ajlvt"
      },
      "execution_count": null,
      "outputs": []
    },
    {
      "cell_type": "code",
      "source": [
        "# rhc_verein2_df = pd.DataFrame.merge(rhc_verein1_df, anonym_rhcmed_df, left_on=[\"Id\", \"datenbankart\", \"ENCOUNTER\"], right_on=[\"PATIENT\", \"datenbankart\", \"ENCOUNTER\"], how=\"inner\")\n",
        "# rhc_verein2_df.drop(\"PATIENT\", axis=1, inplace=True)\n",
        "# rhc_verein2_df.rename(columns={\"DESCRIPTION\": \"desc_med\", \"CODE\": \"code_med\", \"START\": \"start_med\", \"STOP\": \"stop_med\", \"REASONDESCRIPTION\": \"reasondesc_med\", \"REASONCODE\": \"reasoncode_med\"}, inplace=True)\n",
        "# rhc_verein2_df.shape\n",
        "# rhc_verein2_df.head()\n",
        "# print(rhc_verein2_df)"
      ],
      "metadata": {
        "id": "gVyz_K54xKQ5"
      },
      "execution_count": null,
      "outputs": []
    },
    {
      "cell_type": "code",
      "source": [
        "# anonym_rhcenc_df.rename(columns={\"Id\": \"id_enc\"}, inplace=True)\n",
        "# print(rhcenc_df)"
      ],
      "metadata": {
        "id": "td9QBPmhnEVo"
      },
      "execution_count": null,
      "outputs": []
    },
    {
      "cell_type": "code",
      "source": [
        "# rhc_vereinall_df = pd.DataFrame.merge(rhc_verein2_df, anonym_rhcenc_df, left_on=[\"Id\", \"datenbankart\", \"PAYER\", \"PAYER_COVERAGE\"], right_on=[\"PATIENT\", \"datenbankart\", \"PAYER\", \"PAYER_COVERAGE\"], how=\"inner\")\n",
        "# rhc_vereinall_df.drop(\"PATIENT\", axis=1, inplace=True)\n",
        "# rhc_vereinall_df.rename(columns={\"DESCRIPTION\": \"desc_enc\", \"CODE\": \"code_enc\", \"START\": \"start_enc\", \"STOP\": \"stop_enc\", \"REASONDESCRIPTION\": \"reasondesc_enc\", \"REASONCODE\": \"reasoncode_enc\"}, inplace=True)\n",
        "# rhc_vereinall_df.shape\n",
        "# rhc_vereinall_df.head()"
      ],
      "metadata": {
        "id": "wNBjFqO6UEdY"
      },
      "execution_count": null,
      "outputs": []
    },
    {
      "cell_type": "markdown",
      "source": [
        "# dataframe in sql schreiben"
      ],
      "metadata": {
        "id": "Amt3P7MFxO4S"
      }
    },
    {
      "cell_type": "markdown",
      "source": [
        "Erstellung der (leeren) anonymisierten Datenbanken RHC"
      ],
      "metadata": {
        "id": "TkTrNz9gU2Wl"
      }
    },
    {
      "cell_type": "code",
      "source": [
        "# create a temporary empty anonym_rhc_database in the memory\n",
        "anonym_rhc_db = f\"{material_path}/source_dbs/rehealthco.db\"\n",
        "anonym_rhc_conn = create_connection(rhc_db)\n",
        "anonym_rhc_cur = rhc_conn.cursor()\n",
        "anonym_rhc_conn.commit()\n",
        "print(\"Database connection is successfully\")"
      ],
      "metadata": {
        "id": "SVNO1jbqUsvI"
      },
      "execution_count": null,
      "outputs": []
    },
    {
      "cell_type": "code",
      "source": [
        "# ... irgendwas mit to_sql....\n",
        "# später: rhc_vereinall_df.to_sql(\n",
        "anonym_rhcpat_df.to_sql(\n",
        "    \"RHC\",# Name of SQL table.\n",
        "    anonym_rhc_conn, # sqlalchemy.engine.Engine or sqlite3.Connection\n",
        "    schema=None, # Something can't understand yet. just keep it.\n",
        "    if_exists='replace', # How to behave if the table already exists. You can use 'replace', 'append' to replace it.\n",
        "    index=True, # It means index of DataFrame will save. Set False to ignore the index of DataFrame.\n",
        "    index_label=\"Lft_Nr\", # Depend on index. \n",
        "    chunksize=None, # Just means chunksize. If DataFrame is big will need this parameter.\n",
        "    dtype=None, # Set the columns type of sql table.\n",
        "    method=None, # Unstable. Ignore it.\n",
        ")"
      ],
      "metadata": {
        "id": "k_66yhrtxbZD"
      },
      "execution_count": null,
      "outputs": []
    },
    {
      "cell_type": "code",
      "source": [
        "# Cleanup\n",
        "anonym_rhc_conn.commit()"
      ],
      "metadata": {
        "id": "vPRZ7t6UvG4I"
      },
      "execution_count": null,
      "outputs": []
    },
    {
      "cell_type": "code",
      "source": [
        "# Check data in RHC\n",
        "\n",
        "anonym_rhc_cur.execute(\"SELECT * FROM RHC;\")\n",
        "rows = anonym_rhc_cur.fetchall()\n",
        "for row in rows:\n",
        " print(row)"
      ],
      "metadata": {
        "id": "rohL_bXtmvD7"
      },
      "execution_count": null,
      "outputs": []
    },
    {
      "cell_type": "markdown",
      "source": [
        "Anzeigen Dateinamen in sample data"
      ],
      "metadata": {
        "id": "FjKqgrVUEYFL"
      }
    },
    {
      "cell_type": "code",
      "source": [
        "%cd /content/DMA2023TeamD/source_dbs/"
      ],
      "metadata": {
        "id": "i5mgrIBTjcMK"
      },
      "execution_count": null,
      "outputs": []
    },
    {
      "cell_type": "code",
      "source": [
        "! ls"
      ],
      "metadata": {
        "id": "7C_xsKtGEVzD"
      },
      "execution_count": null,
      "outputs": []
    },
    {
      "cell_type": "markdown",
      "metadata": {
        "id": "VWWX5CrQFoqz"
      },
      "source": [
        "# Version Check"
      ]
    },
    {
      "cell_type": "code",
      "metadata": {
        "id": "q0ShwlfT2H80"
      },
      "source": [
        "#python Version\n",
        "import sys\n",
        "sys.version_info"
      ],
      "execution_count": null,
      "outputs": []
    },
    {
      "cell_type": "code",
      "metadata": {
        "id": "D4kWWXUto83S"
      },
      "source": [
        "pd.__version__"
      ],
      "execution_count": null,
      "outputs": []
    },
    {
      "cell_type": "code",
      "source": [
        "csv.__version__"
      ],
      "metadata": {
        "id": "CYZ4BvSDakIz"
      },
      "execution_count": null,
      "outputs": []
    },
    {
      "cell_type": "code",
      "metadata": {
        "id": "3NwGVbSoA5lA"
      },
      "source": [
        "# Überprüfen aller Variablen\n",
        "# %pip freeze"
      ],
      "execution_count": null,
      "outputs": []
    },
    {
      "cell_type": "markdown",
      "metadata": {
        "id": "9FxdmDqaAeAl"
      },
      "source": [
        "# ANPASSEN!! Calculate the Checksum of the Data Set"
      ]
    },
    {
      "cell_type": "code",
      "metadata": {
        "id": "sIISw67e_9gI"
      },
      "source": [
        "from pandas.util import hash_pandas_object\n",
        "rhcpat_df_hashes = hash_pandas_object(rhcpat_df)\n",
        "rhccon_df_hashes = hash_pandas_object(rhccon_df)\n",
        "rhcmed_df_hashes = hash_pandas_object(rhcmed_df)\n",
        "rhcenc_df_hashes = hash_pandas_object(rhcenc_df)\n",
        "rhcpat_index_df_hashes = hash_pandas_object(rhcpat_index_df)\n",
        "rhcpat_schluesseltabelle_df_hashes = hash_pandas_object(rhcpat_schluesseltabelle_df)\n",
        "print(rhcpat_df_hashes)\n",
        "print(rhccon_df_hashes)\n",
        "print(rhcmed_df_hashes)\n",
        "print(rhcenc_df_hashes)\n",
        "print(rhcpat_index_df)\n",
        "print(rhcpat_schluesseltabelle_df)"
      ],
      "execution_count": null,
      "outputs": []
    },
    {
      "cell_type": "markdown",
      "metadata": {
        "id": "R45CnT8d4t48"
      },
      "source": [
        "## Value should be \n",
        "7825850388330491080\n",
        "\n",
        "-5790193237357692379\n",
        "\n",
        "6124240394299011028\n",
        "\n",
        "-7931912941125174269\n",
        "\n",
        "1175881583699170415\n",
        "\n",
        "-3225392982667861325\n"
      ]
    },
    {
      "cell_type": "code",
      "metadata": {
        "id": "lvQMVdkZAEmy"
      },
      "source": [
        "print(rhcpat_df_hashes.sum())\n",
        "print(rhccon_df_hashes.sum())\n",
        "print(rhcmed_df_hashes.sum())\n",
        "print(rhcenc_df_hashes.sum())\n",
        "print(rhcpat_index_df_hashes.sum())\n",
        "print(rhcpat_schluesseltabelle_df_hashes.sum())"
      ],
      "execution_count": null,
      "outputs": []
    },
    {
      "cell_type": "code",
      "source": [],
      "metadata": {
        "id": "6QbDAnAJcGz4"
      },
      "execution_count": null,
      "outputs": []
    }
  ]
}