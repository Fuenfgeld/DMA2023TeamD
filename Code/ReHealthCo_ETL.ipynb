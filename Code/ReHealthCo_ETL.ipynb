{
  "nbformat": 4,
  "nbformat_minor": 0,
  "metadata": {
    "colab": {
      "provenance": [],
      "include_colab_link": true
    },
    "kernelspec": {
      "name": "python3",
      "display_name": "Python 3"
    },
    "language_info": {
      "name": "python"
    }
  },
  "cells": [
    {
      "cell_type": "markdown",
      "metadata": {
        "id": "view-in-github",
        "colab_type": "text"
      },
      "source": [
        "<a href=\"https://colab.research.google.com/github/Fuenfgeld/DMA2023TeamD/blob/dev_branch_EDA_Prediction/Code/ReHealthCo_ETL.ipynb\" target=\"_parent\"><img src=\"https://colab.research.google.com/assets/colab-badge.svg\" alt=\"Open In Colab\"/></a>"
      ]
    },
    {
      "cell_type": "markdown",
      "source": [
        "# ReHealthCo ETL-Prozess"
      ],
      "metadata": {
        "id": "r2GhM0xtrO3l"
      }
    },
    {
      "cell_type": "markdown",
      "source": [
        "## Vorbereitung "
      ],
      "metadata": {
        "id": "vpF-B8jHUcEo"
      }
    },
    {
      "cell_type": "markdown",
      "source": [
        "###CleanUp - Eventuell gespeicherte Variablen löschen vor Ausführung des Colab books (Ziel Reproduzierbarkeit)"
      ],
      "metadata": {
        "id": "b5m5XJqMVjJq"
      }
    },
    {
      "cell_type": "code",
      "source": [
        "# Löschen aller Variablen\n",
        "%reset -f"
      ],
      "metadata": {
        "id": "_Q776tIoSo-M"
      },
      "execution_count": null,
      "outputs": []
    },
    {
      "cell_type": "markdown",
      "source": [
        "## Importieren der notwendigen Libraries: sqlite3, csv, pandas"
      ],
      "metadata": {
        "id": "O8gYdvOwn5mk"
      }
    },
    {
      "cell_type": "code",
      "source": [
        "# import sqlite3\n",
        "# from sqlite3 import Error\n",
        "# import csv\n",
        "# import pandas as pd\n",
        "# from pandas.util import hash_pandas_object"
      ],
      "metadata": {
        "id": "mJxD2LwZn3yn"
      },
      "execution_count": null,
      "outputs": []
    },
    {
      "cell_type": "markdown",
      "source": [
        "### Erstellung einer virtuellen Kopie des GitHub Repositorium DMA2023TeamD in Colab"
      ],
      "metadata": {
        "id": "A1Dq0N3XYMoU"
      }
    },
    {
      "cell_type": "code",
      "source": [
        "!git clone https://github.com/Fuenfgeld/DMA2023TeamD.git"
      ],
      "metadata": {
        "id": "dmeCFp_e3Y0Z"
      },
      "execution_count": null,
      "outputs": []
    },
    {
      "cell_type": "code",
      "source": [
        "!pwd"
      ],
      "metadata": {
        "id": "g4cTUug3vvGY"
      },
      "execution_count": null,
      "outputs": []
    },
    {
      "cell_type": "code",
      "source": [
        "# Wechsel in den Github-Projekt-Ordner\n",
        "%cd /content/DMA2023TeamD/Code"
      ],
      "metadata": {
        "id": "nMsb146GnGj0"
      },
      "execution_count": null,
      "outputs": []
    },
    {
      "cell_type": "code",
      "source": [
        "# Auflistung aller Ordnerinhalte\n",
        "!ls"
      ],
      "metadata": {
        "id": "hqmn5rfUnGj1"
      },
      "execution_count": null,
      "outputs": []
    },
    {
      "cell_type": "markdown",
      "source": [
        "## import from one Google colab notebook to the other"
      ],
      "metadata": {
        "id": "-IBqeR-XwwTj"
      }
    },
    {
      "cell_type": "code",
      "source": [
        "# !pip install import_ipynb\n",
        "# !pip install ipynb\n",
        "\n",
        "# import import_ipynb\n",
        "# import ipynb"
      ],
      "metadata": {
        "id": "Wn3OBo3OwSjs"
      },
      "execution_count": null,
      "outputs": []
    },
    {
      "cell_type": "code",
      "source": [
        "# import ReHealthCo_Rohdatenbank"
      ],
      "metadata": {
        "id": "DKhMvrbltdXv"
      },
      "execution_count": null,
      "outputs": []
    },
    {
      "cell_type": "markdown",
      "source": [
        "### Verknüpfung G-Dive mit Colab"
      ],
      "metadata": {
        "id": "VVCl6Z4Qp9x0"
      }
    },
    {
      "cell_type": "code",
      "source": [
        "!mkdir -p /content/drive\n",
        "from google.colab import drive\n",
        "drive.mount('/content/drive')"
      ],
      "metadata": {
        "id": "74d88M6Dp9x1"
      },
      "execution_count": null,
      "outputs": []
    },
    {
      "cell_type": "code",
      "source": [
        "import sqlite3\n",
        "from sqlite3 import Error\n",
        "import csv\n",
        "import pandas as pd\n",
        "from pandas.util import hash_pandas_object"
      ],
      "metadata": {
        "id": "QO6X_6TCzE8u"
      },
      "execution_count": null,
      "outputs": []
    },
    {
      "cell_type": "markdown",
      "source": [
        "### Benennung der rhc-DataFrames und Einlesen der entsprechenden csv-Files"
      ],
      "metadata": {
        "id": "MJlp_FCwEBAb"
      }
    },
    {
      "cell_type": "code",
      "source": [
        "material_path = \"/content/drive/Shareddrives/Projektarbeit DMA Gruppe D/\"\n",
        "csv_path_rhc = f\"{material_path}csv_data/rhc\""
      ],
      "metadata": {
        "id": "7-NeR0VHppu4"
      },
      "execution_count": null,
      "outputs": []
    },
    {
      "cell_type": "code",
      "source": [
        "rhcpat_df = pd.read_csv(f\"{csv_path_rhc}/rhcpat_df.csv\")\n",
        "rhccon_df = pd.read_csv(f\"{csv_path_rhc}/rhccon_df.csv\")\n",
        "rhcmed_df = pd.read_csv(f\"{csv_path_rhc}/rhcmed_df.csv\")\n",
        "rhcenc_df = pd.read_csv(f\"{csv_path_rhc}/rhcenc_df.csv\")"
      ],
      "metadata": {
        "id": "vArg2R-KGSCq"
      },
      "execution_count": null,
      "outputs": []
    },
    {
      "cell_type": "markdown",
      "source": [
        "# Einfügen einer neuen Spalte mit tod/lebendig"
      ],
      "metadata": {
        "id": "g42bAT4h6qdg"
      }
    },
    {
      "cell_type": "markdown",
      "source": [
        "### Spalte DEATHDATE verdoppeln"
      ],
      "metadata": {
        "id": "ohQ0L-hJxPNz"
      }
    },
    {
      "cell_type": "code",
      "source": [
        "rhcpat_df.loc[:, 'LEBENDIG'] = rhcpat_df.loc[:, 'DEATHDATE']"
      ],
      "metadata": {
        "id": "eG3O7wsIzFeA"
      },
      "execution_count": null,
      "outputs": []
    },
    {
      "cell_type": "code",
      "source": [
        "# Anzeigen alle aktuellen Spalten\n",
        "print(rhcpat_df.columns.tolist())"
      ],
      "metadata": {
        "id": "092pkMyrzhzM"
      },
      "execution_count": null,
      "outputs": []
    },
    {
      "cell_type": "code",
      "source": [
        "rhcpat_df[\"GENDER\"]"
      ],
      "metadata": {
        "id": "tpCyz3kgCQcQ"
      },
      "execution_count": null,
      "outputs": []
    },
    {
      "cell_type": "markdown",
      "source": [
        "## Python replace() method to update values in a dataframe"
      ],
      "metadata": {
        "id": "GI7Mpv1aEhXM"
      }
    },
    {
      "cell_type": "code",
      "source": [
        "rhcpat_df['GENDER'].replace(\"F\", 1, inplace = True)\n",
        "rhcpat_df['GENDER'].replace(\"M\", 0, inplace = True)\n",
        "rhcpat_df['GENDER']"
      ],
      "metadata": {
        "id": "-JNlfeCVCICt"
      },
      "execution_count": null,
      "outputs": []
    },
    {
      "cell_type": "markdown",
      "source": [
        "# Todesdatum nullwerte = lebendig"
      ],
      "metadata": {
        "id": "xpanuZaH_bt_"
      }
    },
    {
      "cell_type": "markdown",
      "source": [
        "### convert \"LEBENDIG\" to datetime"
      ],
      "metadata": {
        "id": "qtfq5OYq3uxu"
      }
    },
    {
      "cell_type": "code",
      "source": [
        "# NaN Werte in Spalte LEBENDIG in 1 (= lebend) umschreiben und aller vorhandenen Daten in 0 (= tot)\n",
        "rhcpat_df[\"LEBENDIG\"] = pd.to_datetime(rhcpat_df[\"LEBENDIG\"])\n",
        "today = pd.Timestamp.today().floor('d')\n",
        "rhcpat_df.loc[rhcpat_df['LEBENDIG'] < today, 'LEBENDIG'] = \"0\"\n",
        "rhcpat_df['LEBENDIG'] = rhcpat_df['LEBENDIG'].fillna(\"1\")\n",
        "rhcpat_df.head(12)"
      ],
      "metadata": {
        "id": "PYD9xP7z3ub8"
      },
      "execution_count": null,
      "outputs": []
    },
    {
      "cell_type": "markdown",
      "source": [
        "# calculate age in Tabelle rhcpat_df"
      ],
      "metadata": {
        "id": "hZ-oHcNziqC2"
      }
    },
    {
      "cell_type": "markdown",
      "source": [
        "# fill nall values with todays date"
      ],
      "metadata": {
        "id": "g4KGP_9RiwyF"
      }
    },
    {
      "cell_type": "code",
      "source": [
        "rhcpat_df[\"DEATHDATE\"] = rhcpat_df.DEATHDATE.fillna(pd.to_datetime(\"today\"))"
      ],
      "metadata": {
        "id": "AQOsiM6Wiu9W"
      },
      "execution_count": null,
      "outputs": []
    },
    {
      "cell_type": "markdown",
      "source": [
        "# convert to datetime"
      ],
      "metadata": {
        "id": "hYmvZKq5i5Rt"
      }
    },
    {
      "cell_type": "code",
      "source": [
        "rhcpat_df[\"DEATHDATE\"] = pd.to_datetime(rhcpat_df[\"DEATHDATE\"])\n",
        "rhcpat_df[\"BIRTHDATE\"] = pd.to_datetime(rhcpat_df[\"BIRTHDATE\"])\n",
        "rhcpat_df[\"AGE\"] = rhcpat_df.DEATHDATE.dt.year - rhcpat_df.BIRTHDATE.dt.year"
      ],
      "metadata": {
        "id": "19bfwiDXZAp5"
      },
      "execution_count": null,
      "outputs": []
    },
    {
      "cell_type": "markdown",
      "source": [
        "# Überprüfimg des Ergebnis"
      ],
      "metadata": {
        "id": "h0Cow6cTjAWv"
      }
    },
    {
      "cell_type": "code",
      "source": [
        "rhcpat_df.head()\n",
        "# rhcpat_df.groupby(\"Id\").size()\n",
        "# rhcpat_df.nunique(axis=0)"
      ],
      "metadata": {
        "id": "8Mww5Faki-wI"
      },
      "execution_count": null,
      "outputs": []
    },
    {
      "cell_type": "markdown",
      "source": [
        "### Erstellung einer INDEX-SPALTE für RHC_PSEUDONYM für Tabelle Patients"
      ],
      "metadata": {
        "id": "WhOFdsxz5J61"
      }
    },
    {
      "cell_type": "code",
      "source": [
        "rhcpatidx_df = rhcpat_df.rename_axis('RHC_PSEUDONYM').reset_index()\n",
        "print(rhcpatidx_df)"
      ],
      "metadata": {
        "id": "gxCm2XbX4r5C"
      },
      "execution_count": null,
      "outputs": []
    },
    {
      "cell_type": "markdown",
      "source": [
        "### Erstellung einer Schlüsseltabelle und Erstellung einer INDEX-SPALTE für RHC_PSEUDONYM"
      ],
      "metadata": {
        "id": "beqWQfYh4sDX"
      }
    },
    {
      "cell_type": "code",
      "source": [
        "rhcpat_schluesseltabelle_df = rhcpat_df[[\"Id\"]]\n",
        "rhcpat_schluesseltabelleidx_df = rhcpat_df.rename_axis('RHC_PSEUDONYM').reset_index() # Index benennen als RHC_PSEUDONYM\n",
        "print(rhcpat_schluesseltabelleidx_df)"
      ],
      "metadata": {
        "id": "ss7Vxd_c4sDa"
      },
      "execution_count": null,
      "outputs": []
    },
    {
      "cell_type": "markdown",
      "source": [
        "# Erstellung Dauer stationäre Krankenhaustage"
      ],
      "metadata": {
        "id": "HGkKKv1uim5G"
      }
    },
    {
      "cell_type": "code",
      "source": [
        "# Anzeigen alle aktuellen Spalten in Tabelle Encounters\n",
        "print(rhcenc_df.columns.tolist())"
      ],
      "metadata": {
        "id": "CTW9wdGI95gh"
      },
      "execution_count": null,
      "outputs": []
    },
    {
      "cell_type": "markdown",
      "source": [
        "# Conditionsdauer auch berechnen!"
      ],
      "metadata": {
        "id": "OWVMF8XU7kiD"
      }
    },
    {
      "cell_type": "code",
      "source": [
        "rhcenc_df[\"START\"] = pd.to_datetime(rhcenc_df[\"START\"])\n",
        "rhcenc_df[\"STOP\"] = pd.to_datetime(rhcenc_df[\"STOP\"])\n",
        "rhcenc_df[\"BEHANDLUNGSDAUER\"] = rhcenc_df.STOP - rhcenc_df.START\n",
        "rhcenc_df.sort_values(by='BEHANDLUNGSDAUER', ascending=False)"
      ],
      "metadata": {
        "id": "UspZDN-0B9a6"
      },
      "execution_count": null,
      "outputs": []
    },
    {
      "cell_type": "code",
      "source": [
        "rhccon_df[\"START\"] = pd.to_datetime(rhccon_df[\"START\"])\n",
        "rhccon_df[\"STOP\"] = pd.to_datetime(rhccon_df[\"STOP\"])\n",
        "rhccon_df[\"CONDITIONDAUER\"] = rhccon_df.STOP - rhccon_df.START\n",
        "rhccon_df.sort_values(by='CONDITIONDAUER', ascending=False)"
      ],
      "metadata": {
        "id": "1EriBngINBsu"
      },
      "execution_count": null,
      "outputs": []
    },
    {
      "cell_type": "markdown",
      "source": [
        "# Tabellenvereinigung"
      ],
      "metadata": {
        "id": "z3FN0qX3jmul"
      }
    },
    {
      "cell_type": "code",
      "source": [
        "rhc_verein1_df = pd.DataFrame.merge(rhcpatidx_df, rhccon_df, left_on=[\"Id\", \"datenbankart\"], right_on=[\"PATIENT\", \"datenbankart\"], how=\"inner\")\n",
        "rhc_verein1_df.drop(\"PATIENT\", axis=1, inplace=True)\n",
        "rhc_verein1_df.rename(columns={\"DESCRIPTION\": \"desc_con\", \"CODE\": \"code_con\", \"START\": \"start_con\", \"STOP\": \"stop_con\"}, inplace=True)\n",
        "rhc_verein1_df.shape\n",
        "rhc_verein1_df.head()\n",
        "print(rhc_verein1_df)"
      ],
      "metadata": {
        "id": "7grmku5ajlvt"
      },
      "execution_count": null,
      "outputs": []
    },
    {
      "cell_type": "code",
      "source": [
        "rhc_verein2_df = pd.DataFrame.merge(rhc_verein1_df, rhcmed_df, left_on=[\"Id\", \"datenbankart\", \"ENCOUNTER\"], right_on=[\"PATIENT\", \"datenbankart\", \"ENCOUNTER\"], how=\"inner\")\n",
        "rhc_verein2_df.drop(\"PATIENT\", axis=1, inplace=True)\n",
        "rhc_verein2_df.rename(columns={\"DESCRIPTION\": \"desc_med\", \"CODE\": \"code_med\", \"START\": \"start_med\", \"STOP\": \"stop_med\", \"REASONDESCRIPTION\": \"reasondesc_med\", \"REASONCODE\": \"reasoncode_med\"}, inplace=True)\n",
        "rhc_verein2_df.shape\n",
        "rhc_verein2_df.head()\n",
        "print(rhc_verein2_df)"
      ],
      "metadata": {
        "id": "gVyz_K54xKQ5"
      },
      "execution_count": null,
      "outputs": []
    },
    {
      "cell_type": "code",
      "source": [
        "rhcenc_df.rename(columns={\"Id\": \"id_enc\"}, inplace=True)\n",
        "print(rhcenc_df)"
      ],
      "metadata": {
        "id": "td9QBPmhnEVo"
      },
      "execution_count": null,
      "outputs": []
    },
    {
      "cell_type": "code",
      "source": [
        "rhc_vereinall_df = pd.DataFrame.merge(rhc_verein2_df, rhcenc_df, left_on=[\"Id\", \"datenbankart\", \"PAYER\", \"PAYER_COVERAGE\"], right_on=[\"PATIENT\", \"datenbankart\", \"PAYER\", \"PAYER_COVERAGE\"], how=\"inner\")\n",
        "rhc_vereinall_df.drop(\"PATIENT\", axis=1, inplace=True)\n",
        "rhc_vereinall_df.rename(columns={\"DESCRIPTION\": \"desc_enc\", \"CODE\": \"code_enc\", \"START\": \"start_enc\", \"STOP\": \"stop_enc\", \"REASONDESCRIPTION\": \"reasondesc_enc\", \"REASONCODE\": \"reasoncode_enc\"}, inplace=True)\n",
        "rhc_vereinall_df.shape\n",
        "rhc_vereinall_df.head()"
      ],
      "metadata": {
        "id": "wNBjFqO6UEdY"
      },
      "execution_count": null,
      "outputs": []
    },
    {
      "cell_type": "markdown",
      "source": [
        "# Tabellen rauswerfen und\n",
        "## dann mit präfix pat/con/med/enc versehen"
      ],
      "metadata": {
        "id": "DZB4M1jL2T0h"
      }
    },
    {
      "cell_type": "code",
      "source": [
        "# Anzeigen alle aktuellen Spalten\n",
        "print(rhc_vereinall_df.columns.tolist())"
      ],
      "metadata": {
        "id": "wqjAb8Jk2SUw"
      },
      "execution_count": null,
      "outputs": []
    },
    {
      "cell_type": "code",
      "source": [
        "# drop\n",
        "rhc_vereinall_df.drop([\"Id\", \"BIRTHDATE\", \"DEATHDATE\", \"SSN\", \"DRIVERS\", \"PASSPORT\", \"PREFIX\", \"FIRST\", \"LAST\", \"SUFFIX\", \"MAIDEN\", \"MARITAL\", \"RACE\", \"ETHNICITY\", \"BIRTHPLACE\", \"ADDRESS\", \"CITY\", \"STATE\", \"COUNTY\", \"ZIP\", \"LAT\", \"LON\", 'ENCOUNTER', 'start_med', 'stop_med', 'PAYER', 'code_med', 'desc_med', 'BASE_COST', 'PAYER_COVERAGE', 'DISPENSES',  'reasoncode_med', 'reasondesc_med', 'id_enc', 'start_enc', 'stop_enc', 'ORGANIZATION', 'PROVIDER', 'code_enc', 'desc_enc', 'BASE_ENCOUNTER_COST', 'TOTAL_CLAIM_COST', 'reasoncode_enc', 'reasondesc_enc', 'start_con', 'stop_con'], axis=1, inplace=True)\n",
        "print(rhc_vereinall_df.columns.tolist())"
      ],
      "metadata": {
        "id": "VfRfS_Y192Az"
      },
      "execution_count": null,
      "outputs": []
    },
    {
      "cell_type": "code",
      "source": [
        "rhc_vereinall_df.rename(columns={\"GENDER\": \"GENDER_PAT\", \"HEALTHCARE_EXPENSES\": \"HEALTHCARE_EXPENSES_PAT\", \"HEALTHCARE_COVERAGE\": \"HEALTHCARE_COVERAGE_PAT\", \"datenbankart\": \"DATENBANKART\", \"code_con\": \"CODE_CON\", \"desc_con\": \"DESC_CON\", \"TOTALCOST\": \"TOTALCOST_MED\", \"ENCOUNTERCLASS\": \"ENCOUNTERCLASS_ENC\"}, inplace=True)\n",
        "print(rhc_vereinall_df.columns.tolist())"
      ],
      "metadata": {
        "id": "B90jtn3lIMSn"
      },
      "execution_count": null,
      "outputs": []
    },
    {
      "cell_type": "code",
      "source": [
        "rhc_vereinall_df.groupby([\"DESC_CON\"]).size()"
      ],
      "metadata": {
        "id": "fdrxcRY9AbFO"
      },
      "execution_count": null,
      "outputs": []
    },
    {
      "cell_type": "code",
      "source": [
        "# Löschen bestimmter Spaltenwerte - alles von bis zu History of cardiac arrest (situation) gelöscht \n",
        "# df.drop(df[df['Fee'] >= 24000].index, inplace = True)\n",
        "anonym_rhcpat_df = rhc_vereinall_df.drop(rhc_vereinall_df[ (rhc_vereinall_df['DESC_CON'] == \"Wheezing (finding)\") |\n",
        "                                                     (rhc_vereinall_df['DESC_CON'] == \"Vomiting symptom (finding)\") |\n",
        "                                                     (rhc_vereinall_df['DESC_CON'] == \"Suspected COVID-19\") |\n",
        "                                                     (rhc_vereinall_df['DESC_CON'] == \"Sputum finding (finding)\") |\n",
        "                                                     (rhc_vereinall_df['DESC_CON'] == \"Sore throat symptom (finding)\") |\n",
        "                                                     (rhc_vereinall_df['DESC_CON'] == \"Respiratory distress (finding)\") |\n",
        "                                                     (rhc_vereinall_df['DESC_CON'] == \"Passive conjunctival congestion (finding)\") |\n",
        "                                                     (rhc_vereinall_df['DESC_CON'] == \"Nausea (finding)\") |\n",
        "                                                     (rhc_vereinall_df['DESC_CON'] == \"Nasal congestion (finding)\") |\n",
        "                                                     (rhc_vereinall_df['DESC_CON'] == \"Muscle pain (finding)\") |\n",
        "                                                     (rhc_vereinall_df['DESC_CON'] == \"Loss of taste (finding)\") |\n",
        "                                                     (rhc_vereinall_df['DESC_CON'] == \"Joint pain (finding)\") |\n",
        "                                                     (rhc_vereinall_df['DESC_CON'] == \"History of myocardial infarction (situation)\") |\n",
        "                                                     (rhc_vereinall_df['DESC_CON'] == \"History of cardiac arrest (situation)\") |\n",
        "                                                     (rhc_vereinall_df['DESC_CON'] == \"Hemoptysis (finding)\") |\n",
        "                                                     (rhc_vereinall_df['DESC_CON'] == \"Headache (finding)\") |\n",
        "                                                     (rhc_vereinall_df['DESC_CON'] == \"Fever (finding)\") |\n",
        "                                                     (rhc_vereinall_df['DESC_CON'] == \"Fatigue (finding)\") |\n",
        "                                                     (rhc_vereinall_df['DESC_CON'] == \"Dyspnea (finding)\") |\n",
        "                                                     (rhc_vereinall_df['DESC_CON'] == \"Diarrhea symptom (finding)\") |\n",
        "                                                     (rhc_vereinall_df['DESC_CON'] == \"Cough (finding)\") |\n",
        "                                                     (rhc_vereinall_df['DESC_CON'] == \"Chill (finding)\")\n",
        "                                                     ].index)\n",
        "anonym_rhcpat_df.groupby([\"DESC_CON\"]).size()"
      ],
      "metadata": {
        "id": "qxlj70nJ5bIo"
      },
      "execution_count": null,
      "outputs": []
    },
    {
      "cell_type": "code",
      "source": [
        "anonym_rhcpat_df"
      ],
      "metadata": {
        "id": "58iX8WaQGOTi"
      },
      "execution_count": null,
      "outputs": []
    },
    {
      "cell_type": "markdown",
      "source": [
        "# dataframe in sql schreiben"
      ],
      "metadata": {
        "id": "Amt3P7MFxO4S"
      }
    },
    {
      "cell_type": "markdown",
      "source": [
        "### Erstellung der Funktion create_connection weleche eine Verbindung mit der SQL-Datenbank herstellt"
      ],
      "metadata": {
        "id": "kTEf2QY3YYM5"
      }
    },
    {
      "cell_type": "code",
      "source": [
        "# Connect to source database\n",
        "def create_connection(db_file):\n",
        "  \"\"\" create a database connection to SQLite database\"\"\"\n",
        "  conn = None\n",
        "  try:\n",
        "    conn = sqlite3.connect(db_file)\n",
        "    return conn\n",
        "  except Error as error:\n",
        "    print(\"Error while connecting to sqlite\", error)\n",
        "  # finally:\n",
        "  #   if conn:\n",
        "  #     conn.close()"
      ],
      "metadata": {
        "id": "9MYO17ENsje0"
      },
      "execution_count": null,
      "outputs": []
    },
    {
      "cell_type": "markdown",
      "source": [
        "Erstellung der (leeren) anonymisierten Datenbanken RHC"
      ],
      "metadata": {
        "id": "TkTrNz9gU2Wl"
      }
    },
    {
      "cell_type": "code",
      "source": [
        "# create a temporary empty anonym_rhc_database in the memory\n",
        "anonym_rhc_db = f\"{material_path}/source_dbs/anonym_rehealthco.db\"\n",
        "anonym_rhc_conn = create_connection(anonym_rhc_db)\n",
        "anonym_rhc_cur = anonym_rhc_conn.cursor()\n",
        "anonym_rhc_conn.commit()\n",
        "print(\"Database connection is successfully\")"
      ],
      "metadata": {
        "id": "SVNO1jbqUsvI"
      },
      "execution_count": null,
      "outputs": []
    },
    {
      "cell_type": "code",
      "source": [
        "anonym_rhcpat_df.to_sql(\n",
        "    \"RHC\",# Name of SQL table.\n",
        "    anonym_rhc_conn, # sqlalchemy.engine.Engine or sqlite3.Connection\n",
        "    schema=None, # Something can't understand yet. just keep it.\n",
        "    if_exists='replace', # How to behave if the table already exists. You can use 'replace', 'append' to replace it.\n",
        "    index=True, # It means index of DataFrame will save. Set False to ignore the index of DataFrame.\n",
        "    index_label=\"Lft_Nr\", # Depend on index. \n",
        "    chunksize=None, # Just means chunksize. If DataFrame is big will need this parameter.\n",
        "    dtype=None, # Set the columns type of sql table.\n",
        "    method=None, # Unstable. Ignore it.\n",
        ")"
      ],
      "metadata": {
        "id": "k_66yhrtxbZD"
      },
      "execution_count": null,
      "outputs": []
    },
    {
      "cell_type": "code",
      "source": [
        "# Cleanup\n",
        "anonym_rhc_conn.commit()"
      ],
      "metadata": {
        "id": "vPRZ7t6UvG4I"
      },
      "execution_count": null,
      "outputs": []
    },
    {
      "cell_type": "code",
      "source": [
        "# Check data in RHC\n",
        "\n",
        "anonym_rhc_cur.execute(\"SELECT * FROM RHC;\")\n",
        "rows = anonym_rhc_cur.fetchall()\n",
        "for row in rows:\n",
        " print(row)"
      ],
      "metadata": {
        "id": "rohL_bXtmvD7"
      },
      "execution_count": null,
      "outputs": []
    },
    {
      "cell_type": "markdown",
      "source": [
        "NACH VEREINIGUNG UND DROP\n",
        "\n",
        "Export csv file ReHealthCo Rohdatenbank"
      ],
      "metadata": {
        "id": "kkJtYvRY37nW"
      }
    },
    {
      "cell_type": "code",
      "source": [
        "# NACH VEREINIGUNG UND DROP\n",
        "%cd /content/DMA2023TeamD/csv_data"
      ],
      "metadata": {
        "id": "13zHZBsj37nX"
      },
      "execution_count": null,
      "outputs": []
    },
    {
      "cell_type": "code",
      "source": [
        "# NACH VEREINIGUNG UND DROP\n",
        "!ls"
      ],
      "metadata": {
        "id": "kMhyFE2x37nY"
      },
      "execution_count": null,
      "outputs": []
    },
    {
      "cell_type": "code",
      "source": [
        "# NACH VEREINIGUNG UND DROP\n",
        "# dataframes als csv in rhc gespeichert\n",
        "# rhcpat_index_df.to_csv(f\"{material_path}csv_data/rhc/rhcpat_df.csv\", index=True) #mit Index!\n",
        "# rhcpat_schluesseltabelle_df.to_csv(f\"{material_path}csv_data/rhc/rhcpat_schluesseltabelle_df.csv\", index=True) #mit Index!\n",
        "\n",
        "anonym_rhcpat_df.to_csv('/content/drive/Shareddrives/Projektarbeit DMA Gruppe D/csv_data/rhc/anonym_rhcpat.csv', index=False)\n",
        "rhcpat_schluesseltabelleidx_df.to_csv('/content/drive/Shareddrives/Projektarbeit DMA Gruppe D/csv_data/rhc/rhcpat_keytbl.csv', index=False)"
      ],
      "metadata": {
        "id": "pesSqWef37nZ"
      },
      "execution_count": null,
      "outputs": []
    },
    {
      "cell_type": "code",
      "source": [
        "# NACH VEREINIGUNG UND DROP\n",
        "%cd /content/drive/Shareddrives/Projektarbeit DMA Gruppe D/csv_data/rhc"
      ],
      "metadata": {
        "id": "tZ6AYeJ-37na"
      },
      "execution_count": null,
      "outputs": []
    },
    {
      "cell_type": "code",
      "source": [
        "# NACH VEREINIGUNG UND DROP\n",
        "!ls"
      ],
      "metadata": {
        "id": "PDA3KvL_37nb"
      },
      "execution_count": null,
      "outputs": []
    },
    {
      "cell_type": "markdown",
      "metadata": {
        "id": "VWWX5CrQFoqz"
      },
      "source": [
        "# Version Check"
      ]
    },
    {
      "cell_type": "code",
      "metadata": {
        "id": "q0ShwlfT2H80"
      },
      "source": [
        "#python Version\n",
        "import sys\n",
        "sys.version_info"
      ],
      "execution_count": null,
      "outputs": []
    },
    {
      "cell_type": "code",
      "metadata": {
        "id": "D4kWWXUto83S"
      },
      "source": [
        "pd.__version__"
      ],
      "execution_count": null,
      "outputs": []
    },
    {
      "cell_type": "code",
      "source": [
        "csv.__version__"
      ],
      "metadata": {
        "id": "CYZ4BvSDakIz"
      },
      "execution_count": null,
      "outputs": []
    },
    {
      "cell_type": "code",
      "metadata": {
        "id": "3NwGVbSoA5lA"
      },
      "source": [
        "# Überprüfen aller Variablen\n",
        "# %pip freeze"
      ],
      "execution_count": null,
      "outputs": []
    },
    {
      "cell_type": "markdown",
      "metadata": {
        "id": "9FxdmDqaAeAl"
      },
      "source": [
        "# ANPASSEN!! Calculate the Checksum of the Data Set"
      ]
    },
    {
      "cell_type": "code",
      "metadata": {
        "id": "sIISw67e_9gI"
      },
      "source": [
        "from pandas.util import hash_pandas_object\n",
        "rhcpat_df_hashes = hash_pandas_object(rhcpat_df)\n",
        "rhccon_df_hashes = hash_pandas_object(rhccon_df)\n",
        "rhcmed_df_hashes = hash_pandas_object(rhcmed_df)\n",
        "rhcenc_df_hashes = hash_pandas_object(rhcenc_df)\n",
        "rhcpatidx_df_hashes = hash_pandas_object(rhcpatidx_df)\n",
        "rhcpat_schluesseltabelle_df_hashes = hash_pandas_object(rhcpat_schluesseltabelle_df)\n",
        "rhcpat_schluesseltabelleidx_df_hashes = hash_pandas_object(rhcpat_schluesseltabelleidx_df)\n",
        "rhc_verein1_df_hashes = hash_pandas_object(rhc_verein1_df)\n",
        "rhc_verein2_df_hashes = hash_pandas_object(rhc_verein2_df)\n",
        "rhc_vereinall_df_hashes = hash_pandas_object(rhc_vereinall_df)\n",
        "anonym_rhcpat_df_hashes = hash_pandas_object(anonym_rhcpat_df)\n",
        "\n",
        "print(rhcpat_df_hashes)\n",
        "print(rhccon_df_hashes)\n",
        "print(rhcmed_df_hashes)\n",
        "print(rhcenc_df_hashes)\n",
        "print(rhcpatidx_df_hashes)\n",
        "print(rhcpat_schluesseltabelle_df_hashes)\n",
        "print(rhcpat_schluesseltabelleidx_df_hashes)\n",
        "print(rhc_verein1_df_hashes)\n",
        "print(rhc_verein2_df_hashes)\n",
        "print(rhc_vereinall_df_hashes)\n",
        "print(anonym_rhcpat_df_hashes)"
      ],
      "execution_count": null,
      "outputs": []
    },
    {
      "cell_type": "markdown",
      "metadata": {
        "id": "R45CnT8d4t48"
      },
      "source": [
        "## Value should be \n",
        "8511479554227127615\n",
        "\n",
        "-181358878522955579\n",
        "\n",
        "6124240394299011028\n",
        "\n",
        "-2843949348663385963\n",
        "\n",
        "-7008809488748868895\n",
        "\n",
        "-3225392982667861325\n",
        "\n",
        "-7008809488748868895\n",
        "\n",
        "-5123959212951937834\n",
        "\n",
        "476094269920066095\n",
        "\n",
        "7757257148626635020\n",
        "\n",
        "-8218260507818896620"
      ]
    },
    {
      "cell_type": "code",
      "metadata": {
        "id": "lvQMVdkZAEmy"
      },
      "source": [
        "print(rhcpat_df_hashes.sum())\n",
        "print(rhccon_df_hashes.sum())\n",
        "print(rhcmed_df_hashes.sum())\n",
        "print(rhcenc_df_hashes.sum())\n",
        "print(rhcpatidx_df_hashes.sum())\n",
        "print(rhcpat_schluesseltabelle_df_hashes.sum())\n",
        "print(rhcpat_schluesseltabelleidx_df_hashes.sum())\n",
        "print(rhc_verein1_df_hashes.sum())\n",
        "print(rhc_verein2_df_hashes.sum())\n",
        "print(rhc_vereinall_df_hashes.sum())\n",
        "print(anonym_rhcpat_df_hashes.sum())"
      ],
      "execution_count": null,
      "outputs": []
    }
  ]
}