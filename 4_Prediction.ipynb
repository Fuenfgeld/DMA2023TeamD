{
  "nbformat": 4,
  "nbformat_minor": 0,
  "metadata": {
    "colab": {
      "provenance": [],
      "include_colab_link": true
    },
    "kernelspec": {
      "name": "python3",
      "display_name": "Python 3"
    },
    "language_info": {
      "name": "python"
    }
  },
  "cells": [
    {
      "cell_type": "markdown",
      "metadata": {
        "id": "view-in-github",
        "colab_type": "text"
      },
      "source": [
        "<a href=\"https://colab.research.google.com/github/Fuenfgeld/DMA2023TeamD/blob/dev_branch_EDA_Prediction/4_Prediction.ipynb\" target=\"_parent\"><img src=\"https://colab.research.google.com/assets/colab-badge.svg\" alt=\"Open In Colab\"/></a>"
      ]
    },
    {
      "cell_type": "code",
      "source": [
        "reset -f\n"
      ],
      "metadata": {
        "id": "z3uLOxi5T3Lf"
      },
      "execution_count": null,
      "outputs": []
    },
    {
      "cell_type": "markdown",
      "source": [],
      "metadata": {
        "id": "4xSYbWQ6SghS"
      }
    },
    {
      "cell_type": "markdown",
      "source": [
        "**Import der Libraries und Verbindung mit Google Drive und Sqlite3**"
      ],
      "metadata": {
        "id": "ub_o6oKVSiR5"
      }
    },
    {
      "cell_type": "code",
      "source": [
        "import pandas as pd\n",
        "import sqlite3\n",
        "import seaborn as sns\n",
        "import matplotlib.pyplot as plt\n",
        "import numpy as np\n",
        "from pandas_profiling import ProfileReport\n",
        "import datetime"
      ],
      "metadata": {
        "id": "7JwqSZ_9MWwz"
      },
      "execution_count": null,
      "outputs": []
    },
    {
      "cell_type": "code",
      "execution_count": null,
      "metadata": {
        "id": "2g8x1SBeMN2x"
      },
      "outputs": [],
      "source": [
        "from google.colab import drive\n",
        "drive.mount('/content/drive')"
      ]
    },
    {
      "cell_type": "code",
      "source": [
        "def connect_to_db(db_file):\n",
        "    sqlite3_conn = None\n",
        "    try:\n",
        "        sqlite3_conn = sq.connect(db_file)\n",
        "        return sqlite3_conn\n",
        "\n",
        "    except Error as err:\n",
        "        print(err)\n",
        "\n",
        "        if sqlite3_conn is not None:\n",
        "            sqlite3_conn.close()\n",
        "  \n",
        "all_conn = sqlite3.connect('/content/drive/Shareddrives/Projektarbeit DMA Gruppe D/DWH_dbs/DWH_allergy_test.db')\n"
      ],
      "metadata": {
        "id": "GpUFJEdxMhAE"
      },
      "execution_count": null,
      "outputs": []
    },
    {
      "cell_type": "code",
      "source": [
        "# create a temporary empty all_database in the memory\n",
        "all_cur = all_conn.cursor()"
      ],
      "metadata": {
        "id": "Z4-9Y1tvnGpU"
      },
      "execution_count": null,
      "outputs": []
    },
    {
      "cell_type": "code",
      "source": [
        "# List of tables in all_database\n",
        "all_cur.execute(\"SELECT name FROM sqlite_master WHERE type='table';\")\n",
        "print(all_cur.fetchall())"
      ],
      "metadata": {
        "id": "P7nPzsERm4ea"
      },
      "execution_count": null,
      "outputs": []
    },
    {
      "cell_type": "code",
      "source": [
        "# alle Spalten\n",
        "predallobs_df = pd.read_sql('''SELECT * FROM observations_info''', all_conn)\n",
        "predallobs_df.columns"
      ],
      "metadata": {
        "id": "5J9wZZYUmEP1"
      },
      "execution_count": null,
      "outputs": []
    },
    {
      "cell_type": "markdown",
      "source": [
        "**Erstellen eines Ursprungsdataframes aus dem Datawarehouse**\n",
        "\n",
        "\n"
      ],
      "metadata": {
        "id": "yLed4SrfSxFU"
      }
    },
    {
      "cell_type": "code",
      "source": [
        "lefjoinmedpat_df = pd.read_sql_query(\"\"\"\n",
        "SELECT * FROM medications_info LEFT JOIN patients_info ON medications_info.PATIENT = patients_info.Id\n",
        "\"\"\", all_conn\n",
        "  )"
      ],
      "metadata": {
        "id": "TDSAQWcFNUJG"
      },
      "execution_count": null,
      "outputs": []
    },
    {
      "cell_type": "code",
      "source": [
        "lefjoinmedpat_df.head(3)"
      ],
      "metadata": {
        "id": "nylVfXAxSTqp"
      },
      "execution_count": null,
      "outputs": []
    },
    {
      "cell_type": "code",
      "source": [
        "# Removing Duplicate Rows\n",
        "print(\"Number of Duplicated Rows\", lefjoinmedpat_df.duplicated(lefjoinmedpat_df.columns).sum())"
      ],
      "metadata": {
        "id": "Gh-HdbE4qwN8"
      },
      "execution_count": null,
      "outputs": []
    },
    {
      "cell_type": "code",
      "source": [
        "lefjoinmedpat_df.shape"
      ],
      "metadata": {
        "id": "gZYQm0Arq7-g"
      },
      "execution_count": null,
      "outputs": []
    },
    {
      "cell_type": "code",
      "source": [
        "#Entfernen von Duplikaten\n",
        "lefjoinmedpat_df.drop_duplicates(keep=\"first\",inplace=True) \n",
        "print(\"Size of dataset after removing duplicated rows\", lefjoinmedpat_df.shape)"
      ],
      "metadata": {
        "id": "KEwISJYtiZvX"
      },
      "execution_count": null,
      "outputs": []
    },
    {
      "cell_type": "code",
      "source": [
        "# Übersicht \n",
        "lefjoinmedpat_df.nunique(axis=0)"
      ],
      "metadata": {
        "id": "zulPUVVEiuKw"
      },
      "execution_count": null,
      "outputs": []
    },
    {
      "cell_type": "code",
      "source": [
        "#Ursprung der Daten\n",
        "lefjoinmedpat_df.groupby([\"RACE\"]).size()"
      ],
      "metadata": {
        "id": "9P-LDnejjd-c"
      },
      "execution_count": null,
      "outputs": []
    },
    {
      "cell_type": "markdown",
      "source": [
        "**Erstellen eines Dataframes, der nur Angaben zu COVID-positiven Patienten enthält. Diese werden in einer zusätzlichen Spalte mit \"1\" bezeichnet**\n",
        "\n",
        "\n",
        "\n"
      ],
      "metadata": {
        "id": "UlN1kFPpTkkZ"
      }
    },
    {
      "cell_type": "code",
      "source": [
        "#Zunächst Selektion der positiven Testergebnisse\n",
        "postest_df = predallobs_df.loc[(predallobs_df[\"CODE\"] == \"94531-1\") & (predallobs_df[\"VALUE\"] == \"Detected (qualifier value)\")] \n",
        "postest_df.head(3)\n",
        "\n"
      ],
      "metadata": {
        "id": "ifh3Tog6YiWP"
      },
      "execution_count": null,
      "outputs": []
    },
    {
      "cell_type": "code",
      "source": [
        "# Erstellen eines Dataframes mit allen Laborwerten der Patienten mit positivem Testergebnis\n",
        "allerg_postest_df = predallobs_df.loc[((predallobs_df.PATIENT.isin(postest_df['PATIENT'])))]\n",
        "allerg_postest_df.head(10)\n"
      ],
      "metadata": {
        "id": "NtdQsK-ZmhrW"
      },
      "execution_count": null,
      "outputs": []
    },
    {
      "cell_type": "code",
      "source": [
        "predallcon_df = pd.read_sql('''SELECT * FROM conditions_info''', all_conn)\n",
        "predallobs_df.columns"
      ],
      "metadata": {
        "id": "Er66XocDtqKz"
      },
      "execution_count": null,
      "outputs": []
    },
    {
      "cell_type": "code",
      "source": [
        "predallcon_df.groupby([\"DESCRIPTION\"]).size()"
      ],
      "metadata": {
        "id": "sZdNxeVszCAd"
      },
      "execution_count": null,
      "outputs": []
    },
    {
      "cell_type": "code",
      "source": [
        "# Löschen der Patienten mit bestimmten Spaltenwerten / #Using drop() to delete rows based on column value\n",
        "# df.drop(df[df['Fee'] >= 24000].index, inplace = True)\n",
        "droptubalpregnancy_df = predallcon_df.drop(predallcon_df[predallcon_df['DESCRIPTION'] == \"Tubal pregnancy\"].index)"
      ],
      "metadata": {
        "id": "q6ufJeLZmiMF"
      },
      "execution_count": null,
      "outputs": []
    },
    {
      "cell_type": "code",
      "source": [
        "droptubalpregnancy_df.groupby([\"DESCRIPTION\"]).size()"
      ],
      "metadata": {
        "id": "thxoXzX10q1p"
      },
      "execution_count": null,
      "outputs": []
    },
    {
      "cell_type": "code",
      "source": [
        "# Hinzufügen einer zusätzlichen Spalte mit dem Wert \"1\"\n",
        "predallcon_df['datenbankart'] = 'asthma'\n",
        "predallcon_df.head(3)"
      ],
      "metadata": {
        "id": "YOT_7bLD3via"
      },
      "execution_count": null,
      "outputs": []
    },
    {
      "cell_type": "code",
      "source": [
        "#Übersicht der Condition-Kohorte\n",
        "predallcon_df.nunique(axis=0)"
      ],
      "metadata": {
        "id": "_GSisq8F17dM"
      },
      "execution_count": null,
      "outputs": []
    },
    {
      "cell_type": "markdown",
      "source": [
        "**Erstellen eines Dataframes, der nur die Patienten der Kontrollgruppe beinhaltet. Diese werden in einer zusätzlichen Spalte mit \"0\" bezeichnet**"
      ],
      "metadata": {
        "id": "fHjPeFpwWlHS"
      }
    },
    {
      "cell_type": "code",
      "source": [
        "#Selektion der Laborparameter von Patienten ohne positiven COVID-Test aus dem Ursprungsdataframe\n",
        "allergy_negtest_df = predallobs_df.loc[~((predallobs_df.PATIENT.isin(allerg_postest_df['PATIENT'])))]\n",
        "allergy_negtest_df.head(3)"
      ],
      "metadata": {
        "id": "T7rER-FLbXKb"
      },
      "execution_count": null,
      "outputs": []
    },
    {
      "cell_type": "code",
      "source": [
        "allergy_negtest_df.shape"
      ],
      "metadata": {
        "id": "We_V7jPMiltt"
      },
      "execution_count": null,
      "outputs": []
    },
    {
      "cell_type": "code",
      "source": [
        "#Übersicht Kontrolgruppe\n",
        "allergy_negtest_df.nunique(axis=0)"
      ],
      "metadata": {
        "id": "pnRr0bUDXf-C"
      },
      "execution_count": null,
      "outputs": []
    },
    {
      "cell_type": "code",
      "source": [
        "# Erstellen eines Dataframes von Patienten mit der Nebendiagnose Covid19 \n",
        "allergy_cov_Nebendiag_df = pd.read_sql_query(\"\"\"\n",
        "select PATIENT, CODE, DESCRIPTION from conditions_info where code in (\"840539006\")\n",
        ";\"\"\", all_conn\n",
        "  )\n"
      ],
      "metadata": {
        "id": "cqKx9ptng5da"
      },
      "execution_count": null,
      "outputs": []
    },
    {
      "cell_type": "code",
      "source": [
        "allergy_cov_Nebendiag_df.head(3)"
      ],
      "metadata": {
        "id": "7kearTEijYMj"
      },
      "execution_count": null,
      "outputs": []
    },
    {
      "cell_type": "code",
      "source": [
        "# Um Sicherzugehen, dass wirklich nur Covid-neg. Patienten in der Kontrollgruppe sind werden auch Patienten ohne Testergebnis aber mit Nebendiagnose Covid19 bzw. Verdacht auf Covid19 ausgeschlossen.\n",
        "wirklich_nur_neg_cov_df = allergy_negtest_df.loc[~((allergy_negtest_df.PATIENT.isin(allergy_cov_Nebendiag_df[\"PATIENT\"])))]\n"
      ],
      "metadata": {
        "id": "zQ_QmlEbhtkD"
      },
      "execution_count": null,
      "outputs": []
    },
    {
      "cell_type": "code",
      "source": [
        "# Hinzufügen Spalte mit Wert \"0\"\n",
        "wirklich_nur_neg_cov_df['Covid'] = '0'\n",
        "wirklich_nur_neg_cov_df.head(3)"
      ],
      "metadata": {
        "id": "QUt35DNdkezW"
      },
      "execution_count": null,
      "outputs": []
    },
    {
      "cell_type": "code",
      "source": [
        "wirklich_nur_neg_cov_df.shape"
      ],
      "metadata": {
        "id": "qrR8EdvRmPVc"
      },
      "execution_count": null,
      "outputs": []
    },
    {
      "cell_type": "code",
      "source": [
        "#Übersicht Kontrolgruppe\n",
        "wirklich_nur_neg_cov_df.nunique(axis=0)"
      ],
      "metadata": {
        "id": "UDiEkob02Jw5"
      },
      "execution_count": null,
      "outputs": []
    },
    {
      "cell_type": "markdown",
      "source": [
        "**Zusammenfügen von COVID-pos. Kohorte und Kontrollgruppe in einen Dataframe**"
      ],
      "metadata": {
        "id": "o5KB82hukogO"
      }
    },
    {
      "cell_type": "code",
      "source": [
        "pos_plus_neg_cov_df = pd.concat([allerg_postest_df, wirklich_nur_neg_cov_df])\n",
        "pos_plus_neg_cov_df.head(3)"
      ],
      "metadata": {
        "id": "P2j_UHBC4BP6"
      },
      "execution_count": null,
      "outputs": []
    },
    {
      "cell_type": "code",
      "source": [
        "# Löschen der COVID-Testergebnisse, damit der Datentyp der Werte der Spalte \"Value\" in Floats geändert werden kann (Covid-Status ist trotzdem in Spalte Covid festgehalten)\n",
        "# pos_plus_neg_cov_df = pos_plus_neg_cov_df.loc[(pos_plus_neg_cov_df[\"CODE\"] != \"94531-1\")]\n",
        "\n",
        "\n",
        "# Konvertieren der Laborwerte und des Covid-Status in Zahlenwerte (Floats)\n",
        "# pos_plus_neg_cov_df[\"Covid\"] = pos_plus_neg_cov_df[\"Covid\"].astype(\"float\")\n",
        "# pos_plus_neg_cov_df[\"VALUE\"] = pos_plus_neg_cov_df[\"VALUE\"].pos_plus_neg_cov_df(\"float\")\n",
        "\n",
        "# pos_plus_neg_cov_df.head(3)"
      ],
      "metadata": {
        "id": "o4eHc6WZ3chG"
      },
      "execution_count": null,
      "outputs": []
    },
    {
      "cell_type": "code",
      "source": [
        "#Konvertieren der Datumformats \n",
        "# dffinal[\"DATE\"] = pd.to_datetime(dffinal[\"DATE\"])\n",
        "# dffinal[\"DATE\"] = dffinal[\"DATE\"].dt.to_period('d')"
      ],
      "metadata": {
        "id": "tDKpwZhF9JWp"
      },
      "execution_count": null,
      "outputs": []
    },
    {
      "cell_type": "code",
      "source": [
        "# dffinal.head()"
      ],
      "metadata": {
        "id": "-2o8PT8N9et6"
      },
      "execution_count": null,
      "outputs": []
    },
    {
      "cell_type": "markdown",
      "source": [
        "**Vergleichende Analyse der Laborparameter zwischen den Gruppen**"
      ],
      "metadata": {
        "id": "temp633ikzd-"
      }
    },
    {
      "cell_type": "code",
      "source": [
        "%matplotlib inline\n",
        "#Plotting der Nierenparameter\n",
        "GFR= pos_plus_neg_cov_df[pos_plus_neg_cov_df['CODE'] == \"33914-3\"]\n",
        "Urea= pos_plus_neg_cov_df[pos_plus_neg_cov_df['CODE'] == \"3094-0\"]\n",
        "Protein= pos_plus_neg_cov_df[pos_plus_neg_cov_df['CODE'] == \"2885-2\"]\n",
        "\n",
        "g = sns.catplot(data=GFR, x=\"Covid\", y=\"VALUE\", kind=\"violin\", inner=\"quart\", linewidth=1)\n",
        "sns.swarmplot(data=GFR, x=\"Covid\", y=\"VALUE\", color=\"k\", size=2, ax=g.ax)\n",
        "plt.title('GFR', weight='bold').set_fontsize('16')\n",
        "\n",
        "g = sns.catplot(data=Urea, x=\"Covid\", y=\"VALUE\", kind=\"violin\", inner=\"quart\", linewidth=1)\n",
        "sns.swarmplot(data=Urea, x=\"Covid\", y=\"VALUE\", color=\"k\", size=2, ax=g.ax)\n",
        "plt.title('Urea', weight='bold').set_fontsize('16')\n",
        "\n",
        "g = sns.catplot(data=Protein, x=\"Covid\", y=\"VALUE\", kind=\"violin\", inner=\"quart\", linewidth=1)\n",
        "sns.swarmplot(data=Protein, x=\"Covid\", y=\"VALUE\", color=\"k\", size=2, ax=g.ax)\n",
        "plt.title('Protein', weight='bold').set_fontsize('16')"
      ],
      "metadata": {
        "id": "zmQh08Dp6J7m"
      },
      "execution_count": null,
      "outputs": []
    },
    {
      "cell_type": "code",
      "source": [
        "#Plotting der Kreislaufparameter\n",
        "Temperatur= pos_plus_neg_cov_df[pos_plus_neg_cov_df['CODE'] == \"8310-5\"]\n",
        "O2= pos_plus_neg_cov_df[pos_plus_neg_cov_df['CODE'] == \"2708-6\"]\n",
        "AF= pos_plus_neg_cov_df[pos_plus_neg_cov_df['CODE'] == \"9279-1\"]\n",
        "HF= pos_plus_neg_cov_df[pos_plus_neg_cov_df['CODE'] == \"8867-4\"]\n",
        "Syst= pos_plus_neg_cov_df[pos_plus_neg_cov_df['CODE'] == \"8480-6\"]\n",
        "Dia= pos_plus_neg_cov_df[pos_plus_neg_cov_df['CODE'] == \"8462-4\"]\n",
        "\n",
        "g = sns.catplot(data=Temperatur, x=\"Covid\", y=\"VALUE\", kind=\"violin\", inner=\"quart\", linewidth=1)\n",
        "sns.swarmplot(data=Temperatur, x=\"Covid\", y=\"VALUE\", color=\"k\", size=2, ax=g.ax)\n",
        "plt.title('Körpertemperatur', weight='bold').set_fontsize('16')\n",
        "\n",
        "g = sns.catplot(data=O2, x=\"Covid\", y=\"VALUE\", kind=\"violin\", inner=\"quart\", linewidth=1)\n",
        "sns.swarmplot(data=O2, x=\"Covid\", y=\"VALUE\", color=\"k\", size=2, ax=g.ax)\n",
        "plt.title('O2-Sättigung', weight='bold').set_fontsize('16')\n",
        "\n",
        "g = sns.catplot(data=AF, x=\"Covid\", y=\"VALUE\", kind=\"violin\", inner=\"quart\", linewidth=1)\n",
        "sns.swarmplot(data=AF, x=\"Covid\", y=\"VALUE\", color=\"k\", size=2, ax=g.ax)\n",
        "plt.title('Atemfrequenz', weight='bold').set_fontsize('16')\n",
        "\n",
        "g = sns.catplot(data=HF, x=\"Covid\", y=\"VALUE\", kind=\"violin\", inner=\"quart\", linewidth=1)\n",
        "sns.swarmplot(data=HF, x=\"Covid\", y=\"VALUE\", color=\"k\", size=2, ax=g.ax)\n",
        "plt.title('Herzfrequenz', weight='bold').set_fontsize('16')\n",
        "\n",
        "g = sns.catplot(data=Syst, x=\"Covid\", y=\"VALUE\", kind=\"violin\", inner=\"quart\", linewidth=1)\n",
        "sns.swarmplot(data=Syst, x=\"Covid\", y=\"VALUE\", color=\"k\", size=2, ax=g.ax)\n",
        "plt.title('Systolischer Blutdruck', weight='bold').set_fontsize('16')\n",
        "\n",
        "g = sns.catplot(data=Dia, x=\"Covid\", y=\"VALUE\", kind=\"violin\", inner=\"quart\", linewidth=1)\n",
        "sns.swarmplot(data=Dia, x=\"Covid\", y=\"VALUE\", color=\"k\", size=2, ax=g.ax)\n",
        "plt.title('Diastolischer Blutdruck', weight='bold').set_fontsize('16')\n"
      ],
      "metadata": {
        "id": "IT8cLRqV-Ovv"
      },
      "execution_count": null,
      "outputs": []
    },
    {
      "cell_type": "code",
      "source": [
        "#Plotting der Leberparameter\n",
        "ALT= pos_plus_neg_cov_df[pos_plus_neg_cov_df['CODE'] == \"1742-6\"]\n",
        "AST= pos_plus_neg_cov_df[pos_plus_neg_cov_df['CODE'] == \"1920-8\"]\n",
        "AP= pos_plus_neg_cov_df[pos_plus_neg_cov_df['CODE'] == \"6768-6\"]\n",
        "Bili= pos_plus_neg_cov_df[pos_plus_neg_cov_df['CODE'] == \"1975-2\"]\n",
        "\n",
        "g = sns.catplot(data=ALT, x=\"Covid\", y=\"VALUE\", kind=\"violin\", inner=\"quart\", linewidth=1)\n",
        "sns.swarmplot(data=ALT, x=\"Covid\", y=\"VALUE\", color=\"k\", size=2, ax=g.ax)\n",
        "plt.title('ALT', weight='bold').set_fontsize('16')\n",
        "\n",
        "g = sns.catplot(data=AST, x=\"Covid\", y=\"VALUE\", kind=\"violin\", inner=\"quart\", linewidth=1)\n",
        "sns.swarmplot(data=AST, x=\"Covid\", y=\"VALUE\", color=\"k\", size=2, ax=g.ax)\n",
        "plt.title('AST', weight='bold').set_fontsize('16')\n",
        "\n",
        "g = sns.catplot(data=AP, x=\"Covid\", y=\"VALUE\", kind=\"violin\", inner=\"quart\", linewidth=1)\n",
        "sns.swarmplot(data=AP, x=\"Covid\", y=\"VALUE\", color=\"k\", size=2, ax=g.ax)\n",
        "plt.title('AP', weight='bold').set_fontsize('16')\n",
        "\n",
        "g = sns.catplot(data=Bili, x=\"Covid\", y=\"VALUE\", kind=\"violin\", inner=\"quart\", linewidth=1)\n",
        "sns.swarmplot(data=Bili, x=\"Covid\", y=\"VALUE\", color=\"k\", size=2, ax=g.ax)\n",
        "plt.title('Bilirubin total', weight='bold').set_fontsize('16')"
      ],
      "metadata": {
        "id": "CstwFvpkBSGr"
      },
      "execution_count": null,
      "outputs": []
    },
    {
      "cell_type": "markdown",
      "source": [
        "**Vorbereitung der Daten für den Classifier**"
      ],
      "metadata": {
        "id": "sgFQbZwPDwAd"
      }
    },
    {
      "cell_type": "code",
      "source": [
        "# import python packages for ML models\n",
        "from sklearn.model_selection import train_test_split \n",
        "from sklearn.metrics import accuracy_score\n",
        "\n",
        "from sklearn.model_selection import  GridSearchCV\n",
        "from sklearn.ensemble import RandomForestClassifier\n",
        "from xgboost import XGBClassifier"
      ],
      "metadata": {
        "id": "Lj_dBBkvGIqs"
      },
      "execution_count": null,
      "outputs": []
    },
    {
      "cell_type": "code",
      "source": [
        "dfpred = pos_plus_neg_cov_df.pivot_table('VALUE', ['PATIENT',\"DATE\", \"Covid\"], 'DESCRIPTION')\n",
        "dfpred.head(3)"
      ],
      "metadata": {
        "id": "a_MKoxaxJpUV"
      },
      "execution_count": null,
      "outputs": []
    },
    {
      "cell_type": "code",
      "source": [
        "dfpred = dfpred.drop([\"Alkaline phosphatase [Enzymatic activity/volume] in Serum or Plasma\", \"Aspartate aminotransferase [Enzymatic activity/volume] in Serum or Plasma\", \"Bilirubin.total [Mass/volume] in Serum or Plasma\", 'Body temperature', \"Diastolic Blood Pressure\", \"Estimated Glomerular Filtration Rate\", \"Oxygen [Partial pressure] in Arterial blood\", \"Oxygen saturation in Arterial blood\",\"Protein [Mass/volume] in Serum or Plasma\",\"Systolic Blood Pressure\", \"Urea nitrogen [Mass/volume] in Serum or Plasma\" ], axis=1)\n",
        "dfpred = dfpred.reset_index()\n",
        "dfpred.rename(columns={\"Glomerular filtration rate/1.73 sq M.predicted\": 'GFR', \"Alanine aminotransferase [Enzymatic activity/volume] in Serum or Plasma\":  \"ALT\", \"Heart rate\": \"Heart_rate\", \"Respiratory rate\": \"Respiratory_rate\"}, inplace=True)\n",
        "dfpred.tail(3)"
      ],
      "metadata": {
        "id": "vnaxBzqUNbh2"
      },
      "execution_count": null,
      "outputs": []
    },
    {
      "cell_type": "code",
      "source": [
        "dfpred= dfpred.dropna(thresh=4)"
      ],
      "metadata": {
        "id": "TkOeWtHwJg76"
      },
      "execution_count": null,
      "outputs": []
    },
    {
      "cell_type": "code",
      "source": [
        "dfpred.groupby([\"Covid\"]).size()"
      ],
      "metadata": {
        "id": "vcEVMmu6oJvu"
      },
      "execution_count": null,
      "outputs": []
    },
    {
      "cell_type": "code",
      "source": [
        "#Exkurs: Fallenlassen von Zeilen mit NaN-Werten reduziert die Kontrollgruppe in nicht tolerierbarem Maße (d.h. die vier Parameter wurden so gut wie nie gleichzeitig bestimmt)\n",
        "dfpnull = dfpred.dropna()\n",
        "dfpnull.groupby([\"Covid\"]).size()\n",
        "\n",
        "#Es muss daher ein Algorithmus zur Vorhersage verwendet werden, der NaN-Werte akzeptiert --> XGBoost"
      ],
      "metadata": {
        "id": "5jK7SSCrUZLR"
      },
      "execution_count": null,
      "outputs": []
    },
    {
      "cell_type": "code",
      "source": [
        "# Mischen der Daten\n",
        "\n",
        "dfpred= dfpred.sample(frac=1)"
      ],
      "metadata": {
        "id": "Ru_7BDwVD81l"
      },
      "execution_count": null,
      "outputs": []
    },
    {
      "cell_type": "code",
      "source": [
        "# Splitten der Daten in train und test Dataframes\n",
        "train_ratio = 0.70\n",
        "validation_ratio = 0.15\n",
        "test_ratio = 0.15\n",
        "\n",
        "# Ausgabe der Shapes von train und test Dataframes\n",
        "dfpred_train, dfpred_test = train_test_split(dfpred, test_size=test_ratio, random_state=0)\n",
        "dfpred_train.shape, dfpred_test.shape"
      ],
      "metadata": {
        "id": "rXc-QiMSFz8c"
      },
      "execution_count": null,
      "outputs": []
    },
    {
      "cell_type": "code",
      "source": [
        "# Bestimmen der Features und des Zielwertes\n",
        "X = dfpred_train.drop([\"patient_id\", \"Covid\",\"DATE\"], axis=1)\n",
        "y = dfpred_train[\"Covid\"]\n",
        "\n",
        "# Zusätzlich Erstellen eines Validation Dataframes\n",
        "X_train, X_val, y_train, y_val = train_test_split(X, y, test_size=validation_ratio, random_state=0)\n",
        "\n",
        "X_train.shape, X_val.shape"
      ],
      "metadata": {
        "id": "QMoeleSLGXep"
      },
      "execution_count": null,
      "outputs": []
    },
    {
      "cell_type": "markdown",
      "source": [
        "**Vorhersage mit XGBoost**"
      ],
      "metadata": {
        "id": "EMMdZ_nschmm"
      }
    },
    {
      "cell_type": "code",
      "source": [
        "# Erstellen des Parameter Grid Search\n",
        "param_grid = {\n",
        "    'learning_rate': [0.05, 0.5], #so called `eta` value    \n",
        "    'max_depth': [2, 5, 10, 15],\n",
        "    'colsample_bytree': [0.4],\n",
        "    # \"objective\" :[\"reg:tweedie\"],\n",
        "    'gamma':[0],               \n",
        "    'min_child_weight':[1.5],\n",
        "    'n_estimators' : [5, 10],                                                                    \n",
        "    'reg_alpha': [0.75],\n",
        "    'reg_lambda' : [0.45],\n",
        "    'subsample' : [0.6],\n",
        "    'seed' : [42]\n",
        "}\n",
        "   \n",
        "# Erstellen des Models\n",
        "xgb = XGBClassifier()\n",
        "# Initiieren des Grid Searches\n",
        "grid_search_xgb = GridSearchCV(estimator = xgb, \n",
        "                               param_grid=param_grid,\n",
        "                               cv=3,\n",
        "                               n_jobs=-1,\n",
        "                               verbose=2)"
      ],
      "metadata": {
        "id": "RUZtbRbhchTW"
      },
      "execution_count": null,
      "outputs": []
    },
    {
      "cell_type": "code",
      "source": [
        "# Anpassen der Daten an den Grid Search\n",
        "grid_search_xgb.fit(X_train, y_train)"
      ],
      "metadata": {
        "id": "-3_s3NQrd7Hc"
      },
      "execution_count": null,
      "outputs": []
    },
    {
      "cell_type": "code",
      "source": [
        "# Beste Parameter nach Grid Search\n",
        "grid_search_xgb.best_params_"
      ],
      "metadata": {
        "id": "NNZ6c2JLd-l3"
      },
      "execution_count": null,
      "outputs": []
    },
    {
      "cell_type": "code",
      "source": [
        "# Beste Model\n",
        "best_grid_xgb = grid_search_xgb.best_estimator_\n",
        "\n",
        "# Evaluiierung für die Train Daten\n",
        "pred_train_xgb = best_grid_xgb.predict(X_train)\n",
        "print('Accuracy for train data:', accuracy_score(y_train, pred_train_xgb))  \n",
        "\n",
        "# Evaluiierung für die Test Daten\n",
        "pred_test_xgb = best_grid_xgb.predict(X_val)\n",
        "acc_xgb = round(accuracy_score(y_val, pred_test_xgb), 5)\n",
        "print('Accuracy for test data:', acc_xgb)"
      ],
      "metadata": {
        "id": "uL3RdGRGeCkx"
      },
      "execution_count": null,
      "outputs": []
    },
    {
      "cell_type": "code",
      "source": [
        "# Hinzufügen des Prediction Ergebnisses zur Ausgangstabelle\n",
        "selected_columns = X.columns\n",
        "x_test = dfpred_test[X.columns]\n",
        "dfpred_test[\"XGB_prediction\"] = best_grid_xgb.predict(x_test)\n",
        "dfpred_test.head(5)\n"
      ],
      "metadata": {
        "id": "8CmkXpTBMYmI"
      },
      "execution_count": null,
      "outputs": []
    },
    {
      "cell_type": "code",
      "source": [
        "# Erstellen einer Confusion-Matrix\n",
        "from sklearn.metrics import confusion_matrix\n",
        "from mlxtend.plotting import plot_confusion_matrix\n",
        "\n",
        "y_actu = dfpred_test[\"Covid\"]\n",
        "y_pred = dfpred_test[\"XGB_prediction\"]\n",
        "cf_matrix = confusion_matrix(y_actu, y_pred)\n",
        "\n",
        "classes = ['class A', 'class B']\n",
        "figure, ax = plot_confusion_matrix(conf_mat = cf_matrix,\n",
        "                                   show_absolute = True,\n",
        "                                   show_normed = True,\n",
        "                                   colorbar = True)\n",
        "plt.show()"
      ],
      "metadata": {
        "id": "c7WIjaVfRpfd"
      },
      "execution_count": null,
      "outputs": []
    },
    {
      "cell_type": "code",
      "source": [
        "# Darstellen der inkorrekt klassifizierten Daten\n",
        "incorrect = dfpred_test[dfpred_test[\"Covid\"] != dfpred_test[\"XGB_prediction\"]]\n",
        "incorrect.head(30)"
      ],
      "metadata": {
        "id": "nm7VQg-eaDHE"
      },
      "execution_count": null,
      "outputs": []
    },
    {
      "cell_type": "code",
      "source": [
        "# Darstellen der Feature importance\n",
        "from xgboost import plot_importance\n",
        "from matplotlib import pyplot\n",
        "plot_importance(best_grid_xgb)\n",
        "pyplot.show()"
      ],
      "metadata": {
        "id": "hNMZegXobUVf"
      },
      "execution_count": null,
      "outputs": []
    },
    {
      "cell_type": "code",
      "source": [
        "# Beispielhaftes Darstellen des Decision Trees für die GFR\n",
        "from xgboost import plot_tree\n",
        "plot_tree(best_grid_xgb, num_trees=6)\n",
        "fig = plt.gcf()\n",
        "fig.set_size_inches(50, 30)"
      ],
      "metadata": {
        "id": "z-qRlsI8iFY3"
      },
      "execution_count": null,
      "outputs": []
    },
    {
      "cell_type": "code",
      "source": [],
      "metadata": {
        "id": "-dTsGz2lcY18"
      },
      "execution_count": null,
      "outputs": []
    }
  ]
}