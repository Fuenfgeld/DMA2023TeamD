{
  "nbformat": 4,
  "nbformat_minor": 0,
  "metadata": {
    "colab": {
      "provenance": []
    },
    "kernelspec": {
      "name": "python3",
      "display_name": "Python 3"
    }
  },
  "cells": [
    {
      "cell_type": "code",
      "metadata": {
        "id": "V85fs39-T7X1"
      },
      "source": [
        "# import libraries\n",
        "import sqlite3\n",
        "from sqlite3 import Error"
      ],
      "execution_count": null,
      "outputs": []
    },
    {
      "cell_type": "code",
      "metadata": {
        "colab": {
          "base_uri": "https://localhost:8080/"
        },
        "id": "y8GrfavcsPVs",
        "outputId": "28f10ddf-a5c4-47d4-ac88-c0c4d256f028"
      },
      "source": [
        "# mount drive to access data\n",
        "from google.colab import drive\n",
        "drive.mount(\"/content/drive\")"
      ],
      "execution_count": null,
      "outputs": [
        {
          "output_type": "stream",
          "text": [
            "Mounted at /content/drive\n"
          ],
          "name": "stdout"
        }
      ]
    },
    {
      "cell_type": "code",
      "metadata": {
        "id": "-eeM3RY7sgnB"
      },
      "source": [
        "material_path = \"/content/drive/... Path to File\""
      ],
      "execution_count": null,
      "outputs": []
    },
    {
      "cell_type": "code",
      "metadata": {
        "colab": {
          "base_uri": "https://localhost:8080/"
        },
        "id": "7LTogCvJ1JIW",
        "outputId": "2653e385-6cff-4c0e-8794-dcde0bb6e6e8"
      },
      "source": [
        "!ls \"/content/drive/... Path to File\""
      ],
      "execution_count": null,
      "outputs": [
        {
          "output_type": "stream",
          "text": [
            "source_allergy.db\t     source_covid19.db\n",
            "source_allergy_test.db\t     source_dermatitis.db\n",
            "source_asthma.db\t     source_lung_cancer.db\n",
            "source_breast_cancer.db      source_metabolic_syndrome_disease.db\n",
            "source_colorectal_cancer.db  source_patients.db\n"
          ],
          "name": "stdout"
        }
      ]
    },
    {
      "cell_type": "markdown",
      "metadata": {
        "id": "FwjfjLH15-l6"
      },
      "source": [
        "# Python SQLite Guide\n"
      ]
    },
    {
      "cell_type": "code",
      "metadata": {
        "id": "kqCkOE5R57if"
      },
      "source": [
        "# SQLite connection\n",
        "def create_connection_memory():\n",
        "    \"\"\" create a database connection to a database that resides\n",
        "        in the memory\n",
        "    \"\"\"\n",
        "    conn = None;\n",
        "    try:\n",
        "        conn = sqlite3.connect(':memory:')\n",
        "        return conn\n",
        "        print(sqlite3.version)\n",
        "    except Error as e:\n",
        "        print(\"Error while connecting to sqlite\", e)\n",
        "    # finally:\n",
        "    #     if conn:\n",
        "    #         conn.close()"
      ],
      "execution_count": null,
      "outputs": []
    },
    {
      "cell_type": "code",
      "metadata": {
        "colab": {
          "base_uri": "https://localhost:8080/"
        },
        "id": "tT6PSWQs7SpX",
        "outputId": "1e222c13-d339-45ff-d90a-73b84bff970d"
      },
      "source": [
        "# create a temporary empty database in the memory.\n",
        "conn = create_connection_memory()\n",
        "cur = conn.cursor()\n",
        "print(\"Successfully Connected to SQLite\")\n"
      ],
      "execution_count": null,
      "outputs": [
        {
          "output_type": "stream",
          "text": [
            "Successfully Connected to SQLite\n"
          ],
          "name": "stdout"
        }
      ]
    },
    {
      "cell_type": "code",
      "metadata": {
        "colab": {
          "base_uri": "https://localhost:8080/"
        },
        "id": "XRM_0DF066tt",
        "outputId": "cdf48b35-24ac-435b-f6f3-effeaf487770"
      },
      "source": [
        "# Create SQLite table\n",
        "create_table_query = '''CREATE TABLE SqliteDb_developers (\n",
        "                                id INTEGER PRIMARY KEY,\n",
        "                                name TEXT NOT NULL,\n",
        "                                email text NOT NULL UNIQUE,\n",
        "                                joining_date datetime,\n",
        "                                salary REAL NOT NULL);'''\n",
        "\n",
        "cur.execute(create_table_query)\n",
        "conn.commit()\n",
        "print(\"SQLite table created\")"
      ],
      "execution_count": null,
      "outputs": [
        {
          "output_type": "stream",
          "text": [
            "SQLite table created\n"
          ],
          "name": "stdout"
        }
      ]
    },
    {
      "cell_type": "code",
      "metadata": {
        "colab": {
          "base_uri": "https://localhost:8080/"
        },
        "id": "n8MOSIKkA3Ql",
        "outputId": "2b61fc5e-9adc-44d9-fa86-de53c7f4ddb7"
      },
      "source": [
        "# list of tables\n",
        "cur.execute(\"SELECT name FROM sqlite_master WHERE type='table';\")\n",
        "print(cur.fetchall())"
      ],
      "execution_count": null,
      "outputs": [
        {
          "output_type": "stream",
          "text": [
            "[('SqliteDb_developers',)]\n"
          ],
          "name": "stdout"
        }
      ]
    },
    {
      "cell_type": "code",
      "metadata": {
        "colab": {
          "base_uri": "https://localhost:8080/"
        },
        "id": "Z8GwwiDHB-wb",
        "outputId": "0db1e549-aa20-47bf-dd1c-3c8ed8cab140"
      },
      "source": [
        "# insert into table\n",
        "cur.execute(\"INSERT INTO SqliteDb_developers (id,  name, email, salary) VALUES (1, 'name1', 'name1@gmail.com', 1000)\")\n"
      ],
      "execution_count": null,
      "outputs": [
        {
          "output_type": "execute_result",
          "data": {
            "text/plain": [
              "<sqlite3.Cursor at 0x7f9100d702d0>"
            ]
          },
          "metadata": {
            "tags": []
          },
          "execution_count": 9
        }
      ]
    },
    {
      "cell_type": "code",
      "metadata": {
        "id": "LKSPQkLCH-aR"
      },
      "source": [
        "# insert into table-Larger example\n",
        "rows = [(2, 'name2', 'name2@gmail.com', '2006-02-28', 2000),\n",
        "        (3, 'name3', 'name3@gmail.com', '2006-03-05', 3000),\n",
        "        (4, 'name4', 'name4@gmail.com', '2006-04-06', 4000)]\n",
        "cur.executemany('insert into SqliteDb_developers values (?,?,?,?,?)', rows)\n",
        "conn.commit()\n"
      ],
      "execution_count": null,
      "outputs": []
    },
    {
      "cell_type": "code",
      "metadata": {
        "colab": {
          "base_uri": "https://localhost:8080/"
        },
        "id": "MKYBuJewMLBO",
        "outputId": "d5414927-d542-4edd-b3ea-74096ff1f606"
      },
      "source": [
        "select_query = \"SELECT * FROM SqliteDb_developers\"\n",
        "cur.execute(select_query)\n",
        "records = cur.fetchall()\n",
        "print(\"Total rows in table: \", len(records))\n",
        "for row in records:\n",
        "  print(row)"
      ],
      "execution_count": null,
      "outputs": [
        {
          "output_type": "stream",
          "text": [
            "Total rows in table:  4\n",
            "(1, 'name1', 'name1@gmail.com', None, 1000.0)\n",
            "(2, 'name2', 'name2@gmail.com', '2006-02-28', 2000.0)\n",
            "(3, 'name3', 'name3@gmail.com', '2006-03-05', 3000.0)\n",
            "(4, 'name4', 'name4@gmail.com', '2006-04-06', 4000.0)\n"
          ],
          "name": "stdout"
        }
      ]
    },
    {
      "cell_type": "code",
      "metadata": {
        "colab": {
          "base_uri": "https://localhost:8080/"
        },
        "id": "TQJOSd70_7EP",
        "outputId": "d8103999-bc8d-487c-bae2-b1ac5aa21c04"
      },
      "source": [
        "# select with parameters\n",
        "select_query = \"\"\"select * from SqliteDb_developers where id = ?\"\"\"\n",
        "cur.execute(select_query, (1,))\n",
        "records = cur.fetchall()\n",
        "print(\"Printing ID \", id)\n",
        "for row in records:\n",
        "    print(\"Name = \", row[1])\n",
        "    print(\"Email  = \", row[2])\n",
        "    print(\"JoiningDate  = \", row[3])\n",
        "    print(\"Salary  = \", row[4])"
      ],
      "execution_count": null,
      "outputs": [
        {
          "output_type": "stream",
          "text": [
            "Printing ID  <built-in function id>\n",
            "Name =  name1\n",
            "Email  =  name1@gmail.com\n",
            "JoiningDate  =  None\n",
            "Salary  =  1000.0\n"
          ],
          "name": "stdout"
        }
      ]
    },
    {
      "cell_type": "code",
      "metadata": {
        "colab": {
          "base_uri": "https://localhost:8080/"
        },
        "id": "AI0bFlKytsm8",
        "outputId": "74db1799-2ac5-45a5-e05d-74e8f8d0cf07"
      },
      "source": [
        "# update table\n",
        "cur.execute(\"UPDATE SqliteDb_developers SET Email=? WHERE id =?\", ('Uname2@gmail.com', 2))\n",
        "print(\"Number of rows updated: {}\".format(cur.rowcount))"
      ],
      "execution_count": null,
      "outputs": [
        {
          "output_type": "stream",
          "text": [
            "Number of rows updated: 1\n"
          ],
          "name": "stdout"
        }
      ]
    },
    {
      "cell_type": "code",
      "metadata": {
        "colab": {
          "base_uri": "https://localhost:8080/"
        },
        "id": "I3_Sk34xMaB0",
        "outputId": "5dd33ee8-7611-45b8-a1bd-f08311febb70"
      },
      "source": [
        "# access to metadata (tables and columns) using PRAGMA\n",
        "cur.execute(\"PRAGMA table_info(SqliteDb_developers);\")\n",
        "data = cur.fetchall()\n",
        "# print(data)\n",
        "for d in data:\n",
        "  print(d[0], d[1], d[2])"
      ],
      "execution_count": null,
      "outputs": [
        {
          "output_type": "stream",
          "text": [
            "0 id INTEGER\n",
            "1 name TEXT\n",
            "2 email text\n",
            "3 joining_date datetime\n",
            "4 salary REAL\n"
          ],
          "name": "stdout"
        }
      ]
    },
    {
      "cell_type": "code",
      "metadata": {
        "colab": {
          "base_uri": "https://localhost:8080/"
        },
        "id": "OaMTTGZsxCCD",
        "outputId": "fdca5fa8-f101-435f-b07e-f378a8a1426a"
      },
      "source": [
        "# Excute whole SQL code in one step\n",
        "cur.executescript(\"\"\"\n",
        "        DROP TABLE IF EXISTS patient_table;\n",
        "        CREATE TABLE patient_table(patient_id INT, name TEXT, diagnose Text, birthdate datetime);\n",
        "        INSERT INTO patient_table VALUES(10, 'name1', 'Asthma', '2006-02-28');\n",
        "        INSERT INTO patient_table VALUES(20, 'name1', 'Asthma', '2007-02-28');\n",
        "        INSERT INTO patient_table VALUES(30, 'name1', 'Asthma', '2008-02-28');\n",
        "        INSERT INTO patient_table VALUES(40, 'name1', 'Asthma', '2009-02-28');\n",
        "        DELETE FROM patient_table WHERE patient_id > 30;\n",
        "     \"\"\")\n",
        "conn.commit()\n",
        "# cur.execute(\"DELETE FROM SqliteDb_developers WHERE id < 3\")\n",
        "cur.execute(\"SELECT COUNT(patient_id) FROM patient_table\")\n",
        "cur.fetchone()\n"
      ],
      "execution_count": null,
      "outputs": [
        {
          "output_type": "execute_result",
          "data": {
            "text/plain": [
              "(3,)"
            ]
          },
          "metadata": {
            "tags": []
          },
          "execution_count": 15
        }
      ]
    },
    {
      "cell_type": "markdown",
      "metadata": {
        "id": "DsdHSo7H-G3m"
      },
      "source": [
        "There are more information in:\n",
        "\n",
        "http://zetcode.com/db/sqlitepythontutorial/\n",
        "\n",
        "https://pynative.com/python-sqlite/\n",
        "\n",
        "https://stackoverflow.com/questions/228912/sqlite-parameter-substitution-problem"
      ]
    },
    {
      "cell_type": "markdown",
      "metadata": {
        "id": "tO9FoACx4TWj"
      },
      "source": [
        "# Exercises"
      ]
    },
    {
      "cell_type": "markdown",
      "metadata": {
        "id": "eALn5eHirGda"
      },
      "source": [
        "### Connect to the database and see how many tables it contains\n",
        "\n",
        "\n"
      ]
    },
    {
      "cell_type": "code",
      "metadata": {
        "id": "ZvwtPAvE05hi"
      },
      "source": [
        "# Connect to source database\n",
        "def create_connection(db_file):\n",
        "  \"\"\" create a database connection to SQLite database\"\"\"\n",
        "  conn = None\n",
        "  try:\n",
        "    conn = sqlite3.connect(db_file)\n",
        "    return conn\n",
        "  except Error as error:\n",
        "    print(\"Error while connecting to sqlite\", error)\n",
        "  # finally:\n",
        "  #   if conn:\n",
        "  #     conn.close()"
      ],
      "execution_count": null,
      "outputs": []
    },
    {
      "cell_type": "code",
      "metadata": {
        "colab": {
          "base_uri": "https://localhost:8080/"
        },
        "id": "zmw406e42yw5",
        "outputId": "e648d560-e4a0-4d5d-a4d3-afbe5a1e0b1e"
      },
      "source": [
        "src_db = f\"{material_path}/source_dbs/source_allergy_test.db\"\n",
        "src_conn = create_connection(src_db)\n",
        "src_cur = src_conn.cursor()\n",
        "print(\"Database connection is successfully\")"
      ],
      "execution_count": null,
      "outputs": [
        {
          "output_type": "stream",
          "text": [
            "Database connection is successfully\n"
          ],
          "name": "stdout"
        }
      ]
    },
    {
      "cell_type": "markdown",
      "metadata": {
        "id": "5vK9_AKSrHhT"
      },
      "source": [
        "### Query the tables, join two tables\n",
        "\n"
      ]
    },
    {
      "cell_type": "code",
      "metadata": {
        "id": "960zuL4eMpwo"
      },
      "source": [],
      "execution_count": null,
      "outputs": []
    },
    {
      "cell_type": "markdown",
      "metadata": {
        "id": "ralFWHdBrIoh"
      },
      "source": [
        "### Copy a table from one database to another(create empty SQLite database)"
      ]
    },
    {
      "cell_type": "code",
      "metadata": {
        "id": "qWSiQGu4st9I"
      },
      "source": [],
      "execution_count": null,
      "outputs": []
    },
    {
      "cell_type": "markdown",
      "metadata": {
        "id": "wlt_8kIrsuU_"
      },
      "source": [
        "### Transform ETL Job: Joint two table and write them into a new table"
      ]
    },
    {
      "cell_type": "code",
      "metadata": {
        "id": "sPdoKbvJs8ev"
      },
      "source": [],
      "execution_count": null,
      "outputs": []
    },
    {
      "cell_type": "markdown",
      "metadata": {
        "id": "K73yqt5Ys80e"
      },
      "source": [
        "### Write ETL jobs for all Tables\n",
        "\n",
        "\n"
      ]
    },
    {
      "cell_type": "code",
      "metadata": {
        "id": "LL8-O5XwtGBn"
      },
      "source": [],
      "execution_count": null,
      "outputs": []
    },
    {
      "cell_type": "markdown",
      "metadata": {
        "id": "h-XI6Ar5tGfM"
      },
      "source": [
        "### Write a Program that schedules the ETL jobs and execute them in order\n"
      ]
    },
    {
      "cell_type": "code",
      "metadata": {
        "id": "whuBX5dVthbM"
      },
      "source": [],
      "execution_count": null,
      "outputs": []
    },
    {
      "cell_type": "code",
      "metadata": {
        "id": "gJ_UjLM8p6HJ"
      },
      "source": [],
      "execution_count": null,
      "outputs": []
    }
  ]
}