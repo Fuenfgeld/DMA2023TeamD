{
  "nbformat": 4,
  "nbformat_minor": 0,
  "metadata": {
    "colab": {
      "provenance": [],
      "name": "Sab_ hello_world.ipynb",
      "include_colab_link": true
    },
    "kernelspec": {
      "name": "python3",
      "display_name": "Python 3"
    },
    "language_info": {
      "name": "python"
    }
  },
  "cells": [
    {
      "cell_type": "markdown",
      "metadata": {
        "id": "view-in-github",
        "colab_type": "text"
      },
      "source": [
        "<a href=\"https://colab.research.google.com/github/Fuenfgeld/DMA2023TeamD/blob/main/hello_world.ipynb\" target=\"_parent\"><img src=\"https://colab.research.google.com/assets/colab-badge.svg\" alt=\"Open In Colab\"/></a>"
      ]
    },
    {
      "cell_type": "code",
      "execution_count": null,
      "metadata": {
        "id": "KMRv1e9iCHPr"
      },
      "outputs": [],
      "source": [
        "print(\"hello world\")"
      ]
    },
    {
      "cell_type": "markdown",
      "source": [
        "Hier mal Sabines Weltansicht ;)\n"
      ],
      "metadata": {
        "id": "0-1f3-1BJ9WJ"
      }
    },
    {
      "cell_type": "code",
      "source": [
        "print(\"Hallo Berlin\")"
      ],
      "metadata": {
        "id": "F_xLsdgCKBod"
      },
      "execution_count": null,
      "outputs": []
    }
  ]
}