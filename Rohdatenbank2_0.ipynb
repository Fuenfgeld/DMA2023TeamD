{
  "nbformat": 4,
  "nbformat_minor": 0,
  "metadata": {
    "colab": {
      "provenance": [],
      "include_colab_link": true
    },
    "kernelspec": {
      "name": "python3",
      "display_name": "Python 3"
    }
  },
  "cells": [
    {
      "cell_type": "markdown",
      "metadata": {
        "id": "view-in-github",
        "colab_type": "text"
      },
      "source": [
        "<a href=\"https://colab.research.google.com/github/Fuenfgeld/DMA2023TeamD/blob/TatisHauptBranch/Rohdatenbank2_0.ipynb\" target=\"_parent\"><img src=\"https://colab.research.google.com/assets/colab-badge.svg\" alt=\"Open In Colab\"/></a>"
      ]
    },
    {
      "cell_type": "markdown",
      "metadata": {
        "id": "JJuauG0GrUyV"
      },
      "source": [
        "\n",
        "#  **Objective**: How to import CSV files into a SQL database \n",
        "\n",
        "\n",
        "\n",
        "\n"
      ]
    },
    {
      "cell_type": "markdown",
      "metadata": {
        "id": "vrI2v_pG17IX"
      },
      "source": [
        "# Importing libraries"
      ]
    },
    {
      "cell_type": "code",
      "metadata": {
        "id": "8PKSoqaUc7Oc"
      },
      "source": [
        "import pandas as pd\n",
        "from functools import reduce\n",
        "import sqlite3\n",
        "from sqlite3 import Error\n",
        "import csv"
      ],
      "execution_count": null,
      "outputs": []
    },
    {
      "cell_type": "code",
      "metadata": {
        "id": "XbdTJYPwI5Ds"
      },
      "source": [
        "from google.colab import drive\n",
        "drive.mount(\"/content/drive\")"
      ],
      "execution_count": null,
      "outputs": []
    },
    {
      "cell_type": "code",
      "metadata": {
        "id": "D-xpDJu_3qvq"
      },
      "source": [
        "material_path = \"/content/drive/Shareddrives/Projektarbeit DMA Gruppe D\"\n"
      ],
      "execution_count": null,
      "outputs": []
    },
    {
      "cell_type": "code",
      "metadata": {
        "id": "EhNT_4U4JYMz"
      },
      "source": [
        "# list of .. path to CSV\"! z.B. healthcare-expenses von Covid19, Asthma und Metabolic Syndrom Disease, mir ist aber nicht so klar warum wir das benötigen, da der ls Befehl auch funktioniert ohne zuvor !ls ausgeführt zu haben\n",
        "!ls \"/content/drive/Shareddrives/Projektarbeit DMA Gruppe D/csv_data/covid19/patients.csv\"\n",
        "# !ls \"/content/drive/Shareddrives/Projektarbeit DMA Gruppe D/csv_data/asthma/patients.csv\"\n",
        "# !ls \"/content/drive/Shareddrives/Projektarbeit DMA Gruppe D/csv_data/metabolic_syndrome_disease/patients.csv\""
      ],
      "execution_count": null,
      "outputs": []
    },
    {
      "cell_type": "markdown",
      "source": [
        "# Import conditiond_info von Covid19, Asthma und Metabolic_Syndrom_Disease - von Jan"
      ],
      "metadata": {
        "id": "ZMa0HKmHLAyy"
      }
    },
    {
      "cell_type": "markdown",
      "source": [
        "csv_path -> selbsterklärend, asthma -> DB/ Erkrankung, cd -> condition/ Relation"
      ],
      "metadata": {
        "id": "FkB306ZiyEAg"
      }
    },
    {
      "cell_type": "code",
      "source": [
        "# Read a csv(exel) file as a DataFram\n",
        "csv_path_asthma_cd = material_path + \"/csv_data/asthma/conditions.csv\" # /content/drive/Shareddrives/Projektarbeit DMA Gruppe D/csv_data/asthma/conditions.csv\n",
        "df_asthma_cd = pd.read_csv(csv_path_asthma_cd)\n",
        "# show first 5 rows of df\n",
        "df_asthma_cd.head()"
      ],
      "metadata": {
        "id": "0-8F-ktwLT9L"
      },
      "execution_count": null,
      "outputs": []
    },
    {
      "cell_type": "code",
      "source": [
        "#msd -> metabolic_syndrom_disease\n",
        "csv_path_msd_cd = material_path + \"/csv_data/metabolic_syndrome_disease/conditions.csv\" # /content/drive/Shareddrives/Projektarbeit DMA Gruppe D/csv_data/metabolic_syndrome_disease/conditions.csv\n",
        "df_msd_cd = pd.read_csv(csv_path_msd_cd)\n",
        "df_msd_cd.head()"
      ],
      "metadata": {
        "id": "uwy_o0D5Mv71"
      },
      "execution_count": null,
      "outputs": []
    },
    {
      "cell_type": "code",
      "source": [
        "#read covid19\n",
        "csv_path_cov19_cd = material_path + \"/csv_data/covid19/conditions.csv\" #/content/drive/Shareddrives/Projektarbeit DMA Gruppe D/csv_data/covid19/conditions.csv\n",
        "df_cov19_cd = pd.read_csv(csv_path_cov19_cd)\n",
        "df_cov19_cd.head()"
      ],
      "metadata": {
        "id": "oTkewgErNjpy"
      },
      "execution_count": null,
      "outputs": []
    },
    {
      "cell_type": "markdown",
      "source": [
        "## Geeignete Spalten - Tatjana"
      ],
      "metadata": {
        "id": "ehW1UInmhChf"
      }
    },
    {
      "cell_type": "markdown",
      "source": [],
      "metadata": {
        "id": "8SZzQsATIrNE"
      }
    },
    {
      "cell_type": "code",
      "source": [
        "import numpy as np"
      ],
      "metadata": {
        "id": "ByU6eEzEidVp"
      },
      "execution_count": null,
      "outputs": []
    },
    {
      "cell_type": "code",
      "source": [
        "# encounters\n",
        "df_cov19_ec.head(1)"
      ],
      "metadata": {
        "id": "EEPzn2dqiiPo"
      },
      "execution_count": null,
      "outputs": []
    },
    {
      "cell_type": "code",
      "source": [
        "df_cov19_ec.head(3)[[\"Id\", \"PATIENT\", \"PAYER\", \"BASE_ENCOUNTER_COST\", \"TOTAL_CLAIM_COST\", \"PAYER_COVERAGE\"]]"
      ],
      "metadata": {
        "id": "-GI9319yhGXp"
      },
      "execution_count": null,
      "outputs": []
    },
    {
      "cell_type": "code",
      "source": [
        "# medications\n",
        "df_cov19_md.head(1)"
      ],
      "metadata": {
        "id": "TnZsMkUqmNNm"
      },
      "execution_count": null,
      "outputs": []
    },
    {
      "cell_type": "code",
      "source": [
        "df_cov19_md.head(3)[[\"PATIENT\", \"PAYER\", \"BASE_COST\", \"PAYER_COVERAGE\", \"TOTALCOST\"]]"
      ],
      "metadata": {
        "id": "7zGhf0kImXRK"
      },
      "execution_count": null,
      "outputs": []
    },
    {
      "cell_type": "code",
      "source": [
        "# observations\n",
        "df_cov19_os.head(1)"
      ],
      "metadata": {
        "id": "mcyIwV3rl38J"
      },
      "execution_count": null,
      "outputs": []
    },
    {
      "cell_type": "code",
      "source": [
        "df_cov19_os.head(3)[[\"PATIENT\", \"DESCRIPTION\", \"VALUE\", \"UNITS\"]]"
      ],
      "metadata": {
        "id": "o5WFDmAfo2S8"
      },
      "execution_count": null,
      "outputs": []
    },
    {
      "cell_type": "code",
      "source": [
        "# payers\n",
        "df_cov19_py.info()"
      ],
      "metadata": {
        "id": "Mo0fr30Zl_hL"
      },
      "execution_count": null,
      "outputs": []
    },
    {
      "cell_type": "code",
      "source": [
        "df_cov19_py.head(3)[[\"Id\", \"AMOUNT_COVERED\", \"AMOUNT_UNCOVERED\", \"COVERED_ENCOUNTERS\", \"UNCOVERED_ENCOUNTERS\", \"COVERED_MEDICATIONS\", \"UNCOVERED_MEDICATIONS\", \"COVERED_PROCEDURES\", \"UNCOVERED_PROCEDURES\"]]"
      ],
      "metadata": {
        "id": "QM91TsuNpbul"
      },
      "execution_count": null,
      "outputs": []
    },
    {
      "cell_type": "markdown",
      "source": [
        "#Geeignete Spalten in coditions - Jan"
      ],
      "metadata": {
        "id": "nk2VYTW3rzIF"
      }
    },
    {
      "cell_type": "markdown",
      "source": [
        "Spalten die zur verfügung stehen:\n",
        "\n",
        "\n",
        "*   Start und Stop: dauer des Krankenhausaufenthalts - vorerst weggelassen\n",
        "*   Patient: Schlüssel\n",
        "*   Encounter: (Fremdschlüssel) Wann wurde die 'Codition' diagnostiziert - benötigt?\n",
        "*   Code und Description: Beschreibung der Diagnose (SNOWMED-CT)\n",
        "\n",
        "\n",
        "\n"
      ],
      "metadata": {
        "id": "6Z--f2GNr8fo"
      }
    },
    {
      "cell_type": "code",
      "source": [
        "import numpy as np"
      ],
      "metadata": {
        "id": "YLdLXKyFtHPO"
      },
      "execution_count": null,
      "outputs": []
    },
    {
      "cell_type": "code",
      "source": [
        "#conditions asthma\n",
        "df_asthma_cd.head(1)"
      ],
      "metadata": {
        "id": "98arEbGhzTbk"
      },
      "execution_count": null,
      "outputs": []
    },
    {
      "cell_type": "code",
      "source": [
        "df_asthma_cd.head(5)[[\"PATIENT\", \"CODE\", \"DESCRIPTION\"]]"
      ],
      "metadata": {
        "id": "YyCI00vZzTUy"
      },
      "execution_count": null,
      "outputs": []
    },
    {
      "cell_type": "code",
      "source": [
        "#conditions msd\n",
        "df_msd_cd.head(1)"
      ],
      "metadata": {
        "id": "mIRli-XEzTMM"
      },
      "execution_count": null,
      "outputs": []
    },
    {
      "cell_type": "code",
      "source": [
        "df_msd_cd.head(5)[[\"PATIENT\", \"CODE\", \"DESCRIPTION\"]]"
      ],
      "metadata": {
        "id": "zy8FUgClzTBk"
      },
      "execution_count": null,
      "outputs": []
    },
    {
      "cell_type": "code",
      "source": [
        "#conditions covid19\n",
        "df_cov19_cd.head(1)"
      ],
      "metadata": {
        "id": "4kHaCUghufBg"
      },
      "execution_count": null,
      "outputs": []
    },
    {
      "cell_type": "code",
      "source": [
        "df_cov19_cd.head(5)[[\"PATIENT\", \"CODE\", \"DESCRIPTION\"]]"
      ],
      "metadata": {
        "id": "4su6At9UxXxT"
      },
      "execution_count": null,
      "outputs": []
    },
    {
      "cell_type": "markdown",
      "source": [
        "## Merge"
      ],
      "metadata": {
        "id": "VNYcDh6Pq4yW"
      }
    },
    {
      "cell_type": "code",
      "source": [
        "df_cov19_ec.head(1)"
      ],
      "metadata": {
        "id": "mqfA6Sr0sG5p"
      },
      "execution_count": null,
      "outputs": []
    },
    {
      "cell_type": "code",
      "source": [
        "df_cov19_py.head(1)"
      ],
      "metadata": {
        "id": "_aulWYBQr-gw"
      },
      "execution_count": null,
      "outputs": []
    },
    {
      "cell_type": "code",
      "source": [
        "#stimmt noch nicht\n",
        "pd.merge(df_cov19_py, df_cov19_ec[\"Id\"], how=\"left\", left_on=\"Id\", right_on=\"Id\", suffixes=[\"_payers\", \"_encounters\"])"
      ],
      "metadata": {
        "id": "vZQ9m_SOtJ92"
      },
      "execution_count": null,
      "outputs": []
    },
    {
      "cell_type": "code",
      "source": [
        "#stimmt noch nicht\n",
        "merge_cov19_ec_py = pd.merge(df_cov19_py, df_cov19_ec[\"Id\"], how=\"left\", left_on=\"Id\", right_on=\"Id\", suffixes=[\"_payers\", \"_encounters\"])\n",
        "print(merge_cov19_ec_py)"
      ],
      "metadata": {
        "id": "VlNoxE-lq7Pf"
      },
      "execution_count": null,
      "outputs": []
    },
    {
      "cell_type": "code",
      "source": [
        "#stimmt noch nicht\n",
        "merge_cov19_ec_py.info()"
      ],
      "metadata": {
        "id": "VE6nIj4jtTlP"
      },
      "execution_count": null,
      "outputs": []
    },
    {
      "cell_type": "markdown",
      "source": [],
      "metadata": {
        "id": "5TdhoKRDKfSa"
      }
    },
    {
      "cell_type": "markdown",
      "source": [],
      "metadata": {
        "id": "fPhBhTvDKjPH"
      }
    },
    {
      "cell_type": "markdown",
      "metadata": {
        "id": "xCVtwKPVrgHM"
      },
      "source": [
        "# Path of input/output data \n",
        "Uncomment one type of patient that you would like to create for it sql database and  import csv files into related database."
      ]
    },
    {
      "cell_type": "code",
      "metadata": {
        "id": "44sjVGsG0v6-"
      },
      "source": [
        "## type of patients\n",
        "# patient_type = \"allergy\"\n",
        "# patient_type = \"asthma\"\n",
        "# patient_type = \"breast_cancer\"\n",
        "# patient_type = \"metabolic_syndrome_disease\"\n",
        "# patient_type = \"colorectal_cancer\"\n",
        "patient_type = \"covid19\"\n",
        "# patient_type = \"dermatitis\"\n",
        "# patient_type = \"lung_cancer\"\n",
        "\n"
      ],
      "execution_count": null,
      "outputs": []
    },
    {
      "cell_type": "code",
      "metadata": {
        "id": "x9RG5sTL9eeV"
      },
      "source": [
        "## source database path - ACHTUNG nur einmal ausführen! Dann ist die ..._test.db erstellt, oder ggf. Inhalt löschen\n",
        "# DB_FILE_PATH = f\"{material_path}/source_dbs/source_{patient_type}_test.db\"\n",
        "\n",
        "# folder contains csv files\n",
        "csv_path = f\"{material_path}/csv_data/{patient_type}/\"\n",
        "\n",
        "DB_FILE_PATH, csv_path"
      ],
      "execution_count": null,
      "outputs": []
    },
    {
      "cell_type": "code",
      "source": [
        "# # remove all tables in a db\n",
        "# for name in sql_table.keys():\n",
        "#   cursor.execute(f\"drop table if exists {name}\")"
      ],
      "metadata": {
        "id": "jwdPKgQkl9Ss"
      },
      "execution_count": null,
      "outputs": []
    },
    {
      "cell_type": "markdown",
      "metadata": {
        "id": "q_qqFZxVQrKs"
      },
      "source": [
        "# SQL queries to create tables\n",
        "There are more info about tables in https://github.com/synthetichealth/synthea/wiki/CSV-File-Data-Dictionary\n",
        "\n",
        "\n"
      ]
    },
    {
      "cell_type": "code",
      "metadata": {
        "id": "PHfPXQFGl8C6"
      },
      "source": [
        "# dictionary key: name of table, values: sql query to create table\n",
        "sql_table = {}"
      ],
      "execution_count": null,
      "outputs": []
    },
    {
      "cell_type": "code",
      "source": [
        "#  sql Anfrage für Tabelle careplans - auskommentiert da nicht benötigt\n",
        "# sql_table[\"careplans\"] = \"\"\"CREATE TABLE IF NOT EXISTS patients (\n",
        "#                           Id STRING PRIMARY KEY,\n",
        "#                           START DATE,\n",
        "#                           STOP DATE\n",
        "#                           PATIENT STRING,\n",
        "#                           ENCOUNTER STRING,\n",
        "#                           CODE STRING,\n",
        "#                           DECRIPTION STRING,\n",
        "#                           REASONSCODE STRING,\n",
        "#                           REASONCODEDESCRIPTION STRING\n",
        "#                       );\"\"\"\n",
        "      "
      ],
      "metadata": {
        "id": "TjJ7Y_BYaHIJ"
      },
      "execution_count": null,
      "outputs": []
    },
    {
      "cell_type": "code",
      "metadata": {
        "id": "siV6k04HZyqF"
      },
      "source": [
        "# sql query to create disease table - auskommentiert da nicht benötigt\n",
        "# sql_table[\"disease\"] = \"\"\"CREATE TABLE IF NOT EXISTS disease (\n",
        "#                            START DATE,\n",
        "#                           STOP DATE,\n",
        "#                           PATIENT STRING,\n",
        "#                           ENCOUNTER STRING,\n",
        "#                           CODE STRING,\n",
        "#                           DESCRIPTION STRING,\n",
        "#                           FOREIGN KEY (PATIENT)\n",
        "#                              REFERENCES patients (Id) \n",
        "#                           FOREIGN KEY (Encounter)\n",
        "#                              REFERENCES encounters (Id)\n",
        "#                           \n",
        "#                       );\"\"\"\n"
      ],
      "execution_count": null,
      "outputs": []
    },
    {
      "cell_type": "code",
      "metadata": {
        "id": "3saAJAKG7DTT"
      },
      "source": [
        "#  sql query to create patients table\n",
        "sql_table[\"patients\"] = \"\"\"CREATE TABLE IF NOT EXISTS patients (\n",
        "                           Id STRING PRIMARY KEY,\n",
        "                           BIRTHDATE DATE,\n",
        "                           DEATHDATE DATE,\n",
        "                           SSN STRING,\n",
        "                           DRIVERS STRING,\n",
        "                           PASSPORT STRING,\n",
        "                           PREFIX STRING,\n",
        "                           FIRST STRING,\n",
        "                           LAST STRING,\n",
        "                           SUFFIX STRING,\n",
        "                           MAIDEN STRING,\n",
        "                           MARITAL STRING,\n",
        "                           RACE STRING,\n",
        "                           ETHNICITY STRING,\n",
        "                           GENDER STRING,\n",
        "                           BIRTHPLACE STRING,\n",
        "                           ADDRESS STRING,\n",
        "                           CITY STRING,\n",
        "                           STATE STRING,\n",
        "                           COUNTRY STRING,\n",
        "                           ZIP STRING,\n",
        "                           LAT INTEGER,\n",
        "                           LON INTEGER,\n",
        "                           HEALTHCARE_EXPENSES INTEGER,\n",
        "                           HEALTHCARE_COVERAGE INTEGER\n",
        "                       );\"\"\"\n",
        "      "
      ],
      "execution_count": null,
      "outputs": []
    },
    {
      "cell_type": "code",
      "metadata": {
        "id": "knobrzYZ7D2d"
      },
      "source": [
        "# sql query to create encounters table - auskommentiert da nicht benötigt\n",
        "# sql_table[\"encounters\"] = \"\"\"CREATE TABLE IF NOT EXISTS encounters (\n",
        "#                           Id STRING PRIMARY KEY,\n",
        "#                           START DATE,\n",
        "#                           STOP DATE,\n",
        "#                           PATIENT STRING,\n",
        "#                           ORGANIZATIONS STRING,\n",
        "#                           PROVIDER STRING,\n",
        "#                           PAYER STRING,\n",
        "#                           ENCOUNTERCLASS STRING,\n",
        "#                           CODE STRING,\n",
        "#                           DESCRIPTION STRING,\n",
        "#                           BASE_ENCOUNTER_COST INTEGER,\n",
        "#                           TOTAL_CLAIM_COST INTEGER,\n",
        "#                           PAYER_COVERAGE INTEGER,\n",
        "#                           REASONCODE STRING,\n",
        "#                           REASONDESCRIPTION STRING,\n",
        "#                           FOREIGN KEY (PATIENT)\n",
        "#                              REFERENCES patients (Id) \n",
        "#                       );\"\"\"\n"
      ],
      "execution_count": null,
      "outputs": []
    },
    {
      "cell_type": "code",
      "metadata": {
        "id": "SPgRzjeC7Dyy"
      },
      "source": [
        "# sql query to create careplans table - auskommentiert da nicht benötigt\n",
        "# sql_table[\"careplans\"] = \"\"\"CREATE TABLE IF NOT EXISTS careplans (\n",
        "#                           Id STRING PRIMARY KEY,\n",
        "#                           START DATE,\n",
        "#                           STOP DATE,\n",
        "#                           PATIENT STRING,\n",
        "#                           ENCOUNTER STRING,\n",
        "#                           CODE STRING,\n",
        "#                           DESCRIPTION STRING,\n",
        "#                           REASONCODE STRING,\n",
        "#                           REASONDESCRIPTION STRING,\n",
        "#                           FOREIGN KEY (PATIENT)\n",
        "#                              REFERENCES patients (Id) \n",
        "#                           FOREIGN KEY (Encounter)\n",
        "#                              REFERENCES encounters (Id) \n",
        "#                       );\"\"\""
      ],
      "execution_count": null,
      "outputs": []
    },
    {
      "cell_type": "code",
      "metadata": {
        "id": "l5BOTtt9tX_h"
      },
      "source": [
        "# sql query to create conditions table\n",
        "sql_table[\"conditions\"] = \"\"\"CREATE TABLE IF NOT EXISTS conditions (\n",
        "                           START DATE,\n",
        "                           STOP DATE,\n",
        "                           PATIENT STRING,\n",
        "                           ENCOUNTER STRING,\n",
        "                           CODE STRING,\n",
        "                           DESCRIPTION STRING,\n",
        "                           FOREIGN KEY (PATIENT)\n",
        "                              REFERENCES patients (Id) \n",
        "                           FOREIGN KEY (Encounter)\n",
        "                              REFERENCES encounters (Id) \n",
        "\n",
        "                       );\"\"\""
      ],
      "execution_count": null,
      "outputs": []
    },
    {
      "cell_type": "code",
      "metadata": {
        "id": "Gios0rVz7D8U"
      },
      "source": [
        "# sql query to create medications table\n",
        "sql_table[\"medications\"] = \"\"\"CREATE TABLE IF NOT EXISTS medications (\n",
        "                           START DATE,\n",
        "                           STOP DATE,\n",
        "                           PATIENT STRING,\n",
        "                           PAYER STRING,\n",
        "                           ENCOUNTER STRING,\n",
        "                           CODE STRING,\n",
        "                           DESCRIPTION STRING,\n",
        "                           BASE_COST INTEGER,\n",
        "                           PAYER_COVERAGE INTEGER,\n",
        "                           DISPENSES INTEGER,\n",
        "                           TOTALCOST INTEGER,\n",
        "                           REASONCODE STRING,\n",
        "                           REASONDESCRIPTION STRING,\n",
        "                           FOREIGN KEY (PATIENT)\n",
        "                              REFERENCES patients (Id) \n",
        "                           \n",
        "                       );\"\"\"\n"
      ],
      "execution_count": null,
      "outputs": []
    },
    {
      "cell_type": "code",
      "metadata": {
        "id": "gdxzjU5u7EAT"
      },
      "source": [
        "# # sql query to create procedures table\n",
        "sql_table[\"procedures\"]= \"\"\"CREATE TABLE IF NOT EXISTS procedures (\n",
        "                           DATE DATE,\n",
        "                           PATIENT STRING,\n",
        "                           ENCOUNTER STRING,\n",
        "                           CODE STRING,\n",
        "                           DESCRIPTION STRING,\n",
        "                           BASE_COST INTEGER,\n",
        "                           REASONCODE STRING,\n",
        "                           REASONDESCRIPTION STRING,\n",
        "                           FOREIGN KEY (PATIENT)\n",
        "                              REFERENCES patients (Id) \n",
        "                           FOREIGN KEY (Encounter)\n",
        "                              REFERENCES encounters (Id) \n",
        "\n",
        "                       );\"\"\"\n"
      ],
      "execution_count": null,
      "outputs": []
    },
    {
      "cell_type": "code",
      "metadata": {
        "id": "S-S75rDvTV6p"
      },
      "source": [
        "# # sql query to create observations table\n",
        "sql_table[\"observations\"]= \"\"\"CREATE TABLE IF NOT EXISTS observations (\n",
        "                           DATE DATE,\n",
        "                           PATIENT STRING,\n",
        "                           ENCOUNTER STRING,\n",
        "                           CODE STRING,\n",
        "                           DESCRIPTION STRING,\n",
        "                           VALUE STRING,\n",
        "                           UNITS STRING,\n",
        "                           TYPE STRING,\n",
        "                           FOREIGN KEY (PATIENT)\n",
        "                              REFERENCES patients (Id) \n",
        "                           FOREIGN KEY (Encounter)\n",
        "                              REFERENCES encounters (Id) \n",
        "\n",
        "                       );\"\"\""
      ],
      "execution_count": null,
      "outputs": []
    },
    {
      "cell_type": "code",
      "metadata": {
        "id": "mir0yIFBT5Mr"
      },
      "source": [
        "# sql query to create devices table - auskommentiert da nicht benötigt\n",
        "# sql_table[\"devices\"] = \"\"\"CREATE TABLE IF NOT EXISTS devices (\n",
        "#                           START DATE,\n",
        "#                           STOP DATE,\n",
        "#                           PATIENT STRING,\n",
        "#                           ENCOUNTER STRING,\n",
        "#                           CODE STRING,\n",
        "#                           DESCRIPTION STRING,\n",
        "#                           UDI STRING,\n",
        "#                           FOREIGN KEY (PATIENT)\n",
        "#                              REFERENCES patients (Id) \n",
        "#                           FOREIGN KEY (Encounter)\n",
        "#                              REFERENCES encounters (Id)                           \n",
        "#                       );\"\"\"\n"
      ],
      "execution_count": null,
      "outputs": []
    },
    {
      "cell_type": "code",
      "metadata": {
        "id": "u9M3rP4SU-q-"
      },
      "source": [
        "# sql query to create Imaging_studies table - auskommentiert da nicht benötigt\n",
        "# sql_table[\"imaging_studies\"] = \"\"\"CREATE TABLE IF NOT EXISTS imaging_studies (\n",
        "#                           Id STRING PRIMARY KEY,\n",
        "#                           DATE DATE,\n",
        "#                           PATIENT STRING,\n",
        "#                           ENCOUNTER STRING,\n",
        "#                           BODYSITE_CODE STRING,\n",
        "#                           BODYSITE_DESCRIPTION STRING,\n",
        "#                           MODALITY_CODE STRING,\n",
        "#                           MODALITY_DESCRIPTION STRING,\n",
        "#                           SOP_CODE STRING,\n",
        "#                           SOP_DESCRIPTION STRING,\n",
        "#                           FOREIGN KEY (PATIENT)\n",
        "#                              REFERENCES patients (Id) \n",
        "#                           FOREIGN KEY (Encounter)\n",
        "#                              REFERENCES encounters (Id) \n",
        "#                       );\"\"\""
      ],
      "execution_count": null,
      "outputs": []
    },
    {
      "cell_type": "code",
      "metadata": {
        "id": "2_2tQ0y8Wavb"
      },
      "source": [
        "# sql query to create Immunizations table - auskommentiert da nicht benötigt\n",
        "# sql_table[\"immunizations\"]= \"\"\"CREATE TABLE IF NOT EXISTS immunizations(\n",
        "#                            DATE DATE,\n",
        "#                            PATIENT STRING,\n",
        "#                           ENCOUNTER STRING,\n",
        "#                           CODE STRING,\n",
        "#                           DESCRIPTION STRING,\n",
        "#                           BASE_COST INTEGER,\n",
        "#                           FOREIGN KEY (PATIENT)\n",
        "#                              REFERENCES patients (Id) \n",
        "#                           FOREIGN KEY (Encounter)\n",
        "#                              REFERENCES encounters (Id) \n",
        "#                       );\"\"\""
      ],
      "execution_count": null,
      "outputs": []
    },
    {
      "cell_type": "markdown",
      "metadata": {
        "id": "0BJVXYo4qlot"
      },
      "source": [
        "# Import csv files into database tables\n",
        "\n",
        "\n"
      ]
    },
    {
      "cell_type": "code",
      "source": [
        "def connect_to_db(db_file):\n",
        "    \"\"\"\n",
        "    Connect to an SQlite database, if db file does not exist it will be created\n",
        "    :param db_file: absolute or relative path of db file\n",
        "    :return: sqlite3 connection\n",
        "    \"\"\"\n",
        "    sqlite3_conn = None\n",
        "\n",
        "    try:\n",
        "        sqlite3_conn = sqlite3.connect(db_file)\n",
        "        return sqlite3_conn\n",
        "\n",
        "    except Error as err:\n",
        "        print(err)\n",
        "\n",
        "        if sqlite3_conn is not None:\n",
        "            sqlite3_conn.close()\n",
        "\n",
        "\n",
        "def insert_values_to_table(cursor, table_name, csv_file_path):\n",
        "\n",
        "    \"\"\"\n",
        "    Open a csv file, store its content in a list excluding header and insert the data from the list to db table\n",
        "    :param table_name: table name in the database to insert the data into\n",
        "    :param csv_file_path: path of the csv file to process\n",
        "    :return: None\n",
        "    \"\"\"\n",
        "\n",
        "    # Read CSV file content\n",
        "    values_to_insert = open_csv_file(csv_file_path)\n",
        "\n",
        "    # Insert to table\n",
        "    if len(values_to_insert) > 0:\n",
        "        column_names, column_numbers = get_column_names_from_db_table(cursor, table_name)\n",
        "\n",
        "        values_str = '?,' * column_numbers\n",
        "        # print(\"*****\", values_str, column_names, column_numbers)\n",
        "        values_str = values_str[:-1]\n",
        "\n",
        "        sql_query = 'INSERT OR REPLACE INTO ' + table_name + '(' + column_names + ') VALUES (' + values_str + ')'\n",
        "\n",
        "\n",
        "        cursor.executemany(sql_query, values_to_insert)\n",
        "        # conn.commit()\n",
        "\n",
        "        print('SQL insert process finished')\n",
        "    else:\n",
        "        print('Nothing to insert')\n",
        "\n",
        "        # conn.close()\n",
        "\n",
        "    # else:\n",
        "        # print('Connection to database failed')\n",
        "\n",
        "\n",
        "def open_csv_file(csv_file_path):\n",
        "    \"\"\"\n",
        "    Open and read data from a csv file without headers (skipping the first row)\n",
        "    :param csv_file_path: path of the csv file to process\n",
        "    :return: a list with the csv content\n",
        "    \"\"\"\n",
        "    with open(csv_file_path, 'r', encoding='utf-8') as csv_file:\n",
        "        reader = csv.reader(csv_file)\n",
        "        next(reader)\n",
        "\n",
        "        data = list()\n",
        "        for row in reader:\n",
        "            data.append(row)\n",
        "\n",
        "        return data\n",
        "\n",
        "\n",
        "def get_column_names_from_db_table(sql_cursor, table_name):\n",
        "    \"\"\"\n",
        "    Scrape the column names from a database table to a list and convert to a comma separated string, count the number\n",
        "    of columns in a database table\n",
        "    :param sql_cursor: sqlite cursor\n",
        "    :param table_name: table name to get the column names from\n",
        "    :return: a comma separated string with column names, an integer with number of columns\n",
        "    \"\"\"\n",
        "\n",
        "    table_column_names = 'PRAGMA table_info(' + table_name + ');'\n",
        "    sql_cursor.execute(table_column_names)\n",
        "    table_column_names = sql_cursor.fetchall()\n",
        "\n",
        "    column_count = len(table_column_names)\n",
        "\n",
        "    column_names = list()\n",
        "\n",
        "    for name in table_column_names:\n",
        "        column_names.append(name[1])\n",
        "\n",
        "    return ', '.join(column_names), column_count\n",
        "\n",
        "\n"
      ],
      "metadata": {
        "id": "S2rPpsrUj7WR"
      },
      "execution_count": null,
      "outputs": []
    },
    {
      "cell_type": "code",
      "metadata": {
        "id": "EcIFjR0hqFci"
      },
      "source": [
        "# list of tables\n",
        "sql_table.keys()"
      ],
      "execution_count": null,
      "outputs": []
    },
    {
      "cell_type": "code",
      "metadata": {
        "id": "bEAlK7Rsy0Uo"
      },
      "source": [
        "# # remove all tables in a db\n",
        "# for name in sql_table.keys():\n",
        "#   cursor.execute(f\"drop table if exists {name}\")\n"
      ],
      "execution_count": null,
      "outputs": []
    },
    {
      "cell_type": "code",
      "source": [
        "# import csv into db\n",
        "conn = connect_to_db(DB_FILE_PATH)\n",
        "if conn is not None:\n",
        "        cursor = conn.cursor()\n",
        "        for name in sql_table.keys():\n",
        "          csv_file = csv_path + name + \".csv\"\n",
        "          print(name, csv_file)\n",
        "          \n",
        "          cursor.execute(sql_table[name])\n",
        "\n",
        "          insert_values_to_table(cursor, name, csv_file)\n",
        "        # conn.commit()\n",
        "else:\n",
        "        print('Connection to database failed')\n"
      ],
      "metadata": {
        "id": "gUwXkXX0kEvg"
      },
      "execution_count": null,
      "outputs": []
    },
    {
      "cell_type": "code",
      "metadata": {
        "id": "7CF-HaoGsY_d"
      },
      "source": [
        "# ex, access to a csv file\n",
        "pd.read_csv(f\"{csv_path}patients.csv\").head()"
      ],
      "execution_count": null,
      "outputs": []
    },
    {
      "cell_type": "code",
      "metadata": {
        "id": "9bdJbKtO7DjH"
      },
      "source": [
        "# List of tables in database \n",
        "cursor.execute(\"SELECT name FROM sqlite_master WHERE type='table';\")\n",
        "print(cursor.fetchall())"
      ],
      "execution_count": null,
      "outputs": []
    },
    {
      "cell_type": "code",
      "metadata": {
        "id": "xpw2cpNiHRiH"
      },
      "source": [
        "# # check data in a table\n",
        "# cursor.execute(\"SELECT * FROM procedures;\")\n",
        "# rows = cursor.fetchall()\n",
        "# for row in rows:\n",
        "#   print(row)"
      ],
      "execution_count": null,
      "outputs": []
    },
    {
      "cell_type": "code",
      "source": [
        "# Creating a cursor object using the cursor() method\n",
        "cur = conn.cursor()\n",
        "print(\"Successfully Connected to SQLite\")"
      ],
      "metadata": {
        "id": "AUULDz_ImoCP"
      },
      "execution_count": null,
      "outputs": []
    },
    {
      "cell_type": "markdown",
      "source": [
        "# INDEX"
      ],
      "metadata": {
        "id": "ffQYwIHYol2J"
      }
    },
    {
      "cell_type": "code",
      "source": [
        "# multicolumn Index\n",
        "cur.execute(\"CREATE INDEX idx_contacts_name ON patients (FIRST, LAST)\")\n",
        "cur.fetchall()"
      ],
      "metadata": {
        "id": "3SooFC1vmKQt"
      },
      "execution_count": null,
      "outputs": []
    },
    {
      "cell_type": "code",
      "source": [
        "# show list indexes created for a table\n",
        "cur.execute(\"PRAGMA index_list(patients)\")\n",
        "print(cur.fetchall())"
      ],
      "metadata": {
        "id": "9BeyM6M4m2lE"
      },
      "execution_count": null,
      "outputs": []
    },
    {
      "cell_type": "code",
      "source": [
        "# funktioniert ohne UNIQUE!\n",
        "cur.execute(\"CREATE INDEX idx_patname_conditions ON conditions (PATIENT)\")\n",
        "cur.fetchall()"
      ],
      "metadata": {
        "id": "3XOHAqvYrRKW"
      },
      "execution_count": null,
      "outputs": []
    },
    {
      "cell_type": "code",
      "source": [
        "cur.execute(\"PRAGMA index_list(conditions)\")\n",
        "print(cur.fetchall())"
      ],
      "metadata": {
        "id": "TA3HLXMjr7qE"
      },
      "execution_count": null,
      "outputs": []
    },
    {
      "cell_type": "code",
      "source": [
        "cur.execute(\"CREATE INDEX idx_patname_medications ON medications (PATIENT)\")\n",
        "cur.fetchall()"
      ],
      "metadata": {
        "id": "QG3889elsgOT"
      },
      "execution_count": null,
      "outputs": []
    },
    {
      "cell_type": "code",
      "source": [
        "cur.execute(\"PRAGMA index_list(medications)\")\n",
        "print(cur.fetchall())"
      ],
      "metadata": {
        "id": "Fn-wOAtosf80"
      },
      "execution_count": null,
      "outputs": []
    },
    {
      "cell_type": "code",
      "source": [
        "cur.execute(\"CREATE INDEX idx_patname_procedures ON procedures (PATIENT)\")\n",
        "cur.execute(\"CREATE INDEX idx_patname_observations ON observations (PATIENT)\")\n",
        "cur.fetchall()"
      ],
      "metadata": {
        "id": "0nj5QdVwswsL"
      },
      "execution_count": null,
      "outputs": []
    },
    {
      "cell_type": "code",
      "source": [
        "cur.execute(\"PRAGMA index_list(procedures)\")\n",
        "print(cur.fetchall())"
      ],
      "metadata": {
        "id": "FICo0ueNtJ8h"
      },
      "execution_count": null,
      "outputs": []
    },
    {
      "cell_type": "code",
      "source": [
        "cur.execute(\"PRAGMA index_list(observations)\")\n",
        "print(cur.fetchall())"
      ],
      "metadata": {
        "id": "WVL4zcR8sweq"
      },
      "execution_count": null,
      "outputs": []
    },
    {
      "cell_type": "code",
      "source": [
        "# get all indexes from a database \n",
        "cur.execute(\"select type, name, tbl_name, sql FROM sqlite_master WHERE type='index'\")\n",
        "print(cur.fetchall())"
      ],
      "metadata": {
        "id": "EmawqQ0KoM5C"
      },
      "execution_count": null,
      "outputs": []
    },
    {
      "cell_type": "code",
      "source": [
        "# Drop index\n",
        "# cur.execute(\"DROP INDEX idx_contacts_name\")\n",
        "cur.execute(\"PRAGMA index_list(patients)\")\n",
        "print(cur.fetchall())"
      ],
      "metadata": {
        "id": "GvLxJBPqnH5V"
      },
      "execution_count": null,
      "outputs": []
    },
    {
      "cell_type": "markdown",
      "source": [
        "# DB für Asthma"
      ],
      "metadata": {
        "id": "_qtuSlNxu2j2"
      }
    },
    {
      "cell_type": "code",
      "source": [
        "# type of patients\n",
        "patient_type = \"asthma\"\n",
        "# patient_type = \"metabolic_syndrome_disease\"\n",
        "# source database path - ACHTUNG nur einmal ausführen! Dann ist die ..._test.db erstellt, oder ggf. Inhalt löschen\n",
        "DB_FILE_PATH = f\"{material_path}/source_dbs/source_{patient_type}_test.db\"\n",
        "\n",
        "# folder contains csv files\n",
        "csv_path = f\"{material_path}/csv_data/{patient_type}/\"\n",
        "\n",
        "DB_FILE_PATH, csv_path"
      ],
      "metadata": {
        "id": "8CYoHieBu8xM"
      },
      "execution_count": null,
      "outputs": []
    },
    {
      "cell_type": "code",
      "source": [
        "# dictionary key: name of table, values: sql query to create table\n",
        "sql_table = {}"
      ],
      "metadata": {
        "id": "vvzzUSOXvfw6"
      },
      "execution_count": null,
      "outputs": []
    },
    {
      "cell_type": "code",
      "source": [
        "## Tabellenname konnte ich noch nicht umbenennen z.B. in patients_asthma weil sonst spätere hierauf verweisende Befehle nicht funktionieren"
      ],
      "metadata": {
        "id": "sYa8FtC2ygKD"
      },
      "execution_count": null,
      "outputs": []
    },
    {
      "cell_type": "code",
      "source": [
        "sql_table[\"patients\"] = \"\"\"CREATE TABLE IF NOT EXISTS patients (\n",
        "                           Id STRING PRIMARY KEY,\n",
        "                           BIRTHDATE DATE,\n",
        "                           DEATHDATE DATE,\n",
        "                           SSN STRING,\n",
        "                           DRIVERS STRING,\n",
        "                           PASSPORT STRING,\n",
        "                           PREFIX STRING,\n",
        "                           FIRST STRING,\n",
        "                           LAST STRING,\n",
        "                           SUFFIX STRING,\n",
        "                           MAIDEN STRING,\n",
        "                           MARITAL STRING,\n",
        "                           RACE STRING,\n",
        "                           ETHNICITY STRING,\n",
        "                           GENDER STRING,\n",
        "                           BIRTHPLACE STRING,\n",
        "                           ADDRESS STRING,\n",
        "                           CITY STRING,\n",
        "                           STATE STRING,\n",
        "                           COUNTRY STRING,\n",
        "                           ZIP STRING,\n",
        "                           LAT INTEGER,\n",
        "                           LON INTEGER,\n",
        "                           HEALTHCARE_EXPENSES INTEGER,\n",
        "                           HEALTHCARE_COVERAGE INTEGER\n",
        "                       );\"\"\""
      ],
      "metadata": {
        "id": "hw7CvRZDvpkk"
      },
      "execution_count": null,
      "outputs": []
    },
    {
      "cell_type": "code",
      "source": [
        "sql_table[\"medications\"] = \"\"\"CREATE TABLE IF NOT EXISTS medications (\n",
        "                           START DATE,\n",
        "                           STOP DATE,\n",
        "                           PATIENT STRING,\n",
        "                           PAYER STRING,\n",
        "                           ENCOUNTER STRING,\n",
        "                           CODE STRING,\n",
        "                           DESCRIPTION STRING,\n",
        "                           BASE_COST INTEGER,\n",
        "                           PAYER_COVERAGE INTEGER,\n",
        "                           DISPENSES INTEGER,\n",
        "                           TOTALCOST INTEGER,\n",
        "                           REASONCODE STRING,\n",
        "                           REASONDESCRIPTION STRING,\n",
        "                           FOREIGN KEY (PATIENT)\n",
        "                              REFERENCES patients (Id) \n",
        "                           \n",
        "                       );\"\"\""
      ],
      "metadata": {
        "id": "CsKnFj5jv0Bk"
      },
      "execution_count": null,
      "outputs": []
    },
    {
      "cell_type": "code",
      "source": [
        "sql_table[\"procedures\"]= \"\"\"CREATE TABLE IF NOT EXISTS procedures (\n",
        "                           DATE DATE,\n",
        "                           PATIENT STRING,\n",
        "                           ENCOUNTER STRING,\n",
        "                           CODE STRING,\n",
        "                           DESCRIPTION STRING,\n",
        "                           BASE_COST INTEGER,\n",
        "                           REASONCODE STRING,\n",
        "                           REASONDESCRIPTION STRING,\n",
        "                           FOREIGN KEY (PATIENT)\n",
        "                              REFERENCES patients (Id) \n",
        "\n",
        "                       );\"\"\"\n"
      ],
      "metadata": {
        "id": "JPQgFNDSv_HC"
      },
      "execution_count": null,
      "outputs": []
    },
    {
      "cell_type": "code",
      "source": [
        "sql_table[\"observations\"]= \"\"\"CREATE TABLE IF NOT EXISTS observations (\n",
        "                           DATE DATE,\n",
        "                           PATIENT STRING,\n",
        "                           ENCOUNTER STRING,\n",
        "                           CODE STRING,\n",
        "                           DESCRIPTION STRING,\n",
        "                           VALUE STRING,\n",
        "                           UNITS STRING,\n",
        "                           TYPE STRING,\n",
        "                           FOREIGN KEY (PATIENT)\n",
        "                              REFERENCES patients (Id) \n",
        "                           FOREIGN KEY (Encounter)\n",
        "                              REFERENCES encounters (Id) \n",
        "\n",
        "                       );\"\"\""
      ],
      "metadata": {
        "id": "bA1v19UXwLnJ"
      },
      "execution_count": null,
      "outputs": []
    },
    {
      "cell_type": "code",
      "source": [
        "sql_table[\"conditions\"] = \"\"\"CREATE TABLE IF NOT EXISTS conditions (\n",
        "                           START DATE,\n",
        "                           STOP DATE,\n",
        "                           PATIENT STRING,\n",
        "                           ENCOUNTER STRING,\n",
        "                           CODE STRING,\n",
        "                           DESCRIPTION STRING,\n",
        "                           FOREIGN KEY (PATIENT)\n",
        "                              REFERENCES patients (Id) \n",
        "                           FOREIGN KEY (Encounter)\n",
        "                              REFERENCES encounters (Id) \n",
        "\n",
        "                       );\"\"\""
      ],
      "metadata": {
        "id": "lkXxB2UhwmER"
      },
      "execution_count": null,
      "outputs": []
    },
    {
      "cell_type": "code",
      "source": [
        "# list of tables\n",
        "sql_table.keys()"
      ],
      "metadata": {
        "id": "XaiYGdHNwd8A"
      },
      "execution_count": null,
      "outputs": []
    },
    {
      "cell_type": "code",
      "source": [
        "# import csv into db\n",
        "conn = connect_to_db(DB_FILE_PATH)\n",
        "if conn is not None:\n",
        "        cursor = conn.cursor()\n",
        "        for name in sql_table.keys():\n",
        "          csv_file = csv_path + name + \".csv\"\n",
        "          print(name, csv_file)\n",
        "          \n",
        "          cursor.execute(sql_table[name])\n",
        "\n",
        "          insert_values_to_table(cursor, name, csv_file)\n",
        "        # conn.commit()\n",
        "else:\n",
        "        print('Connection to database failed')"
      ],
      "metadata": {
        "id": "UFCZjWoGw21_"
      },
      "execution_count": null,
      "outputs": []
    },
    {
      "cell_type": "code",
      "source": [
        "# List of tables in database \n",
        "cursor.execute(\"SELECT name FROM sqlite_master WHERE type='table';\")\n",
        "print(cursor.fetchall())"
      ],
      "metadata": {
        "id": "_v-v3YD1zxlx"
      },
      "execution_count": null,
      "outputs": []
    },
    {
      "cell_type": "code",
      "source": [
        "# multicolumn Index\n",
        "cur.execute(\"CREATE INDEX idx_contacts_asthma_name ON patients (FIRST, LAST)\")\n",
        "# und die weiteren Index \n",
        "cur.execute(\"CREATE INDEX idx_patname_asthma_procedures ON procedures (PATIENT)\")\n",
        "cur.execute(\"CREATE INDEX idx_patname_asthma_observations ON observations (PATIENT)\")\n",
        "cur.execute(\"CREATE INDEX idx_patname_asthma_medications ON medications (PATIENT)\")\n",
        "cur.execute(\"CREATE INDEX idx_patname_asthma_conditions ON conditions (PATIENT)\")\n",
        "cur.fetchall()"
      ],
      "metadata": {
        "id": "S1RVzsVa0S7m"
      },
      "execution_count": null,
      "outputs": []
    },
    {
      "cell_type": "code",
      "source": [
        "cur.execute(\"PRAGMA index_list(patients)\")\n",
        "print(cur.fetchall())"
      ],
      "metadata": {
        "id": "f6BSmA-z1evu"
      },
      "execution_count": null,
      "outputs": []
    },
    {
      "cell_type": "code",
      "source": [
        "cur.execute(\"PRAGMA index_list(procedures)\")\n",
        "print(cur.fetchall())"
      ],
      "metadata": {
        "id": "_341eFhA1got"
      },
      "execution_count": null,
      "outputs": []
    },
    {
      "cell_type": "code",
      "source": [
        "cur.execute(\"PRAGMA index_list(observations)\")\n",
        "print(cur.fetchall())"
      ],
      "metadata": {
        "id": "fj8gOJqn1jtd"
      },
      "execution_count": null,
      "outputs": []
    },
    {
      "cell_type": "code",
      "source": [
        "cur.execute(\"PRAGMA index_list(medications)\")\n",
        "print(cur.fetchall())"
      ],
      "metadata": {
        "id": "mjWmwnDE1l3T"
      },
      "execution_count": null,
      "outputs": []
    },
    {
      "cell_type": "code",
      "source": [
        "cur.execute(\"PRAGMA index_list(conditions)\")\n",
        "print(cur.fetchall())"
      ],
      "metadata": {
        "id": "zglhOVvf1o4M"
      },
      "execution_count": null,
      "outputs": []
    },
    {
      "cell_type": "markdown",
      "source": [
        "# DB für metabolic_syndrome_disease"
      ],
      "metadata": {
        "id": "lnaMoPFz10jZ"
      }
    },
    {
      "cell_type": "code",
      "source": [
        "# type of patients\n",
        "# patient_type = \"asthma\"\n",
        "patient_type = \"metabolic_syndrome_disease\"\n",
        "# source database path - ACHTUNG nur einmal ausführen! Dann ist die ..._test.db erstellt, oder ggf. Inhalt löschen\n",
        "DB_FILE_PATH = f\"{material_path}/source_dbs/source_{patient_type}_test.db\"\n",
        "\n",
        "# folder contains csv files\n",
        "csv_path = f\"{material_path}/csv_data/{patient_type}/\"\n",
        "\n",
        "DB_FILE_PATH, csv_path"
      ],
      "metadata": {
        "id": "4cH40cQ916t7"
      },
      "execution_count": null,
      "outputs": []
    },
    {
      "cell_type": "code",
      "source": [
        "# dictionary key: name of table, values: sql query to create table\n",
        "sql_table = {}"
      ],
      "metadata": {
        "id": "LhKpVs_L2E_g"
      },
      "execution_count": null,
      "outputs": []
    },
    {
      "cell_type": "code",
      "source": [
        "## Tabellenname konnte ich noch nicht umbenennen z.B. in patients_asthma weil sonst spätere hierauf verweisende Befehle nicht funktionieren"
      ],
      "metadata": {
        "id": "M4cmHZ4q2E_h"
      },
      "execution_count": null,
      "outputs": []
    },
    {
      "cell_type": "code",
      "source": [
        "sql_table[\"patients\"] = \"\"\"CREATE TABLE IF NOT EXISTS patients (\n",
        "                           Id STRING PRIMARY KEY,\n",
        "                           BIRTHDATE DATE,\n",
        "                           DEATHDATE DATE,\n",
        "                           SSN STRING,\n",
        "                           DRIVERS STRING,\n",
        "                           PASSPORT STRING,\n",
        "                           PREFIX STRING,\n",
        "                           FIRST STRING,\n",
        "                           LAST STRING,\n",
        "                           SUFFIX STRING,\n",
        "                           MAIDEN STRING,\n",
        "                           MARITAL STRING,\n",
        "                           RACE STRING,\n",
        "                           ETHNICITY STRING,\n",
        "                           GENDER STRING,\n",
        "                           BIRTHPLACE STRING,\n",
        "                           ADDRESS STRING,\n",
        "                           CITY STRING,\n",
        "                           STATE STRING,\n",
        "                           COUNTRY STRING,\n",
        "                           ZIP STRING,\n",
        "                           LAT INTEGER,\n",
        "                           LON INTEGER,\n",
        "                           HEALTHCARE_EXPENSES INTEGER,\n",
        "                           HEALTHCARE_COVERAGE INTEGER\n",
        "                       );\"\"\""
      ],
      "metadata": {
        "id": "wP0UPJ5o2E_i"
      },
      "execution_count": null,
      "outputs": []
    },
    {
      "cell_type": "code",
      "source": [
        "sql_table[\"medications\"] = \"\"\"CREATE TABLE IF NOT EXISTS medications (\n",
        "                           START DATE,\n",
        "                           STOP DATE,\n",
        "                           PATIENT STRING,\n",
        "                           PAYER STRING,\n",
        "                           ENCOUNTER STRING,\n",
        "                           CODE STRING,\n",
        "                           DESCRIPTION STRING,\n",
        "                           BASE_COST INTEGER,\n",
        "                           PAYER_COVERAGE INTEGER,\n",
        "                           DISPENSES INTEGER,\n",
        "                           TOTALCOST INTEGER,\n",
        "                           REASONCODE STRING,\n",
        "                           REASONDESCRIPTION STRING,\n",
        "                           FOREIGN KEY (PATIENT)\n",
        "                              REFERENCES patients (Id) \n",
        "                           \n",
        "                       );\"\"\""
      ],
      "metadata": {
        "id": "H8fzxLcv2E_j"
      },
      "execution_count": null,
      "outputs": []
    },
    {
      "cell_type": "code",
      "source": [
        "sql_table[\"procedures\"]= \"\"\"CREATE TABLE IF NOT EXISTS procedures (\n",
        "                           DATE DATE,\n",
        "                           PATIENT STRING,\n",
        "                           ENCOUNTER STRING,\n",
        "                           CODE STRING,\n",
        "                           DESCRIPTION STRING,\n",
        "                           BASE_COST INTEGER,\n",
        "                           REASONCODE STRING,\n",
        "                           REASONDESCRIPTION STRING,\n",
        "                           FOREIGN KEY (PATIENT)\n",
        "                              REFERENCES patients (Id) \n",
        "\n",
        "                       );\"\"\"\n"
      ],
      "metadata": {
        "id": "9e1I03aE2E_j"
      },
      "execution_count": null,
      "outputs": []
    },
    {
      "cell_type": "code",
      "source": [
        "sql_table[\"observations\"]= \"\"\"CREATE TABLE IF NOT EXISTS observations (\n",
        "                           DATE DATE,\n",
        "                           PATIENT STRING,\n",
        "                           ENCOUNTER STRING,\n",
        "                           CODE STRING,\n",
        "                           DESCRIPTION STRING,\n",
        "                           VALUE STRING,\n",
        "                           UNITS STRING,\n",
        "                           TYPE STRING,\n",
        "                           FOREIGN KEY (PATIENT)\n",
        "                              REFERENCES patients (Id) \n",
        "                           FOREIGN KEY (Encounter)\n",
        "                              REFERENCES encounters (Id) \n",
        "\n",
        "                       );\"\"\""
      ],
      "metadata": {
        "id": "71rHjCDf2E_j"
      },
      "execution_count": null,
      "outputs": []
    },
    {
      "cell_type": "code",
      "source": [
        "sql_table[\"conditions\"] = \"\"\"CREATE TABLE IF NOT EXISTS conditions (\n",
        "                           START DATE,\n",
        "                           STOP DATE,\n",
        "                           PATIENT STRING,\n",
        "                           ENCOUNTER STRING,\n",
        "                           CODE STRING,\n",
        "                           DESCRIPTION STRING,\n",
        "                           FOREIGN KEY (PATIENT)\n",
        "                              REFERENCES patients (Id) \n",
        "                           FOREIGN KEY (Encounter)\n",
        "                              REFERENCES encounters (Id) \n",
        "\n",
        "                       );\"\"\""
      ],
      "metadata": {
        "id": "Ar3lTNvc2E_k"
      },
      "execution_count": null,
      "outputs": []
    },
    {
      "cell_type": "code",
      "source": [
        "# list of tables\n",
        "sql_table.keys()"
      ],
      "metadata": {
        "id": "TOvBx_No2E_k"
      },
      "execution_count": null,
      "outputs": []
    },
    {
      "cell_type": "code",
      "source": [
        "# import csv into db\n",
        "conn = connect_to_db(DB_FILE_PATH)\n",
        "if conn is not None:\n",
        "        cursor = conn.cursor()\n",
        "        for name in sql_table.keys():\n",
        "          csv_file = csv_path + name + \".csv\"\n",
        "          print(name, csv_file)\n",
        "          \n",
        "          cursor.execute(sql_table[name])\n",
        "\n",
        "          insert_values_to_table(cursor, name, csv_file)\n",
        "        # conn.commit()\n",
        "else:\n",
        "        print('Connection to database failed')"
      ],
      "metadata": {
        "id": "BWIsSNy32E_l"
      },
      "execution_count": null,
      "outputs": []
    },
    {
      "cell_type": "code",
      "source": [
        "# List of tables in database \n",
        "cursor.execute(\"SELECT name FROM sqlite_master WHERE type='table';\")\n",
        "print(cursor.fetchall())"
      ],
      "metadata": {
        "id": "MfGiWXt12E_l"
      },
      "execution_count": null,
      "outputs": []
    },
    {
      "cell_type": "code",
      "source": [
        "# multicolumn Index\n",
        "cur.execute(\"CREATE INDEX idx_contacts_metabolic_name ON patients (FIRST, LAST)\")\n",
        "# und die weiteren Index \n",
        "cur.execute(\"CREATE INDEX idx_patname_metabolic_procedures ON procedures (PATIENT)\")\n",
        "cur.execute(\"CREATE INDEX idx_patname_metabolic_observations ON observations (PATIENT)\")\n",
        "cur.execute(\"CREATE INDEX idx_patname_metabolic_medications ON medications (PATIENT)\")\n",
        "cur.execute(\"CREATE INDEX idx_patname_metabolic_conditions ON conditions (PATIENT)\")\n",
        "cur.fetchall()"
      ],
      "metadata": {
        "id": "mFLFUa4b2E_m"
      },
      "execution_count": null,
      "outputs": []
    },
    {
      "cell_type": "code",
      "source": [
        "cur.execute(\"PRAGMA index_list(patients)\")\n",
        "print(cur.fetchall())"
      ],
      "metadata": {
        "id": "jNC2p57C2E_m"
      },
      "execution_count": null,
      "outputs": []
    },
    {
      "cell_type": "code",
      "source": [
        "cur.execute(\"PRAGMA index_list(procedures)\")\n",
        "print(cur.fetchall())"
      ],
      "metadata": {
        "id": "0B045_462E_m"
      },
      "execution_count": null,
      "outputs": []
    },
    {
      "cell_type": "code",
      "source": [
        "cur.execute(\"PRAGMA index_list(observations)\")\n",
        "print(cur.fetchall())"
      ],
      "metadata": {
        "id": "fkuqgQLi2E_n"
      },
      "execution_count": null,
      "outputs": []
    },
    {
      "cell_type": "code",
      "source": [
        "cur.execute(\"PRAGMA index_list(medications)\")\n",
        "print(cur.fetchall())"
      ],
      "metadata": {
        "id": "mbfiuRbR2E_n"
      },
      "execution_count": null,
      "outputs": []
    },
    {
      "cell_type": "code",
      "source": [
        "cur.execute(\"PRAGMA index_list(conditions)\")\n",
        "print(cur.fetchall())"
      ],
      "metadata": {
        "id": "hTh4c5Aq2E_o"
      },
      "execution_count": null,
      "outputs": []
    },
    {
      "cell_type": "markdown",
      "source": [
        "# Foreign Keys schon erstellt"
      ],
      "metadata": {
        "id": "9uK7nlZUqy0H"
      }
    },
    {
      "cell_type": "markdown",
      "source": [
        "# PANDAS TEST -von Tatjana\n"
      ],
      "metadata": {
        "id": "qYW-Jbh1cnTy"
      }
    },
    {
      "cell_type": "code",
      "source": [
        "# Read a csv(exel) file as a DataFram\n",
        "csv_path_cov19_cp = material_path + \"/csv_data/covid19/careplans.csv\" # /content/drive/Shareddrives/Projektarbeit DMA Gruppe D/csv_data/covid19/careplans.csv\n",
        "df_cov19_cp = pd.read_csv(csv_path_cov19_cp)\n",
        "# show first 5 rows of df\n",
        "df_cov19_cp.head()"
      ],
      "metadata": {
        "id": "aN7yXqPtc1rr"
      },
      "execution_count": null,
      "outputs": []
    },
    {
      "cell_type": "code",
      "source": [
        "csv_path_cov19_cd = material_path + \"/csv_data/covid19/conditions.csv\"\n",
        "df_cov19_cd = pd.read_csv(csv_path_cov19_cd)\n",
        "df_cov19_cd.head()"
      ],
      "metadata": {
        "id": "Cs26OI8Mdr2_"
      },
      "execution_count": null,
      "outputs": []
    },
    {
      "cell_type": "code",
      "source": [
        "csv_path_cov19_dv = material_path + \"/csv_data/covid19/devices.csv\"\n",
        "df_cov19_dv = pd.read_csv(csv_path_cov19_dv)\n",
        "df_cov19_dv.head()"
      ],
      "metadata": {
        "id": "HLLW74PZd_aW"
      },
      "execution_count": null,
      "outputs": []
    },
    {
      "cell_type": "code",
      "source": [
        "csv_path_cov19_ds = material_path + \"/csv_data/covid19/disease.csv\"\n",
        "df_cov19_ds = pd.read_csv(csv_path_cov19_ds)\n",
        "df_cov19_ds.head()"
      ],
      "metadata": {
        "id": "B_1xnfNBeX6F"
      },
      "execution_count": null,
      "outputs": []
    },
    {
      "cell_type": "code",
      "source": [
        "csv_path_cov19_ec = material_path + \"/csv_data/covid19/encounters.csv\"\n",
        "df_cov19_ec = pd.read_csv(csv_path_cov19_ec)\n",
        "df_cov19_ec.head()"
      ],
      "metadata": {
        "id": "x55B9SrEejWF"
      },
      "execution_count": null,
      "outputs": []
    },
    {
      "cell_type": "code",
      "source": [
        "csv_path_cov19_is = material_path + \"/csv_data/covid19/imaging_studies.csv\"\n",
        "df_cov19_is = pd.read_csv(csv_path_cov19_is)\n",
        "df_cov19_is.head()"
      ],
      "metadata": {
        "id": "V6lpOKjjet0Q"
      },
      "execution_count": null,
      "outputs": []
    },
    {
      "cell_type": "code",
      "source": [
        "csv_path_cov19_im = material_path + \"/csv_data/covid19/immunizations.csv\"\n",
        "df_cov19_im = pd.read_csv(csv_path_cov19_im)\n",
        "df_cov19_im.head()"
      ],
      "metadata": {
        "id": "gYuUHVD8fAqL"
      },
      "execution_count": null,
      "outputs": []
    },
    {
      "cell_type": "code",
      "source": [
        "csv_path_cov19_md = material_path + \"/csv_data/covid19/medications.csv\"\n",
        "df_cov19_md = pd.read_csv(csv_path_cov19_md)\n",
        "df_cov19_md.head()"
      ],
      "metadata": {
        "id": "_7kd5Ng4fM27"
      },
      "execution_count": null,
      "outputs": []
    },
    {
      "cell_type": "code",
      "source": [
        "csv_path_cov19_os = material_path + \"/csv_data/covid19/observations.csv\"\n",
        "df_cov19_os = pd.read_csv(csv_path_cov19_os)\n",
        "df_cov19_os.head()"
      ],
      "metadata": {
        "id": "GgV6roHufYGG"
      },
      "execution_count": null,
      "outputs": []
    },
    {
      "cell_type": "code",
      "source": [
        "csv_path_cov19_pt = material_path + \"/csv_data/covid19/patients.csv\"\n",
        "df_cov19_pt = pd.read_csv(csv_path_cov19_pt)\n",
        "df_cov19_pt.head()"
      ],
      "metadata": {
        "id": "UcUjPV0cflub"
      },
      "execution_count": null,
      "outputs": []
    },
    {
      "cell_type": "code",
      "source": [
        "csv_path_cov19_pyt = material_path + \"/csv_data/covid19/payer_transitions.csv\"\n",
        "df_cov19_pyt = pd.read_csv(csv_path_cov19_pyt)\n",
        "df_cov19_pyt.head()"
      ],
      "metadata": {
        "id": "9MMP8gdnfyBk"
      },
      "execution_count": null,
      "outputs": []
    },
    {
      "cell_type": "code",
      "source": [
        "csv_path_cov19_py = material_path + \"/csv_data/covid19/payers.csv\"\n",
        "df_cov19_py = pd.read_csv(csv_path_cov19_py)\n",
        "df_cov19_py.head()"
      ],
      "metadata": {
        "id": "QBtxtq3ZgDVK"
      },
      "execution_count": null,
      "outputs": []
    },
    {
      "cell_type": "code",
      "source": [
        "csv_path_cov19_pc = material_path + \"/csv_data/covid19/procedures.csv\"\n",
        "df_cov19_pc = pd.read_csv(csv_path_cov19_pc)\n",
        "df_cov19_pc.head()"
      ],
      "metadata": {
        "id": "hkJ6MbLYgO-d"
      },
      "execution_count": null,
      "outputs": []
    },
    {
      "cell_type": "code",
      "source": [
        "csv_path_cov19_pv = material_path + \"/csv_data/covid19/providers.csv\"\n",
        "df_cov19_pv = pd.read_csv(csv_path_cov19_pv)\n",
        "df_cov19_pv.head()"
      ],
      "metadata": {
        "id": "SEFDag3agnn6"
      },
      "execution_count": null,
      "outputs": []
    },
    {
      "cell_type": "code",
      "source": [
        "csv_path_cov19_sp = material_path + \"/csv_data/covid19/supplies.csv\"\n",
        "df_cov19_sp = pd.read_csv(csv_path_cov19_sp)\n",
        "df_cov19_sp.head()"
      ],
      "metadata": {
        "id": "EN0HL4h4g3R4"
      },
      "execution_count": null,
      "outputs": []
    },
    {
      "cell_type": "markdown",
      "source": [
        "# ACHTUNG ENDE"
      ],
      "metadata": {
        "id": "E9ZNTpSiX6hi"
      }
    },
    {
      "cell_type": "code",
      "metadata": {
        "id": "-tGRiVcbqCgc"
      },
      "source": [
        "conn.commit()"
      ],
      "execution_count": null,
      "outputs": []
    },
    {
      "cell_type": "code",
      "metadata": {
        "id": "u-Uh2B1YqCeK"
      },
      "source": [
        "conn.close()"
      ],
      "execution_count": null,
      "outputs": []
    },
    {
      "cell_type": "markdown",
      "metadata": {
        "id": "lrHLAR3w1vDU"
      },
      "source": [
        "# Ref:\n",
        "\n",
        "\n",
        "\n",
        "> Synthea csv formats\n",
        "*   https://github.com/synthetichealth/synthea/wiki/CSV-File-Data-Dictionary\n",
        "\n",
        "\n",
        "> Load file in google colab\n",
        "* https://towardsdatascience.com/3-ways-to-load-csv-files-into-colab-7c14fcbdcb92\n",
        "* https://stackoverflow.com/questions/18837262/convert-python-dict-into-a-dataframe\n",
        "* https://colab.research.google.com/notebooks/io.ipynb\n",
        "\n",
        "> python & sqlite \n",
        " * https://pynative.com/python-sqlite/\n",
        " * https://github.com/gygergely/PythonSQLite\n",
        " * https://www.youtube.com/watch?v=DihBLvfXVSE\n",
        "\n",
        "> Importing a CSV file into a sqlite3 database table using Python\n",
        "* https://stackoverflow.com/questions/2887878/importing-a-csv-file-into-a-sqlite3-database-table-using-python\n",
        "\n",
        "\n",
        "> error\n",
        "* https://stackoverflow.com/questions/36518628/sqlite3-integrityerror-unique-constraint-failed-when-inserting-a-value\n"
      ]
    }
  ]
}